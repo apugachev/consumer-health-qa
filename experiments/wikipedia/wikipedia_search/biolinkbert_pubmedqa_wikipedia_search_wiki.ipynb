{
 "cells": [
  {
   "cell_type": "markdown",
   "metadata": {},
   "source": [
    "## Source: Wikipedia\n",
    "## Retriever: Wikipedia Search\n",
    "## Model: BioLinkBERT (PubMedQA)"
   ]
  },
  {
   "cell_type": "code",
   "execution_count": 1,
   "metadata": {
    "pycharm": {
     "name": "#%%\n"
    }
   },
   "outputs": [],
   "source": [
    "import torch\n",
    "from sklearn.metrics import classification_report, roc_auc_score\n",
    "\n",
    "import sys\n",
    "sys.path.append(\"../../\") # use utils\n",
    "\n",
    "import utils\n",
    "import importlib\n",
    "importlib.reload(utils)\n",
    "\n",
    "from utils import calc_auc"
   ]
  },
  {
   "cell_type": "code",
   "execution_count": 2,
   "metadata": {
    "pycharm": {
     "name": "#%%\n"
    }
   },
   "outputs": [
    {
     "name": "stdout",
     "output_type": "stream",
     "text": [
      "OK\n"
     ]
    }
   ],
   "source": [
    "from transformers import AutoTokenizer, BertForSequenceClassification, BertModel, DataCollatorWithPadding\n",
    "\n",
    "model_name = \"<path_to_bio-linkbert-large__pubmedqa_hf>\"\n",
    "tokenizer = AutoTokenizer.from_pretrained(model_name)\n",
    "model = BertForSequenceClassification.from_pretrained(model_name)\n",
    "model.eval()\n",
    "print(\"OK\")"
   ]
  },
  {
   "cell_type": "code",
   "execution_count": 3,
   "metadata": {
    "pycharm": {
     "name": "#%%\n"
    }
   },
   "outputs": [],
   "source": [
    "def predict(question, passage):\n",
    "    sequence = tokenizer.encode_plus(\n",
    "        question, \n",
    "        passage, \n",
    "        return_tensors=\"pt\",\n",
    "        max_length=512,\n",
    "        truncation=True\n",
    "    )['input_ids']\n",
    "\n",
    "    logits = model(sequence)[0]\n",
    "    probabilities = torch.softmax(logits, dim=1).detach().cpu().tolist()[0]\n",
    "    proba_yes = probabilities[2]\n",
    "    \n",
    "    return proba_yes"
   ]
  },
  {
   "cell_type": "code",
   "execution_count": 2,
   "metadata": {},
   "outputs": [
    {
     "name": "stdout",
     "output_type": "stream",
     "text": [
      "113\n"
     ]
    },
    {
     "data": {
      "text/html": [
       "<div>\n",
       "<style scoped>\n",
       "    .dataframe tbody tr th:only-of-type {\n",
       "        vertical-align: middle;\n",
       "    }\n",
       "\n",
       "    .dataframe tbody tr th {\n",
       "        vertical-align: top;\n",
       "    }\n",
       "\n",
       "    .dataframe thead th {\n",
       "        text-align: right;\n",
       "    }\n",
       "</style>\n",
       "<table border=\"1\" class=\"dataframe\">\n",
       "  <thead>\n",
       "    <tr style=\"text-align: right;\">\n",
       "      <th></th>\n",
       "      <th>data_source</th>\n",
       "      <th>query_id</th>\n",
       "      <th>description</th>\n",
       "      <th>query</th>\n",
       "      <th>label</th>\n",
       "    </tr>\n",
       "  </thead>\n",
       "  <tbody>\n",
       "    <tr>\n",
       "      <th>0</th>\n",
       "      <td>2019</td>\n",
       "      <td>1</td>\n",
       "      <td>Can cranberries prevent urinary tract infections?</td>\n",
       "      <td>cranberries urinary tract infections</td>\n",
       "      <td>0.0</td>\n",
       "    </tr>\n",
       "    <tr>\n",
       "      <th>1</th>\n",
       "      <td>2019</td>\n",
       "      <td>3</td>\n",
       "      <td>Can acupuncture be effective for people with e...</td>\n",
       "      <td>acupuncture epilepsy</td>\n",
       "      <td>0.0</td>\n",
       "    </tr>\n",
       "    <tr>\n",
       "      <th>2</th>\n",
       "      <td>2019</td>\n",
       "      <td>5</td>\n",
       "      <td>Can acupuncture prevent migraines?</td>\n",
       "      <td>acupuncture migraine</td>\n",
       "      <td>1.0</td>\n",
       "    </tr>\n",
       "  </tbody>\n",
       "</table>\n",
       "</div>"
      ],
      "text/plain": [
       "  data_source query_id                                        description  \\\n",
       "0        2019        1  Can cranberries prevent urinary tract infections?   \n",
       "1        2019        3  Can acupuncture be effective for people with e...   \n",
       "2        2019        5                 Can acupuncture prevent migraines?   \n",
       "\n",
       "                                  query  label  \n",
       "0  cranberries urinary tract infections    0.0  \n",
       "1                  acupuncture epilepsy    0.0  \n",
       "2                  acupuncture migraine    1.0  "
      ]
     },
     "execution_count": 2,
     "metadata": {},
     "output_type": "execute_result"
    }
   ],
   "source": [
    "init_data = pd.read_csv(\"../../../data/data_to_process.csv\")\n",
    "print(len(init_data))\n",
    "init_data.head(3)"
   ]
  },
  {
   "cell_type": "markdown",
   "metadata": {
    "tags": []
   },
   "source": [
    "## Keywords"
   ]
  },
  {
   "cell_type": "code",
   "execution_count": 8,
   "metadata": {},
   "outputs": [
    {
     "name": "stdout",
     "output_type": "stream",
     "text": [
      "1\n"
     ]
    },
    {
     "data": {
      "text/html": [
       "<div>\n",
       "<style scoped>\n",
       "    .dataframe tbody tr th:only-of-type {\n",
       "        vertical-align: middle;\n",
       "    }\n",
       "\n",
       "    .dataframe tbody tr th {\n",
       "        vertical-align: top;\n",
       "    }\n",
       "\n",
       "    .dataframe thead th {\n",
       "        text-align: right;\n",
       "    }\n",
       "</style>\n",
       "<table border=\"1\" class=\"dataframe\">\n",
       "  <thead>\n",
       "    <tr style=\"text-align: right;\">\n",
       "      <th></th>\n",
       "      <th>query_processed</th>\n",
       "      <th>article_title</th>\n",
       "      <th>paragraph</th>\n",
       "      <th>serp_position</th>\n",
       "      <th>title_common_tokens</th>\n",
       "      <th>num_title_common_tokens</th>\n",
       "      <th>tokens_to_find</th>\n",
       "      <th>paragraph_common_tokens</th>\n",
       "      <th>num_paragraph_common_tokens</th>\n",
       "      <th>paragraph_number_in_article</th>\n",
       "      <th>query_id</th>\n",
       "      <th>data_source</th>\n",
       "      <th>label</th>\n",
       "      <th>description</th>\n",
       "      <th>query</th>\n",
       "    </tr>\n",
       "  </thead>\n",
       "  <tbody>\n",
       "    <tr>\n",
       "      <th>184</th>\n",
       "      <td>dehumidifiers asthma</td>\n",
       "      <td>Asthma</td>\n",
       "      <td>Avoidance of triggers is a key component of im...</td>\n",
       "      <td>1.0</td>\n",
       "      <td>['asthma']</td>\n",
       "      <td>1.0</td>\n",
       "      <td>['dehumidifiers']</td>\n",
       "      <td>['dehumidifiers']</td>\n",
       "      <td>1.0</td>\n",
       "      <td>106.0</td>\n",
       "      <td>51</td>\n",
       "      <td>2019</td>\n",
       "      <td>0.0</td>\n",
       "      <td>Can dehumidifiers be used to control asthma?</td>\n",
       "      <td>dehumidifiers asthma</td>\n",
       "    </tr>\n",
       "  </tbody>\n",
       "</table>\n",
       "</div>"
      ],
      "text/plain": [
       "          query_processed article_title  \\\n",
       "184  dehumidifiers asthma        Asthma   \n",
       "\n",
       "                                             paragraph  serp_position  \\\n",
       "184  Avoidance of triggers is a key component of im...            1.0   \n",
       "\n",
       "    title_common_tokens  num_title_common_tokens     tokens_to_find  \\\n",
       "184          ['asthma']                      1.0  ['dehumidifiers']   \n",
       "\n",
       "    paragraph_common_tokens  num_paragraph_common_tokens  \\\n",
       "184       ['dehumidifiers']                          1.0   \n",
       "\n",
       "     paragraph_number_in_article query_id data_source  label  \\\n",
       "184                        106.0       51        2019    0.0   \n",
       "\n",
       "                                      description                 query  \n",
       "184  Can dehumidifiers be used to control asthma?  dehumidifiers asthma  "
      ]
     },
     "execution_count": 8,
     "metadata": {},
     "output_type": "execute_result"
    }
   ],
   "source": [
    "raw_df = pd.read_csv(\"../../../data/wikipedia_search_wiki/wikipedia_articles_keywords.csv\")\n",
    "\n",
    "df = (\n",
    "    raw_df\n",
    "    .merge(init_data, on=[\"data_source\", \"query_id\", \"label\"])\n",
    ")\n",
    "print(len(df))\n",
    "df.head(1)"
   ]
  },
  {
   "cell_type": "code",
   "execution_count": 9,
   "metadata": {},
   "outputs": [
    {
     "name": "stderr",
     "output_type": "stream",
     "text": [
      "100% (1 of 1) |##########################| Elapsed Time: 0:00:01 Time:  0:00:01\n"
     ]
    }
   ],
   "source": [
    "results = []\n",
    "\n",
    "for _, row in pb(df.iterrows(), max_value=len(df)):\n",
    "    results.append(predict(row.description, row.paragraph))"
   ]
  },
  {
   "cell_type": "code",
   "execution_count": 97,
   "metadata": {},
   "outputs": [
    {
     "data": {
      "text/html": [
       "<div>\n",
       "<style scoped>\n",
       "    .dataframe tbody tr th:only-of-type {\n",
       "        vertical-align: middle;\n",
       "    }\n",
       "\n",
       "    .dataframe tbody tr th {\n",
       "        vertical-align: top;\n",
       "    }\n",
       "\n",
       "    .dataframe thead th {\n",
       "        text-align: right;\n",
       "    }\n",
       "</style>\n",
       "<table border=\"1\" class=\"dataframe\">\n",
       "  <thead>\n",
       "    <tr style=\"text-align: right;\">\n",
       "      <th></th>\n",
       "      <th>query_processed</th>\n",
       "      <th>article_title</th>\n",
       "      <th>paragraph</th>\n",
       "      <th>serp_position</th>\n",
       "      <th>title_common_tokens</th>\n",
       "      <th>num_title_common_tokens</th>\n",
       "      <th>tokens_to_find</th>\n",
       "      <th>paragraph_common_tokens</th>\n",
       "      <th>num_paragraph_common_tokens</th>\n",
       "      <th>paragraph_number_in_article</th>\n",
       "      <th>query_id</th>\n",
       "      <th>data_source</th>\n",
       "      <th>label</th>\n",
       "      <th>description</th>\n",
       "      <th>query</th>\n",
       "      <th>prediction</th>\n",
       "    </tr>\n",
       "  </thead>\n",
       "  <tbody>\n",
       "    <tr>\n",
       "      <th>0</th>\n",
       "      <td>antibiotics common cold</td>\n",
       "      <td>Common cold</td>\n",
       "      <td>The common cold, also known simply as a cold, ...</td>\n",
       "      <td>1.0</td>\n",
       "      <td>['common', 'cold']</td>\n",
       "      <td>2.0</td>\n",
       "      <td>['antibiotic']</td>\n",
       "      <td>['antibiotic']</td>\n",
       "      <td>1.0</td>\n",
       "      <td>0.0</td>\n",
       "      <td>1_WH</td>\n",
       "      <td>wh_topics</td>\n",
       "      <td>0.0</td>\n",
       "      <td>Do antibiotics treat comon cold?</td>\n",
       "      <td>antibiotics common cold</td>\n",
       "      <td>0.244763</td>\n",
       "    </tr>\n",
       "  </tbody>\n",
       "</table>\n",
       "</div>"
      ],
      "text/plain": [
       "           query_processed article_title  \\\n",
       "0  antibiotics common cold   Common cold   \n",
       "\n",
       "                                           paragraph  serp_position  \\\n",
       "0  The common cold, also known simply as a cold, ...            1.0   \n",
       "\n",
       "  title_common_tokens  num_title_common_tokens  tokens_to_find  \\\n",
       "0  ['common', 'cold']                      2.0  ['antibiotic']   \n",
       "\n",
       "  paragraph_common_tokens  num_paragraph_common_tokens  \\\n",
       "0          ['antibiotic']                          1.0   \n",
       "\n",
       "   paragraph_number_in_article query_id data_source  label  \\\n",
       "0                          0.0     1_WH   wh_topics    0.0   \n",
       "\n",
       "                        description                    query  prediction  \n",
       "0  Do antibiotics treat comon cold?  antibiotics common cold    0.244763  "
      ]
     },
     "execution_count": 97,
     "metadata": {},
     "output_type": "execute_result"
    }
   ],
   "source": [
    "df['prediction'] = results\n",
    "df.head(1)"
   ]
  },
  {
   "cell_type": "code",
   "execution_count": 4,
   "metadata": {},
   "outputs": [],
   "source": [
    "df.to_csv(\"predictions/biolinkbert_pubmedqa_wikipedia_search_wiki_preds_keywords.csv\", index=0)"
   ]
  },
  {
   "cell_type": "markdown",
   "metadata": {
    "tags": []
   },
   "source": [
    "## Calc metrics"
   ]
  },
  {
   "cell_type": "code",
   "execution_count": 6,
   "metadata": {},
   "outputs": [
    {
     "name": "stdout",
     "output_type": "stream",
     "text": [
      "113\n"
     ]
    },
    {
     "data": {
      "text/html": [
       "<div>\n",
       "<style scoped>\n",
       "    .dataframe tbody tr th:only-of-type {\n",
       "        vertical-align: middle;\n",
       "    }\n",
       "\n",
       "    .dataframe tbody tr th {\n",
       "        vertical-align: top;\n",
       "    }\n",
       "\n",
       "    .dataframe thead th {\n",
       "        text-align: right;\n",
       "    }\n",
       "</style>\n",
       "<table border=\"1\" class=\"dataframe\">\n",
       "  <thead>\n",
       "    <tr style=\"text-align: right;\">\n",
       "      <th></th>\n",
       "      <th>data_source</th>\n",
       "      <th>query_id</th>\n",
       "      <th>description</th>\n",
       "      <th>query</th>\n",
       "      <th>label</th>\n",
       "    </tr>\n",
       "  </thead>\n",
       "  <tbody>\n",
       "    <tr>\n",
       "      <th>0</th>\n",
       "      <td>2019</td>\n",
       "      <td>1</td>\n",
       "      <td>Can cranberries prevent urinary tract infections?</td>\n",
       "      <td>cranberries urinary tract infections</td>\n",
       "      <td>0.0</td>\n",
       "    </tr>\n",
       "    <tr>\n",
       "      <th>1</th>\n",
       "      <td>2019</td>\n",
       "      <td>3</td>\n",
       "      <td>Can acupuncture be effective for people with e...</td>\n",
       "      <td>acupuncture epilepsy</td>\n",
       "      <td>0.0</td>\n",
       "    </tr>\n",
       "    <tr>\n",
       "      <th>2</th>\n",
       "      <td>2019</td>\n",
       "      <td>5</td>\n",
       "      <td>Can acupuncture prevent migraines?</td>\n",
       "      <td>acupuncture migraine</td>\n",
       "      <td>1.0</td>\n",
       "    </tr>\n",
       "  </tbody>\n",
       "</table>\n",
       "</div>"
      ],
      "text/plain": [
       "  data_source query_id                                        description  \\\n",
       "0        2019        1  Can cranberries prevent urinary tract infections?   \n",
       "1        2019        3  Can acupuncture be effective for people with e...   \n",
       "2        2019        5                 Can acupuncture prevent migraines?   \n",
       "\n",
       "                                  query  label  \n",
       "0  cranberries urinary tract infections    0.0  \n",
       "1                  acupuncture epilepsy    0.0  \n",
       "2                  acupuncture migraine    1.0  "
      ]
     },
     "execution_count": 6,
     "metadata": {},
     "output_type": "execute_result"
    }
   ],
   "source": [
    "init_data = pd.read_csv(\"../../../data/data_to_process.csv\")\n",
    "print(len(init_data))\n",
    "init_data.head(3)"
   ]
  },
  {
   "cell_type": "code",
   "execution_count": 7,
   "metadata": {},
   "outputs": [
    {
     "name": "stdout",
     "output_type": "stream",
     "text": [
      "513\n"
     ]
    },
    {
     "data": {
      "text/html": [
       "<div>\n",
       "<style scoped>\n",
       "    .dataframe tbody tr th:only-of-type {\n",
       "        vertical-align: middle;\n",
       "    }\n",
       "\n",
       "    .dataframe tbody tr th {\n",
       "        vertical-align: top;\n",
       "    }\n",
       "\n",
       "    .dataframe thead th {\n",
       "        text-align: right;\n",
       "    }\n",
       "</style>\n",
       "<table border=\"1\" class=\"dataframe\">\n",
       "  <thead>\n",
       "    <tr style=\"text-align: right;\">\n",
       "      <th></th>\n",
       "      <th>query_processed</th>\n",
       "      <th>article_title</th>\n",
       "      <th>paragraph</th>\n",
       "      <th>serp_position</th>\n",
       "      <th>title_common_tokens</th>\n",
       "      <th>num_title_common_tokens</th>\n",
       "      <th>tokens_to_find</th>\n",
       "      <th>paragraph_common_tokens</th>\n",
       "      <th>num_paragraph_common_tokens</th>\n",
       "      <th>paragraph_number_in_article</th>\n",
       "      <th>query_id</th>\n",
       "      <th>data_source</th>\n",
       "      <th>label</th>\n",
       "      <th>description</th>\n",
       "      <th>query</th>\n",
       "      <th>prediction</th>\n",
       "    </tr>\n",
       "  </thead>\n",
       "  <tbody>\n",
       "    <tr>\n",
       "      <th>0</th>\n",
       "      <td>cranberries urinary tract infections</td>\n",
       "      <td>Urinary tract infection</td>\n",
       "      <td>Some research suggests that cranberry (juice o...</td>\n",
       "      <td>1.0</td>\n",
       "      <td>['infection', 'urinary', 'tract']</td>\n",
       "      <td>3.0</td>\n",
       "      <td>['cranberry']</td>\n",
       "      <td>['cranberry']</td>\n",
       "      <td>1.0</td>\n",
       "      <td>77.0</td>\n",
       "      <td>1</td>\n",
       "      <td>2019</td>\n",
       "      <td>0.0</td>\n",
       "      <td>Can cranberries prevent urinary tract infections?</td>\n",
       "      <td>cranberries urinary tract infections</td>\n",
       "      <td>0.574974</td>\n",
       "    </tr>\n",
       "    <tr>\n",
       "      <th>1</th>\n",
       "      <td>cranberries urinary tract infections</td>\n",
       "      <td>Urinary tract infection</td>\n",
       "      <td>The mainstay of treatment is antibiotics. Phen...</td>\n",
       "      <td>1.0</td>\n",
       "      <td>['infection', 'urinary', 'tract']</td>\n",
       "      <td>3.0</td>\n",
       "      <td>['cranberry']</td>\n",
       "      <td>['cranberry']</td>\n",
       "      <td>1.0</td>\n",
       "      <td>81.0</td>\n",
       "      <td>1</td>\n",
       "      <td>2019</td>\n",
       "      <td>0.0</td>\n",
       "      <td>Can cranberries prevent urinary tract infections?</td>\n",
       "      <td>cranberries urinary tract infections</td>\n",
       "      <td>0.183428</td>\n",
       "    </tr>\n",
       "  </tbody>\n",
       "</table>\n",
       "</div>"
      ],
      "text/plain": [
       "                        query_processed            article_title  \\\n",
       "0  cranberries urinary tract infections  Urinary tract infection   \n",
       "1  cranberries urinary tract infections  Urinary tract infection   \n",
       "\n",
       "                                           paragraph  serp_position  \\\n",
       "0  Some research suggests that cranberry (juice o...            1.0   \n",
       "1  The mainstay of treatment is antibiotics. Phen...            1.0   \n",
       "\n",
       "                 title_common_tokens  num_title_common_tokens tokens_to_find  \\\n",
       "0  ['infection', 'urinary', 'tract']                      3.0  ['cranberry']   \n",
       "1  ['infection', 'urinary', 'tract']                      3.0  ['cranberry']   \n",
       "\n",
       "  paragraph_common_tokens  num_paragraph_common_tokens  \\\n",
       "0           ['cranberry']                          1.0   \n",
       "1           ['cranberry']                          1.0   \n",
       "\n",
       "   paragraph_number_in_article query_id data_source  label  \\\n",
       "0                         77.0        1        2019    0.0   \n",
       "1                         81.0        1        2019    0.0   \n",
       "\n",
       "                                         description  \\\n",
       "0  Can cranberries prevent urinary tract infections?   \n",
       "1  Can cranberries prevent urinary tract infections?   \n",
       "\n",
       "                                  query  prediction  \n",
       "0  cranberries urinary tract infections    0.574974  \n",
       "1  cranberries urinary tract infections    0.183428  "
      ]
     },
     "execution_count": 7,
     "metadata": {},
     "output_type": "execute_result"
    }
   ],
   "source": [
    "df = pd.read_csv(\"predictions/biolinkbert_pubmedqa_wikipedia_search_wiki_preds_keywords.csv\")\n",
    "print(len(df))\n",
    "df.head(2)"
   ]
  },
  {
   "cell_type": "code",
   "execution_count": 8,
   "metadata": {},
   "outputs": [
    {
     "data": {
      "text/plain": [
       "['2019', '2021', 'health_belief', 'misbelief', 'all']"
      ]
     },
     "execution_count": 8,
     "metadata": {},
     "output_type": "execute_result"
    }
   ],
   "source": [
    "agg_types = [\"avg\", \"top1\", \"norm_linear\", \"norm_log\"]\n",
    "data_source_types = sorted(df.data_source.unique().tolist()) + [\"all\"]\n",
    "data_source_types"
   ]
  },
  {
   "cell_type": "code",
   "execution_count": 6,
   "metadata": {},
   "outputs": [
    {
     "name": "stdout",
     "output_type": "stream",
     "text": [
      "539\n"
     ]
    },
    {
     "data": {
      "text/html": [
       "<div>\n",
       "<style scoped>\n",
       "    .dataframe tbody tr th:only-of-type {\n",
       "        vertical-align: middle;\n",
       "    }\n",
       "\n",
       "    .dataframe tbody tr th {\n",
       "        vertical-align: top;\n",
       "    }\n",
       "\n",
       "    .dataframe thead th {\n",
       "        text-align: right;\n",
       "    }\n",
       "</style>\n",
       "<table border=\"1\" class=\"dataframe\">\n",
       "  <thead>\n",
       "    <tr style=\"text-align: right;\">\n",
       "      <th></th>\n",
       "      <th>query_processed</th>\n",
       "      <th>article_title</th>\n",
       "      <th>paragraph</th>\n",
       "      <th>serp_position</th>\n",
       "      <th>title_common_tokens</th>\n",
       "      <th>num_title_common_tokens</th>\n",
       "      <th>tokens_to_find</th>\n",
       "      <th>paragraph_common_tokens</th>\n",
       "      <th>num_paragraph_common_tokens</th>\n",
       "      <th>paragraph_number_in_article</th>\n",
       "      <th>query_id</th>\n",
       "      <th>data_source</th>\n",
       "      <th>label</th>\n",
       "      <th>description_x</th>\n",
       "      <th>query_x</th>\n",
       "      <th>prediction</th>\n",
       "      <th>description_y</th>\n",
       "      <th>query_y</th>\n",
       "    </tr>\n",
       "  </thead>\n",
       "  <tbody>\n",
       "    <tr>\n",
       "      <th>537</th>\n",
       "      <td>NaN</td>\n",
       "      <td>NaN</td>\n",
       "      <td>NaN</td>\n",
       "      <td>NaN</td>\n",
       "      <td>NaN</td>\n",
       "      <td>NaN</td>\n",
       "      <td>NaN</td>\n",
       "      <td>NaN</td>\n",
       "      <td>NaN</td>\n",
       "      <td>NaN</td>\n",
       "      <td>12_h</td>\n",
       "      <td>health_belief</td>\n",
       "      <td>1.0</td>\n",
       "      <td>NaN</td>\n",
       "      <td>NaN</td>\n",
       "      <td>0.5</td>\n",
       "      <td>Does cialis treat enlarged prostrate?</td>\n",
       "      <td>cialis treats enlarged prostrate</td>\n",
       "    </tr>\n",
       "    <tr>\n",
       "      <th>538</th>\n",
       "      <td>NaN</td>\n",
       "      <td>NaN</td>\n",
       "      <td>NaN</td>\n",
       "      <td>NaN</td>\n",
       "      <td>NaN</td>\n",
       "      <td>NaN</td>\n",
       "      <td>NaN</td>\n",
       "      <td>NaN</td>\n",
       "      <td>NaN</td>\n",
       "      <td>NaN</td>\n",
       "      <td>13_h</td>\n",
       "      <td>health_belief</td>\n",
       "      <td>1.0</td>\n",
       "      <td>NaN</td>\n",
       "      <td>NaN</td>\n",
       "      <td>0.5</td>\n",
       "      <td>Does diet cause bad breathe?</td>\n",
       "      <td>diet causes bad breathe</td>\n",
       "    </tr>\n",
       "  </tbody>\n",
       "</table>\n",
       "</div>"
      ],
      "text/plain": [
       "    query_processed article_title paragraph  serp_position  \\\n",
       "537             NaN           NaN       NaN            NaN   \n",
       "538             NaN           NaN       NaN            NaN   \n",
       "\n",
       "    title_common_tokens  num_title_common_tokens tokens_to_find  \\\n",
       "537                 NaN                      NaN            NaN   \n",
       "538                 NaN                      NaN            NaN   \n",
       "\n",
       "    paragraph_common_tokens  num_paragraph_common_tokens  \\\n",
       "537                     NaN                          NaN   \n",
       "538                     NaN                          NaN   \n",
       "\n",
       "     paragraph_number_in_article query_id    data_source  label description_x  \\\n",
       "537                          NaN     12_h  health_belief    1.0           NaN   \n",
       "538                          NaN     13_h  health_belief    1.0           NaN   \n",
       "\n",
       "    query_x  prediction                          description_y  \\\n",
       "537     NaN         0.5  Does cialis treat enlarged prostrate?   \n",
       "538     NaN         0.5           Does diet cause bad breathe?   \n",
       "\n",
       "                              query_y  \n",
       "537  cialis treats enlarged prostrate  \n",
       "538           diet causes bad breathe  "
      ]
     },
     "execution_count": 6,
     "metadata": {},
     "output_type": "execute_result"
    }
   ],
   "source": [
    "df_filled = (\n",
    "    df\n",
    "    .merge(init_data, how='outer', on=[\"query_id\", \"data_source\", \"label\"])\n",
    "    .fillna({\"prediction\": 0.5})\n",
    ")\n",
    "print(len(df_filled))\n",
    "df_filled.tail(2)"
   ]
  },
  {
   "cell_type": "code",
   "execution_count": 10,
   "metadata": {},
   "outputs": [],
   "source": [
    "assert 113 == len(df_filled.drop_duplicates([\"query_id\", \"data_source\"]))"
   ]
  },
  {
   "cell_type": "code",
   "execution_count": 11,
   "metadata": {},
   "outputs": [
    {
     "data": {
      "text/html": [
       "<div>\n",
       "<style scoped>\n",
       "    .dataframe tbody tr th:only-of-type {\n",
       "        vertical-align: middle;\n",
       "    }\n",
       "\n",
       "    .dataframe tbody tr th {\n",
       "        vertical-align: top;\n",
       "    }\n",
       "\n",
       "    .dataframe thead th {\n",
       "        text-align: right;\n",
       "    }\n",
       "</style>\n",
       "<table border=\"1\" class=\"dataframe\">\n",
       "  <thead>\n",
       "    <tr style=\"text-align: right;\">\n",
       "      <th></th>\n",
       "      <th>2019</th>\n",
       "      <th>2021</th>\n",
       "      <th>health_belief</th>\n",
       "      <th>misbelief</th>\n",
       "      <th>all</th>\n",
       "    </tr>\n",
       "  </thead>\n",
       "  <tbody>\n",
       "    <tr>\n",
       "      <th>avg</th>\n",
       "      <td>0.6401</td>\n",
       "      <td>0.6640</td>\n",
       "      <td>0.9167</td>\n",
       "      <td>0.5982</td>\n",
       "      <td>0.6505</td>\n",
       "    </tr>\n",
       "    <tr>\n",
       "      <th>top1</th>\n",
       "      <td>0.5363</td>\n",
       "      <td>0.7584</td>\n",
       "      <td>0.8750</td>\n",
       "      <td>0.6875</td>\n",
       "      <td>0.6827</td>\n",
       "    </tr>\n",
       "    <tr>\n",
       "      <th>norm_linear</th>\n",
       "      <td>0.6332</td>\n",
       "      <td>0.6736</td>\n",
       "      <td>1.0000</td>\n",
       "      <td>0.6875</td>\n",
       "      <td>0.6751</td>\n",
       "    </tr>\n",
       "    <tr>\n",
       "      <th>norm_log</th>\n",
       "      <td>0.6125</td>\n",
       "      <td>0.6944</td>\n",
       "      <td>1.0000</td>\n",
       "      <td>0.6875</td>\n",
       "      <td>0.6862</td>\n",
       "    </tr>\n",
       "  </tbody>\n",
       "</table>\n",
       "</div>"
      ],
      "text/plain": [
       "               2019    2021  health_belief  misbelief     all\n",
       "avg          0.6401  0.6640         0.9167     0.5982  0.6505\n",
       "top1         0.5363  0.7584         0.8750     0.6875  0.6827\n",
       "norm_linear  0.6332  0.6736         1.0000     0.6875  0.6751\n",
       "norm_log     0.6125  0.6944         1.0000     0.6875  0.6862"
      ]
     },
     "execution_count": 11,
     "metadata": {},
     "output_type": "execute_result"
    }
   ],
   "source": [
    "metrics = {item: [] for item in data_source_types}\n",
    "\n",
    "for data_source in data_source_types:\n",
    "    for agg_type in agg_types:\n",
    "        if data_source == \"all\":\n",
    "            metrics[data_source].append(calc_auc(df_filled, agg_type))\n",
    "        else:\n",
    "            df_cut = df_filled.query(f\"data_source == '{data_source}'\")\n",
    "            metrics[data_source].append(calc_auc(df_cut, agg_type))\n",
    "\n",
    "metrics_df = pd.DataFrame(metrics, index=agg_types).round(4)\n",
    "metrics_df"
   ]
  },
  {
   "cell_type": "markdown",
   "metadata": {
    "tags": []
   },
   "source": [
    "## Question"
   ]
  },
  {
   "cell_type": "code",
   "execution_count": 12,
   "metadata": {},
   "outputs": [
    {
     "name": "stdout",
     "output_type": "stream",
     "text": [
      "298\n"
     ]
    },
    {
     "data": {
      "text/html": [
       "<div>\n",
       "<style scoped>\n",
       "    .dataframe tbody tr th:only-of-type {\n",
       "        vertical-align: middle;\n",
       "    }\n",
       "\n",
       "    .dataframe tbody tr th {\n",
       "        vertical-align: top;\n",
       "    }\n",
       "\n",
       "    .dataframe thead th {\n",
       "        text-align: right;\n",
       "    }\n",
       "</style>\n",
       "<table border=\"1\" class=\"dataframe\">\n",
       "  <thead>\n",
       "    <tr style=\"text-align: right;\">\n",
       "      <th></th>\n",
       "      <th>query_processed</th>\n",
       "      <th>article_title</th>\n",
       "      <th>paragraph</th>\n",
       "      <th>serp_position</th>\n",
       "      <th>title_common_tokens</th>\n",
       "      <th>num_title_common_tokens</th>\n",
       "      <th>tokens_to_find</th>\n",
       "      <th>paragraph_common_tokens</th>\n",
       "      <th>num_paragraph_common_tokens</th>\n",
       "      <th>paragraph_number_in_article</th>\n",
       "      <th>query_id</th>\n",
       "      <th>data_source</th>\n",
       "      <th>label</th>\n",
       "      <th>description</th>\n",
       "      <th>query</th>\n",
       "    </tr>\n",
       "  </thead>\n",
       "  <tbody>\n",
       "    <tr>\n",
       "      <th>0</th>\n",
       "      <td>Can cranberries prevent urinary tract infections?</td>\n",
       "      <td>Urinary tract infection</td>\n",
       "      <td>Some research suggests that cranberry (juice o...</td>\n",
       "      <td>1.0</td>\n",
       "      <td>['infection', 'urinary', 'tract']</td>\n",
       "      <td>3.0</td>\n",
       "      <td>['cranberry', 'prevent', 'can']</td>\n",
       "      <td>['cranberry', 'can']</td>\n",
       "      <td>2.0</td>\n",
       "      <td>77.0</td>\n",
       "      <td>1</td>\n",
       "      <td>2019</td>\n",
       "      <td>0.0</td>\n",
       "      <td>Can cranberries prevent urinary tract infections?</td>\n",
       "      <td>cranberries urinary tract infections</td>\n",
       "    </tr>\n",
       "  </tbody>\n",
       "</table>\n",
       "</div>"
      ],
      "text/plain": [
       "                                     query_processed            article_title  \\\n",
       "0  Can cranberries prevent urinary tract infections?  Urinary tract infection   \n",
       "\n",
       "                                           paragraph  serp_position  \\\n",
       "0  Some research suggests that cranberry (juice o...            1.0   \n",
       "\n",
       "                 title_common_tokens  num_title_common_tokens  \\\n",
       "0  ['infection', 'urinary', 'tract']                      3.0   \n",
       "\n",
       "                    tokens_to_find paragraph_common_tokens  \\\n",
       "0  ['cranberry', 'prevent', 'can']    ['cranberry', 'can']   \n",
       "\n",
       "   num_paragraph_common_tokens  paragraph_number_in_article query_id  \\\n",
       "0                          2.0                         77.0        1   \n",
       "\n",
       "  data_source  label                                        description  \\\n",
       "0        2019    0.0  Can cranberries prevent urinary tract infections?   \n",
       "\n",
       "                                  query  \n",
       "0  cranberries urinary tract infections  "
      ]
     },
     "execution_count": 12,
     "metadata": {},
     "output_type": "execute_result"
    }
   ],
   "source": [
    "raw_df = pd.read_csv(\"../../../data/wikipedia_search_wiki/wikipedia_articles_question.csv\")\n",
    "\n",
    "df = (\n",
    "    raw_df\n",
    "    .merge(init_data, on=[\"data_source\", \"query_id\", \"label\"])\n",
    ")\n",
    "print(len(df))\n",
    "df.head(1)"
   ]
  },
  {
   "cell_type": "code",
   "execution_count": 20,
   "metadata": {},
   "outputs": [
    {
     "name": "stderr",
     "output_type": "stream",
     "text": [
      "100% (2 of 2) |##########################| Elapsed Time: 0:00:07 Time:  0:00:07\n"
     ]
    }
   ],
   "source": [
    "results = []\n",
    "\n",
    "for _, row in pb(df.iterrows(), max_value=len(df)):\n",
    "    results.append(predict(row.description, row.paragraph))"
   ]
  },
  {
   "cell_type": "code",
   "execution_count": 111,
   "metadata": {},
   "outputs": [
    {
     "data": {
      "text/html": [
       "<div>\n",
       "<style scoped>\n",
       "    .dataframe tbody tr th:only-of-type {\n",
       "        vertical-align: middle;\n",
       "    }\n",
       "\n",
       "    .dataframe tbody tr th {\n",
       "        vertical-align: top;\n",
       "    }\n",
       "\n",
       "    .dataframe thead th {\n",
       "        text-align: right;\n",
       "    }\n",
       "</style>\n",
       "<table border=\"1\" class=\"dataframe\">\n",
       "  <thead>\n",
       "    <tr style=\"text-align: right;\">\n",
       "      <th></th>\n",
       "      <th>query_processed</th>\n",
       "      <th>article_title</th>\n",
       "      <th>paragraph</th>\n",
       "      <th>serp_position</th>\n",
       "      <th>title_common_tokens</th>\n",
       "      <th>num_title_common_tokens</th>\n",
       "      <th>tokens_to_find</th>\n",
       "      <th>paragraph_common_tokens</th>\n",
       "      <th>num_paragraph_common_tokens</th>\n",
       "      <th>paragraph_number_in_article</th>\n",
       "      <th>query_id</th>\n",
       "      <th>data_source</th>\n",
       "      <th>label</th>\n",
       "      <th>description</th>\n",
       "      <th>query</th>\n",
       "      <th>prediction</th>\n",
       "    </tr>\n",
       "  </thead>\n",
       "  <tbody>\n",
       "    <tr>\n",
       "      <th>0</th>\n",
       "      <td>Is magnesium sulfate used to treat asthma?</td>\n",
       "      <td>Magnesium sulfate</td>\n",
       "      <td>The main external use is the formulation as ba...</td>\n",
       "      <td>1.0</td>\n",
       "      <td>['magnesium', 'sulfate']</td>\n",
       "      <td>2.0</td>\n",
       "      <td>['used', 'asthma', 'is', 'to', 'treat']</td>\n",
       "      <td>['to', 'asthma', 'is', 'used']</td>\n",
       "      <td>4.0</td>\n",
       "      <td>64.0</td>\n",
       "      <td>3_WH</td>\n",
       "      <td>wh_topics</td>\n",
       "      <td>0.0</td>\n",
       "      <td>Is magnesium sulfate used to treat asthma?</td>\n",
       "      <td>magnesium sulfate asthma</td>\n",
       "      <td>0.824242</td>\n",
       "    </tr>\n",
       "  </tbody>\n",
       "</table>\n",
       "</div>"
      ],
      "text/plain": [
       "                              query_processed      article_title  \\\n",
       "0  Is magnesium sulfate used to treat asthma?  Magnesium sulfate   \n",
       "\n",
       "                                           paragraph  serp_position  \\\n",
       "0  The main external use is the formulation as ba...            1.0   \n",
       "\n",
       "        title_common_tokens  num_title_common_tokens  \\\n",
       "0  ['magnesium', 'sulfate']                      2.0   \n",
       "\n",
       "                            tokens_to_find         paragraph_common_tokens  \\\n",
       "0  ['used', 'asthma', 'is', 'to', 'treat']  ['to', 'asthma', 'is', 'used']   \n",
       "\n",
       "   num_paragraph_common_tokens  paragraph_number_in_article query_id  \\\n",
       "0                          4.0                         64.0     3_WH   \n",
       "\n",
       "  data_source  label                                 description  \\\n",
       "0   wh_topics    0.0  Is magnesium sulfate used to treat asthma?   \n",
       "\n",
       "                      query  prediction  \n",
       "0  magnesium sulfate asthma    0.824242  "
      ]
     },
     "execution_count": 111,
     "metadata": {},
     "output_type": "execute_result"
    }
   ],
   "source": [
    "df['prediction'] = results\n",
    "df.head(1)"
   ]
  },
  {
   "cell_type": "code",
   "execution_count": 112,
   "metadata": {},
   "outputs": [],
   "source": [
    "df.to_csv(\"predictions/biolinkbert_pubmedqa_wikipedia_search_wiki_preds_question.csv\", index=0)"
   ]
  },
  {
   "cell_type": "markdown",
   "metadata": {
    "tags": []
   },
   "source": [
    "## Calc Metrics"
   ]
  },
  {
   "cell_type": "code",
   "execution_count": 13,
   "metadata": {},
   "outputs": [
    {
     "name": "stdout",
     "output_type": "stream",
     "text": [
      "298\n"
     ]
    },
    {
     "data": {
      "text/html": [
       "<div>\n",
       "<style scoped>\n",
       "    .dataframe tbody tr th:only-of-type {\n",
       "        vertical-align: middle;\n",
       "    }\n",
       "\n",
       "    .dataframe tbody tr th {\n",
       "        vertical-align: top;\n",
       "    }\n",
       "\n",
       "    .dataframe thead th {\n",
       "        text-align: right;\n",
       "    }\n",
       "</style>\n",
       "<table border=\"1\" class=\"dataframe\">\n",
       "  <thead>\n",
       "    <tr style=\"text-align: right;\">\n",
       "      <th></th>\n",
       "      <th>query_processed</th>\n",
       "      <th>article_title</th>\n",
       "      <th>paragraph</th>\n",
       "      <th>serp_position</th>\n",
       "      <th>title_common_tokens</th>\n",
       "      <th>num_title_common_tokens</th>\n",
       "      <th>tokens_to_find</th>\n",
       "      <th>paragraph_common_tokens</th>\n",
       "      <th>num_paragraph_common_tokens</th>\n",
       "      <th>paragraph_number_in_article</th>\n",
       "      <th>query_id</th>\n",
       "      <th>data_source</th>\n",
       "      <th>label</th>\n",
       "      <th>description</th>\n",
       "      <th>query</th>\n",
       "      <th>prediction</th>\n",
       "    </tr>\n",
       "  </thead>\n",
       "  <tbody>\n",
       "    <tr>\n",
       "      <th>0</th>\n",
       "      <td>Can cranberries prevent urinary tract infections?</td>\n",
       "      <td>Urinary tract infection</td>\n",
       "      <td>Some research suggests that cranberry (juice o...</td>\n",
       "      <td>1.0</td>\n",
       "      <td>['infection', 'urinary', 'tract']</td>\n",
       "      <td>3.0</td>\n",
       "      <td>['cranberry', 'prevent', 'can']</td>\n",
       "      <td>['cranberry', 'can']</td>\n",
       "      <td>2.0</td>\n",
       "      <td>77.0</td>\n",
       "      <td>1</td>\n",
       "      <td>2019</td>\n",
       "      <td>0.0</td>\n",
       "      <td>Can cranberries prevent urinary tract infections?</td>\n",
       "      <td>cranberries urinary tract infections</td>\n",
       "      <td>0.574974</td>\n",
       "    </tr>\n",
       "    <tr>\n",
       "      <th>1</th>\n",
       "      <td>Can cranberries prevent urinary tract infections?</td>\n",
       "      <td>Urinary tract infection</td>\n",
       "      <td>The mainstay of treatment is antibiotics. Phen...</td>\n",
       "      <td>1.0</td>\n",
       "      <td>['infection', 'urinary', 'tract']</td>\n",
       "      <td>3.0</td>\n",
       "      <td>['cranberry', 'prevent', 'can']</td>\n",
       "      <td>['cranberry', 'can']</td>\n",
       "      <td>2.0</td>\n",
       "      <td>81.0</td>\n",
       "      <td>1</td>\n",
       "      <td>2019</td>\n",
       "      <td>0.0</td>\n",
       "      <td>Can cranberries prevent urinary tract infections?</td>\n",
       "      <td>cranberries urinary tract infections</td>\n",
       "      <td>0.183428</td>\n",
       "    </tr>\n",
       "  </tbody>\n",
       "</table>\n",
       "</div>"
      ],
      "text/plain": [
       "                                     query_processed            article_title  \\\n",
       "0  Can cranberries prevent urinary tract infections?  Urinary tract infection   \n",
       "1  Can cranberries prevent urinary tract infections?  Urinary tract infection   \n",
       "\n",
       "                                           paragraph  serp_position  \\\n",
       "0  Some research suggests that cranberry (juice o...            1.0   \n",
       "1  The mainstay of treatment is antibiotics. Phen...            1.0   \n",
       "\n",
       "                 title_common_tokens  num_title_common_tokens  \\\n",
       "0  ['infection', 'urinary', 'tract']                      3.0   \n",
       "1  ['infection', 'urinary', 'tract']                      3.0   \n",
       "\n",
       "                    tokens_to_find paragraph_common_tokens  \\\n",
       "0  ['cranberry', 'prevent', 'can']    ['cranberry', 'can']   \n",
       "1  ['cranberry', 'prevent', 'can']    ['cranberry', 'can']   \n",
       "\n",
       "   num_paragraph_common_tokens  paragraph_number_in_article query_id  \\\n",
       "0                          2.0                         77.0        1   \n",
       "1                          2.0                         81.0        1   \n",
       "\n",
       "  data_source  label                                        description  \\\n",
       "0        2019    0.0  Can cranberries prevent urinary tract infections?   \n",
       "1        2019    0.0  Can cranberries prevent urinary tract infections?   \n",
       "\n",
       "                                  query  prediction  \n",
       "0  cranberries urinary tract infections    0.574974  \n",
       "1  cranberries urinary tract infections    0.183428  "
      ]
     },
     "execution_count": 13,
     "metadata": {},
     "output_type": "execute_result"
    }
   ],
   "source": [
    "df = pd.read_csv(\"predictions/biolinkbert_pubmedqa_wikipedia_search_wiki_preds_question.csv\")\n",
    "print(len(df))\n",
    "df.head(2)"
   ]
  },
  {
   "cell_type": "code",
   "execution_count": 14,
   "metadata": {},
   "outputs": [
    {
     "name": "stdout",
     "output_type": "stream",
     "text": [
      "354\n"
     ]
    },
    {
     "data": {
      "text/html": [
       "<div>\n",
       "<style scoped>\n",
       "    .dataframe tbody tr th:only-of-type {\n",
       "        vertical-align: middle;\n",
       "    }\n",
       "\n",
       "    .dataframe tbody tr th {\n",
       "        vertical-align: top;\n",
       "    }\n",
       "\n",
       "    .dataframe thead th {\n",
       "        text-align: right;\n",
       "    }\n",
       "</style>\n",
       "<table border=\"1\" class=\"dataframe\">\n",
       "  <thead>\n",
       "    <tr style=\"text-align: right;\">\n",
       "      <th></th>\n",
       "      <th>query_processed</th>\n",
       "      <th>article_title</th>\n",
       "      <th>paragraph</th>\n",
       "      <th>serp_position</th>\n",
       "      <th>title_common_tokens</th>\n",
       "      <th>num_title_common_tokens</th>\n",
       "      <th>tokens_to_find</th>\n",
       "      <th>paragraph_common_tokens</th>\n",
       "      <th>num_paragraph_common_tokens</th>\n",
       "      <th>paragraph_number_in_article</th>\n",
       "      <th>query_id</th>\n",
       "      <th>data_source</th>\n",
       "      <th>label</th>\n",
       "      <th>description_x</th>\n",
       "      <th>query_x</th>\n",
       "      <th>prediction</th>\n",
       "      <th>description_y</th>\n",
       "      <th>query_y</th>\n",
       "    </tr>\n",
       "  </thead>\n",
       "  <tbody>\n",
       "    <tr>\n",
       "      <th>352</th>\n",
       "      <td>NaN</td>\n",
       "      <td>NaN</td>\n",
       "      <td>NaN</td>\n",
       "      <td>NaN</td>\n",
       "      <td>NaN</td>\n",
       "      <td>NaN</td>\n",
       "      <td>NaN</td>\n",
       "      <td>NaN</td>\n",
       "      <td>NaN</td>\n",
       "      <td>NaN</td>\n",
       "      <td>13_h</td>\n",
       "      <td>health_belief</td>\n",
       "      <td>1.0</td>\n",
       "      <td>NaN</td>\n",
       "      <td>NaN</td>\n",
       "      <td>0.5</td>\n",
       "      <td>Does diet cause bad breathe?</td>\n",
       "      <td>diet causes bad breathe</td>\n",
       "    </tr>\n",
       "    <tr>\n",
       "      <th>353</th>\n",
       "      <td>NaN</td>\n",
       "      <td>NaN</td>\n",
       "      <td>NaN</td>\n",
       "      <td>NaN</td>\n",
       "      <td>NaN</td>\n",
       "      <td>NaN</td>\n",
       "      <td>NaN</td>\n",
       "      <td>NaN</td>\n",
       "      <td>NaN</td>\n",
       "      <td>NaN</td>\n",
       "      <td>14_h</td>\n",
       "      <td>health_belief</td>\n",
       "      <td>1.0</td>\n",
       "      <td>NaN</td>\n",
       "      <td>NaN</td>\n",
       "      <td>0.5</td>\n",
       "      <td>Does listeria cause miscarriage?</td>\n",
       "      <td>listeria causes miscarriage</td>\n",
       "    </tr>\n",
       "  </tbody>\n",
       "</table>\n",
       "</div>"
      ],
      "text/plain": [
       "    query_processed article_title paragraph  serp_position  \\\n",
       "352             NaN           NaN       NaN            NaN   \n",
       "353             NaN           NaN       NaN            NaN   \n",
       "\n",
       "    title_common_tokens  num_title_common_tokens tokens_to_find  \\\n",
       "352                 NaN                      NaN            NaN   \n",
       "353                 NaN                      NaN            NaN   \n",
       "\n",
       "    paragraph_common_tokens  num_paragraph_common_tokens  \\\n",
       "352                     NaN                          NaN   \n",
       "353                     NaN                          NaN   \n",
       "\n",
       "     paragraph_number_in_article query_id    data_source  label description_x  \\\n",
       "352                          NaN     13_h  health_belief    1.0           NaN   \n",
       "353                          NaN     14_h  health_belief    1.0           NaN   \n",
       "\n",
       "    query_x  prediction                     description_y  \\\n",
       "352     NaN         0.5      Does diet cause bad breathe?   \n",
       "353     NaN         0.5  Does listeria cause miscarriage?   \n",
       "\n",
       "                         query_y  \n",
       "352      diet causes bad breathe  \n",
       "353  listeria causes miscarriage  "
      ]
     },
     "execution_count": 14,
     "metadata": {},
     "output_type": "execute_result"
    }
   ],
   "source": [
    "df_filled = (\n",
    "    df\n",
    "    .merge(init_data, how='outer', on=[\"query_id\", \"data_source\", \"label\"])\n",
    "    .fillna({\"prediction\": 0.5})\n",
    ")\n",
    "print(len(df_filled))\n",
    "df_filled.tail(2)"
   ]
  },
  {
   "cell_type": "code",
   "execution_count": 15,
   "metadata": {},
   "outputs": [],
   "source": [
    "assert 113 == len(df_filled.drop_duplicates([\"query_id\", \"data_source\"]))"
   ]
  },
  {
   "cell_type": "code",
   "execution_count": 16,
   "metadata": {},
   "outputs": [
    {
     "data": {
      "text/html": [
       "<div>\n",
       "<style scoped>\n",
       "    .dataframe tbody tr th:only-of-type {\n",
       "        vertical-align: middle;\n",
       "    }\n",
       "\n",
       "    .dataframe tbody tr th {\n",
       "        vertical-align: top;\n",
       "    }\n",
       "\n",
       "    .dataframe thead th {\n",
       "        text-align: right;\n",
       "    }\n",
       "</style>\n",
       "<table border=\"1\" class=\"dataframe\">\n",
       "  <thead>\n",
       "    <tr style=\"text-align: right;\">\n",
       "      <th></th>\n",
       "      <th>2019</th>\n",
       "      <th>2021</th>\n",
       "      <th>health_belief</th>\n",
       "      <th>misbelief</th>\n",
       "      <th>all</th>\n",
       "    </tr>\n",
       "  </thead>\n",
       "  <tbody>\n",
       "    <tr>\n",
       "      <th>avg</th>\n",
       "      <td>0.5882</td>\n",
       "      <td>0.6800</td>\n",
       "      <td>0.5417</td>\n",
       "      <td>0.4643</td>\n",
       "      <td>0.5632</td>\n",
       "    </tr>\n",
       "    <tr>\n",
       "      <th>top1</th>\n",
       "      <td>0.5363</td>\n",
       "      <td>0.6800</td>\n",
       "      <td>0.5417</td>\n",
       "      <td>0.4643</td>\n",
       "      <td>0.5683</td>\n",
       "    </tr>\n",
       "    <tr>\n",
       "      <th>norm_linear</th>\n",
       "      <td>0.5952</td>\n",
       "      <td>0.6816</td>\n",
       "      <td>0.5417</td>\n",
       "      <td>0.4643</td>\n",
       "      <td>0.5828</td>\n",
       "    </tr>\n",
       "    <tr>\n",
       "      <th>norm_log</th>\n",
       "      <td>0.5882</td>\n",
       "      <td>0.6800</td>\n",
       "      <td>0.5417</td>\n",
       "      <td>0.4464</td>\n",
       "      <td>0.5815</td>\n",
       "    </tr>\n",
       "  </tbody>\n",
       "</table>\n",
       "</div>"
      ],
      "text/plain": [
       "               2019    2021  health_belief  misbelief     all\n",
       "avg          0.5882  0.6800         0.5417     0.4643  0.5632\n",
       "top1         0.5363  0.6800         0.5417     0.4643  0.5683\n",
       "norm_linear  0.5952  0.6816         0.5417     0.4643  0.5828\n",
       "norm_log     0.5882  0.6800         0.5417     0.4464  0.5815"
      ]
     },
     "execution_count": 16,
     "metadata": {},
     "output_type": "execute_result"
    }
   ],
   "source": [
    "metrics = {item: [] for item in data_source_types}\n",
    "\n",
    "for data_source in data_source_types:\n",
    "    for agg_type in agg_types:\n",
    "        if data_source == \"all\":\n",
    "            metrics[data_source].append(calc_auc(df_filled, agg_type))\n",
    "        else:\n",
    "            df_cut = df_filled.query(f\"data_source == '{data_source}'\")\n",
    "            metrics[data_source].append(calc_auc(df_cut, agg_type))\n",
    "\n",
    "metrics_df = pd.DataFrame(metrics, index=agg_types).round(4)\n",
    "metrics_df"
   ]
  },
  {
   "cell_type": "code",
   "execution_count": null,
   "metadata": {},
   "outputs": [],
   "source": []
  }
 ],
 "metadata": {
  "kernelspec": {
   "display_name": "Python 3 (ipykernel)",
   "language": "python",
   "name": "python3"
  },
  "language_info": {
   "codemirror_mode": {
    "name": "ipython",
    "version": 3
   },
   "file_extension": ".py",
   "mimetype": "text/x-python",
   "name": "python",
   "nbconvert_exporter": "python",
   "pygments_lexer": "ipython3",
   "version": "3.10.0"
  }
 },
 "nbformat": 4,
 "nbformat_minor": 4
}
