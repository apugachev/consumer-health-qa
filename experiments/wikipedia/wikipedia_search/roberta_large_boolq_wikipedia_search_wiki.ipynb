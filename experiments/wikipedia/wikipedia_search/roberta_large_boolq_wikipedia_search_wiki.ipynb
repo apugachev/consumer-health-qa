{
 "cells": [
  {
   "cell_type": "markdown",
   "metadata": {},
   "source": [
    "## Source: Wikipedia\n",
    "## Retriever: Wikipedia Search\n",
    "## Model: Roberta Large BoolQ"
   ]
  },
  {
   "cell_type": "code",
   "execution_count": 1,
   "metadata": {},
   "outputs": [],
   "source": [
    "import torch\n",
    "from sklearn.metrics import classification_report, roc_auc_score\n",
    "\n",
    "import sys\n",
    "sys.path.append(\"../../\") # use utils\n",
    "\n",
    "import utils\n",
    "import importlib\n",
    "importlib.reload(utils)\n",
    "\n",
    "from utils import calc_auc\n",
    "from progressbar import progressbar as pb"
   ]
  },
  {
   "cell_type": "code",
   "execution_count": 3,
   "metadata": {},
   "outputs": [
    {
     "name": "stdout",
     "output_type": "stream",
     "text": [
      "OK\n"
     ]
    }
   ],
   "source": [
    "from transformers import AutoTokenizer, RobertaForSequenceClassification\n",
    "\n",
    "model_name = \"apugachev/roberta-large-boolq-finetuned\"\n",
    "tokenizer = AutoTokenizer.from_pretrained(model_name)\n",
    "model = RobertaForSequenceClassification.from_pretrained(model_name)\n",
    "model.eval()\n",
    "\n",
    "device = torch.device('cuda' if torch.cuda.is_available() else 'cpu')\n",
    "model.to(device)\n",
    "print(\"OK\")"
   ]
  },
  {
   "cell_type": "code",
   "execution_count": 4,
   "metadata": {},
   "outputs": [],
   "source": [
    "def predict(question, passage, device=device):\n",
    "    sequence = tokenizer.encode_plus(\n",
    "        question, \n",
    "        passage, \n",
    "        return_tensors=\"pt\",\n",
    "        max_length=tokenizer.model_max_length,\n",
    "        truncation=True\n",
    "    )['input_ids']\n",
    "\n",
    "    logits = model(sequence.to(device))[0]\n",
    "    probabilities = torch.softmax(logits, dim=1).detach().cpu().tolist()[0]\n",
    "    proba_yes = probabilities[1]\n",
    "    \n",
    "    return proba_yes"
   ]
  },
  {
   "cell_type": "code",
   "execution_count": 2,
   "metadata": {},
   "outputs": [
    {
     "name": "stdout",
     "output_type": "stream",
     "text": [
      "113\n"
     ]
    },
    {
     "data": {
      "text/html": [
       "<div>\n",
       "<style scoped>\n",
       "    .dataframe tbody tr th:only-of-type {\n",
       "        vertical-align: middle;\n",
       "    }\n",
       "\n",
       "    .dataframe tbody tr th {\n",
       "        vertical-align: top;\n",
       "    }\n",
       "\n",
       "    .dataframe thead th {\n",
       "        text-align: right;\n",
       "    }\n",
       "</style>\n",
       "<table border=\"1\" class=\"dataframe\">\n",
       "  <thead>\n",
       "    <tr style=\"text-align: right;\">\n",
       "      <th></th>\n",
       "      <th>data_source</th>\n",
       "      <th>query_id</th>\n",
       "      <th>description</th>\n",
       "      <th>query</th>\n",
       "      <th>label</th>\n",
       "    </tr>\n",
       "  </thead>\n",
       "  <tbody>\n",
       "    <tr>\n",
       "      <th>0</th>\n",
       "      <td>2019</td>\n",
       "      <td>1</td>\n",
       "      <td>Can cranberries prevent urinary tract infections?</td>\n",
       "      <td>cranberries urinary tract infections</td>\n",
       "      <td>0.0</td>\n",
       "    </tr>\n",
       "    <tr>\n",
       "      <th>1</th>\n",
       "      <td>2019</td>\n",
       "      <td>3</td>\n",
       "      <td>Can acupuncture be effective for people with e...</td>\n",
       "      <td>acupuncture epilepsy</td>\n",
       "      <td>0.0</td>\n",
       "    </tr>\n",
       "    <tr>\n",
       "      <th>2</th>\n",
       "      <td>2019</td>\n",
       "      <td>5</td>\n",
       "      <td>Can acupuncture prevent migraines?</td>\n",
       "      <td>acupuncture migraine</td>\n",
       "      <td>1.0</td>\n",
       "    </tr>\n",
       "  </tbody>\n",
       "</table>\n",
       "</div>"
      ],
      "text/plain": [
       "  data_source query_id                                        description  \\\n",
       "0        2019        1  Can cranberries prevent urinary tract infections?   \n",
       "1        2019        3  Can acupuncture be effective for people with e...   \n",
       "2        2019        5                 Can acupuncture prevent migraines?   \n",
       "\n",
       "                                  query  label  \n",
       "0  cranberries urinary tract infections    0.0  \n",
       "1                  acupuncture epilepsy    0.0  \n",
       "2                  acupuncture migraine    1.0  "
      ]
     },
     "execution_count": 2,
     "metadata": {},
     "output_type": "execute_result"
    }
   ],
   "source": [
    "import pandas as pd\n",
    "init_data = pd.read_csv(\"../../../data/data_to_process.csv\")\n",
    "print(len(init_data))\n",
    "init_data.head(3)"
   ]
  },
  {
   "cell_type": "markdown",
   "metadata": {
    "tags": []
   },
   "source": [
    "## Keywords"
   ]
  },
  {
   "cell_type": "code",
   "execution_count": 3,
   "metadata": {},
   "outputs": [
    {
     "name": "stdout",
     "output_type": "stream",
     "text": [
      "513\n"
     ]
    },
    {
     "data": {
      "text/html": [
       "<div>\n",
       "<style scoped>\n",
       "    .dataframe tbody tr th:only-of-type {\n",
       "        vertical-align: middle;\n",
       "    }\n",
       "\n",
       "    .dataframe tbody tr th {\n",
       "        vertical-align: top;\n",
       "    }\n",
       "\n",
       "    .dataframe thead th {\n",
       "        text-align: right;\n",
       "    }\n",
       "</style>\n",
       "<table border=\"1\" class=\"dataframe\">\n",
       "  <thead>\n",
       "    <tr style=\"text-align: right;\">\n",
       "      <th></th>\n",
       "      <th>query_processed</th>\n",
       "      <th>article_title</th>\n",
       "      <th>paragraph</th>\n",
       "      <th>serp_position</th>\n",
       "      <th>title_common_tokens</th>\n",
       "      <th>num_title_common_tokens</th>\n",
       "      <th>tokens_to_find</th>\n",
       "      <th>paragraph_common_tokens</th>\n",
       "      <th>num_paragraph_common_tokens</th>\n",
       "      <th>paragraph_number_in_article</th>\n",
       "      <th>query_id</th>\n",
       "      <th>data_source</th>\n",
       "      <th>label</th>\n",
       "      <th>description</th>\n",
       "      <th>query</th>\n",
       "    </tr>\n",
       "  </thead>\n",
       "  <tbody>\n",
       "    <tr>\n",
       "      <th>0</th>\n",
       "      <td>cranberries urinary tract infections</td>\n",
       "      <td>Urinary tract infection</td>\n",
       "      <td>Some research suggests that cranberry (juice o...</td>\n",
       "      <td>1.0</td>\n",
       "      <td>['infection', 'urinary', 'tract']</td>\n",
       "      <td>3.0</td>\n",
       "      <td>['cranberry']</td>\n",
       "      <td>['cranberry']</td>\n",
       "      <td>1.0</td>\n",
       "      <td>77.0</td>\n",
       "      <td>1</td>\n",
       "      <td>2019</td>\n",
       "      <td>0.0</td>\n",
       "      <td>Can cranberries prevent urinary tract infections?</td>\n",
       "      <td>cranberries urinary tract infections</td>\n",
       "    </tr>\n",
       "  </tbody>\n",
       "</table>\n",
       "</div>"
      ],
      "text/plain": [
       "                        query_processed            article_title  \\\n",
       "0  cranberries urinary tract infections  Urinary tract infection   \n",
       "\n",
       "                                           paragraph  serp_position  \\\n",
       "0  Some research suggests that cranberry (juice o...            1.0   \n",
       "\n",
       "                 title_common_tokens  num_title_common_tokens tokens_to_find  \\\n",
       "0  ['infection', 'urinary', 'tract']                      3.0  ['cranberry']   \n",
       "\n",
       "  paragraph_common_tokens  num_paragraph_common_tokens  \\\n",
       "0           ['cranberry']                          1.0   \n",
       "\n",
       "   paragraph_number_in_article query_id data_source  label  \\\n",
       "0                         77.0        1        2019    0.0   \n",
       "\n",
       "                                         description  \\\n",
       "0  Can cranberries prevent urinary tract infections?   \n",
       "\n",
       "                                  query  \n",
       "0  cranberries urinary tract infections  "
      ]
     },
     "execution_count": 3,
     "metadata": {},
     "output_type": "execute_result"
    }
   ],
   "source": [
    "raw_df = pd.read_csv(\"../../../data/wikipedia_search_wiki/wikipedia_articles_keywords.csv\")\n",
    "\n",
    "df = (\n",
    "    raw_df\n",
    "    .merge(init_data, on=[\"data_source\", \"query_id\", \"label\"])\n",
    ")\n",
    "print(len(df))\n",
    "df.head(1)"
   ]
  },
  {
   "cell_type": "code",
   "execution_count": 7,
   "metadata": {},
   "outputs": [
    {
     "name": "stderr",
     "output_type": "stream",
     "text": [
      "100% (513 of 513) |######################| Elapsed Time: 0:00:16 Time:  0:00:16\n"
     ]
    }
   ],
   "source": [
    "results = []\n",
    "\n",
    "for _, row in pb(df.iterrows(), max_value=len(df)):\n",
    "    results.append(predict(row.description, row.paragraph))"
   ]
  },
  {
   "cell_type": "code",
   "execution_count": 8,
   "metadata": {},
   "outputs": [
    {
     "data": {
      "text/html": [
       "<div>\n",
       "<style scoped>\n",
       "    .dataframe tbody tr th:only-of-type {\n",
       "        vertical-align: middle;\n",
       "    }\n",
       "\n",
       "    .dataframe tbody tr th {\n",
       "        vertical-align: top;\n",
       "    }\n",
       "\n",
       "    .dataframe thead th {\n",
       "        text-align: right;\n",
       "    }\n",
       "</style>\n",
       "<table border=\"1\" class=\"dataframe\">\n",
       "  <thead>\n",
       "    <tr style=\"text-align: right;\">\n",
       "      <th></th>\n",
       "      <th>query_processed</th>\n",
       "      <th>article_title</th>\n",
       "      <th>paragraph</th>\n",
       "      <th>serp_position</th>\n",
       "      <th>title_common_tokens</th>\n",
       "      <th>num_title_common_tokens</th>\n",
       "      <th>tokens_to_find</th>\n",
       "      <th>paragraph_common_tokens</th>\n",
       "      <th>num_paragraph_common_tokens</th>\n",
       "      <th>paragraph_number_in_article</th>\n",
       "      <th>query_id</th>\n",
       "      <th>data_source</th>\n",
       "      <th>label</th>\n",
       "      <th>description</th>\n",
       "      <th>query</th>\n",
       "      <th>prediction</th>\n",
       "    </tr>\n",
       "  </thead>\n",
       "  <tbody>\n",
       "    <tr>\n",
       "      <th>0</th>\n",
       "      <td>cranberries urinary tract infections</td>\n",
       "      <td>Urinary tract infection</td>\n",
       "      <td>Some research suggests that cranberry (juice o...</td>\n",
       "      <td>1.0</td>\n",
       "      <td>['infection', 'urinary', 'tract']</td>\n",
       "      <td>3.0</td>\n",
       "      <td>['cranberry']</td>\n",
       "      <td>['cranberry']</td>\n",
       "      <td>1.0</td>\n",
       "      <td>77.0</td>\n",
       "      <td>1</td>\n",
       "      <td>2019</td>\n",
       "      <td>0.0</td>\n",
       "      <td>Can cranberries prevent urinary tract infections?</td>\n",
       "      <td>cranberries urinary tract infections</td>\n",
       "      <td>0.940501</td>\n",
       "    </tr>\n",
       "  </tbody>\n",
       "</table>\n",
       "</div>"
      ],
      "text/plain": [
       "                        query_processed            article_title  \\\n",
       "0  cranberries urinary tract infections  Urinary tract infection   \n",
       "\n",
       "                                           paragraph  serp_position  \\\n",
       "0  Some research suggests that cranberry (juice o...            1.0   \n",
       "\n",
       "                 title_common_tokens  num_title_common_tokens tokens_to_find  \\\n",
       "0  ['infection', 'urinary', 'tract']                      3.0  ['cranberry']   \n",
       "\n",
       "  paragraph_common_tokens  num_paragraph_common_tokens  \\\n",
       "0           ['cranberry']                          1.0   \n",
       "\n",
       "   paragraph_number_in_article query_id data_source  label  \\\n",
       "0                         77.0        1        2019    0.0   \n",
       "\n",
       "                                         description  \\\n",
       "0  Can cranberries prevent urinary tract infections?   \n",
       "\n",
       "                                  query  prediction  \n",
       "0  cranberries urinary tract infections    0.940501  "
      ]
     },
     "execution_count": 8,
     "metadata": {},
     "output_type": "execute_result"
    }
   ],
   "source": [
    "df['prediction'] = results\n",
    "df.head(1)"
   ]
  },
  {
   "cell_type": "code",
   "execution_count": 4,
   "metadata": {},
   "outputs": [],
   "source": [
    "QUERY_SAVE_PRED_FILE = \"predictions/roberta_large_boolq_wikipedia_search_wiki_preds_keywords.csv\"\n",
    "\n",
    "df.to_csv(QUERY_SAVE_PRED_FILE, index=0)"
   ]
  },
  {
   "cell_type": "markdown",
   "metadata": {
    "tags": []
   },
   "source": [
    "## Calc Metrics"
   ]
  },
  {
   "cell_type": "code",
   "execution_count": 6,
   "metadata": {},
   "outputs": [
    {
     "name": "stdout",
     "output_type": "stream",
     "text": [
      "113\n"
     ]
    },
    {
     "data": {
      "text/html": [
       "<div>\n",
       "<style scoped>\n",
       "    .dataframe tbody tr th:only-of-type {\n",
       "        vertical-align: middle;\n",
       "    }\n",
       "\n",
       "    .dataframe tbody tr th {\n",
       "        vertical-align: top;\n",
       "    }\n",
       "\n",
       "    .dataframe thead th {\n",
       "        text-align: right;\n",
       "    }\n",
       "</style>\n",
       "<table border=\"1\" class=\"dataframe\">\n",
       "  <thead>\n",
       "    <tr style=\"text-align: right;\">\n",
       "      <th></th>\n",
       "      <th>data_source</th>\n",
       "      <th>query_id</th>\n",
       "      <th>description</th>\n",
       "      <th>query</th>\n",
       "      <th>label</th>\n",
       "    </tr>\n",
       "  </thead>\n",
       "  <tbody>\n",
       "    <tr>\n",
       "      <th>0</th>\n",
       "      <td>2019</td>\n",
       "      <td>1</td>\n",
       "      <td>Can cranberries prevent urinary tract infections?</td>\n",
       "      <td>cranberries urinary tract infections</td>\n",
       "      <td>0.0</td>\n",
       "    </tr>\n",
       "    <tr>\n",
       "      <th>1</th>\n",
       "      <td>2019</td>\n",
       "      <td>3</td>\n",
       "      <td>Can acupuncture be effective for people with e...</td>\n",
       "      <td>acupuncture epilepsy</td>\n",
       "      <td>0.0</td>\n",
       "    </tr>\n",
       "    <tr>\n",
       "      <th>2</th>\n",
       "      <td>2019</td>\n",
       "      <td>5</td>\n",
       "      <td>Can acupuncture prevent migraines?</td>\n",
       "      <td>acupuncture migraine</td>\n",
       "      <td>1.0</td>\n",
       "    </tr>\n",
       "  </tbody>\n",
       "</table>\n",
       "</div>"
      ],
      "text/plain": [
       "  data_source query_id                                        description  \\\n",
       "0        2019        1  Can cranberries prevent urinary tract infections?   \n",
       "1        2019        3  Can acupuncture be effective for people with e...   \n",
       "2        2019        5                 Can acupuncture prevent migraines?   \n",
       "\n",
       "                                  query  label  \n",
       "0  cranberries urinary tract infections    0.0  \n",
       "1                  acupuncture epilepsy    0.0  \n",
       "2                  acupuncture migraine    1.0  "
      ]
     },
     "execution_count": 6,
     "metadata": {},
     "output_type": "execute_result"
    }
   ],
   "source": [
    "init_data = pd.read_csv(\"../../../data/data_to_process.csv\")\n",
    "print(len(init_data))\n",
    "init_data.head(3)"
   ]
  },
  {
   "cell_type": "code",
   "execution_count": 7,
   "metadata": {},
   "outputs": [
    {
     "name": "stdout",
     "output_type": "stream",
     "text": [
      "513\n"
     ]
    }
   ],
   "source": [
    "df = pd.read_csv(QUERY_SAVE_PRED_FILE)\n",
    "print(len(df))"
   ]
  },
  {
   "cell_type": "code",
   "execution_count": 8,
   "metadata": {},
   "outputs": [
    {
     "data": {
      "text/plain": [
       "['2019', '2021', 'health_belief', 'misbelief', 'all']"
      ]
     },
     "execution_count": 8,
     "metadata": {},
     "output_type": "execute_result"
    }
   ],
   "source": [
    "agg_types = [\"avg\", \"top1\", \"norm_linear\", \"norm_log\"]\n",
    "data_source_types = sorted(df.data_source.unique().tolist()) + [\"all\"]\n",
    "data_source_types"
   ]
  },
  {
   "cell_type": "code",
   "execution_count": 9,
   "metadata": {},
   "outputs": [
    {
     "name": "stdout",
     "output_type": "stream",
     "text": [
      "539\n"
     ]
    },
    {
     "data": {
      "text/html": [
       "<div>\n",
       "<style scoped>\n",
       "    .dataframe tbody tr th:only-of-type {\n",
       "        vertical-align: middle;\n",
       "    }\n",
       "\n",
       "    .dataframe tbody tr th {\n",
       "        vertical-align: top;\n",
       "    }\n",
       "\n",
       "    .dataframe thead th {\n",
       "        text-align: right;\n",
       "    }\n",
       "</style>\n",
       "<table border=\"1\" class=\"dataframe\">\n",
       "  <thead>\n",
       "    <tr style=\"text-align: right;\">\n",
       "      <th></th>\n",
       "      <th>query_processed</th>\n",
       "      <th>article_title</th>\n",
       "      <th>paragraph</th>\n",
       "      <th>serp_position</th>\n",
       "      <th>title_common_tokens</th>\n",
       "      <th>num_title_common_tokens</th>\n",
       "      <th>tokens_to_find</th>\n",
       "      <th>paragraph_common_tokens</th>\n",
       "      <th>num_paragraph_common_tokens</th>\n",
       "      <th>paragraph_number_in_article</th>\n",
       "      <th>query_id</th>\n",
       "      <th>data_source</th>\n",
       "      <th>label</th>\n",
       "      <th>description_x</th>\n",
       "      <th>query_x</th>\n",
       "      <th>prediction</th>\n",
       "      <th>description_y</th>\n",
       "      <th>query_y</th>\n",
       "    </tr>\n",
       "  </thead>\n",
       "  <tbody>\n",
       "    <tr>\n",
       "      <th>537</th>\n",
       "      <td>NaN</td>\n",
       "      <td>NaN</td>\n",
       "      <td>NaN</td>\n",
       "      <td>NaN</td>\n",
       "      <td>NaN</td>\n",
       "      <td>NaN</td>\n",
       "      <td>NaN</td>\n",
       "      <td>NaN</td>\n",
       "      <td>NaN</td>\n",
       "      <td>NaN</td>\n",
       "      <td>12_h</td>\n",
       "      <td>health_belief</td>\n",
       "      <td>1.0</td>\n",
       "      <td>NaN</td>\n",
       "      <td>NaN</td>\n",
       "      <td>0.5</td>\n",
       "      <td>Does cialis treat enlarged prostrate?</td>\n",
       "      <td>cialis treats enlarged prostrate</td>\n",
       "    </tr>\n",
       "    <tr>\n",
       "      <th>538</th>\n",
       "      <td>NaN</td>\n",
       "      <td>NaN</td>\n",
       "      <td>NaN</td>\n",
       "      <td>NaN</td>\n",
       "      <td>NaN</td>\n",
       "      <td>NaN</td>\n",
       "      <td>NaN</td>\n",
       "      <td>NaN</td>\n",
       "      <td>NaN</td>\n",
       "      <td>NaN</td>\n",
       "      <td>13_h</td>\n",
       "      <td>health_belief</td>\n",
       "      <td>1.0</td>\n",
       "      <td>NaN</td>\n",
       "      <td>NaN</td>\n",
       "      <td>0.5</td>\n",
       "      <td>Does diet cause bad breathe?</td>\n",
       "      <td>diet causes bad breathe</td>\n",
       "    </tr>\n",
       "  </tbody>\n",
       "</table>\n",
       "</div>"
      ],
      "text/plain": [
       "    query_processed article_title paragraph  serp_position  \\\n",
       "537             NaN           NaN       NaN            NaN   \n",
       "538             NaN           NaN       NaN            NaN   \n",
       "\n",
       "    title_common_tokens  num_title_common_tokens tokens_to_find  \\\n",
       "537                 NaN                      NaN            NaN   \n",
       "538                 NaN                      NaN            NaN   \n",
       "\n",
       "    paragraph_common_tokens  num_paragraph_common_tokens  \\\n",
       "537                     NaN                          NaN   \n",
       "538                     NaN                          NaN   \n",
       "\n",
       "     paragraph_number_in_article query_id    data_source  label description_x  \\\n",
       "537                          NaN     12_h  health_belief    1.0           NaN   \n",
       "538                          NaN     13_h  health_belief    1.0           NaN   \n",
       "\n",
       "    query_x  prediction                          description_y  \\\n",
       "537     NaN         0.5  Does cialis treat enlarged prostrate?   \n",
       "538     NaN         0.5           Does diet cause bad breathe?   \n",
       "\n",
       "                              query_y  \n",
       "537  cialis treats enlarged prostrate  \n",
       "538           diet causes bad breathe  "
      ]
     },
     "execution_count": 9,
     "metadata": {},
     "output_type": "execute_result"
    }
   ],
   "source": [
    "df_filled = (\n",
    "    df\n",
    "    .merge(init_data, how='outer', on=[\"query_id\", \"data_source\", \"label\"])\n",
    "    .fillna({\"prediction\": 0.5})\n",
    ")\n",
    "print(len(df_filled))\n",
    "df_filled.tail(2)"
   ]
  },
  {
   "cell_type": "code",
   "execution_count": 10,
   "metadata": {},
   "outputs": [],
   "source": [
    "assert 113 == len(df_filled.drop_duplicates([\"query_id\", \"data_source\"]))"
   ]
  },
  {
   "cell_type": "code",
   "execution_count": 11,
   "metadata": {},
   "outputs": [
    {
     "data": {
      "text/html": [
       "<div>\n",
       "<style scoped>\n",
       "    .dataframe tbody tr th:only-of-type {\n",
       "        vertical-align: middle;\n",
       "    }\n",
       "\n",
       "    .dataframe tbody tr th {\n",
       "        vertical-align: top;\n",
       "    }\n",
       "\n",
       "    .dataframe thead th {\n",
       "        text-align: right;\n",
       "    }\n",
       "</style>\n",
       "<table border=\"1\" class=\"dataframe\">\n",
       "  <thead>\n",
       "    <tr style=\"text-align: right;\">\n",
       "      <th></th>\n",
       "      <th>2019</th>\n",
       "      <th>2021</th>\n",
       "      <th>health_belief</th>\n",
       "      <th>misbelief</th>\n",
       "      <th>all</th>\n",
       "    </tr>\n",
       "  </thead>\n",
       "  <tbody>\n",
       "    <tr>\n",
       "      <th>avg</th>\n",
       "      <td>0.8062</td>\n",
       "      <td>0.8224</td>\n",
       "      <td>0.7917</td>\n",
       "      <td>0.5804</td>\n",
       "      <td>0.7678</td>\n",
       "    </tr>\n",
       "    <tr>\n",
       "      <th>top1</th>\n",
       "      <td>0.8616</td>\n",
       "      <td>0.8384</td>\n",
       "      <td>0.7500</td>\n",
       "      <td>0.6875</td>\n",
       "      <td>0.8060</td>\n",
       "    </tr>\n",
       "    <tr>\n",
       "      <th>norm_linear</th>\n",
       "      <td>0.8097</td>\n",
       "      <td>0.8480</td>\n",
       "      <td>0.7500</td>\n",
       "      <td>0.5804</td>\n",
       "      <td>0.7766</td>\n",
       "    </tr>\n",
       "    <tr>\n",
       "      <th>norm_log</th>\n",
       "      <td>0.8097</td>\n",
       "      <td>0.8336</td>\n",
       "      <td>0.7500</td>\n",
       "      <td>0.5804</td>\n",
       "      <td>0.7741</td>\n",
       "    </tr>\n",
       "  </tbody>\n",
       "</table>\n",
       "</div>"
      ],
      "text/plain": [
       "               2019    2021  health_belief  misbelief     all\n",
       "avg          0.8062  0.8224         0.7917     0.5804  0.7678\n",
       "top1         0.8616  0.8384         0.7500     0.6875  0.8060\n",
       "norm_linear  0.8097  0.8480         0.7500     0.5804  0.7766\n",
       "norm_log     0.8097  0.8336         0.7500     0.5804  0.7741"
      ]
     },
     "execution_count": 11,
     "metadata": {},
     "output_type": "execute_result"
    }
   ],
   "source": [
    "metrics = {item: [] for item in data_source_types}\n",
    "\n",
    "for data_source in data_source_types:\n",
    "    for agg_type in agg_types:\n",
    "        if data_source == \"all\":\n",
    "            metrics[data_source].append(calc_auc(df_filled, agg_type))\n",
    "        else:\n",
    "            df_cut = df_filled.query(f\"data_source == '{data_source}'\")\n",
    "            metrics[data_source].append(calc_auc(df_cut, agg_type))\n",
    "\n",
    "metrics_df = pd.DataFrame(metrics, index=agg_types).round(4)\n",
    "metrics_df"
   ]
  },
  {
   "cell_type": "markdown",
   "metadata": {
    "tags": []
   },
   "source": [
    "## Question"
   ]
  },
  {
   "cell_type": "code",
   "execution_count": 12,
   "metadata": {},
   "outputs": [
    {
     "name": "stdout",
     "output_type": "stream",
     "text": [
      "298\n"
     ]
    },
    {
     "data": {
      "text/html": [
       "<div>\n",
       "<style scoped>\n",
       "    .dataframe tbody tr th:only-of-type {\n",
       "        vertical-align: middle;\n",
       "    }\n",
       "\n",
       "    .dataframe tbody tr th {\n",
       "        vertical-align: top;\n",
       "    }\n",
       "\n",
       "    .dataframe thead th {\n",
       "        text-align: right;\n",
       "    }\n",
       "</style>\n",
       "<table border=\"1\" class=\"dataframe\">\n",
       "  <thead>\n",
       "    <tr style=\"text-align: right;\">\n",
       "      <th></th>\n",
       "      <th>query_processed</th>\n",
       "      <th>article_title</th>\n",
       "      <th>paragraph</th>\n",
       "      <th>serp_position</th>\n",
       "      <th>title_common_tokens</th>\n",
       "      <th>num_title_common_tokens</th>\n",
       "      <th>tokens_to_find</th>\n",
       "      <th>paragraph_common_tokens</th>\n",
       "      <th>num_paragraph_common_tokens</th>\n",
       "      <th>paragraph_number_in_article</th>\n",
       "      <th>query_id</th>\n",
       "      <th>data_source</th>\n",
       "      <th>label</th>\n",
       "      <th>description</th>\n",
       "      <th>query</th>\n",
       "    </tr>\n",
       "  </thead>\n",
       "  <tbody>\n",
       "    <tr>\n",
       "      <th>0</th>\n",
       "      <td>Can cranberries prevent urinary tract infections?</td>\n",
       "      <td>Urinary tract infection</td>\n",
       "      <td>Some research suggests that cranberry (juice o...</td>\n",
       "      <td>1.0</td>\n",
       "      <td>['infection', 'urinary', 'tract']</td>\n",
       "      <td>3.0</td>\n",
       "      <td>['cranberry', 'prevent', 'can']</td>\n",
       "      <td>['cranberry', 'can']</td>\n",
       "      <td>2.0</td>\n",
       "      <td>77.0</td>\n",
       "      <td>1</td>\n",
       "      <td>2019</td>\n",
       "      <td>0.0</td>\n",
       "      <td>Can cranberries prevent urinary tract infections?</td>\n",
       "      <td>cranberries urinary tract infections</td>\n",
       "    </tr>\n",
       "  </tbody>\n",
       "</table>\n",
       "</div>"
      ],
      "text/plain": [
       "                                     query_processed            article_title  \\\n",
       "0  Can cranberries prevent urinary tract infections?  Urinary tract infection   \n",
       "\n",
       "                                           paragraph  serp_position  \\\n",
       "0  Some research suggests that cranberry (juice o...            1.0   \n",
       "\n",
       "                 title_common_tokens  num_title_common_tokens  \\\n",
       "0  ['infection', 'urinary', 'tract']                      3.0   \n",
       "\n",
       "                    tokens_to_find paragraph_common_tokens  \\\n",
       "0  ['cranberry', 'prevent', 'can']    ['cranberry', 'can']   \n",
       "\n",
       "   num_paragraph_common_tokens  paragraph_number_in_article query_id  \\\n",
       "0                          2.0                         77.0        1   \n",
       "\n",
       "  data_source  label                                        description  \\\n",
       "0        2019    0.0  Can cranberries prevent urinary tract infections?   \n",
       "\n",
       "                                  query  \n",
       "0  cranberries urinary tract infections  "
      ]
     },
     "execution_count": 12,
     "metadata": {},
     "output_type": "execute_result"
    }
   ],
   "source": [
    "raw_df = pd.read_csv(\"../../../data/wikipedia_search_wiki/wikipedia_articles_question.csv\")\n",
    "\n",
    "df = (\n",
    "    raw_df\n",
    "    .merge(init_data, on=[\"data_source\", \"query_id\", \"label\"])\n",
    ")\n",
    "print(len(df))\n",
    "df.head(1)"
   ]
  },
  {
   "cell_type": "code",
   "execution_count": 23,
   "metadata": {},
   "outputs": [
    {
     "name": "stderr",
     "output_type": "stream",
     "text": [
      "100% (298 of 298) |######################| Elapsed Time: 0:00:11 Time:  0:00:11\n"
     ]
    }
   ],
   "source": [
    "results = []\n",
    "\n",
    "for _, row in pb(df.iterrows(), max_value=len(df)):\n",
    "    results.append(predict(row.description, row.paragraph))"
   ]
  },
  {
   "cell_type": "code",
   "execution_count": 24,
   "metadata": {},
   "outputs": [
    {
     "data": {
      "text/html": [
       "<div>\n",
       "<style scoped>\n",
       "    .dataframe tbody tr th:only-of-type {\n",
       "        vertical-align: middle;\n",
       "    }\n",
       "\n",
       "    .dataframe tbody tr th {\n",
       "        vertical-align: top;\n",
       "    }\n",
       "\n",
       "    .dataframe thead th {\n",
       "        text-align: right;\n",
       "    }\n",
       "</style>\n",
       "<table border=\"1\" class=\"dataframe\">\n",
       "  <thead>\n",
       "    <tr style=\"text-align: right;\">\n",
       "      <th></th>\n",
       "      <th>query_processed</th>\n",
       "      <th>article_title</th>\n",
       "      <th>paragraph</th>\n",
       "      <th>serp_position</th>\n",
       "      <th>title_common_tokens</th>\n",
       "      <th>num_title_common_tokens</th>\n",
       "      <th>tokens_to_find</th>\n",
       "      <th>paragraph_common_tokens</th>\n",
       "      <th>num_paragraph_common_tokens</th>\n",
       "      <th>paragraph_number_in_article</th>\n",
       "      <th>query_id</th>\n",
       "      <th>data_source</th>\n",
       "      <th>label</th>\n",
       "      <th>description</th>\n",
       "      <th>query</th>\n",
       "      <th>prediction</th>\n",
       "    </tr>\n",
       "  </thead>\n",
       "  <tbody>\n",
       "    <tr>\n",
       "      <th>0</th>\n",
       "      <td>Can cranberries prevent urinary tract infections?</td>\n",
       "      <td>Urinary tract infection</td>\n",
       "      <td>Some research suggests that cranberry (juice o...</td>\n",
       "      <td>1.0</td>\n",
       "      <td>['infection', 'urinary', 'tract']</td>\n",
       "      <td>3.0</td>\n",
       "      <td>['cranberry', 'prevent', 'can']</td>\n",
       "      <td>['cranberry', 'can']</td>\n",
       "      <td>2.0</td>\n",
       "      <td>77.0</td>\n",
       "      <td>1</td>\n",
       "      <td>2019</td>\n",
       "      <td>0.0</td>\n",
       "      <td>Can cranberries prevent urinary tract infections?</td>\n",
       "      <td>cranberries urinary tract infections</td>\n",
       "      <td>0.940501</td>\n",
       "    </tr>\n",
       "  </tbody>\n",
       "</table>\n",
       "</div>"
      ],
      "text/plain": [
       "                                     query_processed            article_title  \\\n",
       "0  Can cranberries prevent urinary tract infections?  Urinary tract infection   \n",
       "\n",
       "                                           paragraph  serp_position  \\\n",
       "0  Some research suggests that cranberry (juice o...            1.0   \n",
       "\n",
       "                 title_common_tokens  num_title_common_tokens  \\\n",
       "0  ['infection', 'urinary', 'tract']                      3.0   \n",
       "\n",
       "                    tokens_to_find paragraph_common_tokens  \\\n",
       "0  ['cranberry', 'prevent', 'can']    ['cranberry', 'can']   \n",
       "\n",
       "   num_paragraph_common_tokens  paragraph_number_in_article query_id  \\\n",
       "0                          2.0                         77.0        1   \n",
       "\n",
       "  data_source  label                                        description  \\\n",
       "0        2019    0.0  Can cranberries prevent urinary tract infections?   \n",
       "\n",
       "                                  query  prediction  \n",
       "0  cranberries urinary tract infections    0.940501  "
      ]
     },
     "execution_count": 24,
     "metadata": {},
     "output_type": "execute_result"
    }
   ],
   "source": [
    "df['prediction'] = results\n",
    "df.head(1)"
   ]
  },
  {
   "cell_type": "code",
   "execution_count": 13,
   "metadata": {},
   "outputs": [],
   "source": [
    "DESCRIPTION_SAVE_PRED_FILE = \"predictions/roberta_large_boolq_wikipedia_search_wiki_preds_question.csv\"\n",
    "\n",
    "df.to_csv(DESCRIPTION_SAVE_PRED_FILE, index=0)"
   ]
  },
  {
   "cell_type": "markdown",
   "metadata": {},
   "source": [
    "## Calc Metrics"
   ]
  },
  {
   "cell_type": "code",
   "execution_count": 14,
   "metadata": {},
   "outputs": [
    {
     "name": "stdout",
     "output_type": "stream",
     "text": [
      "298\n"
     ]
    }
   ],
   "source": [
    "df = pd.read_csv(DESCRIPTION_SAVE_PRED_FILE)\n",
    "print(len(df))"
   ]
  },
  {
   "cell_type": "code",
   "execution_count": 15,
   "metadata": {},
   "outputs": [
    {
     "name": "stdout",
     "output_type": "stream",
     "text": [
      "354\n"
     ]
    },
    {
     "data": {
      "text/html": [
       "<div>\n",
       "<style scoped>\n",
       "    .dataframe tbody tr th:only-of-type {\n",
       "        vertical-align: middle;\n",
       "    }\n",
       "\n",
       "    .dataframe tbody tr th {\n",
       "        vertical-align: top;\n",
       "    }\n",
       "\n",
       "    .dataframe thead th {\n",
       "        text-align: right;\n",
       "    }\n",
       "</style>\n",
       "<table border=\"1\" class=\"dataframe\">\n",
       "  <thead>\n",
       "    <tr style=\"text-align: right;\">\n",
       "      <th></th>\n",
       "      <th>query_processed</th>\n",
       "      <th>article_title</th>\n",
       "      <th>paragraph</th>\n",
       "      <th>serp_position</th>\n",
       "      <th>title_common_tokens</th>\n",
       "      <th>num_title_common_tokens</th>\n",
       "      <th>tokens_to_find</th>\n",
       "      <th>paragraph_common_tokens</th>\n",
       "      <th>num_paragraph_common_tokens</th>\n",
       "      <th>paragraph_number_in_article</th>\n",
       "      <th>query_id</th>\n",
       "      <th>data_source</th>\n",
       "      <th>label</th>\n",
       "      <th>description_x</th>\n",
       "      <th>query_x</th>\n",
       "      <th>prediction</th>\n",
       "      <th>description_y</th>\n",
       "      <th>query_y</th>\n",
       "    </tr>\n",
       "  </thead>\n",
       "  <tbody>\n",
       "    <tr>\n",
       "      <th>352</th>\n",
       "      <td>NaN</td>\n",
       "      <td>NaN</td>\n",
       "      <td>NaN</td>\n",
       "      <td>NaN</td>\n",
       "      <td>NaN</td>\n",
       "      <td>NaN</td>\n",
       "      <td>NaN</td>\n",
       "      <td>NaN</td>\n",
       "      <td>NaN</td>\n",
       "      <td>NaN</td>\n",
       "      <td>13_h</td>\n",
       "      <td>health_belief</td>\n",
       "      <td>1.0</td>\n",
       "      <td>NaN</td>\n",
       "      <td>NaN</td>\n",
       "      <td>0.5</td>\n",
       "      <td>Does diet cause bad breathe?</td>\n",
       "      <td>diet causes bad breathe</td>\n",
       "    </tr>\n",
       "    <tr>\n",
       "      <th>353</th>\n",
       "      <td>NaN</td>\n",
       "      <td>NaN</td>\n",
       "      <td>NaN</td>\n",
       "      <td>NaN</td>\n",
       "      <td>NaN</td>\n",
       "      <td>NaN</td>\n",
       "      <td>NaN</td>\n",
       "      <td>NaN</td>\n",
       "      <td>NaN</td>\n",
       "      <td>NaN</td>\n",
       "      <td>14_h</td>\n",
       "      <td>health_belief</td>\n",
       "      <td>1.0</td>\n",
       "      <td>NaN</td>\n",
       "      <td>NaN</td>\n",
       "      <td>0.5</td>\n",
       "      <td>Does listeria cause miscarriage?</td>\n",
       "      <td>listeria causes miscarriage</td>\n",
       "    </tr>\n",
       "  </tbody>\n",
       "</table>\n",
       "</div>"
      ],
      "text/plain": [
       "    query_processed article_title paragraph  serp_position  \\\n",
       "352             NaN           NaN       NaN            NaN   \n",
       "353             NaN           NaN       NaN            NaN   \n",
       "\n",
       "    title_common_tokens  num_title_common_tokens tokens_to_find  \\\n",
       "352                 NaN                      NaN            NaN   \n",
       "353                 NaN                      NaN            NaN   \n",
       "\n",
       "    paragraph_common_tokens  num_paragraph_common_tokens  \\\n",
       "352                     NaN                          NaN   \n",
       "353                     NaN                          NaN   \n",
       "\n",
       "     paragraph_number_in_article query_id    data_source  label description_x  \\\n",
       "352                          NaN     13_h  health_belief    1.0           NaN   \n",
       "353                          NaN     14_h  health_belief    1.0           NaN   \n",
       "\n",
       "    query_x  prediction                     description_y  \\\n",
       "352     NaN         0.5      Does diet cause bad breathe?   \n",
       "353     NaN         0.5  Does listeria cause miscarriage?   \n",
       "\n",
       "                         query_y  \n",
       "352      diet causes bad breathe  \n",
       "353  listeria causes miscarriage  "
      ]
     },
     "execution_count": 15,
     "metadata": {},
     "output_type": "execute_result"
    }
   ],
   "source": [
    "df_filled = (\n",
    "    df\n",
    "    .merge(init_data, how='outer', on=[\"query_id\", \"data_source\", \"label\"])\n",
    "    .fillna({\"prediction\": 0.5})\n",
    ")\n",
    "print(len(df_filled))\n",
    "df_filled.tail(2)"
   ]
  },
  {
   "cell_type": "code",
   "execution_count": 28,
   "metadata": {},
   "outputs": [],
   "source": [
    "assert 113 == len(df_filled.drop_duplicates([\"query_id\", \"data_source\"]))"
   ]
  },
  {
   "cell_type": "code",
   "execution_count": 17,
   "metadata": {},
   "outputs": [
    {
     "data": {
      "text/html": [
       "<div>\n",
       "<style scoped>\n",
       "    .dataframe tbody tr th:only-of-type {\n",
       "        vertical-align: middle;\n",
       "    }\n",
       "\n",
       "    .dataframe tbody tr th {\n",
       "        vertical-align: top;\n",
       "    }\n",
       "\n",
       "    .dataframe thead th {\n",
       "        text-align: right;\n",
       "    }\n",
       "</style>\n",
       "<table border=\"1\" class=\"dataframe\">\n",
       "  <thead>\n",
       "    <tr style=\"text-align: right;\">\n",
       "      <th></th>\n",
       "      <th>2019</th>\n",
       "      <th>2021</th>\n",
       "      <th>health_belief</th>\n",
       "      <th>misbelief</th>\n",
       "      <th>all</th>\n",
       "    </tr>\n",
       "  </thead>\n",
       "  <tbody>\n",
       "    <tr>\n",
       "      <th>avg</th>\n",
       "      <td>0.8062</td>\n",
       "      <td>0.6992</td>\n",
       "      <td>0.4583</td>\n",
       "      <td>0.4286</td>\n",
       "      <td>0.6799</td>\n",
       "    </tr>\n",
       "    <tr>\n",
       "      <th>top1</th>\n",
       "      <td>0.7543</td>\n",
       "      <td>0.7328</td>\n",
       "      <td>0.4583</td>\n",
       "      <td>0.3214</td>\n",
       "      <td>0.6455</td>\n",
       "    </tr>\n",
       "    <tr>\n",
       "      <th>norm_linear</th>\n",
       "      <td>0.7716</td>\n",
       "      <td>0.6752</td>\n",
       "      <td>0.4583</td>\n",
       "      <td>0.4286</td>\n",
       "      <td>0.6496</td>\n",
       "    </tr>\n",
       "    <tr>\n",
       "      <th>norm_log</th>\n",
       "      <td>0.7855</td>\n",
       "      <td>0.7296</td>\n",
       "      <td>0.4583</td>\n",
       "      <td>0.3214</td>\n",
       "      <td>0.6758</td>\n",
       "    </tr>\n",
       "  </tbody>\n",
       "</table>\n",
       "</div>"
      ],
      "text/plain": [
       "               2019    2021  health_belief  misbelief     all\n",
       "avg          0.8062  0.6992         0.4583     0.4286  0.6799\n",
       "top1         0.7543  0.7328         0.4583     0.3214  0.6455\n",
       "norm_linear  0.7716  0.6752         0.4583     0.4286  0.6496\n",
       "norm_log     0.7855  0.7296         0.4583     0.3214  0.6758"
      ]
     },
     "execution_count": 17,
     "metadata": {},
     "output_type": "execute_result"
    }
   ],
   "source": [
    "metrics = {item: [] for item in data_source_types}\n",
    "\n",
    "for data_source in data_source_types:\n",
    "    for agg_type in agg_types:\n",
    "        if data_source == \"all\":\n",
    "            metrics[data_source].append(calc_auc(df_filled, agg_type))\n",
    "        else:\n",
    "            try:\n",
    "                df_cut = df_filled.query(f\"data_source == '{data_source}'\")\n",
    "                metrics[data_source].append(calc_auc(df_cut, agg_type))\n",
    "            except ValueError:\n",
    "                print(f\"Can't calc auc for {data_source} {agg_type}\")\n",
    "            \n",
    "for key, value in metrics.items():\n",
    "    if not value:\n",
    "        metrics[key] = [None] * 4\n",
    "\n",
    "metrics_df = pd.DataFrame(metrics, index=agg_types).round(4)\n",
    "metrics_df"
   ]
  },
  {
   "cell_type": "code",
   "execution_count": null,
   "metadata": {},
   "outputs": [],
   "source": []
  }
 ],
 "metadata": {
  "kernelspec": {
   "display_name": "Python 3 (ipykernel)",
   "language": "python",
   "name": "python3"
  },
  "language_info": {
   "codemirror_mode": {
    "name": "ipython",
    "version": 3
   },
   "file_extension": ".py",
   "mimetype": "text/x-python",
   "name": "python",
   "nbconvert_exporter": "python",
   "pygments_lexer": "ipython3",
   "version": "3.10.0"
  }
 },
 "nbformat": 4,
 "nbformat_minor": 4
}
