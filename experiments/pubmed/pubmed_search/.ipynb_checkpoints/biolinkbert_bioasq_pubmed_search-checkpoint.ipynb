{
 "cells": [
  {
   "cell_type": "markdown",
   "metadata": {},
   "source": [
    "## Source: PubMed\n",
    "## Retriever: Pubmed Search\n",
    "## Model: BioLinkBERT (BioASQ)"
   ]
  },
  {
   "cell_type": "code",
   "execution_count": 2,
   "metadata": {
    "pycharm": {
     "name": "#%%\n"
    }
   },
   "outputs": [],
   "source": [
    "import torch\n",
    "from sklearn.metrics import classification_report, roc_auc_score\n",
    "\n",
    "import sys\n",
    "sys.path.append(\"../../\") # use utils\n",
    "\n",
    "import utils\n",
    "import importlib\n",
    "importlib.reload(utils)\n",
    "\n",
    "from utils import calc_auc"
   ]
  },
  {
   "cell_type": "code",
   "execution_count": 2,
   "metadata": {
    "pycharm": {
     "name": "#%%\n"
    }
   },
   "outputs": [
    {
     "name": "stdout",
     "output_type": "stream",
     "text": [
      "OK\n"
     ]
    }
   ],
   "source": [
    "from transformers import AutoTokenizer, BertForSequenceClassification, BertModel, DataCollatorWithPadding\n",
    "\n",
    "model_name = \"<path_to_bio-linkbert-large__bioasq_hf>\"\n",
    "tokenizer = AutoTokenizer.from_pretrained(model_name)\n",
    "model = BertForSequenceClassification.from_pretrained(model_name)\n",
    "model.eval()\n",
    "print(\"OK\")"
   ]
  },
  {
   "cell_type": "code",
   "execution_count": 3,
   "metadata": {
    "pycharm": {
     "name": "#%%\n"
    }
   },
   "outputs": [],
   "source": [
    "def predict(question, passage):\n",
    "    sequence = tokenizer.encode_plus(\n",
    "        question, \n",
    "        passage, \n",
    "        return_tensors=\"pt\",\n",
    "        max_length=512,\n",
    "        truncation=True\n",
    "    )['input_ids']\n",
    "\n",
    "    logits = model(sequence)[0]\n",
    "    probabilities = torch.softmax(logits, dim=1).detach().cpu().tolist()[0]\n",
    "    proba_yes = probabilities[1]\n",
    "    \n",
    "    return proba_yes"
   ]
  },
  {
   "cell_type": "code",
   "execution_count": 1,
   "metadata": {},
   "outputs": [
    {
     "name": "stdout",
     "output_type": "stream",
     "text": [
      "113\n"
     ]
    },
    {
     "data": {
      "text/html": [
       "<div>\n",
       "<style scoped>\n",
       "    .dataframe tbody tr th:only-of-type {\n",
       "        vertical-align: middle;\n",
       "    }\n",
       "\n",
       "    .dataframe tbody tr th {\n",
       "        vertical-align: top;\n",
       "    }\n",
       "\n",
       "    .dataframe thead th {\n",
       "        text-align: right;\n",
       "    }\n",
       "</style>\n",
       "<table border=\"1\" class=\"dataframe\">\n",
       "  <thead>\n",
       "    <tr style=\"text-align: right;\">\n",
       "      <th></th>\n",
       "      <th>data_source</th>\n",
       "      <th>query_id</th>\n",
       "      <th>description</th>\n",
       "      <th>query</th>\n",
       "      <th>label</th>\n",
       "    </tr>\n",
       "  </thead>\n",
       "  <tbody>\n",
       "    <tr>\n",
       "      <th>0</th>\n",
       "      <td>2019</td>\n",
       "      <td>1</td>\n",
       "      <td>Can cranberries prevent urinary tract infections?</td>\n",
       "      <td>cranberries urinary tract infections</td>\n",
       "      <td>0.0</td>\n",
       "    </tr>\n",
       "    <tr>\n",
       "      <th>1</th>\n",
       "      <td>2019</td>\n",
       "      <td>3</td>\n",
       "      <td>Can acupuncture be effective for people with e...</td>\n",
       "      <td>acupuncture epilepsy</td>\n",
       "      <td>0.0</td>\n",
       "    </tr>\n",
       "    <tr>\n",
       "      <th>2</th>\n",
       "      <td>2019</td>\n",
       "      <td>5</td>\n",
       "      <td>Can acupuncture prevent migraines?</td>\n",
       "      <td>acupuncture migraine</td>\n",
       "      <td>1.0</td>\n",
       "    </tr>\n",
       "  </tbody>\n",
       "</table>\n",
       "</div>"
      ],
      "text/plain": [
       "  data_source query_id                                        description  \\\n",
       "0        2019        1  Can cranberries prevent urinary tract infections?   \n",
       "1        2019        3  Can acupuncture be effective for people with e...   \n",
       "2        2019        5                 Can acupuncture prevent migraines?   \n",
       "\n",
       "                                  query  label  \n",
       "0  cranberries urinary tract infections    0.0  \n",
       "1                  acupuncture epilepsy    0.0  \n",
       "2                  acupuncture migraine    1.0  "
      ]
     },
     "execution_count": 1,
     "metadata": {},
     "output_type": "execute_result"
    }
   ],
   "source": [
    "init_data = pd.read_csv(\"../../../data/data_to_process.csv\")\n",
    "print(len(init_data))\n",
    "init_data.head(3)"
   ]
  },
  {
   "cell_type": "markdown",
   "metadata": {
    "tags": []
   },
   "source": [
    "## Keywords"
   ]
  },
  {
   "cell_type": "code",
   "execution_count": 6,
   "metadata": {},
   "outputs": [
    {
     "name": "stdout",
     "output_type": "stream",
     "text": [
      "645\n"
     ]
    },
    {
     "data": {
      "text/html": [
       "<div>\n",
       "<style scoped>\n",
       "    .dataframe tbody tr th:only-of-type {\n",
       "        vertical-align: middle;\n",
       "    }\n",
       "\n",
       "    .dataframe tbody tr th {\n",
       "        vertical-align: top;\n",
       "    }\n",
       "\n",
       "    .dataframe thead th {\n",
       "        text-align: right;\n",
       "    }\n",
       "</style>\n",
       "<table border=\"1\" class=\"dataframe\">\n",
       "  <thead>\n",
       "    <tr style=\"text-align: right;\">\n",
       "      <th></th>\n",
       "      <th>query_id</th>\n",
       "      <th>data_source</th>\n",
       "      <th>pubmed_id</th>\n",
       "      <th>description</th>\n",
       "      <th>query</th>\n",
       "      <th>label</th>\n",
       "      <th>abstract</th>\n",
       "    </tr>\n",
       "  </thead>\n",
       "  <tbody>\n",
       "    <tr>\n",
       "      <th>0</th>\n",
       "      <td>1</td>\n",
       "      <td>2019</td>\n",
       "      <td>35285701</td>\n",
       "      <td>Can cranberries prevent urinary tract infections?</td>\n",
       "      <td>cranberries urinary tract infections</td>\n",
       "      <td>0.0</td>\n",
       "      <td>Aim: Cranberries ( Vaccinium macrocarpon ) are...</td>\n",
       "    </tr>\n",
       "  </tbody>\n",
       "</table>\n",
       "</div>"
      ],
      "text/plain": [
       "  query_id data_source  pubmed_id  \\\n",
       "0        1        2019   35285701   \n",
       "\n",
       "                                         description  \\\n",
       "0  Can cranberries prevent urinary tract infections?   \n",
       "\n",
       "                                  query  label  \\\n",
       "0  cranberries urinary tract infections    0.0   \n",
       "\n",
       "                                            abstract  \n",
       "0  Aim: Cranberries ( Vaccinium macrocarpon ) are...  "
      ]
     },
     "execution_count": 6,
     "metadata": {},
     "output_type": "execute_result"
    }
   ],
   "source": [
    "raw_df = pd.read_csv(\"../../../data/pubmed_search/pubmed_search_abstracts_keywords.csv\")\n",
    "\n",
    "df = (\n",
    "    raw_df\n",
    "    .merge(init_data, on=[\"data_source\", \"query_id\", \"label\", \"description\", \"query\"])\n",
    "    .dropna()\n",
    ")\n",
    "print(len(df))\n",
    "df.head(1)"
   ]
  },
  {
   "cell_type": "code",
   "execution_count": 8,
   "metadata": {},
   "outputs": [
    {
     "name": "stderr",
     "output_type": "stream",
     "text": [
      "100% (645 of 645) |######################| Elapsed Time: 0:33:38 Time:  0:33:38\n"
     ]
    }
   ],
   "source": [
    "results = []\n",
    "\n",
    "for _, row in pb(df.iterrows(), max_value=len(df)):\n",
    "    results.append(predict(row.description, row.abstract))"
   ]
  },
  {
   "cell_type": "code",
   "execution_count": 9,
   "metadata": {},
   "outputs": [
    {
     "data": {
      "text/html": [
       "<div>\n",
       "<style scoped>\n",
       "    .dataframe tbody tr th:only-of-type {\n",
       "        vertical-align: middle;\n",
       "    }\n",
       "\n",
       "    .dataframe tbody tr th {\n",
       "        vertical-align: top;\n",
       "    }\n",
       "\n",
       "    .dataframe thead th {\n",
       "        text-align: right;\n",
       "    }\n",
       "</style>\n",
       "<table border=\"1\" class=\"dataframe\">\n",
       "  <thead>\n",
       "    <tr style=\"text-align: right;\">\n",
       "      <th></th>\n",
       "      <th>query_id</th>\n",
       "      <th>data_source</th>\n",
       "      <th>pubmed_id</th>\n",
       "      <th>description</th>\n",
       "      <th>query</th>\n",
       "      <th>label</th>\n",
       "      <th>abstract</th>\n",
       "      <th>prediction</th>\n",
       "    </tr>\n",
       "  </thead>\n",
       "  <tbody>\n",
       "    <tr>\n",
       "      <th>0</th>\n",
       "      <td>1</td>\n",
       "      <td>2019</td>\n",
       "      <td>35285701</td>\n",
       "      <td>Can cranberries prevent urinary tract infections?</td>\n",
       "      <td>cranberries urinary tract infections</td>\n",
       "      <td>0.0</td>\n",
       "      <td>Aim: Cranberries ( Vaccinium macrocarpon ) are...</td>\n",
       "      <td>0.348066</td>\n",
       "    </tr>\n",
       "  </tbody>\n",
       "</table>\n",
       "</div>"
      ],
      "text/plain": [
       "  query_id data_source  pubmed_id  \\\n",
       "0        1        2019   35285701   \n",
       "\n",
       "                                         description  \\\n",
       "0  Can cranberries prevent urinary tract infections?   \n",
       "\n",
       "                                  query  label  \\\n",
       "0  cranberries urinary tract infections    0.0   \n",
       "\n",
       "                                            abstract  prediction  \n",
       "0  Aim: Cranberries ( Vaccinium macrocarpon ) are...    0.348066  "
      ]
     },
     "execution_count": 9,
     "metadata": {},
     "output_type": "execute_result"
    }
   ],
   "source": [
    "df['prediction'] = results\n",
    "df.head(1)"
   ]
  },
  {
   "cell_type": "code",
   "execution_count": 10,
   "metadata": {},
   "outputs": [],
   "source": [
    "df.to_csv(\"predictions/biolinkbert_bioasq_pubmed_search_preds_keywords.csv\", index=0)"
   ]
  },
  {
   "cell_type": "markdown",
   "metadata": {},
   "source": [
    "## Calc Metrics"
   ]
  },
  {
   "cell_type": "code",
   "execution_count": 19,
   "metadata": {},
   "outputs": [
    {
     "name": "stdout",
     "output_type": "stream",
     "text": [
      "645\n"
     ]
    },
    {
     "data": {
      "text/html": [
       "<div>\n",
       "<style scoped>\n",
       "    .dataframe tbody tr th:only-of-type {\n",
       "        vertical-align: middle;\n",
       "    }\n",
       "\n",
       "    .dataframe tbody tr th {\n",
       "        vertical-align: top;\n",
       "    }\n",
       "\n",
       "    .dataframe thead th {\n",
       "        text-align: right;\n",
       "    }\n",
       "</style>\n",
       "<table border=\"1\" class=\"dataframe\">\n",
       "  <thead>\n",
       "    <tr style=\"text-align: right;\">\n",
       "      <th></th>\n",
       "      <th>query_id</th>\n",
       "      <th>data_source</th>\n",
       "      <th>pubmed_id</th>\n",
       "      <th>description</th>\n",
       "      <th>query</th>\n",
       "      <th>label</th>\n",
       "      <th>abstract</th>\n",
       "      <th>prediction</th>\n",
       "    </tr>\n",
       "  </thead>\n",
       "  <tbody>\n",
       "    <tr>\n",
       "      <th>0</th>\n",
       "      <td>1</td>\n",
       "      <td>2019</td>\n",
       "      <td>35285701</td>\n",
       "      <td>Can cranberries prevent urinary tract infections?</td>\n",
       "      <td>cranberries urinary tract infections</td>\n",
       "      <td>0.0</td>\n",
       "      <td>Aim: Cranberries ( Vaccinium macrocarpon ) are...</td>\n",
       "      <td>0.348066</td>\n",
       "    </tr>\n",
       "    <tr>\n",
       "      <th>1</th>\n",
       "      <td>1</td>\n",
       "      <td>2019</td>\n",
       "      <td>34205292</td>\n",
       "      <td>Can cranberries prevent urinary tract infections?</td>\n",
       "      <td>cranberries urinary tract infections</td>\n",
       "      <td>0.0</td>\n",
       "      <td>Consumption of cranberries is associated with ...</td>\n",
       "      <td>0.667579</td>\n",
       "    </tr>\n",
       "  </tbody>\n",
       "</table>\n",
       "</div>"
      ],
      "text/plain": [
       "  query_id data_source  pubmed_id  \\\n",
       "0        1        2019   35285701   \n",
       "1        1        2019   34205292   \n",
       "\n",
       "                                         description  \\\n",
       "0  Can cranberries prevent urinary tract infections?   \n",
       "1  Can cranberries prevent urinary tract infections?   \n",
       "\n",
       "                                  query  label  \\\n",
       "0  cranberries urinary tract infections    0.0   \n",
       "1  cranberries urinary tract infections    0.0   \n",
       "\n",
       "                                            abstract  prediction  \n",
       "0  Aim: Cranberries ( Vaccinium macrocarpon ) are...    0.348066  \n",
       "1  Consumption of cranberries is associated with ...    0.667579  "
      ]
     },
     "execution_count": 19,
     "metadata": {},
     "output_type": "execute_result"
    }
   ],
   "source": [
    "df = pd.read_csv(\"predictions/biolinkbert_bioasq_pubmed_search_preds_keywords.csv\")\n",
    "print(len(df))\n",
    "df.head(2)"
   ]
  },
  {
   "cell_type": "code",
   "execution_count": 20,
   "metadata": {},
   "outputs": [
    {
     "data": {
      "text/plain": [
       "['2019', '2021', 'health_belief', 'misbelief', 'all']"
      ]
     },
     "execution_count": 20,
     "metadata": {},
     "output_type": "execute_result"
    }
   ],
   "source": [
    "agg_types = [\"avg\", \"top1\", \"norm_linear\", \"norm_log\"]\n",
    "data_source_types = sorted(df.data_source.unique().tolist()) + [\"all\"]\n",
    "data_source_types"
   ]
  },
  {
   "cell_type": "code",
   "execution_count": 21,
   "metadata": {},
   "outputs": [
    {
     "name": "stdout",
     "output_type": "stream",
     "text": [
      "678\n"
     ]
    },
    {
     "data": {
      "text/html": [
       "<div>\n",
       "<style scoped>\n",
       "    .dataframe tbody tr th:only-of-type {\n",
       "        vertical-align: middle;\n",
       "    }\n",
       "\n",
       "    .dataframe tbody tr th {\n",
       "        vertical-align: top;\n",
       "    }\n",
       "\n",
       "    .dataframe thead th {\n",
       "        text-align: right;\n",
       "    }\n",
       "</style>\n",
       "<table border=\"1\" class=\"dataframe\">\n",
       "  <thead>\n",
       "    <tr style=\"text-align: right;\">\n",
       "      <th></th>\n",
       "      <th>query_id</th>\n",
       "      <th>data_source</th>\n",
       "      <th>pubmed_id</th>\n",
       "      <th>description</th>\n",
       "      <th>query</th>\n",
       "      <th>label</th>\n",
       "      <th>abstract</th>\n",
       "      <th>prediction</th>\n",
       "    </tr>\n",
       "  </thead>\n",
       "  <tbody>\n",
       "    <tr>\n",
       "      <th>673</th>\n",
       "      <td>215</td>\n",
       "      <td>misbelief</td>\n",
       "      <td>NaN</td>\n",
       "      <td>Does onion kill viruses?</td>\n",
       "      <td>onion kill viruses</td>\n",
       "      <td>1.0</td>\n",
       "      <td>NaN</td>\n",
       "      <td>0.5</td>\n",
       "    </tr>\n",
       "    <tr>\n",
       "      <th>674</th>\n",
       "      <td>4_h</td>\n",
       "      <td>health_belief</td>\n",
       "      <td>NaN</td>\n",
       "      <td>Does oral sex cause throat cancer?</td>\n",
       "      <td>oral sex causes throat cancer</td>\n",
       "      <td>1.0</td>\n",
       "      <td>NaN</td>\n",
       "      <td>0.5</td>\n",
       "    </tr>\n",
       "    <tr>\n",
       "      <th>675</th>\n",
       "      <td>11_h</td>\n",
       "      <td>health_belief</td>\n",
       "      <td>NaN</td>\n",
       "      <td>Does nasal polyp cause nasal block?</td>\n",
       "      <td>nasal polyp causes nasal block</td>\n",
       "      <td>1.0</td>\n",
       "      <td>NaN</td>\n",
       "      <td>0.5</td>\n",
       "    </tr>\n",
       "    <tr>\n",
       "      <th>676</th>\n",
       "      <td>12_h</td>\n",
       "      <td>health_belief</td>\n",
       "      <td>NaN</td>\n",
       "      <td>Does cialis treat enlarged prostrate?</td>\n",
       "      <td>cialis treats enlarged prostrate</td>\n",
       "      <td>1.0</td>\n",
       "      <td>NaN</td>\n",
       "      <td>0.5</td>\n",
       "    </tr>\n",
       "    <tr>\n",
       "      <th>677</th>\n",
       "      <td>13_h</td>\n",
       "      <td>health_belief</td>\n",
       "      <td>NaN</td>\n",
       "      <td>Does diet cause bad breathe?</td>\n",
       "      <td>diet causes bad breathe</td>\n",
       "      <td>1.0</td>\n",
       "      <td>NaN</td>\n",
       "      <td>0.5</td>\n",
       "    </tr>\n",
       "  </tbody>\n",
       "</table>\n",
       "</div>"
      ],
      "text/plain": [
       "    query_id    data_source  pubmed_id                            description  \\\n",
       "673      215      misbelief        NaN               Does onion kill viruses?   \n",
       "674      4_h  health_belief        NaN     Does oral sex cause throat cancer?   \n",
       "675     11_h  health_belief        NaN    Does nasal polyp cause nasal block?   \n",
       "676     12_h  health_belief        NaN  Does cialis treat enlarged prostrate?   \n",
       "677     13_h  health_belief        NaN           Does diet cause bad breathe?   \n",
       "\n",
       "                                query  label abstract  prediction  \n",
       "673                onion kill viruses    1.0      NaN         0.5  \n",
       "674     oral sex causes throat cancer    1.0      NaN         0.5  \n",
       "675    nasal polyp causes nasal block    1.0      NaN         0.5  \n",
       "676  cialis treats enlarged prostrate    1.0      NaN         0.5  \n",
       "677           diet causes bad breathe    1.0      NaN         0.5  "
      ]
     },
     "execution_count": 21,
     "metadata": {},
     "output_type": "execute_result"
    }
   ],
   "source": [
    "df_filled = (\n",
    "    df\n",
    "    .merge(init_data, how='outer', on=[\"query_id\", \"data_source\", \"label\", \"description\", \"query\"])\n",
    "    .fillna({\"prediction\": 0.5})\n",
    ")\n",
    "print(len(df_filled))\n",
    "df_filled.tail(5)"
   ]
  },
  {
   "cell_type": "code",
   "execution_count": 7,
   "metadata": {},
   "outputs": [],
   "source": [
    "assert 113 == len(df_filled.drop_duplicates([\"query_id\", \"data_source\"]))"
   ]
  },
  {
   "cell_type": "code",
   "execution_count": 8,
   "metadata": {},
   "outputs": [
    {
     "data": {
      "text/html": [
       "<div>\n",
       "<style scoped>\n",
       "    .dataframe tbody tr th:only-of-type {\n",
       "        vertical-align: middle;\n",
       "    }\n",
       "\n",
       "    .dataframe tbody tr th {\n",
       "        vertical-align: top;\n",
       "    }\n",
       "\n",
       "    .dataframe thead th {\n",
       "        text-align: right;\n",
       "    }\n",
       "</style>\n",
       "<table border=\"1\" class=\"dataframe\">\n",
       "  <thead>\n",
       "    <tr style=\"text-align: right;\">\n",
       "      <th></th>\n",
       "      <th>2019</th>\n",
       "      <th>2021</th>\n",
       "      <th>health_belief</th>\n",
       "      <th>misbelief</th>\n",
       "      <th>all</th>\n",
       "    </tr>\n",
       "  </thead>\n",
       "  <tbody>\n",
       "    <tr>\n",
       "      <th>avg</th>\n",
       "      <td>0.5675</td>\n",
       "      <td>0.6208</td>\n",
       "      <td>0.5833</td>\n",
       "      <td>0.5179</td>\n",
       "      <td>0.5766</td>\n",
       "    </tr>\n",
       "    <tr>\n",
       "      <th>top1</th>\n",
       "      <td>0.5467</td>\n",
       "      <td>0.5792</td>\n",
       "      <td>0.5833</td>\n",
       "      <td>0.6429</td>\n",
       "      <td>0.5580</td>\n",
       "    </tr>\n",
       "    <tr>\n",
       "      <th>norm_linear</th>\n",
       "      <td>0.5467</td>\n",
       "      <td>0.6080</td>\n",
       "      <td>0.6667</td>\n",
       "      <td>0.5179</td>\n",
       "      <td>0.5757</td>\n",
       "    </tr>\n",
       "    <tr>\n",
       "      <th>norm_log</th>\n",
       "      <td>0.5398</td>\n",
       "      <td>0.6000</td>\n",
       "      <td>0.6250</td>\n",
       "      <td>0.5179</td>\n",
       "      <td>0.5712</td>\n",
       "    </tr>\n",
       "  </tbody>\n",
       "</table>\n",
       "</div>"
      ],
      "text/plain": [
       "               2019    2021  health_belief  misbelief     all\n",
       "avg          0.5675  0.6208         0.5833     0.5179  0.5766\n",
       "top1         0.5467  0.5792         0.5833     0.6429  0.5580\n",
       "norm_linear  0.5467  0.6080         0.6667     0.5179  0.5757\n",
       "norm_log     0.5398  0.6000         0.6250     0.5179  0.5712"
      ]
     },
     "execution_count": 8,
     "metadata": {},
     "output_type": "execute_result"
    }
   ],
   "source": [
    "metrics = {item: [] for item in data_source_types}\n",
    "\n",
    "for data_source in data_source_types:\n",
    "    for agg_type in agg_types:\n",
    "        if data_source == \"all\":\n",
    "            metrics[data_source].append(calc_auc(df_filled, agg_type))\n",
    "        else:\n",
    "            df_cut = df_filled.query(f\"data_source == '{data_source}'\")\n",
    "            metrics[data_source].append(calc_auc(df_cut, agg_type))\n",
    "\n",
    "metrics_df = pd.DataFrame(metrics, index=agg_types).round(4)\n",
    "metrics_df"
   ]
  },
  {
   "cell_type": "markdown",
   "metadata": {
    "tags": []
   },
   "source": [
    "## Question"
   ]
  },
  {
   "cell_type": "code",
   "execution_count": 9,
   "metadata": {},
   "outputs": [
    {
     "name": "stdout",
     "output_type": "stream",
     "text": [
      "507\n"
     ]
    },
    {
     "data": {
      "text/html": [
       "<div>\n",
       "<style scoped>\n",
       "    .dataframe tbody tr th:only-of-type {\n",
       "        vertical-align: middle;\n",
       "    }\n",
       "\n",
       "    .dataframe tbody tr th {\n",
       "        vertical-align: top;\n",
       "    }\n",
       "\n",
       "    .dataframe thead th {\n",
       "        text-align: right;\n",
       "    }\n",
       "</style>\n",
       "<table border=\"1\" class=\"dataframe\">\n",
       "  <thead>\n",
       "    <tr style=\"text-align: right;\">\n",
       "      <th></th>\n",
       "      <th>query_id</th>\n",
       "      <th>data_source</th>\n",
       "      <th>pubmed_id</th>\n",
       "      <th>description</th>\n",
       "      <th>query</th>\n",
       "      <th>label</th>\n",
       "      <th>abstract</th>\n",
       "    </tr>\n",
       "  </thead>\n",
       "  <tbody>\n",
       "    <tr>\n",
       "      <th>0</th>\n",
       "      <td>1</td>\n",
       "      <td>2019</td>\n",
       "      <td>34444706</td>\n",
       "      <td>Can cranberries prevent urinary tract infections?</td>\n",
       "      <td>cranberries urinary tract infections</td>\n",
       "      <td>0.0</td>\n",
       "      <td>Cranberry is a fruit originally from New Engla...</td>\n",
       "    </tr>\n",
       "  </tbody>\n",
       "</table>\n",
       "</div>"
      ],
      "text/plain": [
       "  query_id data_source  pubmed_id  \\\n",
       "0        1        2019   34444706   \n",
       "\n",
       "                                         description  \\\n",
       "0  Can cranberries prevent urinary tract infections?   \n",
       "\n",
       "                                  query  label  \\\n",
       "0  cranberries urinary tract infections    0.0   \n",
       "\n",
       "                                            abstract  \n",
       "0  Cranberry is a fruit originally from New Engla...  "
      ]
     },
     "execution_count": 9,
     "metadata": {},
     "output_type": "execute_result"
    }
   ],
   "source": [
    "raw_df = pd.read_csv(\"../../../data/pubmed_search/pubmed_search_abstracts_question.csv\")\n",
    "\n",
    "df = (\n",
    "    raw_df\n",
    "    .merge(init_data, on=[\"data_source\", \"query_id\", \"label\", \"description\", \"query\"])\n",
    "    .dropna()\n",
    ")\n",
    "print(len(df))\n",
    "df.head(1)"
   ]
  },
  {
   "cell_type": "code",
   "execution_count": 18,
   "metadata": {},
   "outputs": [
    {
     "name": "stderr",
     "output_type": "stream",
     "text": [
      "100% (507 of 507) |######################| Elapsed Time: 0:23:03 Time:  0:23:03\n"
     ]
    }
   ],
   "source": [
    "results = []\n",
    "\n",
    "for _, row in pb(df.iterrows(), max_value=len(df)):\n",
    "    results.append(predict(row.description, row.abstract))"
   ]
  },
  {
   "cell_type": "code",
   "execution_count": 19,
   "metadata": {},
   "outputs": [
    {
     "data": {
      "text/html": [
       "<div>\n",
       "<style scoped>\n",
       "    .dataframe tbody tr th:only-of-type {\n",
       "        vertical-align: middle;\n",
       "    }\n",
       "\n",
       "    .dataframe tbody tr th {\n",
       "        vertical-align: top;\n",
       "    }\n",
       "\n",
       "    .dataframe thead th {\n",
       "        text-align: right;\n",
       "    }\n",
       "</style>\n",
       "<table border=\"1\" class=\"dataframe\">\n",
       "  <thead>\n",
       "    <tr style=\"text-align: right;\">\n",
       "      <th></th>\n",
       "      <th>query_id</th>\n",
       "      <th>data_source</th>\n",
       "      <th>pubmed_id</th>\n",
       "      <th>description</th>\n",
       "      <th>query</th>\n",
       "      <th>label</th>\n",
       "      <th>abstract</th>\n",
       "      <th>prediction</th>\n",
       "    </tr>\n",
       "  </thead>\n",
       "  <tbody>\n",
       "    <tr>\n",
       "      <th>0</th>\n",
       "      <td>1</td>\n",
       "      <td>2019</td>\n",
       "      <td>34444706</td>\n",
       "      <td>Can cranberries prevent urinary tract infections?</td>\n",
       "      <td>cranberries urinary tract infections</td>\n",
       "      <td>0.0</td>\n",
       "      <td>Cranberry is a fruit originally from New Engla...</td>\n",
       "      <td>0.354085</td>\n",
       "    </tr>\n",
       "  </tbody>\n",
       "</table>\n",
       "</div>"
      ],
      "text/plain": [
       "  query_id data_source  pubmed_id  \\\n",
       "0        1        2019   34444706   \n",
       "\n",
       "                                         description  \\\n",
       "0  Can cranberries prevent urinary tract infections?   \n",
       "\n",
       "                                  query  label  \\\n",
       "0  cranberries urinary tract infections    0.0   \n",
       "\n",
       "                                            abstract  prediction  \n",
       "0  Cranberry is a fruit originally from New Engla...    0.354085  "
      ]
     },
     "execution_count": 19,
     "metadata": {},
     "output_type": "execute_result"
    }
   ],
   "source": [
    "df['prediction'] = results\n",
    "df.head(1)"
   ]
  },
  {
   "cell_type": "code",
   "execution_count": 20,
   "metadata": {},
   "outputs": [],
   "source": [
    "df.to_csv(\"predictions/biolinkbert_bioasq_pubmed_search_preds_question.csv\", index=0)"
   ]
  },
  {
   "cell_type": "markdown",
   "metadata": {},
   "source": [
    "## Calc Metrics"
   ]
  },
  {
   "cell_type": "code",
   "execution_count": 10,
   "metadata": {},
   "outputs": [
    {
     "name": "stdout",
     "output_type": "stream",
     "text": [
      "507\n"
     ]
    },
    {
     "data": {
      "text/html": [
       "<div>\n",
       "<style scoped>\n",
       "    .dataframe tbody tr th:only-of-type {\n",
       "        vertical-align: middle;\n",
       "    }\n",
       "\n",
       "    .dataframe tbody tr th {\n",
       "        vertical-align: top;\n",
       "    }\n",
       "\n",
       "    .dataframe thead th {\n",
       "        text-align: right;\n",
       "    }\n",
       "</style>\n",
       "<table border=\"1\" class=\"dataframe\">\n",
       "  <thead>\n",
       "    <tr style=\"text-align: right;\">\n",
       "      <th></th>\n",
       "      <th>query_id</th>\n",
       "      <th>data_source</th>\n",
       "      <th>pubmed_id</th>\n",
       "      <th>description</th>\n",
       "      <th>query</th>\n",
       "      <th>label</th>\n",
       "      <th>abstract</th>\n",
       "      <th>prediction</th>\n",
       "    </tr>\n",
       "  </thead>\n",
       "  <tbody>\n",
       "    <tr>\n",
       "      <th>0</th>\n",
       "      <td>1</td>\n",
       "      <td>2019</td>\n",
       "      <td>34444706</td>\n",
       "      <td>Can cranberries prevent urinary tract infections?</td>\n",
       "      <td>cranberries urinary tract infections</td>\n",
       "      <td>0.0</td>\n",
       "      <td>Cranberry is a fruit originally from New Engla...</td>\n",
       "      <td>0.354085</td>\n",
       "    </tr>\n",
       "    <tr>\n",
       "      <th>1</th>\n",
       "      <td>1</td>\n",
       "      <td>2019</td>\n",
       "      <td>33751068</td>\n",
       "      <td>Can cranberries prevent urinary tract infections?</td>\n",
       "      <td>cranberries urinary tract infections</td>\n",
       "      <td>0.0</td>\n",
       "      <td>Background: Cranberry proanthocyanidins (c-PAC...</td>\n",
       "      <td>0.281109</td>\n",
       "    </tr>\n",
       "  </tbody>\n",
       "</table>\n",
       "</div>"
      ],
      "text/plain": [
       "  query_id data_source  pubmed_id  \\\n",
       "0        1        2019   34444706   \n",
       "1        1        2019   33751068   \n",
       "\n",
       "                                         description  \\\n",
       "0  Can cranberries prevent urinary tract infections?   \n",
       "1  Can cranberries prevent urinary tract infections?   \n",
       "\n",
       "                                  query  label  \\\n",
       "0  cranberries urinary tract infections    0.0   \n",
       "1  cranberries urinary tract infections    0.0   \n",
       "\n",
       "                                            abstract  prediction  \n",
       "0  Cranberry is a fruit originally from New Engla...    0.354085  \n",
       "1  Background: Cranberry proanthocyanidins (c-PAC...    0.281109  "
      ]
     },
     "execution_count": 10,
     "metadata": {},
     "output_type": "execute_result"
    }
   ],
   "source": [
    "df = pd.read_csv(\"predictions/biolinkbert_bioasq_pubmed_search_preds_question.csv\")\n",
    "print(len(df))\n",
    "df.head(2)"
   ]
  },
  {
   "cell_type": "code",
   "execution_count": 15,
   "metadata": {},
   "outputs": [
    {
     "name": "stdout",
     "output_type": "stream",
     "text": [
      "550\n"
     ]
    },
    {
     "data": {
      "text/html": [
       "<div>\n",
       "<style scoped>\n",
       "    .dataframe tbody tr th:only-of-type {\n",
       "        vertical-align: middle;\n",
       "    }\n",
       "\n",
       "    .dataframe tbody tr th {\n",
       "        vertical-align: top;\n",
       "    }\n",
       "\n",
       "    .dataframe thead th {\n",
       "        text-align: right;\n",
       "    }\n",
       "</style>\n",
       "<table border=\"1\" class=\"dataframe\">\n",
       "  <thead>\n",
       "    <tr style=\"text-align: right;\">\n",
       "      <th></th>\n",
       "      <th>query_id</th>\n",
       "      <th>data_source</th>\n",
       "      <th>pubmed_id</th>\n",
       "      <th>description</th>\n",
       "      <th>query</th>\n",
       "      <th>label</th>\n",
       "      <th>abstract</th>\n",
       "      <th>prediction</th>\n",
       "    </tr>\n",
       "  </thead>\n",
       "  <tbody>\n",
       "    <tr>\n",
       "      <th>545</th>\n",
       "      <td>206</td>\n",
       "      <td>misbelief</td>\n",
       "      <td>NaN</td>\n",
       "      <td>Does aloe help for a runny nose?</td>\n",
       "      <td>aloe help runny nose</td>\n",
       "      <td>0.0</td>\n",
       "      <td>NaN</td>\n",
       "      <td>0.5</td>\n",
       "    </tr>\n",
       "    <tr>\n",
       "      <th>546</th>\n",
       "      <td>211</td>\n",
       "      <td>misbelief</td>\n",
       "      <td>NaN</td>\n",
       "      <td>Does licorice root help with cough?</td>\n",
       "      <td>licorice root help cough</td>\n",
       "      <td>1.0</td>\n",
       "      <td>NaN</td>\n",
       "      <td>0.5</td>\n",
       "    </tr>\n",
       "    <tr>\n",
       "      <th>547</th>\n",
       "      <td>214</td>\n",
       "      <td>misbelief</td>\n",
       "      <td>NaN</td>\n",
       "      <td>Does garlic kill viruses?</td>\n",
       "      <td>garlic kill viruses</td>\n",
       "      <td>1.0</td>\n",
       "      <td>NaN</td>\n",
       "      <td>0.5</td>\n",
       "    </tr>\n",
       "    <tr>\n",
       "      <th>548</th>\n",
       "      <td>12_h</td>\n",
       "      <td>health_belief</td>\n",
       "      <td>NaN</td>\n",
       "      <td>Does cialis treat enlarged prostrate?</td>\n",
       "      <td>cialis treats enlarged prostrate</td>\n",
       "      <td>1.0</td>\n",
       "      <td>NaN</td>\n",
       "      <td>0.5</td>\n",
       "    </tr>\n",
       "    <tr>\n",
       "      <th>549</th>\n",
       "      <td>13_h</td>\n",
       "      <td>health_belief</td>\n",
       "      <td>NaN</td>\n",
       "      <td>Does diet cause bad breathe?</td>\n",
       "      <td>diet causes bad breathe</td>\n",
       "      <td>1.0</td>\n",
       "      <td>NaN</td>\n",
       "      <td>0.5</td>\n",
       "    </tr>\n",
       "  </tbody>\n",
       "</table>\n",
       "</div>"
      ],
      "text/plain": [
       "    query_id    data_source  pubmed_id                            description  \\\n",
       "545      206      misbelief        NaN       Does aloe help for a runny nose?   \n",
       "546      211      misbelief        NaN    Does licorice root help with cough?   \n",
       "547      214      misbelief        NaN              Does garlic kill viruses?   \n",
       "548     12_h  health_belief        NaN  Does cialis treat enlarged prostrate?   \n",
       "549     13_h  health_belief        NaN           Does diet cause bad breathe?   \n",
       "\n",
       "                                query  label abstract  prediction  \n",
       "545              aloe help runny nose    0.0      NaN         0.5  \n",
       "546          licorice root help cough    1.0      NaN         0.5  \n",
       "547               garlic kill viruses    1.0      NaN         0.5  \n",
       "548  cialis treats enlarged prostrate    1.0      NaN         0.5  \n",
       "549           diet causes bad breathe    1.0      NaN         0.5  "
      ]
     },
     "execution_count": 15,
     "metadata": {},
     "output_type": "execute_result"
    }
   ],
   "source": [
    "df_filled = (\n",
    "    df\n",
    "    .merge(init_data, how='outer', on=[\"query_id\", \"data_source\", \"label\", \"description\", \"query\"])\n",
    "    .fillna({\"prediction\": 0.5})\n",
    ")\n",
    "print(len(df_filled))\n",
    "df_filled.tail(5)"
   ]
  },
  {
   "cell_type": "code",
   "execution_count": 16,
   "metadata": {},
   "outputs": [],
   "source": [
    "assert 113 == len(df_filled.drop_duplicates([\"query_id\", \"data_source\"]))"
   ]
  },
  {
   "cell_type": "code",
   "execution_count": 17,
   "metadata": {},
   "outputs": [
    {
     "data": {
      "text/html": [
       "<div>\n",
       "<style scoped>\n",
       "    .dataframe tbody tr th:only-of-type {\n",
       "        vertical-align: middle;\n",
       "    }\n",
       "\n",
       "    .dataframe tbody tr th {\n",
       "        vertical-align: top;\n",
       "    }\n",
       "\n",
       "    .dataframe thead th {\n",
       "        text-align: right;\n",
       "    }\n",
       "</style>\n",
       "<table border=\"1\" class=\"dataframe\">\n",
       "  <thead>\n",
       "    <tr style=\"text-align: right;\">\n",
       "      <th></th>\n",
       "      <th>2019</th>\n",
       "      <th>2021</th>\n",
       "      <th>health_belief</th>\n",
       "      <th>misbelief</th>\n",
       "      <th>all</th>\n",
       "    </tr>\n",
       "  </thead>\n",
       "  <tbody>\n",
       "    <tr>\n",
       "      <th>avg</th>\n",
       "      <td>0.6021</td>\n",
       "      <td>0.4944</td>\n",
       "      <td>0.6667</td>\n",
       "      <td>0.3750</td>\n",
       "      <td>0.4757</td>\n",
       "    </tr>\n",
       "    <tr>\n",
       "      <th>top1</th>\n",
       "      <td>0.6713</td>\n",
       "      <td>0.5072</td>\n",
       "      <td>0.7083</td>\n",
       "      <td>0.5179</td>\n",
       "      <td>0.5675</td>\n",
       "    </tr>\n",
       "    <tr>\n",
       "      <th>norm_linear</th>\n",
       "      <td>0.5986</td>\n",
       "      <td>0.4944</td>\n",
       "      <td>0.6667</td>\n",
       "      <td>0.3929</td>\n",
       "      <td>0.4751</td>\n",
       "    </tr>\n",
       "    <tr>\n",
       "      <th>norm_log</th>\n",
       "      <td>0.5986</td>\n",
       "      <td>0.4688</td>\n",
       "      <td>0.6667</td>\n",
       "      <td>0.3929</td>\n",
       "      <td>0.4710</td>\n",
       "    </tr>\n",
       "  </tbody>\n",
       "</table>\n",
       "</div>"
      ],
      "text/plain": [
       "               2019    2021  health_belief  misbelief     all\n",
       "avg          0.6021  0.4944         0.6667     0.3750  0.4757\n",
       "top1         0.6713  0.5072         0.7083     0.5179  0.5675\n",
       "norm_linear  0.5986  0.4944         0.6667     0.3929  0.4751\n",
       "norm_log     0.5986  0.4688         0.6667     0.3929  0.4710"
      ]
     },
     "execution_count": 17,
     "metadata": {},
     "output_type": "execute_result"
    }
   ],
   "source": [
    "metrics = {item: [] for item in data_source_types}\n",
    "\n",
    "for data_source in data_source_types:\n",
    "    for agg_type in agg_types:\n",
    "        if data_source == \"all\":\n",
    "            metrics[data_source].append(calc_auc(df_filled, agg_type))\n",
    "        else:\n",
    "            df_cut = df_filled.query(f\"data_source == '{data_source}'\")\n",
    "            metrics[data_source].append(calc_auc(df_cut, agg_type))\n",
    "\n",
    "metrics_df = pd.DataFrame(metrics, index=agg_types).round(4)\n",
    "metrics_df"
   ]
  },
  {
   "cell_type": "code",
   "execution_count": null,
   "metadata": {},
   "outputs": [],
   "source": []
  }
 ],
 "metadata": {
  "kernelspec": {
   "display_name": "Python 3 (ipykernel)",
   "language": "python",
   "name": "python3"
  },
  "language_info": {
   "codemirror_mode": {
    "name": "ipython",
    "version": 3
   },
   "file_extension": ".py",
   "mimetype": "text/x-python",
   "name": "python",
   "nbconvert_exporter": "python",
   "pygments_lexer": "ipython3",
   "version": "3.10.0"
  },
  "nteract": {
   "version": "0.28.0"
  }
 },
 "nbformat": 4,
 "nbformat_minor": 4
}
