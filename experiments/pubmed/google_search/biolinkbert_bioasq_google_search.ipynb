{
 "cells": [
  {
   "cell_type": "markdown",
   "metadata": {},
   "source": [
    "## Source: PubMed\n",
    "## Retriever: Google Search\n",
    "## Model: BioLinkBERT (BioASQ)"
   ]
  },
  {
   "cell_type": "code",
   "execution_count": 1,
   "metadata": {
    "pycharm": {
     "name": "#%%\n"
    }
   },
   "outputs": [],
   "source": [
    "import torch\n",
    "from sklearn.metrics import classification_report, roc_auc_score\n",
    "\n",
    "import sys\n",
    "sys.path.append(\"../../\") # use utils\n",
    "\n",
    "import utils\n",
    "import importlib\n",
    "importlib.reload(utils)\n",
    "\n",
    "from utils import calc_auc"
   ]
  },
  {
   "cell_type": "code",
   "execution_count": 2,
   "metadata": {
    "pycharm": {
     "name": "#%%\n"
    }
   },
   "outputs": [
    {
     "name": "stdout",
     "output_type": "stream",
     "text": [
      "OK\n"
     ]
    }
   ],
   "source": [
    "from transformers import AutoTokenizer, BertForSequenceClassification, BertModel, DataCollatorWithPadding\n",
    "\n",
    "model_name = \"<path_to_bio-linkbert-large__bioasq_hf>\"\n",
    "tokenizer = AutoTokenizer.from_pretrained(model_name)\n",
    "model = BertForSequenceClassification.from_pretrained(model_name)\n",
    "model.eval()\n",
    "print(\"OK\")"
   ]
  },
  {
   "cell_type": "code",
   "execution_count": 3,
   "metadata": {
    "pycharm": {
     "name": "#%%\n"
    }
   },
   "outputs": [],
   "source": [
    "def predict(question, passage):\n",
    "    sequence = tokenizer.encode_plus(\n",
    "        question, \n",
    "        passage, \n",
    "        return_tensors=\"pt\",\n",
    "        max_length=512,\n",
    "        truncation=True\n",
    "    )['input_ids']\n",
    "\n",
    "    logits = model(sequence)[0]\n",
    "    probabilities = torch.softmax(logits, dim=1).detach().cpu().tolist()[0]\n",
    "    proba_yes = probabilities[1]\n",
    "    \n",
    "    return proba_yes"
   ]
  },
  {
   "cell_type": "code",
   "execution_count": 2,
   "metadata": {},
   "outputs": [
    {
     "name": "stdout",
     "output_type": "stream",
     "text": [
      "113\n"
     ]
    },
    {
     "data": {
      "text/html": [
       "<div>\n",
       "<style scoped>\n",
       "    .dataframe tbody tr th:only-of-type {\n",
       "        vertical-align: middle;\n",
       "    }\n",
       "\n",
       "    .dataframe tbody tr th {\n",
       "        vertical-align: top;\n",
       "    }\n",
       "\n",
       "    .dataframe thead th {\n",
       "        text-align: right;\n",
       "    }\n",
       "</style>\n",
       "<table border=\"1\" class=\"dataframe\">\n",
       "  <thead>\n",
       "    <tr style=\"text-align: right;\">\n",
       "      <th></th>\n",
       "      <th>data_source</th>\n",
       "      <th>query_id</th>\n",
       "      <th>description</th>\n",
       "      <th>query</th>\n",
       "      <th>label</th>\n",
       "    </tr>\n",
       "  </thead>\n",
       "  <tbody>\n",
       "    <tr>\n",
       "      <th>0</th>\n",
       "      <td>2019</td>\n",
       "      <td>1</td>\n",
       "      <td>Can cranberries prevent urinary tract infections?</td>\n",
       "      <td>cranberries urinary tract infections</td>\n",
       "      <td>0.0</td>\n",
       "    </tr>\n",
       "    <tr>\n",
       "      <th>1</th>\n",
       "      <td>2019</td>\n",
       "      <td>3</td>\n",
       "      <td>Can acupuncture be effective for people with e...</td>\n",
       "      <td>acupuncture epilepsy</td>\n",
       "      <td>0.0</td>\n",
       "    </tr>\n",
       "    <tr>\n",
       "      <th>2</th>\n",
       "      <td>2019</td>\n",
       "      <td>5</td>\n",
       "      <td>Can acupuncture prevent migraines?</td>\n",
       "      <td>acupuncture migraine</td>\n",
       "      <td>1.0</td>\n",
       "    </tr>\n",
       "  </tbody>\n",
       "</table>\n",
       "</div>"
      ],
      "text/plain": [
       "  data_source query_id                                        description  \\\n",
       "0        2019        1  Can cranberries prevent urinary tract infections?   \n",
       "1        2019        3  Can acupuncture be effective for people with e...   \n",
       "2        2019        5                 Can acupuncture prevent migraines?   \n",
       "\n",
       "                                  query  label  \n",
       "0  cranberries urinary tract infections    0.0  \n",
       "1                  acupuncture epilepsy    0.0  \n",
       "2                  acupuncture migraine    1.0  "
      ]
     },
     "execution_count": 2,
     "metadata": {},
     "output_type": "execute_result"
    }
   ],
   "source": [
    "init_data = pd.read_csv(\"../../../data/data_to_process.csv\")\n",
    "print(len(init_data))\n",
    "init_data.head(3)"
   ]
  },
  {
   "cell_type": "markdown",
   "metadata": {
    "tags": []
   },
   "source": [
    "## Query"
   ]
  },
  {
   "cell_type": "code",
   "execution_count": 3,
   "metadata": {},
   "outputs": [
    {
     "name": "stdout",
     "output_type": "stream",
     "text": [
      "999\n"
     ]
    },
    {
     "data": {
      "text/html": [
       "<div>\n",
       "<style scoped>\n",
       "    .dataframe tbody tr th:only-of-type {\n",
       "        vertical-align: middle;\n",
       "    }\n",
       "\n",
       "    .dataframe tbody tr th {\n",
       "        vertical-align: top;\n",
       "    }\n",
       "\n",
       "    .dataframe thead th {\n",
       "        text-align: right;\n",
       "    }\n",
       "</style>\n",
       "<table border=\"1\" class=\"dataframe\">\n",
       "  <thead>\n",
       "    <tr style=\"text-align: right;\">\n",
       "      <th></th>\n",
       "      <th>query_id</th>\n",
       "      <th>data_source</th>\n",
       "      <th>pubmed_id</th>\n",
       "      <th>description</th>\n",
       "      <th>query</th>\n",
       "      <th>label</th>\n",
       "      <th>abstract</th>\n",
       "    </tr>\n",
       "  </thead>\n",
       "  <tbody>\n",
       "    <tr>\n",
       "      <th>0</th>\n",
       "      <td>1</td>\n",
       "      <td>2019</td>\n",
       "      <td>19441868</td>\n",
       "      <td>Can cranberries prevent urinary tract infections?</td>\n",
       "      <td>cranberries urinary tract infections</td>\n",
       "      <td>0.0</td>\n",
       "      <td>Urinary tract infection (UTI) refers to the pr...</td>\n",
       "    </tr>\n",
       "  </tbody>\n",
       "</table>\n",
       "</div>"
      ],
      "text/plain": [
       "  query_id data_source  pubmed_id  \\\n",
       "0        1        2019   19441868   \n",
       "\n",
       "                                         description  \\\n",
       "0  Can cranberries prevent urinary tract infections?   \n",
       "\n",
       "                                  query  label  \\\n",
       "0  cranberries urinary tract infections    0.0   \n",
       "\n",
       "                                            abstract  \n",
       "0  Urinary tract infection (UTI) refers to the pr...  "
      ]
     },
     "execution_count": 3,
     "metadata": {},
     "output_type": "execute_result"
    }
   ],
   "source": [
    "raw_df = pd.concat((\n",
    "    pd.read_csv(\"../../../data/google_search/google_search_abstracts_keywords_part_1.csv\"),\n",
    "    pd.read_csv(\"../../../data/google_search/google_search_abstracts_keywords_part_2.csv\")\n",
    "))\n",
    "df = (\n",
    "    raw_df\n",
    "    .merge(init_data, on=[\"data_source\", \"query_id\", \"label\", \"description\", \"query\"])\n",
    "    .dropna()\n",
    ")\n",
    "print(len(df))\n",
    "df.head(1)"
   ]
  },
  {
   "cell_type": "code",
   "execution_count": 8,
   "metadata": {},
   "outputs": [
    {
     "name": "stderr",
     "output_type": "stream",
     "text": [
      "100% (999 of 999) |######################| Elapsed Time: 0:47:19 Time:  0:47:19\n"
     ]
    }
   ],
   "source": [
    "results = []\n",
    "\n",
    "for _, row in pb(df.iterrows(), max_value=len(df)):\n",
    "    results.append(predict(row.description, row.abstract))"
   ]
  },
  {
   "cell_type": "code",
   "execution_count": 9,
   "metadata": {},
   "outputs": [
    {
     "data": {
      "text/html": [
       "<div>\n",
       "<style scoped>\n",
       "    .dataframe tbody tr th:only-of-type {\n",
       "        vertical-align: middle;\n",
       "    }\n",
       "\n",
       "    .dataframe tbody tr th {\n",
       "        vertical-align: top;\n",
       "    }\n",
       "\n",
       "    .dataframe thead th {\n",
       "        text-align: right;\n",
       "    }\n",
       "</style>\n",
       "<table border=\"1\" class=\"dataframe\">\n",
       "  <thead>\n",
       "    <tr style=\"text-align: right;\">\n",
       "      <th></th>\n",
       "      <th>query_id</th>\n",
       "      <th>data_source</th>\n",
       "      <th>pubmed_id</th>\n",
       "      <th>description</th>\n",
       "      <th>query</th>\n",
       "      <th>label</th>\n",
       "      <th>abstract</th>\n",
       "      <th>prediction</th>\n",
       "    </tr>\n",
       "  </thead>\n",
       "  <tbody>\n",
       "    <tr>\n",
       "      <th>0</th>\n",
       "      <td>1</td>\n",
       "      <td>2019</td>\n",
       "      <td>19441868</td>\n",
       "      <td>Can cranberries prevent urinary tract infections?</td>\n",
       "      <td>cranberries urinary tract infections</td>\n",
       "      <td>0.0</td>\n",
       "      <td>Urinary tract infection (UTI) refers to the pr...</td>\n",
       "      <td>0.242877</td>\n",
       "    </tr>\n",
       "  </tbody>\n",
       "</table>\n",
       "</div>"
      ],
      "text/plain": [
       "  query_id data_source  pubmed_id  \\\n",
       "0        1        2019   19441868   \n",
       "\n",
       "                                         description  \\\n",
       "0  Can cranberries prevent urinary tract infections?   \n",
       "\n",
       "                                  query  label  \\\n",
       "0  cranberries urinary tract infections    0.0   \n",
       "\n",
       "                                            abstract  prediction  \n",
       "0  Urinary tract infection (UTI) refers to the pr...    0.242877  "
      ]
     },
     "execution_count": 9,
     "metadata": {},
     "output_type": "execute_result"
    }
   ],
   "source": [
    "df['prediction'] = results\n",
    "df.head(1)"
   ]
  },
  {
   "cell_type": "code",
   "execution_count": 10,
   "metadata": {},
   "outputs": [],
   "source": [
    "df.to_csv(\"predictions/biolinkbert_bioasq_google_search_preds_keywords.csv\", index=0)"
   ]
  },
  {
   "cell_type": "markdown",
   "metadata": {
    "tags": []
   },
   "source": [
    "## Calc metrics"
   ]
  },
  {
   "cell_type": "code",
   "execution_count": 5,
   "metadata": {},
   "outputs": [
    {
     "name": "stdout",
     "output_type": "stream",
     "text": [
      "113\n"
     ]
    },
    {
     "data": {
      "text/html": [
       "<div>\n",
       "<style scoped>\n",
       "    .dataframe tbody tr th:only-of-type {\n",
       "        vertical-align: middle;\n",
       "    }\n",
       "\n",
       "    .dataframe tbody tr th {\n",
       "        vertical-align: top;\n",
       "    }\n",
       "\n",
       "    .dataframe thead th {\n",
       "        text-align: right;\n",
       "    }\n",
       "</style>\n",
       "<table border=\"1\" class=\"dataframe\">\n",
       "  <thead>\n",
       "    <tr style=\"text-align: right;\">\n",
       "      <th></th>\n",
       "      <th>data_source</th>\n",
       "      <th>query_id</th>\n",
       "      <th>description</th>\n",
       "      <th>query</th>\n",
       "      <th>label</th>\n",
       "    </tr>\n",
       "  </thead>\n",
       "  <tbody>\n",
       "    <tr>\n",
       "      <th>0</th>\n",
       "      <td>2019</td>\n",
       "      <td>1</td>\n",
       "      <td>Can cranberries prevent urinary tract infections?</td>\n",
       "      <td>cranberries urinary tract infections</td>\n",
       "      <td>0.0</td>\n",
       "    </tr>\n",
       "    <tr>\n",
       "      <th>1</th>\n",
       "      <td>2019</td>\n",
       "      <td>3</td>\n",
       "      <td>Can acupuncture be effective for people with e...</td>\n",
       "      <td>acupuncture epilepsy</td>\n",
       "      <td>0.0</td>\n",
       "    </tr>\n",
       "    <tr>\n",
       "      <th>2</th>\n",
       "      <td>2019</td>\n",
       "      <td>5</td>\n",
       "      <td>Can acupuncture prevent migraines?</td>\n",
       "      <td>acupuncture migraine</td>\n",
       "      <td>1.0</td>\n",
       "    </tr>\n",
       "  </tbody>\n",
       "</table>\n",
       "</div>"
      ],
      "text/plain": [
       "  data_source query_id                                        description  \\\n",
       "0        2019        1  Can cranberries prevent urinary tract infections?   \n",
       "1        2019        3  Can acupuncture be effective for people with e...   \n",
       "2        2019        5                 Can acupuncture prevent migraines?   \n",
       "\n",
       "                                  query  label  \n",
       "0  cranberries urinary tract infections    0.0  \n",
       "1                  acupuncture epilepsy    0.0  \n",
       "2                  acupuncture migraine    1.0  "
      ]
     },
     "execution_count": 5,
     "metadata": {},
     "output_type": "execute_result"
    }
   ],
   "source": [
    "init_data = pd.read_csv(\"../../../data/data_to_process.csv\")\n",
    "print(len(init_data))\n",
    "init_data.head(3)"
   ]
  },
  {
   "cell_type": "code",
   "execution_count": 12,
   "metadata": {},
   "outputs": [
    {
     "name": "stdout",
     "output_type": "stream",
     "text": [
      "999\n"
     ]
    },
    {
     "data": {
      "text/html": [
       "<div>\n",
       "<style scoped>\n",
       "    .dataframe tbody tr th:only-of-type {\n",
       "        vertical-align: middle;\n",
       "    }\n",
       "\n",
       "    .dataframe tbody tr th {\n",
       "        vertical-align: top;\n",
       "    }\n",
       "\n",
       "    .dataframe thead th {\n",
       "        text-align: right;\n",
       "    }\n",
       "</style>\n",
       "<table border=\"1\" class=\"dataframe\">\n",
       "  <thead>\n",
       "    <tr style=\"text-align: right;\">\n",
       "      <th></th>\n",
       "      <th>query_id</th>\n",
       "      <th>data_source</th>\n",
       "      <th>pubmed_id</th>\n",
       "      <th>description</th>\n",
       "      <th>query</th>\n",
       "      <th>abstract</th>\n",
       "      <th>prediction</th>\n",
       "    </tr>\n",
       "  </thead>\n",
       "  <tbody>\n",
       "    <tr>\n",
       "      <th>0</th>\n",
       "      <td>1</td>\n",
       "      <td>2019</td>\n",
       "      <td>19441868</td>\n",
       "      <td>Can cranberries prevent urinary tract infections?</td>\n",
       "      <td>cranberries urinary tract infections</td>\n",
       "      <td>Urinary tract infection (UTI) refers to the pr...</td>\n",
       "      <td>0.242877</td>\n",
       "    </tr>\n",
       "    <tr>\n",
       "      <th>1</th>\n",
       "      <td>1</td>\n",
       "      <td>2019</td>\n",
       "      <td>23076891</td>\n",
       "      <td>Can cranberries prevent urinary tract infections?</td>\n",
       "      <td>cranberries urinary tract infections</td>\n",
       "      <td>Background: Cranberries have been used widely ...</td>\n",
       "      <td>0.151707</td>\n",
       "    </tr>\n",
       "  </tbody>\n",
       "</table>\n",
       "</div>"
      ],
      "text/plain": [
       "  query_id data_source  pubmed_id  \\\n",
       "0        1        2019   19441868   \n",
       "1        1        2019   23076891   \n",
       "\n",
       "                                         description  \\\n",
       "0  Can cranberries prevent urinary tract infections?   \n",
       "1  Can cranberries prevent urinary tract infections?   \n",
       "\n",
       "                                  query  \\\n",
       "0  cranberries urinary tract infections   \n",
       "1  cranberries urinary tract infections   \n",
       "\n",
       "                                            abstract  prediction  \n",
       "0  Urinary tract infection (UTI) refers to the pr...    0.242877  \n",
       "1  Background: Cranberries have been used widely ...    0.151707  "
      ]
     },
     "execution_count": 12,
     "metadata": {},
     "output_type": "execute_result"
    }
   ],
   "source": [
    "df = pd.read_csv(\"predictions/biolinkbert_bioasq_google_search_preds_keywords.csv\").drop(['label'], axis=1)\n",
    "print(len(df))\n",
    "df.head(2)"
   ]
  },
  {
   "cell_type": "code",
   "execution_count": 7,
   "metadata": {},
   "outputs": [
    {
     "data": {
      "text/plain": [
       "['2019', '2021', 'health_belief', 'misbelief', 'all']"
      ]
     },
     "execution_count": 7,
     "metadata": {},
     "output_type": "execute_result"
    }
   ],
   "source": [
    "agg_types = [\"avg\", \"top1\", \"norm_linear\", \"norm_log\"]\n",
    "data_source_types = sorted(df.data_source.unique().tolist()) + [\"all\"]\n",
    "data_source_types"
   ]
  },
  {
   "cell_type": "code",
   "execution_count": 14,
   "metadata": {},
   "outputs": [
    {
     "name": "stdout",
     "output_type": "stream",
     "text": [
      "1003\n"
     ]
    },
    {
     "data": {
      "text/html": [
       "<div>\n",
       "<style scoped>\n",
       "    .dataframe tbody tr th:only-of-type {\n",
       "        vertical-align: middle;\n",
       "    }\n",
       "\n",
       "    .dataframe tbody tr th {\n",
       "        vertical-align: top;\n",
       "    }\n",
       "\n",
       "    .dataframe thead th {\n",
       "        text-align: right;\n",
       "    }\n",
       "</style>\n",
       "<table border=\"1\" class=\"dataframe\">\n",
       "  <thead>\n",
       "    <tr style=\"text-align: right;\">\n",
       "      <th></th>\n",
       "      <th>query_id</th>\n",
       "      <th>data_source</th>\n",
       "      <th>pubmed_id</th>\n",
       "      <th>description_x</th>\n",
       "      <th>query_x</th>\n",
       "      <th>abstract</th>\n",
       "      <th>prediction</th>\n",
       "      <th>description_y</th>\n",
       "      <th>query_y</th>\n",
       "      <th>label</th>\n",
       "    </tr>\n",
       "  </thead>\n",
       "  <tbody>\n",
       "    <tr>\n",
       "      <th>998</th>\n",
       "      <td>14_h</td>\n",
       "      <td>health_belief</td>\n",
       "      <td>28367407.0</td>\n",
       "      <td>Does listeria cause miscarriage?</td>\n",
       "      <td>listeria causes miscarriage</td>\n",
       "      <td>Listeria monocytogenes is a known cause of gas...</td>\n",
       "      <td>0.082017</td>\n",
       "      <td>Does listeria cause miscarriage?</td>\n",
       "      <td>listeria causes miscarriage</td>\n",
       "      <td>1.0</td>\n",
       "    </tr>\n",
       "    <tr>\n",
       "      <th>999</th>\n",
       "      <td>123</td>\n",
       "      <td>2021</td>\n",
       "      <td>NaN</td>\n",
       "      <td>NaN</td>\n",
       "      <td>NaN</td>\n",
       "      <td>NaN</td>\n",
       "      <td>0.500000</td>\n",
       "      <td>Can I get rid of a pimple overnight by applyin...</td>\n",
       "      <td>toothpaste pimple overnight</td>\n",
       "      <td>0.0</td>\n",
       "    </tr>\n",
       "    <tr>\n",
       "      <th>1000</th>\n",
       "      <td>124</td>\n",
       "      <td>2021</td>\n",
       "      <td>NaN</td>\n",
       "      <td>NaN</td>\n",
       "      <td>NaN</td>\n",
       "      <td>NaN</td>\n",
       "      <td>0.500000</td>\n",
       "      <td>Can chondroitin help relieve the pain of osteo...</td>\n",
       "      <td>\\r\\nchondroitin supplement osteoarthritis join...</td>\n",
       "      <td>1.0</td>\n",
       "    </tr>\n",
       "    <tr>\n",
       "      <th>1001</th>\n",
       "      <td>125</td>\n",
       "      <td>2021</td>\n",
       "      <td>NaN</td>\n",
       "      <td>NaN</td>\n",
       "      <td>NaN</td>\n",
       "      <td>NaN</td>\n",
       "      <td>0.500000</td>\n",
       "      <td>Can omega-3 help manage hypertriglyceridemia?</td>\n",
       "      <td>omega-3 fatty acids hypertriglyceridemia</td>\n",
       "      <td>1.0</td>\n",
       "    </tr>\n",
       "    <tr>\n",
       "      <th>1002</th>\n",
       "      <td>202</td>\n",
       "      <td>misbelief</td>\n",
       "      <td>NaN</td>\n",
       "      <td>NaN</td>\n",
       "      <td>NaN</td>\n",
       "      <td>NaN</td>\n",
       "      <td>0.500000</td>\n",
       "      <td>Can hemorrhoids be cured with leeches?</td>\n",
       "      <td>hemorrhoids cured leeches</td>\n",
       "      <td>0.0</td>\n",
       "    </tr>\n",
       "  </tbody>\n",
       "</table>\n",
       "</div>"
      ],
      "text/plain": [
       "     query_id    data_source   pubmed_id                     description_x  \\\n",
       "998      14_h  health_belief  28367407.0  Does listeria cause miscarriage?   \n",
       "999       123           2021         NaN                               NaN   \n",
       "1000      124           2021         NaN                               NaN   \n",
       "1001      125           2021         NaN                               NaN   \n",
       "1002      202      misbelief         NaN                               NaN   \n",
       "\n",
       "                          query_x  \\\n",
       "998   listeria causes miscarriage   \n",
       "999                           NaN   \n",
       "1000                          NaN   \n",
       "1001                          NaN   \n",
       "1002                          NaN   \n",
       "\n",
       "                                               abstract  prediction  \\\n",
       "998   Listeria monocytogenes is a known cause of gas...    0.082017   \n",
       "999                                                 NaN    0.500000   \n",
       "1000                                                NaN    0.500000   \n",
       "1001                                                NaN    0.500000   \n",
       "1002                                                NaN    0.500000   \n",
       "\n",
       "                                          description_y  \\\n",
       "998                    Does listeria cause miscarriage?   \n",
       "999   Can I get rid of a pimple overnight by applyin...   \n",
       "1000  Can chondroitin help relieve the pain of osteo...   \n",
       "1001      Can omega-3 help manage hypertriglyceridemia?   \n",
       "1002             Can hemorrhoids be cured with leeches?   \n",
       "\n",
       "                                                query_y  label  \n",
       "998                         listeria causes miscarriage    1.0  \n",
       "999                         toothpaste pimple overnight    0.0  \n",
       "1000  \\r\\nchondroitin supplement osteoarthritis join...    1.0  \n",
       "1001           omega-3 fatty acids hypertriglyceridemia    1.0  \n",
       "1002                          hemorrhoids cured leeches    0.0  "
      ]
     },
     "execution_count": 14,
     "metadata": {},
     "output_type": "execute_result"
    }
   ],
   "source": [
    "df_filled = (\n",
    "    df\n",
    "    .merge(init_data, how='outer', on=['query_id', 'data_source'])\n",
    "    .fillna({\"prediction\": 0.5})\n",
    ")\n",
    "print(len(df_filled))\n",
    "df_filled.tail(5)"
   ]
  },
  {
   "cell_type": "code",
   "execution_count": 9,
   "metadata": {},
   "outputs": [],
   "source": [
    "assert 113 == len(df_filled.drop_duplicates([\"query_id\", \"data_source\"]))"
   ]
  },
  {
   "cell_type": "code",
   "execution_count": 10,
   "metadata": {},
   "outputs": [
    {
     "data": {
      "text/html": [
       "<div>\n",
       "<style scoped>\n",
       "    .dataframe tbody tr th:only-of-type {\n",
       "        vertical-align: middle;\n",
       "    }\n",
       "\n",
       "    .dataframe tbody tr th {\n",
       "        vertical-align: top;\n",
       "    }\n",
       "\n",
       "    .dataframe thead th {\n",
       "        text-align: right;\n",
       "    }\n",
       "</style>\n",
       "<table border=\"1\" class=\"dataframe\">\n",
       "  <thead>\n",
       "    <tr style=\"text-align: right;\">\n",
       "      <th></th>\n",
       "      <th>2019</th>\n",
       "      <th>2021</th>\n",
       "      <th>health_belief</th>\n",
       "      <th>misbelief</th>\n",
       "      <th>all</th>\n",
       "    </tr>\n",
       "  </thead>\n",
       "  <tbody>\n",
       "    <tr>\n",
       "      <th>avg</th>\n",
       "      <td>0.5156</td>\n",
       "      <td>0.7872</td>\n",
       "      <td>0.5417</td>\n",
       "      <td>0.5536</td>\n",
       "      <td>0.6469</td>\n",
       "    </tr>\n",
       "    <tr>\n",
       "      <th>top1</th>\n",
       "      <td>0.7266</td>\n",
       "      <td>0.7792</td>\n",
       "      <td>0.7500</td>\n",
       "      <td>0.4107</td>\n",
       "      <td>0.7059</td>\n",
       "    </tr>\n",
       "    <tr>\n",
       "      <th>norm_linear</th>\n",
       "      <td>0.5502</td>\n",
       "      <td>0.8096</td>\n",
       "      <td>0.5833</td>\n",
       "      <td>0.5536</td>\n",
       "      <td>0.6860</td>\n",
       "    </tr>\n",
       "    <tr>\n",
       "      <th>norm_log</th>\n",
       "      <td>0.5744</td>\n",
       "      <td>0.8240</td>\n",
       "      <td>0.6250</td>\n",
       "      <td>0.5179</td>\n",
       "      <td>0.7011</td>\n",
       "    </tr>\n",
       "  </tbody>\n",
       "</table>\n",
       "</div>"
      ],
      "text/plain": [
       "               2019    2021  health_belief  misbelief     all\n",
       "avg          0.5156  0.7872         0.5417     0.5536  0.6469\n",
       "top1         0.7266  0.7792         0.7500     0.4107  0.7059\n",
       "norm_linear  0.5502  0.8096         0.5833     0.5536  0.6860\n",
       "norm_log     0.5744  0.8240         0.6250     0.5179  0.7011"
      ]
     },
     "execution_count": 10,
     "metadata": {},
     "output_type": "execute_result"
    }
   ],
   "source": [
    "metrics = {item: [] for item in data_source_types}\n",
    "\n",
    "for data_source in data_source_types:\n",
    "    for agg_type in agg_types:\n",
    "        if data_source == \"all\":\n",
    "            metrics[data_source].append(calc_auc(df_filled, agg_type))\n",
    "        else:\n",
    "            df_cut = df_filled.query(f\"data_source == '{data_source}'\")\n",
    "            metrics[data_source].append(calc_auc(df_cut, agg_type))\n",
    "\n",
    "metrics_df = pd.DataFrame(metrics, index=agg_types).round(4)\n",
    "metrics_df"
   ]
  },
  {
   "cell_type": "markdown",
   "metadata": {
    "tags": []
   },
   "source": [
    "## Question"
   ]
  },
  {
   "cell_type": "code",
   "execution_count": 18,
   "metadata": {},
   "outputs": [
    {
     "name": "stdout",
     "output_type": "stream",
     "text": [
      "1017\n"
     ]
    },
    {
     "data": {
      "text/html": [
       "<div>\n",
       "<style scoped>\n",
       "    .dataframe tbody tr th:only-of-type {\n",
       "        vertical-align: middle;\n",
       "    }\n",
       "\n",
       "    .dataframe tbody tr th {\n",
       "        vertical-align: top;\n",
       "    }\n",
       "\n",
       "    .dataframe thead th {\n",
       "        text-align: right;\n",
       "    }\n",
       "</style>\n",
       "<table border=\"1\" class=\"dataframe\">\n",
       "  <thead>\n",
       "    <tr style=\"text-align: right;\">\n",
       "      <th></th>\n",
       "      <th>query_id</th>\n",
       "      <th>data_source</th>\n",
       "      <th>pubmed_id</th>\n",
       "      <th>description</th>\n",
       "      <th>query</th>\n",
       "      <th>label</th>\n",
       "      <th>abstract</th>\n",
       "    </tr>\n",
       "  </thead>\n",
       "  <tbody>\n",
       "    <tr>\n",
       "      <th>0</th>\n",
       "      <td>1</td>\n",
       "      <td>2019</td>\n",
       "      <td>21788542</td>\n",
       "      <td>Can cranberries prevent urinary tract infections?</td>\n",
       "      <td>cranberries urinary tract infections</td>\n",
       "      <td>0.0</td>\n",
       "      <td>Background: The increasing prevalence of uropa...</td>\n",
       "    </tr>\n",
       "  </tbody>\n",
       "</table>\n",
       "</div>"
      ],
      "text/plain": [
       "  query_id data_source  pubmed_id  \\\n",
       "0        1        2019   21788542   \n",
       "\n",
       "                                         description  \\\n",
       "0  Can cranberries prevent urinary tract infections?   \n",
       "\n",
       "                                  query  label  \\\n",
       "0  cranberries urinary tract infections    0.0   \n",
       "\n",
       "                                            abstract  \n",
       "0  Background: The increasing prevalence of uropa...  "
      ]
     },
     "execution_count": 18,
     "metadata": {},
     "output_type": "execute_result"
    }
   ],
   "source": [
    "df = (\n",
    "    pd.concat((\n",
    "        pd.read_csv(\"../../../data/google_search/google_search_abstracts_question_part_1.csv\"),\n",
    "        pd.read_csv(\"../../../data/google_search/google_search_abstracts_question_part_2.csv\")\n",
    "    ))\n",
    "    .dropna()\n",
    ")\n",
    "\n",
    "print(len(df))\n",
    "df.head(1)"
   ]
  },
  {
   "cell_type": "code",
   "execution_count": 19,
   "metadata": {},
   "outputs": [
    {
     "name": "stderr",
     "output_type": "stream",
     "text": [
      "100% (1017 of 1017) |####################| Elapsed Time: 0:43:54 Time:  0:43:54\n"
     ]
    }
   ],
   "source": [
    "results = []\n",
    "\n",
    "for _, row in pb(df.iterrows(), max_value=len(df)):\n",
    "    results.append(predict(row.description, row.abstract))"
   ]
  },
  {
   "cell_type": "code",
   "execution_count": 20,
   "metadata": {},
   "outputs": [
    {
     "data": {
      "text/html": [
       "<div>\n",
       "<style scoped>\n",
       "    .dataframe tbody tr th:only-of-type {\n",
       "        vertical-align: middle;\n",
       "    }\n",
       "\n",
       "    .dataframe tbody tr th {\n",
       "        vertical-align: top;\n",
       "    }\n",
       "\n",
       "    .dataframe thead th {\n",
       "        text-align: right;\n",
       "    }\n",
       "</style>\n",
       "<table border=\"1\" class=\"dataframe\">\n",
       "  <thead>\n",
       "    <tr style=\"text-align: right;\">\n",
       "      <th></th>\n",
       "      <th>query_id</th>\n",
       "      <th>data_source</th>\n",
       "      <th>pubmed_id</th>\n",
       "      <th>description</th>\n",
       "      <th>query</th>\n",
       "      <th>label</th>\n",
       "      <th>abstract</th>\n",
       "      <th>prediction</th>\n",
       "    </tr>\n",
       "  </thead>\n",
       "  <tbody>\n",
       "    <tr>\n",
       "      <th>0</th>\n",
       "      <td>1</td>\n",
       "      <td>2019</td>\n",
       "      <td>21788542</td>\n",
       "      <td>Can cranberries prevent urinary tract infections?</td>\n",
       "      <td>cranberries urinary tract infections</td>\n",
       "      <td>0.0</td>\n",
       "      <td>Background: The increasing prevalence of uropa...</td>\n",
       "      <td>0.098151</td>\n",
       "    </tr>\n",
       "  </tbody>\n",
       "</table>\n",
       "</div>"
      ],
      "text/plain": [
       "  query_id data_source  pubmed_id  \\\n",
       "0        1        2019   21788542   \n",
       "\n",
       "                                         description  \\\n",
       "0  Can cranberries prevent urinary tract infections?   \n",
       "\n",
       "                                  query  label  \\\n",
       "0  cranberries urinary tract infections    0.0   \n",
       "\n",
       "                                            abstract  prediction  \n",
       "0  Background: The increasing prevalence of uropa...    0.098151  "
      ]
     },
     "execution_count": 20,
     "metadata": {},
     "output_type": "execute_result"
    }
   ],
   "source": [
    "df['prediction'] = results\n",
    "df.head(1)"
   ]
  },
  {
   "cell_type": "code",
   "execution_count": 21,
   "metadata": {},
   "outputs": [],
   "source": [
    "df.to_csv(\"predictions/biolinkbert_bioasq_google_search_preds_question.csv\", index=0)"
   ]
  },
  {
   "cell_type": "markdown",
   "metadata": {},
   "source": [
    "## Calc Metrics"
   ]
  },
  {
   "cell_type": "code",
   "execution_count": 12,
   "metadata": {},
   "outputs": [
    {
     "name": "stdout",
     "output_type": "stream",
     "text": [
      "1017\n"
     ]
    },
    {
     "data": {
      "text/html": [
       "<div>\n",
       "<style scoped>\n",
       "    .dataframe tbody tr th:only-of-type {\n",
       "        vertical-align: middle;\n",
       "    }\n",
       "\n",
       "    .dataframe tbody tr th {\n",
       "        vertical-align: top;\n",
       "    }\n",
       "\n",
       "    .dataframe thead th {\n",
       "        text-align: right;\n",
       "    }\n",
       "</style>\n",
       "<table border=\"1\" class=\"dataframe\">\n",
       "  <thead>\n",
       "    <tr style=\"text-align: right;\">\n",
       "      <th></th>\n",
       "      <th>query_id</th>\n",
       "      <th>data_source</th>\n",
       "      <th>pubmed_id</th>\n",
       "      <th>description</th>\n",
       "      <th>query</th>\n",
       "      <th>abstract</th>\n",
       "      <th>prediction</th>\n",
       "    </tr>\n",
       "  </thead>\n",
       "  <tbody>\n",
       "    <tr>\n",
       "      <th>0</th>\n",
       "      <td>1</td>\n",
       "      <td>2019</td>\n",
       "      <td>21788542</td>\n",
       "      <td>Can cranberries prevent urinary tract infections?</td>\n",
       "      <td>cranberries urinary tract infections</td>\n",
       "      <td>Background: The increasing prevalence of uropa...</td>\n",
       "      <td>0.098151</td>\n",
       "    </tr>\n",
       "    <tr>\n",
       "      <th>1</th>\n",
       "      <td>1</td>\n",
       "      <td>2019</td>\n",
       "      <td>18253990</td>\n",
       "      <td>Can cranberries prevent urinary tract infections?</td>\n",
       "      <td>cranberries urinary tract infections</td>\n",
       "      <td>Background: Cranberries have been used widely ...</td>\n",
       "      <td>0.262725</td>\n",
       "    </tr>\n",
       "  </tbody>\n",
       "</table>\n",
       "</div>"
      ],
      "text/plain": [
       "  query_id data_source  pubmed_id  \\\n",
       "0        1        2019   21788542   \n",
       "1        1        2019   18253990   \n",
       "\n",
       "                                         description  \\\n",
       "0  Can cranberries prevent urinary tract infections?   \n",
       "1  Can cranberries prevent urinary tract infections?   \n",
       "\n",
       "                                  query  \\\n",
       "0  cranberries urinary tract infections   \n",
       "1  cranberries urinary tract infections   \n",
       "\n",
       "                                            abstract  prediction  \n",
       "0  Background: The increasing prevalence of uropa...    0.098151  \n",
       "1  Background: Cranberries have been used widely ...    0.262725  "
      ]
     },
     "execution_count": 12,
     "metadata": {},
     "output_type": "execute_result"
    }
   ],
   "source": [
    "df = pd.read_csv(\"predictions/biolinkbert_bioasq_google_search_preds_question.csv\").drop(\"label\", axis=1)\n",
    "print(len(df))\n",
    "df.head(2)"
   ]
  },
  {
   "cell_type": "code",
   "execution_count": 13,
   "metadata": {},
   "outputs": [
    {
     "name": "stdout",
     "output_type": "stream",
     "text": [
      "1019\n"
     ]
    },
    {
     "data": {
      "text/html": [
       "<div>\n",
       "<style scoped>\n",
       "    .dataframe tbody tr th:only-of-type {\n",
       "        vertical-align: middle;\n",
       "    }\n",
       "\n",
       "    .dataframe tbody tr th {\n",
       "        vertical-align: top;\n",
       "    }\n",
       "\n",
       "    .dataframe thead th {\n",
       "        text-align: right;\n",
       "    }\n",
       "</style>\n",
       "<table border=\"1\" class=\"dataframe\">\n",
       "  <thead>\n",
       "    <tr style=\"text-align: right;\">\n",
       "      <th></th>\n",
       "      <th>query_id</th>\n",
       "      <th>data_source</th>\n",
       "      <th>pubmed_id</th>\n",
       "      <th>description_x</th>\n",
       "      <th>query_x</th>\n",
       "      <th>abstract</th>\n",
       "      <th>prediction</th>\n",
       "      <th>description_y</th>\n",
       "      <th>query_y</th>\n",
       "      <th>label</th>\n",
       "    </tr>\n",
       "  </thead>\n",
       "  <tbody>\n",
       "    <tr>\n",
       "      <th>1014</th>\n",
       "      <td>14_h</td>\n",
       "      <td>health_belief</td>\n",
       "      <td>35786468.0</td>\n",
       "      <td>Does listeria cause miscarriage?</td>\n",
       "      <td>listeria causes miscarriage</td>\n",
       "      <td>Listeria monocytogenes (LM) is a food-borne pa...</td>\n",
       "      <td>0.405905</td>\n",
       "      <td>Does listeria cause miscarriage?</td>\n",
       "      <td>listeria causes miscarriage</td>\n",
       "      <td>1.0</td>\n",
       "    </tr>\n",
       "    <tr>\n",
       "      <th>1015</th>\n",
       "      <td>14_h</td>\n",
       "      <td>health_belief</td>\n",
       "      <td>30675327.0</td>\n",
       "      <td>Does listeria cause miscarriage?</td>\n",
       "      <td>listeria causes miscarriage</td>\n",
       "      <td>Background and objectives: Listeria monocytoge...</td>\n",
       "      <td>0.460115</td>\n",
       "      <td>Does listeria cause miscarriage?</td>\n",
       "      <td>listeria causes miscarriage</td>\n",
       "      <td>1.0</td>\n",
       "    </tr>\n",
       "    <tr>\n",
       "      <th>1016</th>\n",
       "      <td>14_h</td>\n",
       "      <td>health_belief</td>\n",
       "      <td>28367407.0</td>\n",
       "      <td>Does listeria cause miscarriage?</td>\n",
       "      <td>listeria causes miscarriage</td>\n",
       "      <td>Listeria monocytogenes is a known cause of gas...</td>\n",
       "      <td>0.082017</td>\n",
       "      <td>Does listeria cause miscarriage?</td>\n",
       "      <td>listeria causes miscarriage</td>\n",
       "      <td>1.0</td>\n",
       "    </tr>\n",
       "    <tr>\n",
       "      <th>1017</th>\n",
       "      <td>128</td>\n",
       "      <td>2021</td>\n",
       "      <td>NaN</td>\n",
       "      <td>NaN</td>\n",
       "      <td>NaN</td>\n",
       "      <td>NaN</td>\n",
       "      <td>0.500000</td>\n",
       "      <td>Does steam from a shower help croup?</td>\n",
       "      <td>steam shower croup</td>\n",
       "      <td>0.0</td>\n",
       "    </tr>\n",
       "    <tr>\n",
       "      <th>1018</th>\n",
       "      <td>134</td>\n",
       "      <td>2021</td>\n",
       "      <td>NaN</td>\n",
       "      <td>NaN</td>\n",
       "      <td>NaN</td>\n",
       "      <td>NaN</td>\n",
       "      <td>0.500000</td>\n",
       "      <td>Can I remove a tick by covering it with Vaseline?</td>\n",
       "      <td>remove tick with vaseline</td>\n",
       "      <td>0.0</td>\n",
       "    </tr>\n",
       "  </tbody>\n",
       "</table>\n",
       "</div>"
      ],
      "text/plain": [
       "     query_id    data_source   pubmed_id                     description_x  \\\n",
       "1014     14_h  health_belief  35786468.0  Does listeria cause miscarriage?   \n",
       "1015     14_h  health_belief  30675327.0  Does listeria cause miscarriage?   \n",
       "1016     14_h  health_belief  28367407.0  Does listeria cause miscarriage?   \n",
       "1017      128           2021         NaN                               NaN   \n",
       "1018      134           2021         NaN                               NaN   \n",
       "\n",
       "                          query_x  \\\n",
       "1014  listeria causes miscarriage   \n",
       "1015  listeria causes miscarriage   \n",
       "1016  listeria causes miscarriage   \n",
       "1017                          NaN   \n",
       "1018                          NaN   \n",
       "\n",
       "                                               abstract  prediction  \\\n",
       "1014  Listeria monocytogenes (LM) is a food-borne pa...    0.405905   \n",
       "1015  Background and objectives: Listeria monocytoge...    0.460115   \n",
       "1016  Listeria monocytogenes is a known cause of gas...    0.082017   \n",
       "1017                                                NaN    0.500000   \n",
       "1018                                                NaN    0.500000   \n",
       "\n",
       "                                          description_y  \\\n",
       "1014                   Does listeria cause miscarriage?   \n",
       "1015                   Does listeria cause miscarriage?   \n",
       "1016                   Does listeria cause miscarriage?   \n",
       "1017               Does steam from a shower help croup?   \n",
       "1018  Can I remove a tick by covering it with Vaseline?   \n",
       "\n",
       "                          query_y  label  \n",
       "1014  listeria causes miscarriage    1.0  \n",
       "1015  listeria causes miscarriage    1.0  \n",
       "1016  listeria causes miscarriage    1.0  \n",
       "1017           steam shower croup    0.0  \n",
       "1018    remove tick with vaseline    0.0  "
      ]
     },
     "execution_count": 13,
     "metadata": {},
     "output_type": "execute_result"
    }
   ],
   "source": [
    "df_filled = (\n",
    "    df\n",
    "    .merge(init_data, how='outer', on=['query_id', 'data_source'])\n",
    "    .fillna({\"prediction\": 0.5})\n",
    ")\n",
    "print(len(df_filled))\n",
    "df_filled.tail(5)"
   ]
  },
  {
   "cell_type": "code",
   "execution_count": 14,
   "metadata": {},
   "outputs": [],
   "source": [
    "assert 113 == len(df_filled.query(\"data_source != 'wh_topics'\").drop_duplicates([\"query_id\", \"data_source\"]))"
   ]
  },
  {
   "cell_type": "code",
   "execution_count": 15,
   "metadata": {},
   "outputs": [
    {
     "data": {
      "text/html": [
       "<div>\n",
       "<style scoped>\n",
       "    .dataframe tbody tr th:only-of-type {\n",
       "        vertical-align: middle;\n",
       "    }\n",
       "\n",
       "    .dataframe tbody tr th {\n",
       "        vertical-align: top;\n",
       "    }\n",
       "\n",
       "    .dataframe thead th {\n",
       "        text-align: right;\n",
       "    }\n",
       "</style>\n",
       "<table border=\"1\" class=\"dataframe\">\n",
       "  <thead>\n",
       "    <tr style=\"text-align: right;\">\n",
       "      <th></th>\n",
       "      <th>2019</th>\n",
       "      <th>2021</th>\n",
       "      <th>health_belief</th>\n",
       "      <th>misbelief</th>\n",
       "      <th>all</th>\n",
       "    </tr>\n",
       "  </thead>\n",
       "  <tbody>\n",
       "    <tr>\n",
       "      <th>avg</th>\n",
       "      <td>0.4567</td>\n",
       "      <td>0.6800</td>\n",
       "      <td>0.5833</td>\n",
       "      <td>0.5357</td>\n",
       "      <td>0.5716</td>\n",
       "    </tr>\n",
       "    <tr>\n",
       "      <th>top1</th>\n",
       "      <td>0.7439</td>\n",
       "      <td>0.6112</td>\n",
       "      <td>0.8333</td>\n",
       "      <td>0.3929</td>\n",
       "      <td>0.6466</td>\n",
       "    </tr>\n",
       "    <tr>\n",
       "      <th>norm_linear</th>\n",
       "      <td>0.5502</td>\n",
       "      <td>0.6912</td>\n",
       "      <td>0.6250</td>\n",
       "      <td>0.5179</td>\n",
       "      <td>0.6119</td>\n",
       "    </tr>\n",
       "    <tr>\n",
       "      <th>norm_log</th>\n",
       "      <td>0.5536</td>\n",
       "      <td>0.6832</td>\n",
       "      <td>0.7083</td>\n",
       "      <td>0.5179</td>\n",
       "      <td>0.6230</td>\n",
       "    </tr>\n",
       "  </tbody>\n",
       "</table>\n",
       "</div>"
      ],
      "text/plain": [
       "               2019    2021  health_belief  misbelief     all\n",
       "avg          0.4567  0.6800         0.5833     0.5357  0.5716\n",
       "top1         0.7439  0.6112         0.8333     0.3929  0.6466\n",
       "norm_linear  0.5502  0.6912         0.6250     0.5179  0.6119\n",
       "norm_log     0.5536  0.6832         0.7083     0.5179  0.6230"
      ]
     },
     "execution_count": 15,
     "metadata": {},
     "output_type": "execute_result"
    }
   ],
   "source": [
    "metrics = {item: [] for item in data_source_types}\n",
    "\n",
    "for data_source in data_source_types:\n",
    "    for agg_type in agg_types:\n",
    "        if data_source == \"all\":\n",
    "            metrics[data_source].append(calc_auc(df_filled, agg_type))\n",
    "        else:\n",
    "            df_cut = df_filled.query(f\"data_source == '{data_source}'\")\n",
    "            metrics[data_source].append(calc_auc(df_cut, agg_type))\n",
    "\n",
    "metrics_df = pd.DataFrame(metrics, index=agg_types).round(4)\n",
    "metrics_df"
   ]
  },
  {
   "cell_type": "code",
   "execution_count": null,
   "metadata": {},
   "outputs": [],
   "source": []
  }
 ],
 "metadata": {
  "kernelspec": {
   "display_name": "Python 3 (ipykernel)",
   "language": "python",
   "name": "python3"
  },
  "language_info": {
   "codemirror_mode": {
    "name": "ipython",
    "version": 3
   },
   "file_extension": ".py",
   "mimetype": "text/x-python",
   "name": "python",
   "nbconvert_exporter": "python",
   "pygments_lexer": "ipython3",
   "version": "3.10.0"
  }
 },
 "nbformat": 4,
 "nbformat_minor": 4
}
