{
  "cells": [
    {
      "cell_type": "markdown",
      "source": [
        "## Source: PubMed\n",
        "## Retriever: BioMed Explorer\n",
        "## Model: BioLinkBERT (BioASQ)"
      ],
      "metadata": {}
    },
    {
      "cell_type": "code",
      "source": [
        "import torch\n",
        "from sklearn.metrics import classification_report, roc_auc_score\n",
        "\n",
        "import sys\n",
        "sys.path.append(\"../../\") # use utils\n",
        "\n",
        "import utils\n",
        "import importlib\n",
        "importlib.reload(utils)\n",
        "\n",
        "from utils import calc_auc"
      ],
      "outputs": [
        {
          "output_type": "stream",
          "name": "stderr",
          "text": [
            "/Library/Frameworks/Python.framework/Versions/3.10/lib/python3.10/site-packages/tqdm/auto.py:22: TqdmWarning: IProgress not found. Please update jupyter and ipywidgets. See https://ipywidgets.readthedocs.io/en/stable/user_install.html\n",
            "  from .autonotebook import tqdm as notebook_tqdm\n"
          ]
        }
      ],
      "execution_count": 1,
      "metadata": {
        "pycharm": {
          "name": "#%%\n"
        }
      }
    },
    {
      "cell_type": "code",
      "source": [
        "from transformers import AutoTokenizer, BertForSequenceClassification, BertModel, DataCollatorWithPadding\n",
        "\n",
        "model_name = \"<path_to_bio-linkbert-large__bioasq_hf>\"\n",
        "tokenizer = AutoTokenizer.from_pretrained(model_name)\n",
        "model = BertForSequenceClassification.from_pretrained(model_name)\n",
        "model.eval()\n",
        "print(\"OK\")"
      ],
      "outputs": [
        {
          "output_type": "stream",
          "name": "stdout",
          "text": [
            "OK\n"
          ]
        }
      ],
      "execution_count": 2,
      "metadata": {
        "pycharm": {
          "name": "#%%\n"
        }
      }
    },
    {
      "cell_type": "code",
      "source": [
        "def predict(question, passage):\n",
        "    sequence = tokenizer.encode_plus(\n",
        "        question, \n",
        "        passage, \n",
        "        return_tensors=\"pt\",\n",
        "        max_length=512,\n",
        "        truncation=True\n",
        "    )['input_ids']\n",
        "\n",
        "    logits = model(sequence)[0]\n",
        "    probabilities = torch.softmax(logits, dim=1).detach().cpu().tolist()[0]\n",
        "    proba_yes = probabilities[1]\n",
        "    \n",
        "    return proba_yes"
      ],
      "outputs": [],
      "execution_count": 3,
      "metadata": {
        "pycharm": {
          "name": "#%%\n"
        }
      }
    },
    {
      "cell_type": "code",
      "source": [
        "init_data = pd.read_csv(\"../../../data/data_to_process.csv\")\n",
        "print(len(init_data))\n",
        "init_data.head(3)"
      ],
      "outputs": [
        {
          "output_type": "stream",
          "name": "stdout",
          "text": [
            "113\n"
          ]
        },
        {
          "output_type": "execute_result",
          "execution_count": 4,
          "data": {
            "text/html": "<div>\n<style scoped>\n    .dataframe tbody tr th:only-of-type {\n        vertical-align: middle;\n    }\n\n    .dataframe tbody tr th {\n        vertical-align: top;\n    }\n\n    .dataframe thead th {\n        text-align: right;\n    }\n</style>\n<table border=\"1\" class=\"dataframe\">\n  <thead>\n    <tr style=\"text-align: right;\">\n      <th></th>\n      <th>data_source</th>\n      <th>query_id</th>\n      <th>description</th>\n      <th>query</th>\n      <th>label</th>\n    </tr>\n  </thead>\n  <tbody>\n    <tr>\n      <th>0</th>\n      <td>2019</td>\n      <td>1</td>\n      <td>Can cranberries prevent urinary tract infections?</td>\n      <td>cranberries urinary tract infections</td>\n      <td>0.0</td>\n    </tr>\n    <tr>\n      <th>1</th>\n      <td>2019</td>\n      <td>3</td>\n      <td>Can acupuncture be effective for people with e...</td>\n      <td>acupuncture epilepsy</td>\n      <td>0.0</td>\n    </tr>\n    <tr>\n      <th>2</th>\n      <td>2019</td>\n      <td>5</td>\n      <td>Can acupuncture prevent migraines?</td>\n      <td>acupuncture migraine</td>\n      <td>1.0</td>\n    </tr>\n  </tbody>\n</table>\n</div>",
            "text/plain": "  data_source query_id                                        description  \\\n0        2019        1  Can cranberries prevent urinary tract infections?   \n1        2019        3  Can acupuncture be effective for people with e...   \n2        2019        5                 Can acupuncture prevent migraines?   \n\n                                  query  label  \n0  cranberries urinary tract infections    0.0  \n1                  acupuncture epilepsy    0.0  \n2                  acupuncture migraine    1.0  "
          },
          "metadata": {}
        }
      ],
      "execution_count": 4,
      "metadata": {}
    },
    {
      "cell_type": "markdown",
      "source": [
        "## Keywords"
      ],
      "metadata": {
        "tags": []
      }
    },
    {
      "cell_type": "code",
      "source": [
        "df = (  \n",
        "  pd.read_csv(\"../../../data/biomed_explorer/biomed_explorer_abstracts_keywords.csv\")\n",
        "  .dropna()\n",
        ")\n",
        "\n",
        "print(len(df))\n",
        "df.head(1)"
      ],
      "outputs": [
        {
          "output_type": "stream",
          "name": "stdout",
          "text": [
            "1929\n"
          ]
        },
        {
          "output_type": "execute_result",
          "execution_count": 7,
          "data": {
            "text/html": "<div>\n<style scoped>\n    .dataframe tbody tr th:only-of-type {\n        vertical-align: middle;\n    }\n\n    .dataframe tbody tr th {\n        vertical-align: top;\n    }\n\n    .dataframe thead th {\n        text-align: right;\n    }\n</style>\n<table border=\"1\" class=\"dataframe\">\n  <thead>\n    <tr style=\"text-align: right;\">\n      <th></th>\n      <th>query_id</th>\n      <th>data_source</th>\n      <th>pubmed_id</th>\n      <th>abstract</th>\n      <th>description</th>\n      <th>query</th>\n      <th>label</th>\n      <th>query_processed</th>\n    </tr>\n  </thead>\n  <tbody>\n    <tr>\n      <th>0</th>\n      <td>1</td>\n      <td>2019</td>\n      <td>23396043</td>\n      <td>Despite considerable controversy about their e...</td>\n      <td>Can cranberries prevent urinary tract infections?</td>\n      <td>cranberries urinary tract infections</td>\n      <td>0.0</td>\n      <td>Can cranberries prevent urinary tract infections?</td>\n    </tr>\n  </tbody>\n</table>\n</div>",
            "text/plain": "  query_id data_source  pubmed_id  \\\n0        1        2019   23396043   \n\n                                            abstract  \\\n0  Despite considerable controversy about their e...   \n\n                                         description  \\\n0  Can cranberries prevent urinary tract infections?   \n\n                                  query  label  \\\n0  cranberries urinary tract infections    0.0   \n\n                                     query_processed  \n0  Can cranberries prevent urinary tract infections?  "
          },
          "metadata": {}
        }
      ],
      "execution_count": 7,
      "metadata": {}
    },
    {
      "cell_type": "code",
      "source": [
        "results = []\n",
        "\n",
        "for _, row in pb(df.iterrows(), max_value=len(df)):\n",
        "    results.append(predict(row.description, row.abstract))"
      ],
      "outputs": [
        {
          "output_type": "stream",
          "name": "stderr",
          "text": [
            "100% (1929 of 1929) |####################| Elapsed Time: 1:08:02 Time:  1:08:02\n"
          ]
        }
      ],
      "execution_count": 23,
      "metadata": {}
    },
    {
      "cell_type": "code",
      "source": [
        "df['prediction'] = results\n",
        "df.head(1)"
      ],
      "outputs": [
        {
          "output_type": "execute_result",
          "execution_count": 24,
          "data": {
            "text/html": "<div>\n<style scoped>\n    .dataframe tbody tr th:only-of-type {\n        vertical-align: middle;\n    }\n\n    .dataframe tbody tr th {\n        vertical-align: top;\n    }\n\n    .dataframe thead th {\n        text-align: right;\n    }\n</style>\n<table border=\"1\" class=\"dataframe\">\n  <thead>\n    <tr style=\"text-align: right;\">\n      <th></th>\n      <th>query_id</th>\n      <th>data_source</th>\n      <th>pubmed_id</th>\n      <th>abstract</th>\n      <th>description</th>\n      <th>query</th>\n      <th>label</th>\n      <th>query_processed</th>\n      <th>prediction</th>\n    </tr>\n  </thead>\n  <tbody>\n    <tr>\n      <th>0</th>\n      <td>1</td>\n      <td>2019</td>\n      <td>23396043</td>\n      <td>Despite considerable controversy about their e...</td>\n      <td>Can cranberries prevent urinary tract infections?</td>\n      <td>cranberries urinary tract infections</td>\n      <td>0.0</td>\n      <td>Can cranberries prevent urinary tract infections?</td>\n      <td>0.295032</td>\n    </tr>\n  </tbody>\n</table>\n</div>",
            "text/plain": "  query_id data_source  pubmed_id  \\\n0        1        2019   23396043   \n\n                                            abstract  \\\n0  Despite considerable controversy about their e...   \n\n                                         description  \\\n0  Can cranberries prevent urinary tract infections?   \n\n                                  query  label  \\\n0  cranberries urinary tract infections    0.0   \n\n                                     query_processed  prediction  \n0  Can cranberries prevent urinary tract infections?    0.295032  "
          },
          "metadata": {}
        }
      ],
      "execution_count": 24,
      "metadata": {}
    },
    {
      "cell_type": "code",
      "source": [
        "df.to_csv(\"predictions/biolinkbert_bioasq_biomed_explorer_preds_keywords.csv\", index=0)"
      ],
      "outputs": [],
      "execution_count": 25,
      "metadata": {}
    },
    {
      "cell_type": "markdown",
      "source": [
        "## Calc Metrics"
      ],
      "metadata": {}
    },
    {
      "cell_type": "code",
      "source": [
        "df = pd.read_csv(\"predictions/biolinkbert_bioasq_biomed_explorer_preds_keywords.csv\")\n",
        "print(len(df))\n",
        "df.head(2)"
      ],
      "outputs": [
        {
          "output_type": "stream",
          "name": "stdout",
          "text": [
            "1066\n"
          ]
        },
        {
          "output_type": "execute_result",
          "execution_count": 13,
          "data": {
            "text/html": "<div>\n<style scoped>\n    .dataframe tbody tr th:only-of-type {\n        vertical-align: middle;\n    }\n\n    .dataframe tbody tr th {\n        vertical-align: top;\n    }\n\n    .dataframe thead th {\n        text-align: right;\n    }\n</style>\n<table border=\"1\" class=\"dataframe\">\n  <thead>\n    <tr style=\"text-align: right;\">\n      <th></th>\n      <th>query_id</th>\n      <th>data_source</th>\n      <th>pubmed_id</th>\n      <th>abstract</th>\n      <th>description</th>\n      <th>query</th>\n      <th>label</th>\n      <th>query_processed</th>\n      <th>prediction</th>\n    </tr>\n  </thead>\n  <tbody>\n    <tr>\n      <th>0</th>\n      <td>1</td>\n      <td>2019</td>\n      <td>23396043</td>\n      <td>Despite considerable controversy about their e...</td>\n      <td>Can cranberries prevent urinary tract infections?</td>\n      <td>cranberries urinary tract infections</td>\n      <td>0.0</td>\n      <td>Can cranberries prevent urinary tract infections?</td>\n      <td>0.295032</td>\n    </tr>\n    <tr>\n      <th>1</th>\n      <td>1</td>\n      <td>2019</td>\n      <td>22760907</td>\n      <td>Lower urinary tract infections are very common...</td>\n      <td>Can cranberries prevent urinary tract infections?</td>\n      <td>cranberries urinary tract infections</td>\n      <td>0.0</td>\n      <td>Can cranberries prevent urinary tract infections?</td>\n      <td>0.420420</td>\n    </tr>\n  </tbody>\n</table>\n</div>",
            "text/plain": "  query_id data_source  pubmed_id  \\\n0        1        2019   23396043   \n1        1        2019   22760907   \n\n                                            abstract  \\\n0  Despite considerable controversy about their e...   \n1  Lower urinary tract infections are very common...   \n\n                                         description  \\\n0  Can cranberries prevent urinary tract infections?   \n1  Can cranberries prevent urinary tract infections?   \n\n                                  query  label  \\\n0  cranberries urinary tract infections    0.0   \n1  cranberries urinary tract infections    0.0   \n\n                                     query_processed  prediction  \n0  Can cranberries prevent urinary tract infections?    0.295032  \n1  Can cranberries prevent urinary tract infections?    0.420420  "
          },
          "metadata": {}
        }
      ],
      "execution_count": 13,
      "metadata": {}
    },
    {
      "cell_type": "code",
      "source": [
        "agg_types = [\"avg\", \"top1\", \"norm_linear\", \"norm_log\"]\n",
        "data_source_types = sorted(df.data_source.unique().tolist()) + [\"all\"]\n",
        "data_source_types"
      ],
      "outputs": [
        {
          "output_type": "execute_result",
          "execution_count": 14,
          "data": {
            "text/plain": "['2019', '2021', 'health_belief', 'misbelief', 'all']"
          },
          "metadata": {}
        }
      ],
      "execution_count": 14,
      "metadata": {}
    },
    {
      "cell_type": "code",
      "source": [
        "df_filled = (\n",
        "    df\n",
        "    .merge(init_data, how='outer', on=['query_id', 'data_source', \"label\"])\n",
        "    .fillna({\"prediction\": 0.5})\n",
        ")\n",
        "print(len(df_filled))\n",
        "df_filled.tail(2)"
      ],
      "outputs": [
        {
          "output_type": "stream",
          "name": "stdout",
          "text": [
            "1067\n"
          ]
        },
        {
          "output_type": "execute_result",
          "execution_count": 15,
          "data": {
            "text/html": "<div>\n<style scoped>\n    .dataframe tbody tr th:only-of-type {\n        vertical-align: middle;\n    }\n\n    .dataframe tbody tr th {\n        vertical-align: top;\n    }\n\n    .dataframe thead th {\n        text-align: right;\n    }\n</style>\n<table border=\"1\" class=\"dataframe\">\n  <thead>\n    <tr style=\"text-align: right;\">\n      <th></th>\n      <th>query_id</th>\n      <th>data_source</th>\n      <th>pubmed_id</th>\n      <th>abstract</th>\n      <th>description_x</th>\n      <th>query_x</th>\n      <th>label</th>\n      <th>query_processed</th>\n      <th>prediction</th>\n      <th>description_y</th>\n      <th>query_y</th>\n    </tr>\n  </thead>\n  <tbody>\n    <tr>\n      <th>1065</th>\n      <td>14_h</td>\n      <td>health_belief</td>\n      <td>16351605.0</td>\n      <td>Listeria monocytogenes is a Gram-positive, wea...</td>\n      <td>Does listeria cause miscarriage?</td>\n      <td>listeria causes miscarriage</td>\n      <td>1.0</td>\n      <td>Does listeria cause miscarriage?</td>\n      <td>0.351155</td>\n      <td>Does listeria cause miscarriage?</td>\n      <td>listeria causes miscarriage</td>\n    </tr>\n    <tr>\n      <th>1066</th>\n      <td>202</td>\n      <td>misbelief</td>\n      <td>NaN</td>\n      <td>NaN</td>\n      <td>NaN</td>\n      <td>NaN</td>\n      <td>0.0</td>\n      <td>NaN</td>\n      <td>0.500000</td>\n      <td>Can hemorrhoids be cured with leeches?</td>\n      <td>hemorrhoids cured leeches</td>\n    </tr>\n  </tbody>\n</table>\n</div>",
            "text/plain": "     query_id    data_source   pubmed_id  \\\n1065     14_h  health_belief  16351605.0   \n1066      202      misbelief         NaN   \n\n                                               abstract  \\\n1065  Listeria monocytogenes is a Gram-positive, wea...   \n1066                                                NaN   \n\n                         description_x                      query_x  label  \\\n1065  Does listeria cause miscarriage?  listeria causes miscarriage    1.0   \n1066                               NaN                          NaN    0.0   \n\n                       query_processed  prediction  \\\n1065  Does listeria cause miscarriage?    0.351155   \n1066                               NaN    0.500000   \n\n                               description_y                      query_y  \n1065        Does listeria cause miscarriage?  listeria causes miscarriage  \n1066  Can hemorrhoids be cured with leeches?    hemorrhoids cured leeches  "
          },
          "metadata": {}
        }
      ],
      "execution_count": 15,
      "metadata": {}
    },
    {
      "cell_type": "code",
      "source": [
        "df_filled = (\n",
        "    df\n",
        "    .merge(init_data, how='outer', on=['query_id', 'data_source', \"label\"])\n",
        "    .fillna({\"prediction\": 0.5})\n",
        ")\n",
        "print(len(df_filled))\n",
        "df_filled.tail(2)"
      ],
      "outputs": [
        {
          "output_type": "stream",
          "name": "stdout",
          "text": [
            "1067\n"
          ]
        },
        {
          "output_type": "execute_result",
          "execution_count": 16,
          "data": {
            "text/html": "<div>\n<style scoped>\n    .dataframe tbody tr th:only-of-type {\n        vertical-align: middle;\n    }\n\n    .dataframe tbody tr th {\n        vertical-align: top;\n    }\n\n    .dataframe thead th {\n        text-align: right;\n    }\n</style>\n<table border=\"1\" class=\"dataframe\">\n  <thead>\n    <tr style=\"text-align: right;\">\n      <th></th>\n      <th>query_id</th>\n      <th>data_source</th>\n      <th>pubmed_id</th>\n      <th>abstract</th>\n      <th>description_x</th>\n      <th>query_x</th>\n      <th>label</th>\n      <th>query_processed</th>\n      <th>prediction</th>\n      <th>description_y</th>\n      <th>query_y</th>\n    </tr>\n  </thead>\n  <tbody>\n    <tr>\n      <th>1065</th>\n      <td>14_h</td>\n      <td>health_belief</td>\n      <td>16351605.0</td>\n      <td>Listeria monocytogenes is a Gram-positive, wea...</td>\n      <td>Does listeria cause miscarriage?</td>\n      <td>listeria causes miscarriage</td>\n      <td>1.0</td>\n      <td>Does listeria cause miscarriage?</td>\n      <td>0.351155</td>\n      <td>Does listeria cause miscarriage?</td>\n      <td>listeria causes miscarriage</td>\n    </tr>\n    <tr>\n      <th>1066</th>\n      <td>202</td>\n      <td>misbelief</td>\n      <td>NaN</td>\n      <td>NaN</td>\n      <td>NaN</td>\n      <td>NaN</td>\n      <td>0.0</td>\n      <td>NaN</td>\n      <td>0.500000</td>\n      <td>Can hemorrhoids be cured with leeches?</td>\n      <td>hemorrhoids cured leeches</td>\n    </tr>\n  </tbody>\n</table>\n</div>",
            "text/plain": "     query_id    data_source   pubmed_id  \\\n1065     14_h  health_belief  16351605.0   \n1066      202      misbelief         NaN   \n\n                                               abstract  \\\n1065  Listeria monocytogenes is a Gram-positive, wea...   \n1066                                                NaN   \n\n                         description_x                      query_x  label  \\\n1065  Does listeria cause miscarriage?  listeria causes miscarriage    1.0   \n1066                               NaN                          NaN    0.0   \n\n                       query_processed  prediction  \\\n1065  Does listeria cause miscarriage?    0.351155   \n1066                               NaN    0.500000   \n\n                               description_y                      query_y  \n1065        Does listeria cause miscarriage?  listeria causes miscarriage  \n1066  Can hemorrhoids be cured with leeches?    hemorrhoids cured leeches  "
          },
          "metadata": {}
        }
      ],
      "execution_count": 16,
      "metadata": {}
    },
    {
      "cell_type": "code",
      "source": [
        "assert 113 == len(df_filled.drop_duplicates([\"query_id\", \"data_source\"]))"
      ],
      "outputs": [],
      "execution_count": 17,
      "metadata": {}
    },
    {
      "cell_type": "code",
      "source": [
        "metrics = {item: [] for item in data_source_types}\n",
        "\n",
        "for data_source in data_source_types:\n",
        "    for agg_type in agg_types:\n",
        "        if data_source == \"all\":\n",
        "            metrics[data_source].append(calc_auc(df_filled, agg_type))\n",
        "        else:\n",
        "            try:\n",
        "                df_cut = df_filled.query(f\"data_source == '{data_source}'\")\n",
        "                metrics[data_source].append(calc_auc(df_cut, agg_type))\n",
        "            except ValueError:\n",
        "                print(f\"Can't calc auc for {data_source} {agg_type}\")\n",
        "            \n",
        "for key, value in metrics.items():\n",
        "    if not value:\n",
        "        metrics[key] = [None] * 4\n",
        "\n",
        "metrics_df = pd.DataFrame(metrics, index=agg_types).round(4)\n",
        "metrics_df"
      ],
      "outputs": [
        {
          "output_type": "execute_result",
          "execution_count": 19,
          "data": {
            "text/html": "<div>\n<style scoped>\n    .dataframe tbody tr th:only-of-type {\n        vertical-align: middle;\n    }\n\n    .dataframe tbody tr th {\n        vertical-align: top;\n    }\n\n    .dataframe thead th {\n        text-align: right;\n    }\n</style>\n<table border=\"1\" class=\"dataframe\">\n  <thead>\n    <tr style=\"text-align: right;\">\n      <th></th>\n      <th>2019</th>\n      <th>2021</th>\n      <th>health_belief</th>\n      <th>misbelief</th>\n      <th>all</th>\n    </tr>\n  </thead>\n  <tbody>\n    <tr>\n      <th>avg</th>\n      <td>0.5917</td>\n      <td>0.8288</td>\n      <td>0.5000</td>\n      <td>0.7857</td>\n      <td>0.7369</td>\n    </tr>\n    <tr>\n      <th>top1</th>\n      <td>0.3841</td>\n      <td>0.7040</td>\n      <td>0.4167</td>\n      <td>0.4464</td>\n      <td>0.5721</td>\n    </tr>\n    <tr>\n      <th>norm_linear</th>\n      <td>0.5536</td>\n      <td>0.8272</td>\n      <td>0.5000</td>\n      <td>0.8036</td>\n      <td>0.7185</td>\n    </tr>\n    <tr>\n      <th>norm_log</th>\n      <td>0.5017</td>\n      <td>0.8080</td>\n      <td>0.5000</td>\n      <td>0.7679</td>\n      <td>0.7008</td>\n    </tr>\n  </tbody>\n</table>\n</div>",
            "text/plain": "               2019    2021  health_belief  misbelief     all\navg          0.5917  0.8288         0.5000     0.7857  0.7369\ntop1         0.3841  0.7040         0.4167     0.4464  0.5721\nnorm_linear  0.5536  0.8272         0.5000     0.8036  0.7185\nnorm_log     0.5017  0.8080         0.5000     0.7679  0.7008"
          },
          "metadata": {}
        }
      ],
      "execution_count": 19,
      "metadata": {}
    },
    {
      "cell_type": "markdown",
      "source": [
        "## Question"
      ],
      "metadata": {
        "tags": []
      }
    },
    {
      "cell_type": "code",
      "source": [
        "df = (\n",
        "    pd.read_csv(\"../../../data/biomed_explorer/biomed_explorer_abstracts_question.csv\")\n",
        "    .dropna()\n",
        ")\n",
        "\n",
        "print(len(df))\n",
        "df.head(1)"
      ],
      "outputs": [
        {
          "output_type": "stream",
          "name": "stdout",
          "text": [
            "1063\n"
          ]
        },
        {
          "output_type": "execute_result",
          "execution_count": 20,
          "data": {
            "text/html": "<div>\n<style scoped>\n    .dataframe tbody tr th:only-of-type {\n        vertical-align: middle;\n    }\n\n    .dataframe tbody tr th {\n        vertical-align: top;\n    }\n\n    .dataframe thead th {\n        text-align: right;\n    }\n</style>\n<table border=\"1\" class=\"dataframe\">\n  <thead>\n    <tr style=\"text-align: right;\">\n      <th></th>\n      <th>query_id</th>\n      <th>data_source</th>\n      <th>pubmed_id</th>\n      <th>abstract</th>\n      <th>description</th>\n      <th>query</th>\n      <th>label</th>\n      <th>query_processed</th>\n    </tr>\n  </thead>\n  <tbody>\n    <tr>\n      <th>0</th>\n      <td>1</td>\n      <td>2019</td>\n      <td>19219097</td>\n      <td>Background: Cranberries have been used for pre...</td>\n      <td>Can cranberries prevent urinary tract infections?</td>\n      <td>cranberries urinary tract infections</td>\n      <td>0.0</td>\n      <td>Can cranberries prevent urinary tract infections?</td>\n    </tr>\n  </tbody>\n</table>\n</div>",
            "text/plain": "  query_id data_source  pubmed_id  \\\n0        1        2019   19219097   \n\n                                            abstract  \\\n0  Background: Cranberries have been used for pre...   \n\n                                         description  \\\n0  Can cranberries prevent urinary tract infections?   \n\n                                  query  label  \\\n0  cranberries urinary tract infections    0.0   \n\n                                     query_processed  \n0  Can cranberries prevent urinary tract infections?  "
          },
          "metadata": {}
        }
      ],
      "execution_count": 20,
      "metadata": {}
    },
    {
      "cell_type": "code",
      "source": [
        "results = []\n",
        "\n",
        "for _, row in pb(df.iterrows(), max_value=len(df)):\n",
        "    results.append(predict(row.description, row.abstract))"
      ],
      "outputs": [
        {
          "output_type": "stream",
          "name": "stderr",
          "text": [
            "100% (1906 of 1906) |####################| Elapsed Time: 1:05:34 Time:  1:05:34\n"
          ]
        }
      ],
      "execution_count": 6,
      "metadata": {}
    },
    {
      "cell_type": "code",
      "source": [
        "df['prediction'] = results\n",
        "df.head(1)"
      ],
      "outputs": [
        {
          "output_type": "execute_result",
          "execution_count": 7,
          "data": {
            "text/html": "<div>\n<style scoped>\n    .dataframe tbody tr th:only-of-type {\n        vertical-align: middle;\n    }\n\n    .dataframe tbody tr th {\n        vertical-align: top;\n    }\n\n    .dataframe thead th {\n        text-align: right;\n    }\n</style>\n<table border=\"1\" class=\"dataframe\">\n  <thead>\n    <tr style=\"text-align: right;\">\n      <th></th>\n      <th>query_id</th>\n      <th>data_source</th>\n      <th>pubmed_id</th>\n      <th>abstract</th>\n      <th>description</th>\n      <th>query</th>\n      <th>label</th>\n      <th>query_processed</th>\n      <th>prediction</th>\n    </tr>\n  </thead>\n  <tbody>\n    <tr>\n      <th>0</th>\n      <td>1</td>\n      <td>2019</td>\n      <td>19219097</td>\n      <td>Background: Cranberries have been used for pre...</td>\n      <td>Can cranberries prevent urinary tract infections?</td>\n      <td>cranberries urinary tract infections</td>\n      <td>0.0</td>\n      <td>Can cranberries prevent urinary tract infections?</td>\n      <td>0.325672</td>\n    </tr>\n  </tbody>\n</table>\n</div>",
            "text/plain": "  query_id data_source  pubmed_id  \\\n0        1        2019   19219097   \n\n                                            abstract  \\\n0  Background: Cranberries have been used for pre...   \n\n                                         description  \\\n0  Can cranberries prevent urinary tract infections?   \n\n                                  query  label  \\\n0  cranberries urinary tract infections    0.0   \n\n                                     query_processed  prediction  \n0  Can cranberries prevent urinary tract infections?    0.325672  "
          },
          "metadata": {}
        }
      ],
      "execution_count": 7,
      "metadata": {}
    },
    {
      "cell_type": "code",
      "source": [
        "df.to_csv(\"predictions/biolinkbert_bioasq_biomed_explorer_preds_question.csv\", index=0)"
      ],
      "outputs": [],
      "execution_count": 8,
      "metadata": {}
    },
    {
      "cell_type": "markdown",
      "source": [
        "## Calc Metrics"
      ],
      "metadata": {}
    },
    {
      "cell_type": "code",
      "source": [
        "df = pd.read_csv(\"predictions/biolinkbert_bioasq_biomed_explorer_preds_question.csv\")\n",
        "print(len(df))\n",
        "df.head(2)"
      ],
      "outputs": [
        {
          "output_type": "stream",
          "name": "stdout",
          "text": [
            "1063\n"
          ]
        },
        {
          "output_type": "execute_result",
          "execution_count": 21,
          "data": {
            "text/html": "<div>\n<style scoped>\n    .dataframe tbody tr th:only-of-type {\n        vertical-align: middle;\n    }\n\n    .dataframe tbody tr th {\n        vertical-align: top;\n    }\n\n    .dataframe thead th {\n        text-align: right;\n    }\n</style>\n<table border=\"1\" class=\"dataframe\">\n  <thead>\n    <tr style=\"text-align: right;\">\n      <th></th>\n      <th>query_id</th>\n      <th>data_source</th>\n      <th>pubmed_id</th>\n      <th>abstract</th>\n      <th>description</th>\n      <th>query</th>\n      <th>label</th>\n      <th>query_processed</th>\n      <th>prediction</th>\n    </tr>\n  </thead>\n  <tbody>\n    <tr>\n      <th>0</th>\n      <td>1</td>\n      <td>2019</td>\n      <td>19219097</td>\n      <td>Background: Cranberries have been used for pre...</td>\n      <td>Can cranberries prevent urinary tract infections?</td>\n      <td>cranberries urinary tract infections</td>\n      <td>0.0</td>\n      <td>Can cranberries prevent urinary tract infections?</td>\n      <td>0.325672</td>\n    </tr>\n    <tr>\n      <th>1</th>\n      <td>1</td>\n      <td>2019</td>\n      <td>28288837</td>\n      <td>Purpose: We sought to clarify the association ...</td>\n      <td>Can cranberries prevent urinary tract infections?</td>\n      <td>cranberries urinary tract infections</td>\n      <td>0.0</td>\n      <td>Can cranberries prevent urinary tract infections?</td>\n      <td>0.542461</td>\n    </tr>\n  </tbody>\n</table>\n</div>",
            "text/plain": "  query_id data_source  pubmed_id  \\\n0        1        2019   19219097   \n1        1        2019   28288837   \n\n                                            abstract  \\\n0  Background: Cranberries have been used for pre...   \n1  Purpose: We sought to clarify the association ...   \n\n                                         description  \\\n0  Can cranberries prevent urinary tract infections?   \n1  Can cranberries prevent urinary tract infections?   \n\n                                  query  label  \\\n0  cranberries urinary tract infections    0.0   \n1  cranberries urinary tract infections    0.0   \n\n                                     query_processed  prediction  \n0  Can cranberries prevent urinary tract infections?    0.325672  \n1  Can cranberries prevent urinary tract infections?    0.542461  "
          },
          "metadata": {}
        }
      ],
      "execution_count": 21,
      "metadata": {}
    },
    {
      "cell_type": "code",
      "source": [
        "df_filled = (\n",
        "    df\n",
        "    .merge(init_data, how='outer', on=['query_id', 'data_source', \"label\"])\n",
        "    .fillna({\"prediction\": 0.5})\n",
        ")\n",
        "print(len(df_filled))\n",
        "df_filled.tail(2)"
      ],
      "outputs": [
        {
          "output_type": "stream",
          "name": "stdout",
          "text": [
            "1064\n"
          ]
        },
        {
          "output_type": "execute_result",
          "execution_count": 22,
          "data": {
            "text/html": "<div>\n<style scoped>\n    .dataframe tbody tr th:only-of-type {\n        vertical-align: middle;\n    }\n\n    .dataframe tbody tr th {\n        vertical-align: top;\n    }\n\n    .dataframe thead th {\n        text-align: right;\n    }\n</style>\n<table border=\"1\" class=\"dataframe\">\n  <thead>\n    <tr style=\"text-align: right;\">\n      <th></th>\n      <th>query_id</th>\n      <th>data_source</th>\n      <th>pubmed_id</th>\n      <th>abstract</th>\n      <th>description_x</th>\n      <th>query_x</th>\n      <th>label</th>\n      <th>query_processed</th>\n      <th>prediction</th>\n      <th>description_y</th>\n      <th>query_y</th>\n    </tr>\n  </thead>\n  <tbody>\n    <tr>\n      <th>1062</th>\n      <td>14_h</td>\n      <td>health_belief</td>\n      <td>25681385.0</td>\n      <td>Recurrent miscarriage is frustrating for the p...</td>\n      <td>Does listeria cause miscarriage?</td>\n      <td>listeria causes miscarriage</td>\n      <td>1.0</td>\n      <td>Does listeria cause miscarriage?</td>\n      <td>0.258255</td>\n      <td>Does listeria cause miscarriage?</td>\n      <td>listeria causes miscarriage</td>\n    </tr>\n    <tr>\n      <th>1063</th>\n      <td>202</td>\n      <td>misbelief</td>\n      <td>NaN</td>\n      <td>NaN</td>\n      <td>NaN</td>\n      <td>NaN</td>\n      <td>0.0</td>\n      <td>NaN</td>\n      <td>0.500000</td>\n      <td>Can hemorrhoids be cured with leeches?</td>\n      <td>hemorrhoids cured leeches</td>\n    </tr>\n  </tbody>\n</table>\n</div>",
            "text/plain": "     query_id    data_source   pubmed_id  \\\n1062     14_h  health_belief  25681385.0   \n1063      202      misbelief         NaN   \n\n                                               abstract  \\\n1062  Recurrent miscarriage is frustrating for the p...   \n1063                                                NaN   \n\n                         description_x                      query_x  label  \\\n1062  Does listeria cause miscarriage?  listeria causes miscarriage    1.0   \n1063                               NaN                          NaN    0.0   \n\n                       query_processed  prediction  \\\n1062  Does listeria cause miscarriage?    0.258255   \n1063                               NaN    0.500000   \n\n                               description_y                      query_y  \n1062        Does listeria cause miscarriage?  listeria causes miscarriage  \n1063  Can hemorrhoids be cured with leeches?    hemorrhoids cured leeches  "
          },
          "metadata": {}
        }
      ],
      "execution_count": 22,
      "metadata": {}
    },
    {
      "cell_type": "code",
      "source": [
        "assert 113 == len(df_filled.drop_duplicates([\"query_id\", \"data_source\"]))"
      ],
      "outputs": [],
      "execution_count": 23,
      "metadata": {}
    },
    {
      "cell_type": "code",
      "source": [
        "metrics = {item: [] for item in data_source_types}\n",
        "\n",
        "for data_source in data_source_types:\n",
        "    for agg_type in agg_types:\n",
        "        if data_source == \"all\":\n",
        "            metrics[data_source].append(calc_auc(df_filled, agg_type))\n",
        "        else:\n",
        "            try:\n",
        "                df_cut = df_filled.query(f\"data_source == '{data_source}'\")\n",
        "                metrics[data_source].append(calc_auc(df_cut, agg_type))\n",
        "            except ValueError:\n",
        "                print(f\"Can't calc auc for {data_source} {agg_type}\")\n",
        "            \n",
        "for key, value in metrics.items():\n",
        "    if not value:\n",
        "        metrics[key] = [None] * 4\n",
        "\n",
        "metrics_df = pd.DataFrame(metrics, index=agg_types).round(4)\n",
        "metrics_df"
      ],
      "outputs": [
        {
          "output_type": "execute_result",
          "execution_count": 24,
          "data": {
            "text/html": "<div>\n<style scoped>\n    .dataframe tbody tr th:only-of-type {\n        vertical-align: middle;\n    }\n\n    .dataframe tbody tr th {\n        vertical-align: top;\n    }\n\n    .dataframe thead th {\n        text-align: right;\n    }\n</style>\n<table border=\"1\" class=\"dataframe\">\n  <thead>\n    <tr style=\"text-align: right;\">\n      <th></th>\n      <th>2019</th>\n      <th>2021</th>\n      <th>health_belief</th>\n      <th>misbelief</th>\n      <th>all</th>\n    </tr>\n  </thead>\n  <tbody>\n    <tr>\n      <th>avg</th>\n      <td>0.6540</td>\n      <td>0.8080</td>\n      <td>0.5000</td>\n      <td>0.8036</td>\n      <td>0.7119</td>\n    </tr>\n    <tr>\n      <th>top1</th>\n      <td>0.5536</td>\n      <td>0.8848</td>\n      <td>0.6250</td>\n      <td>0.5893</td>\n      <td>0.7166</td>\n    </tr>\n    <tr>\n      <th>norm_linear</th>\n      <td>0.6574</td>\n      <td>0.8336</td>\n      <td>0.5417</td>\n      <td>0.7857</td>\n      <td>0.7280</td>\n    </tr>\n    <tr>\n      <th>norm_log</th>\n      <td>0.6401</td>\n      <td>0.8448</td>\n      <td>0.5417</td>\n      <td>0.7857</td>\n      <td>0.7290</td>\n    </tr>\n  </tbody>\n</table>\n</div>",
            "text/plain": "               2019    2021  health_belief  misbelief     all\navg          0.6540  0.8080         0.5000     0.8036  0.7119\ntop1         0.5536  0.8848         0.6250     0.5893  0.7166\nnorm_linear  0.6574  0.8336         0.5417     0.7857  0.7280\nnorm_log     0.6401  0.8448         0.5417     0.7857  0.7290"
          },
          "metadata": {}
        }
      ],
      "execution_count": 24,
      "metadata": {}
    },
    {
      "cell_type": "code",
      "source": [],
      "outputs": [],
      "execution_count": null,
      "metadata": {}
    }
  ],
  "metadata": {
    "kernelspec": {
      "display_name": "Python 3 (ipykernel)",
      "language": "python",
      "name": "python3"
    },
    "language_info": {
      "codemirror_mode": {
        "name": "ipython",
        "version": 3
      },
      "file_extension": ".py",
      "mimetype": "text/x-python",
      "name": "python",
      "nbconvert_exporter": "python",
      "pygments_lexer": "ipython3",
      "version": "3.10.0"
    },
    "nteract": {
      "version": "0.28.0"
    }
  },
  "nbformat": 4,
  "nbformat_minor": 4
}