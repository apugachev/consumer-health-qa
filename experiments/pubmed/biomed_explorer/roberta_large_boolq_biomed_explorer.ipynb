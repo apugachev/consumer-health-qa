{
 "cells": [
  {
   "cell_type": "markdown",
   "metadata": {},
   "source": [
    "## Source: PubMed\n",
    "## Retriever: BioMed Explorer\n",
    "## Model: Roberta Large BoolQ"
   ]
  },
  {
   "cell_type": "code",
   "execution_count": 1,
   "metadata": {},
   "outputs": [],
   "source": [
    "import torch\n",
    "from sklearn.metrics import classification_report, roc_auc_score\n",
    "\n",
    "import sys\n",
    "sys.path.append(\"../../\") # use utils\n",
    "\n",
    "import utils\n",
    "import importlib\n",
    "importlib.reload(utils)\n",
    "\n",
    "from utils import calc_auc\n",
    "import pandas as pd\n",
    "from progressbar import progressbar as pb"
   ]
  },
  {
   "cell_type": "code",
   "execution_count": 2,
   "metadata": {},
   "outputs": [
    {
     "name": "stdout",
     "output_type": "stream",
     "text": [
      "OK\n"
     ]
    }
   ],
   "source": [
    "from transformers import AutoTokenizer, RobertaForSequenceClassification\n",
    "\n",
    "model_name = \"apugachev/roberta-large-boolq-finetuned\"\n",
    "tokenizer = AutoTokenizer.from_pretrained(model_name)\n",
    "model = RobertaForSequenceClassification.from_pretrained(model_name)\n",
    "\n",
    "device = torch.device('cuda' if torch.cuda.is_available() else 'cpu')\n",
    "model.to(device)\n",
    "model.eval()\n",
    "print(\"OK\")"
   ]
  },
  {
   "cell_type": "code",
   "execution_count": 4,
   "metadata": {},
   "outputs": [],
   "source": [
    "def predict(question, passage, device=device):\n",
    "    sequence = tokenizer.encode_plus(\n",
    "        question, \n",
    "        passage, \n",
    "        return_tensors=\"pt\",\n",
    "        max_length=tokenizer.model_max_length,\n",
    "        truncation=True\n",
    "    )['input_ids']\n",
    "\n",
    "    logits = model(sequence.to(device))[0]\n",
    "    probabilities = torch.softmax(logits, dim=1).detach().cpu().tolist()[0]\n",
    "    proba_yes = probabilities[1]\n",
    "    \n",
    "    return proba_yes"
   ]
  },
  {
   "cell_type": "code",
   "execution_count": 2,
   "metadata": {},
   "outputs": [
    {
     "name": "stdout",
     "output_type": "stream",
     "text": [
      "113\n"
     ]
    },
    {
     "data": {
      "text/html": [
       "<div>\n",
       "<style scoped>\n",
       "    .dataframe tbody tr th:only-of-type {\n",
       "        vertical-align: middle;\n",
       "    }\n",
       "\n",
       "    .dataframe tbody tr th {\n",
       "        vertical-align: top;\n",
       "    }\n",
       "\n",
       "    .dataframe thead th {\n",
       "        text-align: right;\n",
       "    }\n",
       "</style>\n",
       "<table border=\"1\" class=\"dataframe\">\n",
       "  <thead>\n",
       "    <tr style=\"text-align: right;\">\n",
       "      <th></th>\n",
       "      <th>data_source</th>\n",
       "      <th>query_id</th>\n",
       "      <th>description</th>\n",
       "      <th>query</th>\n",
       "      <th>label</th>\n",
       "    </tr>\n",
       "  </thead>\n",
       "  <tbody>\n",
       "    <tr>\n",
       "      <th>0</th>\n",
       "      <td>2019</td>\n",
       "      <td>1</td>\n",
       "      <td>Can cranberries prevent urinary tract infections?</td>\n",
       "      <td>cranberries urinary tract infections</td>\n",
       "      <td>0.0</td>\n",
       "    </tr>\n",
       "    <tr>\n",
       "      <th>1</th>\n",
       "      <td>2019</td>\n",
       "      <td>3</td>\n",
       "      <td>Can acupuncture be effective for people with e...</td>\n",
       "      <td>acupuncture epilepsy</td>\n",
       "      <td>0.0</td>\n",
       "    </tr>\n",
       "    <tr>\n",
       "      <th>2</th>\n",
       "      <td>2019</td>\n",
       "      <td>5</td>\n",
       "      <td>Can acupuncture prevent migraines?</td>\n",
       "      <td>acupuncture migraine</td>\n",
       "      <td>1.0</td>\n",
       "    </tr>\n",
       "  </tbody>\n",
       "</table>\n",
       "</div>"
      ],
      "text/plain": [
       "  data_source query_id                                        description  \\\n",
       "0        2019        1  Can cranberries prevent urinary tract infections?   \n",
       "1        2019        3  Can acupuncture be effective for people with e...   \n",
       "2        2019        5                 Can acupuncture prevent migraines?   \n",
       "\n",
       "                                  query  label  \n",
       "0  cranberries urinary tract infections    0.0  \n",
       "1                  acupuncture epilepsy    0.0  \n",
       "2                  acupuncture migraine    1.0  "
      ]
     },
     "execution_count": 2,
     "metadata": {},
     "output_type": "execute_result"
    }
   ],
   "source": [
    "init_data = pd.read_csv(\"../../../data/data_to_process.csv\")\n",
    "print(len(init_data))\n",
    "init_data.head(3)"
   ]
  },
  {
   "cell_type": "markdown",
   "metadata": {
    "tags": []
   },
   "source": [
    "## Keywords"
   ]
  },
  {
   "cell_type": "code",
   "execution_count": 3,
   "metadata": {},
   "outputs": [
    {
     "name": "stdout",
     "output_type": "stream",
     "text": [
      "1066\n"
     ]
    },
    {
     "data": {
      "text/html": [
       "<div>\n",
       "<style scoped>\n",
       "    .dataframe tbody tr th:only-of-type {\n",
       "        vertical-align: middle;\n",
       "    }\n",
       "\n",
       "    .dataframe tbody tr th {\n",
       "        vertical-align: top;\n",
       "    }\n",
       "\n",
       "    .dataframe thead th {\n",
       "        text-align: right;\n",
       "    }\n",
       "</style>\n",
       "<table border=\"1\" class=\"dataframe\">\n",
       "  <thead>\n",
       "    <tr style=\"text-align: right;\">\n",
       "      <th></th>\n",
       "      <th>query_id</th>\n",
       "      <th>data_source</th>\n",
       "      <th>pubmed_id</th>\n",
       "      <th>abstract</th>\n",
       "      <th>description</th>\n",
       "      <th>query</th>\n",
       "      <th>label</th>\n",
       "      <th>query_processed</th>\n",
       "    </tr>\n",
       "  </thead>\n",
       "  <tbody>\n",
       "    <tr>\n",
       "      <th>0</th>\n",
       "      <td>1</td>\n",
       "      <td>2019</td>\n",
       "      <td>23396043</td>\n",
       "      <td>Despite considerable controversy about their e...</td>\n",
       "      <td>Can cranberries prevent urinary tract infections?</td>\n",
       "      <td>cranberries urinary tract infections</td>\n",
       "      <td>0.0</td>\n",
       "      <td>Can cranberries prevent urinary tract infections?</td>\n",
       "    </tr>\n",
       "  </tbody>\n",
       "</table>\n",
       "</div>"
      ],
      "text/plain": [
       "  query_id data_source  pubmed_id  \\\n",
       "0        1        2019   23396043   \n",
       "\n",
       "                                            abstract  \\\n",
       "0  Despite considerable controversy about their e...   \n",
       "\n",
       "                                         description  \\\n",
       "0  Can cranberries prevent urinary tract infections?   \n",
       "\n",
       "                                  query  label  \\\n",
       "0  cranberries urinary tract infections    0.0   \n",
       "\n",
       "                                     query_processed  \n",
       "0  Can cranberries prevent urinary tract infections?  "
      ]
     },
     "execution_count": 3,
     "metadata": {},
     "output_type": "execute_result"
    }
   ],
   "source": [
    "df = (\n",
    "    pd.read_csv(\"../../../data/biomed_explorer/biomed_explorer_abstracts_keywords.csv\")\n",
    "    .dropna()\n",
    ")\n",
    "\n",
    "\n",
    "print(len(df))\n",
    "df.head(1)"
   ]
  },
  {
   "cell_type": "code",
   "execution_count": 7,
   "metadata": {},
   "outputs": [
    {
     "name": "stderr",
     "output_type": "stream",
     "text": [
      "100% (1929 of 1929) |####################| Elapsed Time: 0:01:06 Time:  0:01:06\n"
     ]
    }
   ],
   "source": [
    "results = []\n",
    "\n",
    "for _, row in pb(df.iterrows(), max_value=len(df)):\n",
    "    results.append(predict(row.description, row.abstract))"
   ]
  },
  {
   "cell_type": "code",
   "execution_count": 8,
   "metadata": {},
   "outputs": [
    {
     "data": {
      "text/html": [
       "<div>\n",
       "<style scoped>\n",
       "    .dataframe tbody tr th:only-of-type {\n",
       "        vertical-align: middle;\n",
       "    }\n",
       "\n",
       "    .dataframe tbody tr th {\n",
       "        vertical-align: top;\n",
       "    }\n",
       "\n",
       "    .dataframe thead th {\n",
       "        text-align: right;\n",
       "    }\n",
       "</style>\n",
       "<table border=\"1\" class=\"dataframe\">\n",
       "  <thead>\n",
       "    <tr style=\"text-align: right;\">\n",
       "      <th></th>\n",
       "      <th>query_id</th>\n",
       "      <th>data_source</th>\n",
       "      <th>pubmed_id</th>\n",
       "      <th>abstract</th>\n",
       "      <th>description</th>\n",
       "      <th>query</th>\n",
       "      <th>label</th>\n",
       "      <th>query_processed</th>\n",
       "      <th>prediction</th>\n",
       "    </tr>\n",
       "  </thead>\n",
       "  <tbody>\n",
       "    <tr>\n",
       "      <th>0</th>\n",
       "      <td>1</td>\n",
       "      <td>2019</td>\n",
       "      <td>23396043</td>\n",
       "      <td>Despite considerable controversy about their e...</td>\n",
       "      <td>Can cranberries prevent urinary tract infections?</td>\n",
       "      <td>cranberries urinary tract infections</td>\n",
       "      <td>0.0</td>\n",
       "      <td>Can cranberries prevent urinary tract infections?</td>\n",
       "      <td>0.99987</td>\n",
       "    </tr>\n",
       "  </tbody>\n",
       "</table>\n",
       "</div>"
      ],
      "text/plain": [
       "  query_id data_source  pubmed_id  \\\n",
       "0        1        2019   23396043   \n",
       "\n",
       "                                            abstract  \\\n",
       "0  Despite considerable controversy about their e...   \n",
       "\n",
       "                                         description  \\\n",
       "0  Can cranberries prevent urinary tract infections?   \n",
       "\n",
       "                                  query  label  \\\n",
       "0  cranberries urinary tract infections    0.0   \n",
       "\n",
       "                                     query_processed  prediction  \n",
       "0  Can cranberries prevent urinary tract infections?     0.99987  "
      ]
     },
     "execution_count": 8,
     "metadata": {},
     "output_type": "execute_result"
    }
   ],
   "source": [
    "df['prediction'] = results\n",
    "df.head(1)"
   ]
  },
  {
   "cell_type": "code",
   "execution_count": 4,
   "metadata": {},
   "outputs": [],
   "source": [
    "KEYWORDS_SAVE_PRED_FILE = \"predictions/roberta_large_boolq_biomed_explorer_preds_keywords.csv\"\n",
    "\n",
    "df.to_csv(KEYWORDS_SAVE_PRED_FILE, index=0)"
   ]
  },
  {
   "cell_type": "markdown",
   "metadata": {},
   "source": [
    "## Calc Metrics"
   ]
  },
  {
   "cell_type": "code",
   "execution_count": 5,
   "metadata": {},
   "outputs": [
    {
     "name": "stdout",
     "output_type": "stream",
     "text": [
      "1066\n"
     ]
    }
   ],
   "source": [
    "df = pd.read_csv(KEYWORDS_SAVE_PRED_FILE)\n",
    "print(len(df))"
   ]
  },
  {
   "cell_type": "code",
   "execution_count": 6,
   "metadata": {},
   "outputs": [
    {
     "data": {
      "text/plain": [
       "['2019', '2021', 'health_belief', 'misbelief', 'all']"
      ]
     },
     "execution_count": 6,
     "metadata": {},
     "output_type": "execute_result"
    }
   ],
   "source": [
    "agg_types = [\"avg\", \"top1\", \"norm_linear\", \"norm_log\"]\n",
    "data_source_types = sorted(df.data_source.unique().tolist()) + [\"all\"]\n",
    "data_source_types"
   ]
  },
  {
   "cell_type": "code",
   "execution_count": 7,
   "metadata": {},
   "outputs": [
    {
     "name": "stdout",
     "output_type": "stream",
     "text": [
      "1067\n"
     ]
    },
    {
     "data": {
      "text/html": [
       "<div>\n",
       "<style scoped>\n",
       "    .dataframe tbody tr th:only-of-type {\n",
       "        vertical-align: middle;\n",
       "    }\n",
       "\n",
       "    .dataframe tbody tr th {\n",
       "        vertical-align: top;\n",
       "    }\n",
       "\n",
       "    .dataframe thead th {\n",
       "        text-align: right;\n",
       "    }\n",
       "</style>\n",
       "<table border=\"1\" class=\"dataframe\">\n",
       "  <thead>\n",
       "    <tr style=\"text-align: right;\">\n",
       "      <th></th>\n",
       "      <th>query_id</th>\n",
       "      <th>data_source</th>\n",
       "      <th>pubmed_id</th>\n",
       "      <th>abstract</th>\n",
       "      <th>description_x</th>\n",
       "      <th>query_x</th>\n",
       "      <th>label</th>\n",
       "      <th>query_processed</th>\n",
       "      <th>prediction</th>\n",
       "      <th>description_y</th>\n",
       "      <th>query_y</th>\n",
       "    </tr>\n",
       "  </thead>\n",
       "  <tbody>\n",
       "    <tr>\n",
       "      <th>1065</th>\n",
       "      <td>14_h</td>\n",
       "      <td>health_belief</td>\n",
       "      <td>16351605.0</td>\n",
       "      <td>Listeria monocytogenes is a Gram-positive, wea...</td>\n",
       "      <td>Does listeria cause miscarriage?</td>\n",
       "      <td>listeria causes miscarriage</td>\n",
       "      <td>1.0</td>\n",
       "      <td>Does listeria cause miscarriage?</td>\n",
       "      <td>0.98257</td>\n",
       "      <td>Does listeria cause miscarriage?</td>\n",
       "      <td>listeria causes miscarriage</td>\n",
       "    </tr>\n",
       "    <tr>\n",
       "      <th>1066</th>\n",
       "      <td>202</td>\n",
       "      <td>misbelief</td>\n",
       "      <td>NaN</td>\n",
       "      <td>NaN</td>\n",
       "      <td>NaN</td>\n",
       "      <td>NaN</td>\n",
       "      <td>0.0</td>\n",
       "      <td>NaN</td>\n",
       "      <td>0.50000</td>\n",
       "      <td>Can hemorrhoids be cured with leeches?</td>\n",
       "      <td>hemorrhoids cured leeches</td>\n",
       "    </tr>\n",
       "  </tbody>\n",
       "</table>\n",
       "</div>"
      ],
      "text/plain": [
       "     query_id    data_source   pubmed_id  \\\n",
       "1065     14_h  health_belief  16351605.0   \n",
       "1066      202      misbelief         NaN   \n",
       "\n",
       "                                               abstract  \\\n",
       "1065  Listeria monocytogenes is a Gram-positive, wea...   \n",
       "1066                                                NaN   \n",
       "\n",
       "                         description_x                      query_x  label  \\\n",
       "1065  Does listeria cause miscarriage?  listeria causes miscarriage    1.0   \n",
       "1066                               NaN                          NaN    0.0   \n",
       "\n",
       "                       query_processed  prediction  \\\n",
       "1065  Does listeria cause miscarriage?     0.98257   \n",
       "1066                               NaN     0.50000   \n",
       "\n",
       "                               description_y                      query_y  \n",
       "1065        Does listeria cause miscarriage?  listeria causes miscarriage  \n",
       "1066  Can hemorrhoids be cured with leeches?    hemorrhoids cured leeches  "
      ]
     },
     "execution_count": 7,
     "metadata": {},
     "output_type": "execute_result"
    }
   ],
   "source": [
    "df_filled = (\n",
    "    df\n",
    "    .merge(init_data, how='outer', on=['query_id', 'data_source', \"label\"])\n",
    "    .fillna({\"prediction\": 0.5})\n",
    ")\n",
    "print(len(df_filled))\n",
    "df_filled.tail(2)"
   ]
  },
  {
   "cell_type": "code",
   "execution_count": 8,
   "metadata": {},
   "outputs": [],
   "source": [
    "assert 113 == len(df_filled.drop_duplicates([\"query_id\", \"data_source\"]))"
   ]
  },
  {
   "cell_type": "code",
   "execution_count": 9,
   "metadata": {},
   "outputs": [
    {
     "data": {
      "text/html": [
       "<div>\n",
       "<style scoped>\n",
       "    .dataframe tbody tr th:only-of-type {\n",
       "        vertical-align: middle;\n",
       "    }\n",
       "\n",
       "    .dataframe tbody tr th {\n",
       "        vertical-align: top;\n",
       "    }\n",
       "\n",
       "    .dataframe thead th {\n",
       "        text-align: right;\n",
       "    }\n",
       "</style>\n",
       "<table border=\"1\" class=\"dataframe\">\n",
       "  <thead>\n",
       "    <tr style=\"text-align: right;\">\n",
       "      <th></th>\n",
       "      <th>2019</th>\n",
       "      <th>2021</th>\n",
       "      <th>health_belief</th>\n",
       "      <th>misbelief</th>\n",
       "      <th>all</th>\n",
       "    </tr>\n",
       "  </thead>\n",
       "  <tbody>\n",
       "    <tr>\n",
       "      <th>avg</th>\n",
       "      <td>0.7197</td>\n",
       "      <td>0.8688</td>\n",
       "      <td>0.8333</td>\n",
       "      <td>0.8214</td>\n",
       "      <td>0.7530</td>\n",
       "    </tr>\n",
       "    <tr>\n",
       "      <th>top1</th>\n",
       "      <td>0.6332</td>\n",
       "      <td>0.8448</td>\n",
       "      <td>0.6250</td>\n",
       "      <td>0.6607</td>\n",
       "      <td>0.7163</td>\n",
       "    </tr>\n",
       "    <tr>\n",
       "      <th>norm_linear</th>\n",
       "      <td>0.6713</td>\n",
       "      <td>0.8752</td>\n",
       "      <td>0.7917</td>\n",
       "      <td>0.7679</td>\n",
       "      <td>0.7416</td>\n",
       "    </tr>\n",
       "    <tr>\n",
       "      <th>norm_log</th>\n",
       "      <td>0.6678</td>\n",
       "      <td>0.8768</td>\n",
       "      <td>0.7917</td>\n",
       "      <td>0.7679</td>\n",
       "      <td>0.7423</td>\n",
       "    </tr>\n",
       "  </tbody>\n",
       "</table>\n",
       "</div>"
      ],
      "text/plain": [
       "               2019    2021  health_belief  misbelief     all\n",
       "avg          0.7197  0.8688         0.8333     0.8214  0.7530\n",
       "top1         0.6332  0.8448         0.6250     0.6607  0.7163\n",
       "norm_linear  0.6713  0.8752         0.7917     0.7679  0.7416\n",
       "norm_log     0.6678  0.8768         0.7917     0.7679  0.7423"
      ]
     },
     "execution_count": 9,
     "metadata": {},
     "output_type": "execute_result"
    }
   ],
   "source": [
    "metrics = {item: [] for item in data_source_types}\n",
    "\n",
    "for data_source in data_source_types:\n",
    "    for agg_type in agg_types:\n",
    "        if data_source == \"all\":\n",
    "            metrics[data_source].append(calc_auc(df_filled, agg_type))\n",
    "        else:\n",
    "            try:\n",
    "                df_cut = df_filled.query(f\"data_source == '{data_source}'\")\n",
    "                metrics[data_source].append(calc_auc(df_cut, agg_type))\n",
    "            except ValueError:\n",
    "                print(f\"Can't calc auc for {data_source} {agg_type}\")\n",
    "            \n",
    "for key, value in metrics.items():\n",
    "    if not value:\n",
    "        metrics[key] = [None] * 4\n",
    "\n",
    "metrics_df = pd.DataFrame(metrics, index=agg_types).round(4)\n",
    "metrics_df"
   ]
  },
  {
   "cell_type": "markdown",
   "metadata": {
    "tags": []
   },
   "source": [
    "## Question"
   ]
  },
  {
   "cell_type": "code",
   "execution_count": 10,
   "metadata": {},
   "outputs": [
    {
     "name": "stdout",
     "output_type": "stream",
     "text": [
      "1063\n"
     ]
    },
    {
     "data": {
      "text/html": [
       "<div>\n",
       "<style scoped>\n",
       "    .dataframe tbody tr th:only-of-type {\n",
       "        vertical-align: middle;\n",
       "    }\n",
       "\n",
       "    .dataframe tbody tr th {\n",
       "        vertical-align: top;\n",
       "    }\n",
       "\n",
       "    .dataframe thead th {\n",
       "        text-align: right;\n",
       "    }\n",
       "</style>\n",
       "<table border=\"1\" class=\"dataframe\">\n",
       "  <thead>\n",
       "    <tr style=\"text-align: right;\">\n",
       "      <th></th>\n",
       "      <th>query_id</th>\n",
       "      <th>data_source</th>\n",
       "      <th>pubmed_id</th>\n",
       "      <th>abstract</th>\n",
       "      <th>description</th>\n",
       "      <th>query</th>\n",
       "      <th>label</th>\n",
       "      <th>query_processed</th>\n",
       "    </tr>\n",
       "  </thead>\n",
       "  <tbody>\n",
       "    <tr>\n",
       "      <th>0</th>\n",
       "      <td>1</td>\n",
       "      <td>2019</td>\n",
       "      <td>19219097</td>\n",
       "      <td>Background: Cranberries have been used for pre...</td>\n",
       "      <td>Can cranberries prevent urinary tract infections?</td>\n",
       "      <td>cranberries urinary tract infections</td>\n",
       "      <td>0.0</td>\n",
       "      <td>Can cranberries prevent urinary tract infections?</td>\n",
       "    </tr>\n",
       "  </tbody>\n",
       "</table>\n",
       "</div>"
      ],
      "text/plain": [
       "  query_id data_source  pubmed_id  \\\n",
       "0        1        2019   19219097   \n",
       "\n",
       "                                            abstract  \\\n",
       "0  Background: Cranberries have been used for pre...   \n",
       "\n",
       "                                         description  \\\n",
       "0  Can cranberries prevent urinary tract infections?   \n",
       "\n",
       "                                  query  label  \\\n",
       "0  cranberries urinary tract infections    0.0   \n",
       "\n",
       "                                     query_processed  \n",
       "0  Can cranberries prevent urinary tract infections?  "
      ]
     },
     "execution_count": 10,
     "metadata": {},
     "output_type": "execute_result"
    }
   ],
   "source": [
    "df = (\n",
    "  pd.read_csv(\"../../../data/biomed_explorer/biomed_explorer_abstracts_question.csv\")\n",
    "  .dropna()\n",
    ")\n",
    "\n",
    "print(len(df))\n",
    "df.head(1)"
   ]
  },
  {
   "cell_type": "code",
   "execution_count": 16,
   "metadata": {},
   "outputs": [
    {
     "name": "stderr",
     "output_type": "stream",
     "text": [
      "100% (1906 of 1906) |####################| Elapsed Time: 0:01:05 Time:  0:01:05\n"
     ]
    }
   ],
   "source": [
    "results = []\n",
    "\n",
    "for _, row in pb(df.iterrows(), max_value=len(df)):\n",
    "    results.append(predict(row.description, row.abstract))"
   ]
  },
  {
   "cell_type": "code",
   "execution_count": 17,
   "metadata": {},
   "outputs": [
    {
     "data": {
      "text/html": [
       "<div>\n",
       "<style scoped>\n",
       "    .dataframe tbody tr th:only-of-type {\n",
       "        vertical-align: middle;\n",
       "    }\n",
       "\n",
       "    .dataframe tbody tr th {\n",
       "        vertical-align: top;\n",
       "    }\n",
       "\n",
       "    .dataframe thead th {\n",
       "        text-align: right;\n",
       "    }\n",
       "</style>\n",
       "<table border=\"1\" class=\"dataframe\">\n",
       "  <thead>\n",
       "    <tr style=\"text-align: right;\">\n",
       "      <th></th>\n",
       "      <th>query_id</th>\n",
       "      <th>data_source</th>\n",
       "      <th>pubmed_id</th>\n",
       "      <th>abstract</th>\n",
       "      <th>description</th>\n",
       "      <th>query</th>\n",
       "      <th>label</th>\n",
       "      <th>query_processed</th>\n",
       "      <th>prediction</th>\n",
       "    </tr>\n",
       "  </thead>\n",
       "  <tbody>\n",
       "    <tr>\n",
       "      <th>0</th>\n",
       "      <td>1</td>\n",
       "      <td>2019</td>\n",
       "      <td>19219097</td>\n",
       "      <td>Background: Cranberries have been used for pre...</td>\n",
       "      <td>Can cranberries prevent urinary tract infections?</td>\n",
       "      <td>cranberries urinary tract infections</td>\n",
       "      <td>0.0</td>\n",
       "      <td>Can cranberries prevent urinary tract infections?</td>\n",
       "      <td>0.999636</td>\n",
       "    </tr>\n",
       "  </tbody>\n",
       "</table>\n",
       "</div>"
      ],
      "text/plain": [
       "  query_id data_source  pubmed_id  \\\n",
       "0        1        2019   19219097   \n",
       "\n",
       "                                            abstract  \\\n",
       "0  Background: Cranberries have been used for pre...   \n",
       "\n",
       "                                         description  \\\n",
       "0  Can cranberries prevent urinary tract infections?   \n",
       "\n",
       "                                  query  label  \\\n",
       "0  cranberries urinary tract infections    0.0   \n",
       "\n",
       "                                     query_processed  prediction  \n",
       "0  Can cranberries prevent urinary tract infections?    0.999636  "
      ]
     },
     "execution_count": 17,
     "metadata": {},
     "output_type": "execute_result"
    }
   ],
   "source": [
    "df['prediction'] = results\n",
    "df.head(1)"
   ]
  },
  {
   "cell_type": "code",
   "execution_count": 11,
   "metadata": {},
   "outputs": [],
   "source": [
    "QUESTION_SAVE_PRED_FILE = \"predictions/roberta_large_boolq_biomed_explorer_preds_question.csv\"\n",
    "\n",
    "df.to_csv(QUESTION_SAVE_PRED_FILE, index=0)"
   ]
  },
  {
   "cell_type": "markdown",
   "metadata": {},
   "source": [
    "# Calc metrics"
   ]
  },
  {
   "cell_type": "code",
   "execution_count": 12,
   "metadata": {},
   "outputs": [
    {
     "name": "stdout",
     "output_type": "stream",
     "text": [
      "1063\n"
     ]
    },
    {
     "data": {
      "text/html": [
       "<div>\n",
       "<style scoped>\n",
       "    .dataframe tbody tr th:only-of-type {\n",
       "        vertical-align: middle;\n",
       "    }\n",
       "\n",
       "    .dataframe tbody tr th {\n",
       "        vertical-align: top;\n",
       "    }\n",
       "\n",
       "    .dataframe thead th {\n",
       "        text-align: right;\n",
       "    }\n",
       "</style>\n",
       "<table border=\"1\" class=\"dataframe\">\n",
       "  <thead>\n",
       "    <tr style=\"text-align: right;\">\n",
       "      <th></th>\n",
       "      <th>query_id</th>\n",
       "      <th>data_source</th>\n",
       "      <th>pubmed_id</th>\n",
       "      <th>abstract</th>\n",
       "      <th>description</th>\n",
       "      <th>query</th>\n",
       "      <th>label</th>\n",
       "      <th>query_processed</th>\n",
       "      <th>prediction</th>\n",
       "    </tr>\n",
       "  </thead>\n",
       "  <tbody>\n",
       "    <tr>\n",
       "      <th>0</th>\n",
       "      <td>1</td>\n",
       "      <td>2019</td>\n",
       "      <td>19219097</td>\n",
       "      <td>Background: Cranberries have been used for pre...</td>\n",
       "      <td>Can cranberries prevent urinary tract infections?</td>\n",
       "      <td>cranberries urinary tract infections</td>\n",
       "      <td>0.0</td>\n",
       "      <td>Can cranberries prevent urinary tract infections?</td>\n",
       "      <td>0.999636</td>\n",
       "    </tr>\n",
       "    <tr>\n",
       "      <th>1</th>\n",
       "      <td>1</td>\n",
       "      <td>2019</td>\n",
       "      <td>28288837</td>\n",
       "      <td>Purpose: We sought to clarify the association ...</td>\n",
       "      <td>Can cranberries prevent urinary tract infections?</td>\n",
       "      <td>cranberries urinary tract infections</td>\n",
       "      <td>0.0</td>\n",
       "      <td>Can cranberries prevent urinary tract infections?</td>\n",
       "      <td>0.999668</td>\n",
       "    </tr>\n",
       "  </tbody>\n",
       "</table>\n",
       "</div>"
      ],
      "text/plain": [
       "  query_id data_source  pubmed_id  \\\n",
       "0        1        2019   19219097   \n",
       "1        1        2019   28288837   \n",
       "\n",
       "                                            abstract  \\\n",
       "0  Background: Cranberries have been used for pre...   \n",
       "1  Purpose: We sought to clarify the association ...   \n",
       "\n",
       "                                         description  \\\n",
       "0  Can cranberries prevent urinary tract infections?   \n",
       "1  Can cranberries prevent urinary tract infections?   \n",
       "\n",
       "                                  query  label  \\\n",
       "0  cranberries urinary tract infections    0.0   \n",
       "1  cranberries urinary tract infections    0.0   \n",
       "\n",
       "                                     query_processed  prediction  \n",
       "0  Can cranberries prevent urinary tract infections?    0.999636  \n",
       "1  Can cranberries prevent urinary tract infections?    0.999668  "
      ]
     },
     "execution_count": 12,
     "metadata": {},
     "output_type": "execute_result"
    }
   ],
   "source": [
    "df = pd.read_csv(QUESTION_SAVE_PRED_FILE)\n",
    "print(len(df))\n",
    "df.head(2)"
   ]
  },
  {
   "cell_type": "code",
   "execution_count": 13,
   "metadata": {},
   "outputs": [
    {
     "name": "stdout",
     "output_type": "stream",
     "text": [
      "1064\n"
     ]
    },
    {
     "data": {
      "text/html": [
       "<div>\n",
       "<style scoped>\n",
       "    .dataframe tbody tr th:only-of-type {\n",
       "        vertical-align: middle;\n",
       "    }\n",
       "\n",
       "    .dataframe tbody tr th {\n",
       "        vertical-align: top;\n",
       "    }\n",
       "\n",
       "    .dataframe thead th {\n",
       "        text-align: right;\n",
       "    }\n",
       "</style>\n",
       "<table border=\"1\" class=\"dataframe\">\n",
       "  <thead>\n",
       "    <tr style=\"text-align: right;\">\n",
       "      <th></th>\n",
       "      <th>query_id</th>\n",
       "      <th>data_source</th>\n",
       "      <th>pubmed_id</th>\n",
       "      <th>abstract</th>\n",
       "      <th>description_x</th>\n",
       "      <th>query_x</th>\n",
       "      <th>label</th>\n",
       "      <th>query_processed</th>\n",
       "      <th>prediction</th>\n",
       "      <th>description_y</th>\n",
       "      <th>query_y</th>\n",
       "    </tr>\n",
       "  </thead>\n",
       "  <tbody>\n",
       "    <tr>\n",
       "      <th>1062</th>\n",
       "      <td>14_h</td>\n",
       "      <td>health_belief</td>\n",
       "      <td>25681385.0</td>\n",
       "      <td>Recurrent miscarriage is frustrating for the p...</td>\n",
       "      <td>Does listeria cause miscarriage?</td>\n",
       "      <td>listeria causes miscarriage</td>\n",
       "      <td>1.0</td>\n",
       "      <td>Does listeria cause miscarriage?</td>\n",
       "      <td>0.00059</td>\n",
       "      <td>Does listeria cause miscarriage?</td>\n",
       "      <td>listeria causes miscarriage</td>\n",
       "    </tr>\n",
       "    <tr>\n",
       "      <th>1063</th>\n",
       "      <td>202</td>\n",
       "      <td>misbelief</td>\n",
       "      <td>NaN</td>\n",
       "      <td>NaN</td>\n",
       "      <td>NaN</td>\n",
       "      <td>NaN</td>\n",
       "      <td>0.0</td>\n",
       "      <td>NaN</td>\n",
       "      <td>0.50000</td>\n",
       "      <td>Can hemorrhoids be cured with leeches?</td>\n",
       "      <td>hemorrhoids cured leeches</td>\n",
       "    </tr>\n",
       "  </tbody>\n",
       "</table>\n",
       "</div>"
      ],
      "text/plain": [
       "     query_id    data_source   pubmed_id  \\\n",
       "1062     14_h  health_belief  25681385.0   \n",
       "1063      202      misbelief         NaN   \n",
       "\n",
       "                                               abstract  \\\n",
       "1062  Recurrent miscarriage is frustrating for the p...   \n",
       "1063                                                NaN   \n",
       "\n",
       "                         description_x                      query_x  label  \\\n",
       "1062  Does listeria cause miscarriage?  listeria causes miscarriage    1.0   \n",
       "1063                               NaN                          NaN    0.0   \n",
       "\n",
       "                       query_processed  prediction  \\\n",
       "1062  Does listeria cause miscarriage?     0.00059   \n",
       "1063                               NaN     0.50000   \n",
       "\n",
       "                               description_y                      query_y  \n",
       "1062        Does listeria cause miscarriage?  listeria causes miscarriage  \n",
       "1063  Can hemorrhoids be cured with leeches?    hemorrhoids cured leeches  "
      ]
     },
     "execution_count": 13,
     "metadata": {},
     "output_type": "execute_result"
    }
   ],
   "source": [
    "df_filled = (\n",
    "    df\n",
    "    .merge(init_data, how='outer', on=['query_id', 'data_source', \"label\"])\n",
    "    .fillna({\"prediction\": 0.5})\n",
    ")\n",
    "print(len(df_filled))\n",
    "df_filled.tail(2)"
   ]
  },
  {
   "cell_type": "code",
   "execution_count": 14,
   "metadata": {},
   "outputs": [],
   "source": [
    "assert 113 == len(df_filled.drop_duplicates([\"query_id\", \"data_source\"]))"
   ]
  },
  {
   "cell_type": "code",
   "execution_count": 15,
   "metadata": {},
   "outputs": [
    {
     "data": {
      "text/html": [
       "<div>\n",
       "<style scoped>\n",
       "    .dataframe tbody tr th:only-of-type {\n",
       "        vertical-align: middle;\n",
       "    }\n",
       "\n",
       "    .dataframe tbody tr th {\n",
       "        vertical-align: top;\n",
       "    }\n",
       "\n",
       "    .dataframe thead th {\n",
       "        text-align: right;\n",
       "    }\n",
       "</style>\n",
       "<table border=\"1\" class=\"dataframe\">\n",
       "  <thead>\n",
       "    <tr style=\"text-align: right;\">\n",
       "      <th></th>\n",
       "      <th>2019</th>\n",
       "      <th>2021</th>\n",
       "      <th>health_belief</th>\n",
       "      <th>misbelief</th>\n",
       "      <th>all</th>\n",
       "    </tr>\n",
       "  </thead>\n",
       "  <tbody>\n",
       "    <tr>\n",
       "      <th>avg</th>\n",
       "      <td>0.7301</td>\n",
       "      <td>0.8816</td>\n",
       "      <td>0.9583</td>\n",
       "      <td>0.7857</td>\n",
       "      <td>0.7663</td>\n",
       "    </tr>\n",
       "    <tr>\n",
       "      <th>top1</th>\n",
       "      <td>0.6713</td>\n",
       "      <td>0.8368</td>\n",
       "      <td>0.8333</td>\n",
       "      <td>0.6964</td>\n",
       "      <td>0.7385</td>\n",
       "    </tr>\n",
       "    <tr>\n",
       "      <th>norm_linear</th>\n",
       "      <td>0.6990</td>\n",
       "      <td>0.8784</td>\n",
       "      <td>0.9583</td>\n",
       "      <td>0.7857</td>\n",
       "      <td>0.7619</td>\n",
       "    </tr>\n",
       "    <tr>\n",
       "      <th>norm_log</th>\n",
       "      <td>0.7024</td>\n",
       "      <td>0.8864</td>\n",
       "      <td>0.9583</td>\n",
       "      <td>0.7857</td>\n",
       "      <td>0.7676</td>\n",
       "    </tr>\n",
       "  </tbody>\n",
       "</table>\n",
       "</div>"
      ],
      "text/plain": [
       "               2019    2021  health_belief  misbelief     all\n",
       "avg          0.7301  0.8816         0.9583     0.7857  0.7663\n",
       "top1         0.6713  0.8368         0.8333     0.6964  0.7385\n",
       "norm_linear  0.6990  0.8784         0.9583     0.7857  0.7619\n",
       "norm_log     0.7024  0.8864         0.9583     0.7857  0.7676"
      ]
     },
     "execution_count": 15,
     "metadata": {},
     "output_type": "execute_result"
    }
   ],
   "source": [
    "metrics = {item: [] for item in data_source_types}\n",
    "\n",
    "for data_source in data_source_types:\n",
    "    for agg_type in agg_types:\n",
    "        if data_source == \"all\":\n",
    "            metrics[data_source].append(calc_auc(df_filled, agg_type))\n",
    "        else:\n",
    "            try:\n",
    "                df_cut = df_filled.query(f\"data_source == '{data_source}'\")\n",
    "                metrics[data_source].append(calc_auc(df_cut, agg_type))\n",
    "            except ValueError:\n",
    "                print(f\"Can't calc auc for {data_source} {agg_type}\")\n",
    "            \n",
    "for key, value in metrics.items():\n",
    "    if not value:\n",
    "        metrics[key] = [None] * 4\n",
    "\n",
    "metrics_df = pd.DataFrame(metrics, index=agg_types).round(4)\n",
    "metrics_df"
   ]
  },
  {
   "cell_type": "code",
   "execution_count": null,
   "metadata": {},
   "outputs": [],
   "source": []
  }
 ],
 "metadata": {
  "kernelspec": {
   "display_name": "Python 3 (ipykernel)",
   "language": "python",
   "name": "python3"
  },
  "language_info": {
   "codemirror_mode": {
    "name": "ipython",
    "version": 3
   },
   "file_extension": ".py",
   "mimetype": "text/x-python",
   "name": "python",
   "nbconvert_exporter": "python",
   "pygments_lexer": "ipython3",
   "version": "3.10.0"
  },
  "nteract": {
   "version": "0.28.0"
  }
 },
 "nbformat": 4,
 "nbformat_minor": 4
}
