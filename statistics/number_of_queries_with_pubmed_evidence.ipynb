{
 "cells": [
  {
   "cell_type": "code",
   "execution_count": 1,
   "id": "ed243309-5902-4fd2-bc62-5920c8728b79",
   "metadata": {},
   "outputs": [
    {
     "name": "stdout",
     "output_type": "stream",
     "text": [
      "94\n"
     ]
    },
    {
     "data": {
      "text/html": [
       "<div>\n",
       "<style scoped>\n",
       "    .dataframe tbody tr th:only-of-type {\n",
       "        vertical-align: middle;\n",
       "    }\n",
       "\n",
       "    .dataframe tbody tr th {\n",
       "        vertical-align: top;\n",
       "    }\n",
       "\n",
       "    .dataframe thead th {\n",
       "        text-align: right;\n",
       "    }\n",
       "</style>\n",
       "<table border=\"1\" class=\"dataframe\">\n",
       "  <thead>\n",
       "    <tr style=\"text-align: right;\">\n",
       "      <th></th>\n",
       "      <th>data_source</th>\n",
       "      <th>query_id</th>\n",
       "      <th>description</th>\n",
       "      <th>query</th>\n",
       "      <th>label</th>\n",
       "      <th>evident_pubmed_id</th>\n",
       "    </tr>\n",
       "  </thead>\n",
       "  <tbody>\n",
       "    <tr>\n",
       "      <th>0</th>\n",
       "      <td>2019</td>\n",
       "      <td>1</td>\n",
       "      <td>Can cranberries prevent urinary tract infections?</td>\n",
       "      <td>cranberries urinary tract infections</td>\n",
       "      <td>0.0</td>\n",
       "      <td>23076891</td>\n",
       "    </tr>\n",
       "    <tr>\n",
       "      <th>1</th>\n",
       "      <td>2019</td>\n",
       "      <td>3</td>\n",
       "      <td>Can acupuncture be effective for people with e...</td>\n",
       "      <td>acupuncture epilepsy</td>\n",
       "      <td>0.0</td>\n",
       "      <td>30480774</td>\n",
       "    </tr>\n",
       "  </tbody>\n",
       "</table>\n",
       "</div>"
      ],
      "text/plain": [
       "  data_source query_id                                        description  \\\n",
       "0        2019        1  Can cranberries prevent urinary tract infections?   \n",
       "1        2019        3  Can acupuncture be effective for people with e...   \n",
       "\n",
       "                                  query  label  evident_pubmed_id  \n",
       "0  cranberries urinary tract infections    0.0           23076891  \n",
       "1                  acupuncture epilepsy    0.0           30480774  "
      ]
     },
     "execution_count": 1,
     "metadata": {},
     "output_type": "execute_result"
    }
   ],
   "source": [
    "import pandas as pd\n",
    "from itertools import combinations\n",
    "\n",
    "evident = pd.read_csv(\"../data/data_w_evidence.csv\").dropna()\n",
    "evident = evident.astype({\"evident_pubmed_id\": int})\n",
    "print(len(evident))\n",
    "evident.head(2)"
   ]
  },
  {
   "cell_type": "markdown",
   "id": "68bdfbd8-d5d9-45e6-86a2-fcb07c316b98",
   "metadata": {},
   "source": [
    "## Keywords"
   ]
  },
  {
   "cell_type": "code",
   "execution_count": 2,
   "id": "ab40b47e-ff83-40f5-8f0f-67e12b84dfc3",
   "metadata": {},
   "outputs": [],
   "source": [
    "keywords_files = [\n",
    "    \"../data/pubmed_search/pubmed_search_abstracts_keywords.csv\",\n",
    "    \"../data/google_search/google_search_abstracts_keywords_part_1.csv\",\n",
    "    \"../data/google_search/google_search_abstracts_keywords_part_2.csv\",\n",
    "    \"../data/biomed_explorer/biomed_explorer_abstracts_keywords.csv\"\n",
    "]"
   ]
  },
  {
   "cell_type": "code",
   "execution_count": 3,
   "id": "3b568532-8065-4d6b-a294-a26edf071ca9",
   "metadata": {},
   "outputs": [],
   "source": [
    "def prepare_result(files):\n",
    "    result = {}\n",
    "\n",
    "    for file in files:\n",
    "\n",
    "        if \"2\" in file:\n",
    "            continue\n",
    "\n",
    "        if file.startswith(\"google\"):\n",
    "            df = pd.concat((\n",
    "                pd.read_csv(file), pd.read_csv(file.replace(\"1\", \"2\"))\n",
    "            )).astype({\"query_id\": str})\n",
    "        else:\n",
    "            df = pd.read_csv(file).astype({\"query_id\": str})\n",
    "\n",
    "        df = df.merge(evident)\n",
    "\n",
    "        cnt = 0\n",
    "\n",
    "        for _, group in df.groupby([\"query_id\", \"data_source\"]):\n",
    "            evident_id = group.evident_pubmed_id.tolist()[0]\n",
    "            has_evident = bool(len(group.query(f\"pubmed_id == {evident_id}\")))\n",
    "\n",
    "            if has_evident:\n",
    "                cnt += 1\n",
    "\n",
    "        retriever = file.split(\"/\")[2]\n",
    "        result[retriever] = cnt\n",
    "    return result"
   ]
  },
  {
   "cell_type": "code",
   "execution_count": 9,
   "id": "271a9fc7-6d3b-40b5-8ce0-1609d945a3bb",
   "metadata": {},
   "outputs": [],
   "source": [
    "keywords_result = prepare_result(keywords_files)"
   ]
  },
  {
   "cell_type": "markdown",
   "id": "1fcbcbdb-bf77-4192-9f3a-305a3175d0ad",
   "metadata": {},
   "source": [
    "## Question"
   ]
  },
  {
   "cell_type": "code",
   "execution_count": 6,
   "id": "fd310b9b-d48b-4dd3-aefd-5a85a4435529",
   "metadata": {},
   "outputs": [],
   "source": [
    "question_files = [\n",
    "    \"../data/pubmed_search/pubmed_search_abstracts_question.csv\",\n",
    "    \"../data/google_search/google_search_abstracts_question_part_1.csv\",\n",
    "    \"../data/google_search/google_search_abstracts_question_part_2.csv\",\n",
    "    \"../data/biomed_explorer/biomed_explorer_abstracts_question.csv\"\n",
    "]"
   ]
  },
  {
   "cell_type": "code",
   "execution_count": 8,
   "id": "8755a4df-1e79-4ca1-9003-d16facb94885",
   "metadata": {},
   "outputs": [],
   "source": [
    "question_result = prepare_result(question_files)"
   ]
  },
  {
   "cell_type": "code",
   "execution_count": 19,
   "id": "c7bfc2ea-3b48-42a5-bf23-7666c3b92e95",
   "metadata": {},
   "outputs": [
    {
     "data": {
      "text/html": [
       "<div>\n",
       "<style scoped>\n",
       "    .dataframe tbody tr th:only-of-type {\n",
       "        vertical-align: middle;\n",
       "    }\n",
       "\n",
       "    .dataframe tbody tr th {\n",
       "        vertical-align: top;\n",
       "    }\n",
       "\n",
       "    .dataframe thead th {\n",
       "        text-align: right;\n",
       "    }\n",
       "</style>\n",
       "<table border=\"1\" class=\"dataframe\">\n",
       "  <thead>\n",
       "    <tr style=\"text-align: right;\">\n",
       "      <th></th>\n",
       "      <th>Keywords</th>\n",
       "      <th>Question</th>\n",
       "    </tr>\n",
       "  </thead>\n",
       "  <tbody>\n",
       "    <tr>\n",
       "      <th>pubmed_search</th>\n",
       "      <td>10</td>\n",
       "      <td>7</td>\n",
       "    </tr>\n",
       "    <tr>\n",
       "      <th>google_search</th>\n",
       "      <td>56</td>\n",
       "      <td>39</td>\n",
       "    </tr>\n",
       "    <tr>\n",
       "      <th>biomed_explorer</th>\n",
       "      <td>41</td>\n",
       "      <td>39</td>\n",
       "    </tr>\n",
       "  </tbody>\n",
       "</table>\n",
       "</div>"
      ],
      "text/plain": [
       "                 Keywords  Question\n",
       "pubmed_search          10         7\n",
       "google_search          56        39\n",
       "biomed_explorer        41        39"
      ]
     },
     "execution_count": 19,
     "metadata": {},
     "output_type": "execute_result"
    }
   ],
   "source": [
    "pd.DataFrame(\n",
    "    data={\n",
    "        \"Keywords\": keywords_result.values(), \n",
    "        \"Question\": question_result.values()\n",
    "    },\n",
    "    index=keywords_result.keys()\n",
    ")"
   ]
  },
  {
   "cell_type": "code",
   "execution_count": null,
   "id": "71a58a5b-5280-4517-ac20-ce90b0fce4f5",
   "metadata": {},
   "outputs": [],
   "source": []
  }
 ],
 "metadata": {
  "kernelspec": {
   "display_name": "Python 3 (ipykernel)",
   "language": "python",
   "name": "python3"
  },
  "language_info": {
   "codemirror_mode": {
    "name": "ipython",
    "version": 3
   },
   "file_extension": ".py",
   "mimetype": "text/x-python",
   "name": "python",
   "nbconvert_exporter": "python",
   "pygments_lexer": "ipython3",
   "version": "3.10.0"
  }
 },
 "nbformat": 4,
 "nbformat_minor": 5
}
