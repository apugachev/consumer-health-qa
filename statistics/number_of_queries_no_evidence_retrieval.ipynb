{
 "cells": [
  {
   "cell_type": "code",
   "execution_count": 3,
   "id": "32403ec6-9c48-41d7-9cdf-ccf8d967ba64",
   "metadata": {},
   "outputs": [
    {
     "name": "stdout",
     "output_type": "stream",
     "text": [
      "113\n"
     ]
    },
    {
     "data": {
      "text/html": [
       "<div>\n",
       "<style scoped>\n",
       "    .dataframe tbody tr th:only-of-type {\n",
       "        vertical-align: middle;\n",
       "    }\n",
       "\n",
       "    .dataframe tbody tr th {\n",
       "        vertical-align: top;\n",
       "    }\n",
       "\n",
       "    .dataframe thead th {\n",
       "        text-align: right;\n",
       "    }\n",
       "</style>\n",
       "<table border=\"1\" class=\"dataframe\">\n",
       "  <thead>\n",
       "    <tr style=\"text-align: right;\">\n",
       "      <th></th>\n",
       "      <th>data_source</th>\n",
       "      <th>query_id</th>\n",
       "      <th>description</th>\n",
       "      <th>query</th>\n",
       "      <th>label</th>\n",
       "    </tr>\n",
       "  </thead>\n",
       "  <tbody>\n",
       "    <tr>\n",
       "      <th>0</th>\n",
       "      <td>2019</td>\n",
       "      <td>1</td>\n",
       "      <td>Can cranberries prevent urinary tract infections?</td>\n",
       "      <td>cranberries urinary tract infections</td>\n",
       "      <td>0.0</td>\n",
       "    </tr>\n",
       "    <tr>\n",
       "      <th>1</th>\n",
       "      <td>2019</td>\n",
       "      <td>3</td>\n",
       "      <td>Can acupuncture be effective for people with e...</td>\n",
       "      <td>acupuncture epilepsy</td>\n",
       "      <td>0.0</td>\n",
       "    </tr>\n",
       "    <tr>\n",
       "      <th>2</th>\n",
       "      <td>2019</td>\n",
       "      <td>5</td>\n",
       "      <td>Can acupuncture prevent migraines?</td>\n",
       "      <td>acupuncture migraine</td>\n",
       "      <td>1.0</td>\n",
       "    </tr>\n",
       "    <tr>\n",
       "      <th>3</th>\n",
       "      <td>2019</td>\n",
       "      <td>6</td>\n",
       "      <td>Is amygdalin or laetrile an effective cancer t...</td>\n",
       "      <td>amygdalin laetrile cancer</td>\n",
       "      <td>0.0</td>\n",
       "    </tr>\n",
       "    <tr>\n",
       "      <th>4</th>\n",
       "      <td>2019</td>\n",
       "      <td>7</td>\n",
       "      <td>Can aspirin improve the lives of people with v...</td>\n",
       "      <td>aspirin vascular dementia</td>\n",
       "      <td>0.0</td>\n",
       "    </tr>\n",
       "  </tbody>\n",
       "</table>\n",
       "</div>"
      ],
      "text/plain": [
       "  data_source query_id                                        description  \\\n",
       "0        2019        1  Can cranberries prevent urinary tract infections?   \n",
       "1        2019        3  Can acupuncture be effective for people with e...   \n",
       "2        2019        5                 Can acupuncture prevent migraines?   \n",
       "3        2019        6  Is amygdalin or laetrile an effective cancer t...   \n",
       "4        2019        7  Can aspirin improve the lives of people with v...   \n",
       "\n",
       "                                  query  label  \n",
       "0  cranberries urinary tract infections    0.0  \n",
       "1                  acupuncture epilepsy    0.0  \n",
       "2                  acupuncture migraine    1.0  \n",
       "3             amygdalin laetrile cancer    0.0  \n",
       "4             aspirin vascular dementia    0.0  "
      ]
     },
     "execution_count": 3,
     "metadata": {},
     "output_type": "execute_result"
    }
   ],
   "source": [
    "import pandas as pd\n",
    "from itertools import combinations\n",
    "\n",
    "data = pd.read_csv(\"../data/data_to_process.csv\")\n",
    "print(len(data))\n",
    "data.head()"
   ]
  },
  {
   "cell_type": "markdown",
   "id": "7f2f1400-4f88-4062-b5ab-ee72ab531978",
   "metadata": {},
   "source": [
    "## Keywords"
   ]
  },
  {
   "cell_type": "code",
   "execution_count": 25,
   "id": "dca77722-0792-400a-9a47-c9efae0242ae",
   "metadata": {},
   "outputs": [],
   "source": [
    "biomed_explorer_data = pd.read_csv(\"../data/biomed_explorer/biomed_explorer_abstracts_keywords.csv\")\n",
    "pubmed_search_data = pd.read_csv(\"../data/pubmed_search/pubmed_search_abstracts_keywords.csv\").dropna()\n",
    "\n",
    "google_search_data = pd.concat(\n",
    "    (\n",
    "        pd.read_csv(\"../data/google_search/google_search_abstracts_keywords_part_1.csv\"), \n",
    "        pd.read_csv(\"../data/google_search/google_search_abstracts_keywords_part_2.csv\")\n",
    "    )\n",
    ").astype({\"query_id\": str})\n",
    "\n",
    "wikipedia_search_wiki_data = pd.read_csv(\"../data/wikipedia_search_wiki/wikipedia_articles_keywords.csv\")\n",
    "google_search_wiki_data = pd.read_csv(\"../data/google_search_wiki/wikipedia_articles_keywords.csv\")\n",
    "\n",
    "dct = {\n",
    "    \"pubmed_search\": pubmed_search_data,\n",
    "    \"google_search\": google_search_data,\n",
    "    \"biomed_explorer\": biomed_explorer_data,\n",
    "    \"wikipedia_search_wiki\": wikipedia_search_wiki_data,\n",
    "    \"google_search_wiki\": google_search_wiki_data,\n",
    "}"
   ]
  },
  {
   "cell_type": "code",
   "execution_count": 26,
   "id": "83879ab8-abfe-459a-bdf0-bd4a6c78180e",
   "metadata": {},
   "outputs": [],
   "source": [
    "data_source2failed_queries = dict()\n",
    "\n",
    "for data_source, received_data in dct.items():\n",
    "    failed_queries = data.merge(\n",
    "                        received_data.drop_duplicates(['query_id', \"data_source\"]),\n",
    "                        on=['query_id', 'data_source'],\n",
    "                        how='left',\n",
    "                        indicator=True\n",
    "                    ).query(\"_merge == 'left_only'\")\n",
    "    \n",
    "    if \"query\" in failed_queries.columns:\n",
    "        failed_queries = failed_queries['query']\n",
    "    else:\n",
    "        failed_queries = failed_queries['query_x']\n",
    "    \n",
    "    failed_queries = {q.strip() for q in failed_queries}\n",
    "    data_source2failed_queries[data_source] = failed_queries"
   ]
  },
  {
   "cell_type": "markdown",
   "id": "3c2f9b8c-88e2-4258-8481-9c48e5b16a87",
   "metadata": {},
   "source": [
    "## Question"
   ]
  },
  {
   "cell_type": "code",
   "execution_count": 27,
   "id": "3dbbcd45-6b95-45c9-804f-9a2509f5628d",
   "metadata": {},
   "outputs": [],
   "source": [
    "biomed_explorer_data = pd.read_csv(\"../data/biomed_explorer/biomed_explorer_abstracts_question.csv\")\n",
    "pubmed_search_data = pd.read_csv(\"../data/pubmed_search/pubmed_search_abstracts_question.csv\").dropna()\n",
    "\n",
    "google_search_data = pd.concat(\n",
    "    (\n",
    "        pd.read_csv(\"../data/google_search/google_search_abstracts_question_part_1.csv\"), \n",
    "        pd.read_csv(\"../data/google_search/google_search_abstracts_question_part_2.csv\")\n",
    "    )\n",
    ").astype({\"query_id\": str})\n",
    "\n",
    "wikipedia_search_wiki_data = pd.read_csv(\"../data/wikipedia_search_wiki/wikipedia_articles_question.csv\")\n",
    "google_search_wiki_data = pd.read_csv(\"../data/google_search_wiki/wikipedia_articles_question.csv\")\n",
    "\n",
    "dct = {\n",
    "    \"pubmed_search\": pubmed_search_data,\n",
    "    \"google_search\": google_search_data,\n",
    "    \"biomed_explorer\": biomed_explorer_data,\n",
    "    \"wikipedia_search_wiki\": wikipedia_search_wiki_data,\n",
    "    \"google_search_wiki\": google_search_wiki_data,\n",
    "}"
   ]
  },
  {
   "cell_type": "code",
   "execution_count": 28,
   "id": "7dd96882-4150-4c97-957a-14756dedbc6b",
   "metadata": {},
   "outputs": [],
   "source": [
    "data_source2failed_descriptions = dict()\n",
    "\n",
    "for data_source, received_data in dct.items():\n",
    "    failed_descriptions = data.merge(\n",
    "                        received_data.drop_duplicates(['query_id', \"data_source\"]),\n",
    "                        on=['query_id', 'data_source'],\n",
    "                        how='left',\n",
    "                        indicator=True\n",
    "                    ).query(\"_merge == 'left_only'\")\n",
    "    \n",
    "    if \"query\" in failed_descriptions.columns:\n",
    "        failed_descriptions = failed_descriptions['query']\n",
    "    else:\n",
    "        failed_descriptions = failed_descriptions['query_x']\n",
    "        \n",
    "    failed_descriptions = {q.strip() for q in failed_descriptions}\n",
    "    data_source2failed_descriptions[data_source] = failed_descriptions"
   ]
  },
  {
   "cell_type": "code",
   "execution_count": 29,
   "id": "840e9b5f-0718-48e5-874c-e42f218ebe49",
   "metadata": {},
   "outputs": [],
   "source": [
    "data_source2failed_keywords = {source: len(queries) for source, queries in data_source2failed_queries.items()}\n",
    "data_source2failed_question = {source: len(queries) for source, queries in data_source2failed_descriptions.items()}"
   ]
  },
  {
   "cell_type": "code",
   "execution_count": 32,
   "id": "cf30fef5-922c-4a32-be7e-cce4ad66ed7e",
   "metadata": {},
   "outputs": [
    {
     "data": {
      "text/html": [
       "<div>\n",
       "<style scoped>\n",
       "    .dataframe tbody tr th:only-of-type {\n",
       "        vertical-align: middle;\n",
       "    }\n",
       "\n",
       "    .dataframe tbody tr th {\n",
       "        vertical-align: top;\n",
       "    }\n",
       "\n",
       "    .dataframe thead th {\n",
       "        text-align: right;\n",
       "    }\n",
       "</style>\n",
       "<table border=\"1\" class=\"dataframe\">\n",
       "  <thead>\n",
       "    <tr style=\"text-align: right;\">\n",
       "      <th></th>\n",
       "      <th>Keywords</th>\n",
       "      <th>Question</th>\n",
       "    </tr>\n",
       "  </thead>\n",
       "  <tbody>\n",
       "    <tr>\n",
       "      <th>pubmed_search</th>\n",
       "      <td>31</td>\n",
       "      <td>42</td>\n",
       "    </tr>\n",
       "    <tr>\n",
       "      <th>google_search</th>\n",
       "      <td>1</td>\n",
       "      <td>2</td>\n",
       "    </tr>\n",
       "    <tr>\n",
       "      <th>biomed_explorer</th>\n",
       "      <td>0</td>\n",
       "      <td>0</td>\n",
       "    </tr>\n",
       "    <tr>\n",
       "      <th>wikipedia_search_wiki</th>\n",
       "      <td>26</td>\n",
       "      <td>56</td>\n",
       "    </tr>\n",
       "    <tr>\n",
       "      <th>google_search_wiki</th>\n",
       "      <td>19</td>\n",
       "      <td>16</td>\n",
       "    </tr>\n",
       "  </tbody>\n",
       "</table>\n",
       "</div>"
      ],
      "text/plain": [
       "                       Keywords  Question\n",
       "pubmed_search                31        42\n",
       "google_search                 1         2\n",
       "biomed_explorer               0         0\n",
       "wikipedia_search_wiki        26        56\n",
       "google_search_wiki           19        16"
      ]
     },
     "execution_count": 32,
     "metadata": {},
     "output_type": "execute_result"
    }
   ],
   "source": [
    "pd.DataFrame(\n",
    "    data={\n",
    "        \"Keywords\": data_source2failed_keywords.values(), \n",
    "        \"Question\": data_source2failed_question.values()\n",
    "    },\n",
    "    index=dct.keys()\n",
    ")"
   ]
  },
  {
   "cell_type": "code",
   "execution_count": null,
   "id": "b1d9531e-68a4-4928-be8f-66b4708311d2",
   "metadata": {},
   "outputs": [],
   "source": []
  }
 ],
 "metadata": {
  "kernelspec": {
   "display_name": "Python 3 (ipykernel)",
   "language": "python",
   "name": "python3"
  },
  "language_info": {
   "codemirror_mode": {
    "name": "ipython",
    "version": 3
   },
   "file_extension": ".py",
   "mimetype": "text/x-python",
   "name": "python",
   "nbconvert_exporter": "python",
   "pygments_lexer": "ipython3",
   "version": "3.10.0"
  }
 },
 "nbformat": 4,
 "nbformat_minor": 5
}
