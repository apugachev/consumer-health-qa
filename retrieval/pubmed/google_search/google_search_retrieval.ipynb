{
 "cells": [
  {
   "cell_type": "code",
   "execution_count": 1,
   "id": "648c70ae-5a3c-4603-b0f7-c5c0ca084b33",
   "metadata": {},
   "outputs": [],
   "source": [
    "import sys\n",
    "sys.path.append(\"../../../experiments/\") # use utils\n",
    "\n",
    "import utils\n",
    "import importlib\n",
    "importlib.reload(utils)\n",
    "\n",
    "from utils import calc_auc, get_abstract, normalize_text\n",
    "\n",
    "import requests\n",
    "import json\n",
    "from progressbar import progressbar as pb\n",
    "from utils import API_KEY, SEARCH_ENGINE_ID\n",
    "from copy import deepcopy"
   ]
  },
  {
   "cell_type": "code",
   "execution_count": 9,
   "id": "85aac089-b3c1-4923-8ef9-3887976cde54",
   "metadata": {},
   "outputs": [],
   "source": [
    "with open(\"../../../data/doc_id2abstract.json\") as f:\n",
    "    doc_id2abstract = json.load(f)"
   ]
  },
  {
   "cell_type": "code",
   "execution_count": 2,
   "id": "a5fbb491-e9d5-4c97-9ff5-a0334b8b9a78",
   "metadata": {},
   "outputs": [],
   "source": [
    "api_key = API_KEY\n",
    "search_engine_id = SEARCH_ENGINE_ID\n",
    "\n",
    "url = f\"https://www.googleapis.com/customsearch/v1?key={api_key}&cx={search_engine_id}&q=<QUERY>\""
   ]
  },
  {
   "cell_type": "code",
   "execution_count": 3,
   "id": "c47586f3-b41d-4ac0-ac5c-e3f0e7d0ad09",
   "metadata": {},
   "outputs": [
    {
     "data": {
      "text/html": [
       "<div>\n",
       "<style scoped>\n",
       "    .dataframe tbody tr th:only-of-type {\n",
       "        vertical-align: middle;\n",
       "    }\n",
       "\n",
       "    .dataframe tbody tr th {\n",
       "        vertical-align: top;\n",
       "    }\n",
       "\n",
       "    .dataframe thead th {\n",
       "        text-align: right;\n",
       "    }\n",
       "</style>\n",
       "<table border=\"1\" class=\"dataframe\">\n",
       "  <thead>\n",
       "    <tr style=\"text-align: right;\">\n",
       "      <th></th>\n",
       "      <th>data_source</th>\n",
       "      <th>query_id</th>\n",
       "      <th>description</th>\n",
       "      <th>query</th>\n",
       "      <th>label</th>\n",
       "    </tr>\n",
       "  </thead>\n",
       "  <tbody>\n",
       "    <tr>\n",
       "      <th>0</th>\n",
       "      <td>2019</td>\n",
       "      <td>1</td>\n",
       "      <td>Can cranberries prevent urinary tract infections?</td>\n",
       "      <td>cranberries urinary tract infections</td>\n",
       "      <td>0.0</td>\n",
       "    </tr>\n",
       "    <tr>\n",
       "      <th>1</th>\n",
       "      <td>2019</td>\n",
       "      <td>3</td>\n",
       "      <td>Can acupuncture be effective for people with e...</td>\n",
       "      <td>acupuncture epilepsy</td>\n",
       "      <td>0.0</td>\n",
       "    </tr>\n",
       "    <tr>\n",
       "      <th>2</th>\n",
       "      <td>2019</td>\n",
       "      <td>5</td>\n",
       "      <td>Can acupuncture prevent migraines?</td>\n",
       "      <td>acupuncture migraine</td>\n",
       "      <td>1.0</td>\n",
       "    </tr>\n",
       "  </tbody>\n",
       "</table>\n",
       "</div>"
      ],
      "text/plain": [
       "  data_source query_id                                        description  \\\n",
       "0        2019        1  Can cranberries prevent urinary tract infections?   \n",
       "1        2019        3  Can acupuncture be effective for people with e...   \n",
       "2        2019        5                 Can acupuncture prevent migraines?   \n",
       "\n",
       "                                  query  label  \n",
       "0  cranberries urinary tract infections    0.0  \n",
       "1                  acupuncture epilepsy    0.0  \n",
       "2                  acupuncture migraine    1.0  "
      ]
     },
     "execution_count": 3,
     "metadata": {},
     "output_type": "execute_result"
    }
   ],
   "source": [
    "df = pd.read_csv(\"../../../data/data_to_process.csv\")\n",
    "df.head(3)"
   ]
  },
  {
   "cell_type": "markdown",
   "id": "ede414df-97e9-43cd-9fa7-d7689dfa1957",
   "metadata": {},
   "source": [
    "## Keywords"
   ]
  },
  {
   "cell_type": "markdown",
   "id": "7491408f-9f69-4bed-9c54-ea1de7309a24",
   "metadata": {},
   "source": [
    "### Pt. 1"
   ]
  },
  {
   "cell_type": "code",
   "execution_count": 6,
   "id": "8833a338-f79e-4bd5-9c1e-cd233a49a713",
   "metadata": {
    "tags": []
   },
   "outputs": [
    {
     "name": "stderr",
     "output_type": "stream",
     "text": [
      "100% (50 of 50) |########################| Elapsed Time: 0:00:35 Time:  0:00:35\n"
     ]
    }
   ],
   "source": [
    "for_dataframe = {item: [] for item in [\"query_id\", \"data_source\", \"pubmed_id\"]}\n",
    "\n",
    "for _, row in pb(df.iterrows(), max_value=len(df)):\n",
    "    query_id = row.query_id\n",
    "    data_source = row.data_source\n",
    "    query = row.query\n",
    "    \n",
    "    new_url = deepcopy(url)\n",
    "    new_url = new_url.replace(\"<QUERY>\", query)\n",
    "    response = requests.get(new_url, headers={'Content-Type': 'application/json'}).json()\n",
    "    \n",
    "    if \"items\" in response:\n",
    "        for resp in response['items']:\n",
    "            doc_id = resp['link'].split(\"/\")[-2]\n",
    "            for_dataframe['query_id'].append(query_id)\n",
    "            for_dataframe['data_source'].append(data_source)\n",
    "            for_dataframe['pubmed_id'].append(doc_id)"
   ]
  },
  {
   "cell_type": "code",
   "execution_count": 4,
   "id": "52b0d661-1c08-4a81-83a5-868563f191aa",
   "metadata": {},
   "outputs": [],
   "source": [
    "fin_df = (\n",
    "    pd.DataFrame(for_dataframe)\n",
    "    .merge(df, on=[\"query_id\", \"data_source\"])\n",
    ")"
   ]
  },
  {
   "cell_type": "code",
   "execution_count": 5,
   "id": "8e8cccf8-cab4-412e-8778-3e84cd8e6a4d",
   "metadata": {},
   "outputs": [],
   "source": [
    "fin_df['abstract'] = fin_df.pubmed_id.map(doc_id2abstract)"
   ]
  },
  {
   "cell_type": "code",
   "execution_count": 24,
   "id": "d1eb3a29-84ed-4e08-b29a-ebc21a4d4035",
   "metadata": {},
   "outputs": [],
   "source": [
    "fin_df.to_csv(\"../../../data/google_search/google_search_abstracts_keywords_part_1.csv\", index=0)"
   ]
  },
  {
   "cell_type": "markdown",
   "id": "5b078f99-b32c-46a9-81b4-9a4f410fa51b",
   "metadata": {
    "tags": []
   },
   "source": [
    "### Pt. 2"
   ]
  },
  {
   "cell_type": "code",
   "execution_count": 6,
   "id": "1d13be93-2b4c-4fe2-80cf-17a525d8eee7",
   "metadata": {
    "scrolled": true,
    "tags": []
   },
   "outputs": [],
   "source": [
    "pt1 = pd.read_csv(\"../../../data/google_search/google_search_abstracts_keywords_part_1.csv\")\n",
    "pt2_to_search = (\n",
    "    df\n",
    "    .merge(pt1, how='left', indicator=True)\n",
    "    .query(\"_merge == 'left_only'\")\n",
    "    .drop([\"pubmed_id\", 'abstract', '_merge'], axis=1)\n",
    "    .reset_index(drop=True)\n",
    ")"
   ]
  },
  {
   "cell_type": "code",
   "execution_count": 69,
   "id": "9386f42b-8b7f-484c-87d0-e30820af3805",
   "metadata": {},
   "outputs": [
    {
     "name": "stderr",
     "output_type": "stream",
     "text": [
      "100% (15 of 15) |########################| Elapsed Time: 0:00:10 Time:  0:00:10\n"
     ]
    }
   ],
   "source": [
    "for_dataframe = {item: [] for item in [\"query_id\", \"data_source\", \"pubmed_id\"]}\n",
    "\n",
    "for _, row in pb(pt2_to_search.iterrows(), max_value=len(pt2_to_search)):\n",
    "    query_id = row.query_id\n",
    "    data_source = row.data_source\n",
    "    query = row.query\n",
    "    \n",
    "    new_url = deepcopy(url)\n",
    "    new_url = new_url.replace(\"<QUERY>\", query)\n",
    "    response = requests.get(new_url, headers={'Content-Type': 'application/json'}).json()\n",
    "    \n",
    "    if \"items\" in response:\n",
    "        for resp in response['items']:\n",
    "            doc_id = resp['link'].split(\"/\")[-2]\n",
    "            for_dataframe['query_id'].append(query_id)\n",
    "            for_dataframe['data_source'].append(data_source)\n",
    "            for_dataframe['pubmed_id'].append(doc_id)"
   ]
  },
  {
   "cell_type": "code",
   "execution_count": 7,
   "id": "eee78eac-fc5a-4718-bb65-322b081fad0a",
   "metadata": {},
   "outputs": [],
   "source": [
    "fin_df = (\n",
    "    pd.DataFrame(for_dataframe)\n",
    "    .merge(pt2_to_search, on=[\"query_id\", \"data_source\"])\n",
    ")"
   ]
  },
  {
   "cell_type": "code",
   "execution_count": 8,
   "id": "93e72869-efc2-4779-a48d-abea43db427f",
   "metadata": {},
   "outputs": [],
   "source": [
    "fin_df['abstract'] = fin_df.pubmed_id.map(doc_id2abstract)"
   ]
  },
  {
   "cell_type": "code",
   "execution_count": 86,
   "id": "63e0ac22-3c09-47d4-b61d-dcbc37e278d1",
   "metadata": {},
   "outputs": [],
   "source": [
    "fin_df.to_csv(\"../../../data/google_search/google_search_abstracts_keywords_part_2.csv\", index=0)"
   ]
  },
  {
   "cell_type": "markdown",
   "id": "baaced0a-a02d-42c5-ba9a-854a58256bc2",
   "metadata": {},
   "source": [
    "## Question"
   ]
  },
  {
   "cell_type": "markdown",
   "id": "b629d109-5841-4a27-a8f1-94d111d8cf61",
   "metadata": {},
   "source": [
    "### Pt. 1"
   ]
  },
  {
   "cell_type": "code",
   "execution_count": 9,
   "id": "ee32bb3e-7871-49c6-9810-25d2e65c8469",
   "metadata": {},
   "outputs": [
    {
     "data": {
      "text/html": [
       "<div>\n",
       "<style scoped>\n",
       "    .dataframe tbody tr th:only-of-type {\n",
       "        vertical-align: middle;\n",
       "    }\n",
       "\n",
       "    .dataframe tbody tr th {\n",
       "        vertical-align: top;\n",
       "    }\n",
       "\n",
       "    .dataframe thead th {\n",
       "        text-align: right;\n",
       "    }\n",
       "</style>\n",
       "<table border=\"1\" class=\"dataframe\">\n",
       "  <thead>\n",
       "    <tr style=\"text-align: right;\">\n",
       "      <th></th>\n",
       "      <th>data_source</th>\n",
       "      <th>query_id</th>\n",
       "      <th>description</th>\n",
       "      <th>query</th>\n",
       "      <th>label</th>\n",
       "    </tr>\n",
       "  </thead>\n",
       "  <tbody>\n",
       "    <tr>\n",
       "      <th>0</th>\n",
       "      <td>2019</td>\n",
       "      <td>1</td>\n",
       "      <td>Can cranberries prevent urinary tract infections?</td>\n",
       "      <td>cranberries urinary tract infections</td>\n",
       "      <td>0.0</td>\n",
       "    </tr>\n",
       "    <tr>\n",
       "      <th>1</th>\n",
       "      <td>2019</td>\n",
       "      <td>3</td>\n",
       "      <td>Can acupuncture be effective for people with e...</td>\n",
       "      <td>acupuncture epilepsy</td>\n",
       "      <td>0.0</td>\n",
       "    </tr>\n",
       "    <tr>\n",
       "      <th>2</th>\n",
       "      <td>2019</td>\n",
       "      <td>5</td>\n",
       "      <td>Can acupuncture prevent migraines?</td>\n",
       "      <td>acupuncture migraine</td>\n",
       "      <td>1.0</td>\n",
       "    </tr>\n",
       "  </tbody>\n",
       "</table>\n",
       "</div>"
      ],
      "text/plain": [
       "  data_source query_id                                        description  \\\n",
       "0        2019        1  Can cranberries prevent urinary tract infections?   \n",
       "1        2019        3  Can acupuncture be effective for people with e...   \n",
       "2        2019        5                 Can acupuncture prevent migraines?   \n",
       "\n",
       "                                  query  label  \n",
       "0  cranberries urinary tract infections    0.0  \n",
       "1                  acupuncture epilepsy    0.0  \n",
       "2                  acupuncture migraine    1.0  "
      ]
     },
     "execution_count": 9,
     "metadata": {},
     "output_type": "execute_result"
    }
   ],
   "source": [
    "df = pd.read_csv(\"../../../data/data_to_process.csv\")\n",
    "df.head(3)"
   ]
  },
  {
   "cell_type": "code",
   "execution_count": 26,
   "id": "dfee9aba-e950-410d-86d1-8be8fa600a82",
   "metadata": {},
   "outputs": [
    {
     "name": "stderr",
     "output_type": "stream",
     "text": [
      "100% (50 of 50) |########################| Elapsed Time: 0:00:36 Time:  0:00:36\n"
     ]
    }
   ],
   "source": [
    "for_dataframe = {item: [] for item in [\"query_id\", \"data_source\", \"pubmed_id\"]}\n",
    "\n",
    "for _, row in pb(df.iterrows(), max_value=len(df)):\n",
    "    query_id = row.query_id\n",
    "    data_source = row.data_source\n",
    "    query = normalize_text(row.description, False).strip()\n",
    "    \n",
    "    new_url = deepcopy(url)\n",
    "    new_url = new_url.replace(\"<QUERY>\", query)\n",
    "    response = requests.get(new_url, headers={'Content-Type': 'application/json'}).json()\n",
    "    \n",
    "    if \"items\" in response:\n",
    "        for resp in response['items']:\n",
    "            doc_id = resp['link'].split(\"/\")[-2]\n",
    "            for_dataframe['query_id'].append(query_id)\n",
    "            for_dataframe['data_source'].append(data_source)\n",
    "            for_dataframe['pubmed_id'].append(doc_id)"
   ]
  },
  {
   "cell_type": "code",
   "execution_count": 10,
   "id": "9ddc89bd-c2df-431a-997c-33c325b34bbc",
   "metadata": {},
   "outputs": [],
   "source": [
    "fin_df = (\n",
    "    pd.DataFrame(for_dataframe)\n",
    "    .merge(df, on=[\"query_id\", \"data_source\"])\n",
    ")"
   ]
  },
  {
   "cell_type": "code",
   "execution_count": 11,
   "id": "b5d379b6-9250-4022-8f6d-dc8f3924a4e5",
   "metadata": {},
   "outputs": [],
   "source": [
    "fin_df['abstract'] = fin_df.pubmed_id.map(doc_id2abstract)"
   ]
  },
  {
   "cell_type": "code",
   "execution_count": 37,
   "id": "3abb1973-315d-4a93-8b65-f0c3d3d8663e",
   "metadata": {},
   "outputs": [],
   "source": [
    "fin_df.to_csv(\"../../../data/google_search/google_search_abstracts_question_part_1.csv\", index=0)"
   ]
  },
  {
   "cell_type": "markdown",
   "id": "a7690f9b-1ba7-4156-9ec9-3bb2e2c2ad92",
   "metadata": {
    "tags": []
   },
   "source": [
    "### Pt. 2"
   ]
  },
  {
   "cell_type": "code",
   "execution_count": 12,
   "id": "d6c39baa-484a-447e-bb78-b23c4560088c",
   "metadata": {},
   "outputs": [
    {
     "data": {
      "text/html": [
       "<div>\n",
       "<style scoped>\n",
       "    .dataframe tbody tr th:only-of-type {\n",
       "        vertical-align: middle;\n",
       "    }\n",
       "\n",
       "    .dataframe tbody tr th {\n",
       "        vertical-align: top;\n",
       "    }\n",
       "\n",
       "    .dataframe thead th {\n",
       "        text-align: right;\n",
       "    }\n",
       "</style>\n",
       "<table border=\"1\" class=\"dataframe\">\n",
       "  <thead>\n",
       "    <tr style=\"text-align: right;\">\n",
       "      <th></th>\n",
       "      <th>data_source</th>\n",
       "      <th>query_id</th>\n",
       "      <th>description</th>\n",
       "      <th>query</th>\n",
       "      <th>label</th>\n",
       "    </tr>\n",
       "  </thead>\n",
       "  <tbody>\n",
       "    <tr>\n",
       "      <th>0</th>\n",
       "      <td>2019</td>\n",
       "      <td>1</td>\n",
       "      <td>Can cranberries prevent urinary tract infections?</td>\n",
       "      <td>cranberries urinary tract infections</td>\n",
       "      <td>0.0</td>\n",
       "    </tr>\n",
       "    <tr>\n",
       "      <th>1</th>\n",
       "      <td>2019</td>\n",
       "      <td>3</td>\n",
       "      <td>Can acupuncture be effective for people with e...</td>\n",
       "      <td>acupuncture epilepsy</td>\n",
       "      <td>0.0</td>\n",
       "    </tr>\n",
       "    <tr>\n",
       "      <th>2</th>\n",
       "      <td>2019</td>\n",
       "      <td>5</td>\n",
       "      <td>Can acupuncture prevent migraines?</td>\n",
       "      <td>acupuncture migraine</td>\n",
       "      <td>1.0</td>\n",
       "    </tr>\n",
       "  </tbody>\n",
       "</table>\n",
       "</div>"
      ],
      "text/plain": [
       "  data_source query_id                                        description  \\\n",
       "0        2019        1  Can cranberries prevent urinary tract infections?   \n",
       "1        2019        3  Can acupuncture be effective for people with e...   \n",
       "2        2019        5                 Can acupuncture prevent migraines?   \n",
       "\n",
       "                                  query  label  \n",
       "0  cranberries urinary tract infections    0.0  \n",
       "1                  acupuncture epilepsy    0.0  \n",
       "2                  acupuncture migraine    1.0  "
      ]
     },
     "execution_count": 12,
     "metadata": {},
     "output_type": "execute_result"
    }
   ],
   "source": [
    "df = pd.read_csv(\"../../../data/data_to_process.csv\")\n",
    "df.head(3)"
   ]
  },
  {
   "cell_type": "code",
   "execution_count": null,
   "id": "d44fcf70-a60e-4725-83a3-5297c06c9f80",
   "metadata": {
    "tags": []
   },
   "outputs": [],
   "source": [
    "pt1 = pd.read_csv(\"../../../data/google_search/google_search_abstracts_question_part_1.csv\")\n",
    "pt1 = pt1.astype({\"query_id\": object})\n",
    "pt2_to_search = (\n",
    "    df\n",
    "    .merge(pt1, on=['query', 'description', 'data_source', 'label'], how='left', indicator=True)\n",
    "    .query(\"_merge == 'left_only'\")\n",
    "    .drop([\"pubmed_id\", 'abstract', '_merge', 'query_id_y'], axis=1)\n",
    "    .rename(columns={\"query_id_x\": \"query_id\"})\n",
    "    .reset_index(drop=True)\n",
    ")"
   ]
  },
  {
   "cell_type": "code",
   "execution_count": 146,
   "id": "84aebf8b-f8da-4b22-af2d-a6063cae46b1",
   "metadata": {},
   "outputs": [
    {
     "name": "stderr",
     "output_type": "stream",
     "text": [
      "100% (28 of 28) |########################| Elapsed Time: 0:00:16 Time:  0:00:16\n"
     ]
    }
   ],
   "source": [
    "for_dataframe = {item: [] for item in [\"query_id\", \"data_source\", \"pubmed_id\"]}\n",
    "\n",
    "for _, row in pb(pt2_to_search.iterrows(), max_value=len(pt2_to_search)):\n",
    "    query_id = row.query_id\n",
    "    data_source = row.data_source\n",
    "    query = normalize_text(row.description, False).strip()\n",
    "    \n",
    "    new_url = deepcopy(url)\n",
    "    new_url = new_url.replace(\"<QUERY>\", query)\n",
    "    response = requests.get(new_url, headers={'Content-Type': 'application/json'}).json()\n",
    "    \n",
    "    if \"items\" in response:\n",
    "        for resp in response['items']:\n",
    "            doc_id = resp['link'].split(\"/\")[-2]\n",
    "            for_dataframe['query_id'].append(query_id)\n",
    "            for_dataframe['data_source'].append(data_source)\n",
    "            for_dataframe['pubmed_id'].append(doc_id)"
   ]
  },
  {
   "cell_type": "code",
   "execution_count": null,
   "id": "a0c6586d-8325-45e9-be67-ddd474f9d9ff",
   "metadata": {},
   "outputs": [],
   "source": [
    "fin_df = (\n",
    "    pd.DataFrame(for_dataframe)\n",
    "    .merge(pt2_to_search, on=[\"query_id\", \"data_source\"])\n",
    ")"
   ]
  },
  {
   "cell_type": "code",
   "execution_count": null,
   "id": "8f3db59e-be8e-4719-b56c-778803460b32",
   "metadata": {},
   "outputs": [],
   "source": [
    "fin_df['abstract'] = fin_df.pubmed_id.map(doc_id2abstract)"
   ]
  },
  {
   "cell_type": "code",
   "execution_count": 152,
   "id": "cac0fa43-540b-422c-8c89-4e65ad641d7d",
   "metadata": {},
   "outputs": [],
   "source": [
    "fin_df.to_csv(\"../../../data/google_search/google_search_abstracts_question_part_2.csv\", index=0)"
   ]
  },
  {
   "cell_type": "code",
   "execution_count": null,
   "id": "e61711a3-25d8-4e24-aac2-c2b3b5146a04",
   "metadata": {},
   "outputs": [],
   "source": []
  }
 ],
 "metadata": {
  "kernelspec": {
   "display_name": "Python 3 (ipykernel)",
   "language": "python",
   "name": "python3"
  },
  "language_info": {
   "codemirror_mode": {
    "name": "ipython",
    "version": 3
   },
   "file_extension": ".py",
   "mimetype": "text/x-python",
   "name": "python",
   "nbconvert_exporter": "python",
   "pygments_lexer": "ipython3",
   "version": "3.10.0"
  }
 },
 "nbformat": 4,
 "nbformat_minor": 5
}
