{
 "cells": [
  {
   "cell_type": "code",
   "execution_count": 1,
   "id": "2b10556d-690c-428b-abb5-351958e642ab",
   "metadata": {},
   "outputs": [],
   "source": [
    "import json\n",
    "from progressbar import progressbar as pb\n",
    "import pandas as pd\n",
    "\n",
    "import sys\n",
    "sys.path.append(\"../\") # use utils"
   ]
  },
  {
   "cell_type": "code",
   "execution_count": 2,
   "id": "0e08e302-0ad9-430b-8035-c81b3aa9cc45",
   "metadata": {},
   "outputs": [
    {
     "data": {
      "text/plain": [
       "9187"
      ]
     },
     "execution_count": 2,
     "metadata": {},
     "output_type": "execute_result"
    }
   ],
   "source": [
    "with open(\"../../data/api_results/doc_id2abstract.json\") as f:\n",
    "    doc_id2abstract = json.load(f)\n",
    "len(doc_id2abstract)"
   ]
  },
  {
   "cell_type": "code",
   "execution_count": 3,
   "id": "21133858-ff3c-49b3-9ae9-74cf3e01e619",
   "metadata": {},
   "outputs": [
    {
     "data": {
      "text/html": [
       "<div>\n",
       "<style scoped>\n",
       "    .dataframe tbody tr th:only-of-type {\n",
       "        vertical-align: middle;\n",
       "    }\n",
       "\n",
       "    .dataframe tbody tr th {\n",
       "        vertical-align: top;\n",
       "    }\n",
       "\n",
       "    .dataframe thead th {\n",
       "        text-align: right;\n",
       "    }\n",
       "</style>\n",
       "<table border=\"1\" class=\"dataframe\">\n",
       "  <thead>\n",
       "    <tr style=\"text-align: right;\">\n",
       "      <th></th>\n",
       "      <th>data_source</th>\n",
       "      <th>query_id</th>\n",
       "      <th>description</th>\n",
       "      <th>query</th>\n",
       "      <th>label</th>\n",
       "    </tr>\n",
       "  </thead>\n",
       "  <tbody>\n",
       "    <tr>\n",
       "      <th>203</th>\n",
       "      <td>2022</td>\n",
       "      <td>151</td>\n",
       "      <td>Do tea bags help to clot blood in pulled teeth?</td>\n",
       "      <td>tea bags clot blood pulled teeth</td>\n",
       "      <td>1.0</td>\n",
       "    </tr>\n",
       "    <tr>\n",
       "      <th>204</th>\n",
       "      <td>2022</td>\n",
       "      <td>152</td>\n",
       "      <td>Can crystals heal?</td>\n",
       "      <td>crystals heal</td>\n",
       "      <td>0.0</td>\n",
       "    </tr>\n",
       "  </tbody>\n",
       "</table>\n",
       "</div>"
      ],
      "text/plain": [
       "    data_source query_id                                      description  \\\n",
       "203        2022      151  Do tea bags help to clot blood in pulled teeth?   \n",
       "204        2022      152                               Can crystals heal?   \n",
       "\n",
       "                                query  label  \n",
       "203  tea bags clot blood pulled teeth    1.0  \n",
       "204                     crystals heal    0.0  "
      ]
     },
     "execution_count": 3,
     "metadata": {},
     "output_type": "execute_result"
    }
   ],
   "source": [
    "df = pd.read_csv(\"../data_to_process_w_2022.csv\").query(\"data_source == '2022'\")\n",
    "df.head(2)"
   ]
  },
  {
   "cell_type": "markdown",
   "id": "bc45aad0-b981-4fa3-8d09-07d6f8161684",
   "metadata": {},
   "source": [
    "## Description"
   ]
  },
  {
   "cell_type": "code",
   "execution_count": 4,
   "id": "fd311e57-a407-4107-a8f8-494ef46aabfe",
   "metadata": {},
   "outputs": [],
   "source": [
    "with open(\"explorer_abstracts_2022_description.json\") as f:\n",
    "    descr_info = json.load(f)"
   ]
  },
  {
   "cell_type": "code",
   "execution_count": 5,
   "id": "2e0b89f2-3cd1-42f3-b667-89a32e4eb55f",
   "metadata": {},
   "outputs": [],
   "source": [
    "for_dataframe = {item: [] for item in [\"query_id\", \"data_source\", \"pubmed_id\", \"abstract\"]}\n",
    "\n",
    "for data_source, item in descr_info.items():\n",
    "    for query_id, doc_ids in item.items():\n",
    "        for doc_id in doc_ids:\n",
    "            for_dataframe['query_id'].append(query_id)\n",
    "            for_dataframe['data_source'].append(data_source)\n",
    "            for_dataframe['pubmed_id'].append(doc_id)\n",
    "            for_dataframe['abstract'].append(doc_id2abstract[doc_id])"
   ]
  },
  {
   "cell_type": "code",
   "execution_count": 6,
   "id": "9c75d5ea-b652-4c1e-8376-5a06ca7e4db7",
   "metadata": {},
   "outputs": [
    {
     "name": "stdout",
     "output_type": "stream",
     "text": [
      "483\n"
     ]
    },
    {
     "data": {
      "text/html": [
       "<div>\n",
       "<style scoped>\n",
       "    .dataframe tbody tr th:only-of-type {\n",
       "        vertical-align: middle;\n",
       "    }\n",
       "\n",
       "    .dataframe tbody tr th {\n",
       "        vertical-align: top;\n",
       "    }\n",
       "\n",
       "    .dataframe thead th {\n",
       "        text-align: right;\n",
       "    }\n",
       "</style>\n",
       "<table border=\"1\" class=\"dataframe\">\n",
       "  <thead>\n",
       "    <tr style=\"text-align: right;\">\n",
       "      <th></th>\n",
       "      <th>query_id</th>\n",
       "      <th>data_source</th>\n",
       "      <th>pubmed_id</th>\n",
       "      <th>abstract</th>\n",
       "      <th>description</th>\n",
       "      <th>query</th>\n",
       "      <th>label</th>\n",
       "      <th>query_processed</th>\n",
       "    </tr>\n",
       "  </thead>\n",
       "  <tbody>\n",
       "    <tr>\n",
       "      <th>0</th>\n",
       "      <td>151</td>\n",
       "      <td>2022</td>\n",
       "      <td>30984314</td>\n",
       "      <td>Medicinal plant products have been used in hea...</td>\n",
       "      <td>Do tea bags help to clot blood in pulled teeth?</td>\n",
       "      <td>tea bags clot blood pulled teeth</td>\n",
       "      <td>1.0</td>\n",
       "      <td>Do tea bags help to clot blood in pulled teeth?</td>\n",
       "    </tr>\n",
       "    <tr>\n",
       "      <th>1</th>\n",
       "      <td>151</td>\n",
       "      <td>2022</td>\n",
       "      <td>25024733</td>\n",
       "      <td>Background. Removing tooth results in gingival...</td>\n",
       "      <td>Do tea bags help to clot blood in pulled teeth?</td>\n",
       "      <td>tea bags clot blood pulled teeth</td>\n",
       "      <td>1.0</td>\n",
       "      <td>Do tea bags help to clot blood in pulled teeth?</td>\n",
       "    </tr>\n",
       "  </tbody>\n",
       "</table>\n",
       "</div>"
      ],
      "text/plain": [
       "  query_id data_source pubmed_id  \\\n",
       "0      151        2022  30984314   \n",
       "1      151        2022  25024733   \n",
       "\n",
       "                                            abstract  \\\n",
       "0  Medicinal plant products have been used in hea...   \n",
       "1  Background. Removing tooth results in gingival...   \n",
       "\n",
       "                                       description  \\\n",
       "0  Do tea bags help to clot blood in pulled teeth?   \n",
       "1  Do tea bags help to clot blood in pulled teeth?   \n",
       "\n",
       "                              query  label  \\\n",
       "0  tea bags clot blood pulled teeth    1.0   \n",
       "1  tea bags clot blood pulled teeth    1.0   \n",
       "\n",
       "                                   query_processed  \n",
       "0  Do tea bags help to clot blood in pulled teeth?  \n",
       "1  Do tea bags help to clot blood in pulled teeth?  "
      ]
     },
     "execution_count": 6,
     "metadata": {},
     "output_type": "execute_result"
    }
   ],
   "source": [
    "fin_df = (\n",
    "    pd.DataFrame(for_dataframe)\n",
    "    .merge(df, on=[\"query_id\", \"data_source\"])\n",
    ")\n",
    "fin_df = fin_df.assign(query_processed=fin_df.description)\n",
    "print(len(fin_df))\n",
    "fin_df.head(2)"
   ]
  },
  {
   "cell_type": "code",
   "execution_count": 7,
   "id": "30c3e2af-80ef-40ac-9e38-56280addda1f",
   "metadata": {},
   "outputs": [],
   "source": [
    "fin_df.to_csv(\"explorer_abstracts_description_2022.csv\", index=0)"
   ]
  },
  {
   "cell_type": "markdown",
   "id": "e0bdfdbe-0010-47e9-b2af-7e02510853f9",
   "metadata": {},
   "source": [
    "## Query"
   ]
  },
  {
   "cell_type": "code",
   "execution_count": 8,
   "id": "ca1c8399-fe51-4eda-b3b6-8993a179c987",
   "metadata": {},
   "outputs": [],
   "source": [
    "with open(\"explorer_abstracts_2022_query.json\") as f:\n",
    "    query_info = json.load(f)"
   ]
  },
  {
   "cell_type": "code",
   "execution_count": 9,
   "id": "2652977f-c84c-4b86-b94d-cc840197defa",
   "metadata": {},
   "outputs": [],
   "source": [
    "for_dataframe = {item: [] for item in [\"query_id\", \"data_source\", \"pubmed_id\", \"abstract\"]}\n",
    "\n",
    "for data_source, item in query_info.items():\n",
    "    for query_id, doc_ids in item.items():\n",
    "        for doc_id in doc_ids:\n",
    "            for_dataframe['query_id'].append(query_id)\n",
    "            for_dataframe['data_source'].append(data_source)\n",
    "            for_dataframe['pubmed_id'].append(doc_id)\n",
    "            for_dataframe['abstract'].append(doc_id2abstract[doc_id])"
   ]
  },
  {
   "cell_type": "code",
   "execution_count": 10,
   "id": "d0badfd1-242b-44fe-86c7-6db937cb5fe7",
   "metadata": {},
   "outputs": [
    {
     "name": "stdout",
     "output_type": "stream",
     "text": [
      "492\n"
     ]
    },
    {
     "data": {
      "text/html": [
       "<div>\n",
       "<style scoped>\n",
       "    .dataframe tbody tr th:only-of-type {\n",
       "        vertical-align: middle;\n",
       "    }\n",
       "\n",
       "    .dataframe tbody tr th {\n",
       "        vertical-align: top;\n",
       "    }\n",
       "\n",
       "    .dataframe thead th {\n",
       "        text-align: right;\n",
       "    }\n",
       "</style>\n",
       "<table border=\"1\" class=\"dataframe\">\n",
       "  <thead>\n",
       "    <tr style=\"text-align: right;\">\n",
       "      <th></th>\n",
       "      <th>query_id</th>\n",
       "      <th>data_source</th>\n",
       "      <th>pubmed_id</th>\n",
       "      <th>abstract</th>\n",
       "      <th>description</th>\n",
       "      <th>query</th>\n",
       "      <th>label</th>\n",
       "      <th>query_processed</th>\n",
       "    </tr>\n",
       "  </thead>\n",
       "  <tbody>\n",
       "    <tr>\n",
       "      <th>0</th>\n",
       "      <td>151</td>\n",
       "      <td>2022</td>\n",
       "      <td>19306025</td>\n",
       "      <td>This study reports the development and evaluat...</td>\n",
       "      <td>Do tea bags help to clot blood in pulled teeth?</td>\n",
       "      <td>tea bags clot blood pulled teeth</td>\n",
       "      <td>1.0</td>\n",
       "      <td>Do tea bags help to clot blood in pulled teeth?</td>\n",
       "    </tr>\n",
       "    <tr>\n",
       "      <th>1</th>\n",
       "      <td>151</td>\n",
       "      <td>2022</td>\n",
       "      <td>25024733</td>\n",
       "      <td>Background. Removing tooth results in gingival...</td>\n",
       "      <td>Do tea bags help to clot blood in pulled teeth?</td>\n",
       "      <td>tea bags clot blood pulled teeth</td>\n",
       "      <td>1.0</td>\n",
       "      <td>Do tea bags help to clot blood in pulled teeth?</td>\n",
       "    </tr>\n",
       "  </tbody>\n",
       "</table>\n",
       "</div>"
      ],
      "text/plain": [
       "  query_id data_source pubmed_id  \\\n",
       "0      151        2022  19306025   \n",
       "1      151        2022  25024733   \n",
       "\n",
       "                                            abstract  \\\n",
       "0  This study reports the development and evaluat...   \n",
       "1  Background. Removing tooth results in gingival...   \n",
       "\n",
       "                                       description  \\\n",
       "0  Do tea bags help to clot blood in pulled teeth?   \n",
       "1  Do tea bags help to clot blood in pulled teeth?   \n",
       "\n",
       "                              query  label  \\\n",
       "0  tea bags clot blood pulled teeth    1.0   \n",
       "1  tea bags clot blood pulled teeth    1.0   \n",
       "\n",
       "                                   query_processed  \n",
       "0  Do tea bags help to clot blood in pulled teeth?  \n",
       "1  Do tea bags help to clot blood in pulled teeth?  "
      ]
     },
     "execution_count": 10,
     "metadata": {},
     "output_type": "execute_result"
    }
   ],
   "source": [
    "fin_df = (\n",
    "    pd.DataFrame(for_dataframe)\n",
    "    .merge(df, on=[\"query_id\", \"data_source\"])\n",
    ")\n",
    "fin_df = fin_df.assign(query_processed=fin_df.description)\n",
    "print(len(fin_df))\n",
    "fin_df.head(2)"
   ]
  },
  {
   "cell_type": "code",
   "execution_count": 11,
   "id": "27b58de7-76a7-4049-926e-0dda90d7f7d0",
   "metadata": {},
   "outputs": [],
   "source": [
    "fin_df.to_csv(\"explorer_abstracts_query_2022.csv\", index=0)"
   ]
  },
  {
   "cell_type": "code",
   "execution_count": null,
   "id": "a1d60820-68e5-4c55-ba44-1c72426603f0",
   "metadata": {},
   "outputs": [],
   "source": []
  }
 ],
 "metadata": {
  "kernelspec": {
   "display_name": "Python 3 (ipykernel)",
   "language": "python",
   "name": "python3"
  },
  "language_info": {
   "codemirror_mode": {
    "name": "ipython",
    "version": 3
   },
   "file_extension": ".py",
   "mimetype": "text/x-python",
   "name": "python",
   "nbconvert_exporter": "python",
   "pygments_lexer": "ipython3",
   "version": "3.10.0"
  }
 },
 "nbformat": 4,
 "nbformat_minor": 5
}
