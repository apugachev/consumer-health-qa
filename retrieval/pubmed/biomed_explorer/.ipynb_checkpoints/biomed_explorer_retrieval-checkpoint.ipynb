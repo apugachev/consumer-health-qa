{
 "cells": [
  {
   "cell_type": "code",
   "execution_count": null,
   "id": "9f0661fb-483d-44ef-8764-b3be38182ab4",
   "metadata": {},
   "outputs": [],
   "source": [
    "from selenium import webdriver\n",
    "from selenium.webdriver.common.keys import Keys\n",
    "from selenium.webdriver.support.wait import WebDriverWait\n",
    "from selenium.common.exceptions import ElementClickInterceptedException, NoSuchElementException\n",
    "from selenium.webdriver.common.desired_capabilities import DesiredCapabilities\n",
    "from selenium.webdriver.chrome.options import Options\n",
    "from selenium.webdriver.common.by import By\n",
    "\n",
    "import time\n",
    "\n",
    "from bs4 import BeautifulSoup as bs\n",
    "import pandas as pd\n",
    "import json\n",
    "from progressbar import progressbar as pb\n",
    "\n",
    "import sys\n",
    "sys.path.append(\"../../../experiments/\") # use utils\n",
    "\n",
    "import warnings\n",
    "warnings.filterwarnings(\"ignore\")"
   ]
  },
  {
   "cell_type": "code",
   "execution_count": null,
   "id": "5599bc4a-61b8-4faa-bc3a-ee672317104b",
   "metadata": {},
   "outputs": [],
   "source": [
    "url = \"https://sites.research.google/biomedexplorer/\"\n",
    "pubmed_re = re.compile(\"https://www.ncbi.nlm.nih.gov/pubmed/\\d+\")"
   ]
  },
  {
   "cell_type": "code",
   "execution_count": null,
   "id": "e53eef6e-7cd5-4bbb-a4e3-da1396e92456",
   "metadata": {},
   "outputs": [],
   "source": [
    "df = pd.read_csv(\"../../../data/data_to_process.csv\")\n",
    "print(len(df))\n",
    "df.head(3)"
   ]
  },
  {
   "cell_type": "code",
   "execution_count": null,
   "id": "41161fb6-0226-481b-b11c-64fa3afe1c49",
   "metadata": {},
   "outputs": [],
   "source": [
    "def get_pubmed_ids_from_explorer(query, url=url, sleep=5, pubmed_re=pubmed_re):\n",
    "    caps = DesiredCapabilities().CHROME\n",
    "    caps[\"pageLoadStrategy\"] = \"eager\"\n",
    "    chrome_options = Options()\n",
    "    chrome_options.add_argument(\"--headless\")\n",
    "    chrome_options.add_argument(\"window-size=1200x600\")\n",
    "    \n",
    "    driver = webdriver.Chrome(\"selenium/chromedriver\", \n",
    "                                      desired_capabilities=caps,\n",
    "                                      options=chrome_options\n",
    "                             )\n",
    "    driver.get(url)\n",
    "    zoom = driver.find_element(By.XPATH, \"//input[@placeholder='Ask a question like \\\"What regulates the Warburg effect\\\"']\")\n",
    "    zoom.click()\n",
    "    zoom.send_keys(query)\n",
    "    zoom.send_keys(Keys.RETURN)\n",
    "    time.sleep(sleep)\n",
    "    html_page = driver.page_source\n",
    "    driver.close()\n",
    "    \n",
    "    return [item.split(\"/\")[-1] for item in pubmed_re.findall(html_page)]"
   ]
  },
  {
   "cell_type": "markdown",
   "id": "a36bedd8-c5f1-4315-9847-e6e4fa385f94",
   "metadata": {},
   "source": [
    "## Keywords"
   ]
  },
  {
   "cell_type": "code",
   "execution_count": null,
   "id": "d86614fe-f9b5-4766-844f-a60ee92e17f8",
   "metadata": {},
   "outputs": [],
   "source": [
    "result = {source: {} for source in df.data_source.unique()}\n",
    "\n",
    "for _, info in pb(df.iterrows(), max_value=len(df)):\n",
    "    d_source = info.data_source\n",
    "    q_id = info.query_id\n",
    "    q = info.query\n",
    "    \n",
    "    pubmed_ids = get_pubmed_ids_from_explorer(q)\n",
    "    \n",
    "    result[d_source][q_id] = pubmed_ids\n",
    "    time.sleep(2)"
   ]
  },
  {
   "cell_type": "code",
   "execution_count": null,
   "id": "f64651bc-e891-4697-912d-47850643ed95",
   "metadata": {
    "tags": []
   },
   "outputs": [],
   "source": [
    "with open('biomed_explorer_abstracts_keywords.json', 'w') as json_file:\n",
    "    json.dump(result, json_file, ensure_ascii=False, indent=4)"
   ]
  },
  {
   "cell_type": "markdown",
   "id": "207f1a93-408b-468f-8a82-61956ec44726",
   "metadata": {},
   "source": [
    "## Question"
   ]
  },
  {
   "cell_type": "code",
   "execution_count": null,
   "id": "5b6bf649-31f2-4d0d-bc95-aad519ea460e",
   "metadata": {},
   "outputs": [],
   "source": [
    "result = {source: {} for source in df.data_source.unique()}\n",
    "\n",
    "for _, info in pb(df.iterrows(), max_value=len(df)):\n",
    "    d_source = info.data_source\n",
    "    q_id = info.query_id\n",
    "    q = info.description\n",
    "    \n",
    "    pubmed_ids = get_pubmed_ids_from_explorer(q)\n",
    "    \n",
    "    result[d_source][q_id] = pubmed_ids\n",
    "    time.sleep(2)"
   ]
  },
  {
   "cell_type": "code",
   "execution_count": null,
   "id": "24af1881-58cd-4fd3-a212-f754d20101d8",
   "metadata": {},
   "outputs": [],
   "source": [
    "with open('biomed_explorer_abstracts_question.json', 'w') as json_file:\n",
    "    json.dump(result, json_file, ensure_ascii=False, indent=4)"
   ]
  },
  {
   "cell_type": "markdown",
   "id": "f26ebaa4-7f3b-4f51-b287-c73f364752e2",
   "metadata": {},
   "source": [
    "## Make CSV's"
   ]
  },
  {
   "cell_type": "code",
   "execution_count": null,
   "id": "6500d9b2-dcc6-4df4-897a-c5c1e5756604",
   "metadata": {},
   "outputs": [],
   "source": [
    "with open(\"../../../data/doc_id2abstract.json\") as f:\n",
    "    doc_id2abstract = json.load(f)"
   ]
  },
  {
   "cell_type": "markdown",
   "id": "cab53888-6882-4b57-b6e1-fe5aa1c9c3b5",
   "metadata": {},
   "source": [
    "## Keywords"
   ]
  },
  {
   "cell_type": "code",
   "execution_count": null,
   "id": "b02ea3f0-21ae-4544-b545-99091c0e0705",
   "metadata": {},
   "outputs": [],
   "source": [
    "with open(\"biomed_explorer_abstracts_keywords.json\") as f:\n",
    "    query_info = json.load(f)"
   ]
  },
  {
   "cell_type": "code",
   "execution_count": null,
   "id": "04d06437-2518-4e50-a439-61f558aafd4b",
   "metadata": {},
   "outputs": [],
   "source": [
    "for_dataframe = {item: [] for item in [\"query_id\", \"data_source\", \"pubmed_id\", \"abstract\"]}\n",
    "\n",
    "for data_source, item in query_info.items():\n",
    "    for query_id, doc_ids in item.items():\n",
    "        for doc_id in doc_ids:\n",
    "            for_dataframe['query_id'].append(query_id)\n",
    "            for_dataframe['data_source'].append(data_source)\n",
    "            for_dataframe['pubmed_id'].append(doc_id)\n",
    "            for_dataframe['abstract'].append(doc_id2abstract[doc_id])"
   ]
  },
  {
   "cell_type": "code",
   "execution_count": null,
   "id": "101b8349-9474-4d97-9dad-0f84163831bb",
   "metadata": {},
   "outputs": [],
   "source": [
    "fin_df = (\n",
    "    pd.DataFrame(for_dataframe)\n",
    "    .merge(df, on=[\"query_id\", \"data_source\"])\n",
    ")\n",
    "fin_df = fin_df.assign(query_processed=fin_df.description)"
   ]
  },
  {
   "cell_type": "code",
   "execution_count": null,
   "id": "dd8052e5-f262-4ccf-a4a0-587d89f5ae5d",
   "metadata": {},
   "outputs": [],
   "source": [
    "fin_df.to_csv(\"../../../data/biomed_explorer/biomed_explorer_abstracts_keywords.csv\", index=0)"
   ]
  },
  {
   "cell_type": "markdown",
   "id": "55a57b72-d13d-4d51-9c90-3111ee8cbc94",
   "metadata": {},
   "source": [
    "## Question"
   ]
  },
  {
   "cell_type": "code",
   "execution_count": null,
   "id": "a118d44c-5292-451b-ac44-902cff98d064",
   "metadata": {},
   "outputs": [],
   "source": [
    "with open(\"biomed_explorer_abstracts_question.json\") as f:\n",
    "    query_info = json.load(f)"
   ]
  },
  {
   "cell_type": "code",
   "execution_count": null,
   "id": "61775fa5-986f-40ea-a164-2d418f10e580",
   "metadata": {},
   "outputs": [],
   "source": [
    "for_dataframe = {item: [] for item in [\"query_id\", \"data_source\", \"pubmed_id\", \"abstract\"]}\n",
    "\n",
    "for data_source, item in descr_info.items():\n",
    "    for query_id, doc_ids in item.items():\n",
    "        for doc_id in doc_ids:\n",
    "            for_dataframe['query_id'].append(query_id)\n",
    "            for_dataframe['data_source'].append(data_source)\n",
    "            for_dataframe['pubmed_id'].append(doc_id)\n",
    "            for_dataframe['abstract'].append(doc_id2abstract[doc_id])"
   ]
  },
  {
   "cell_type": "code",
   "execution_count": null,
   "id": "e321f940-c88f-4175-ac79-dcf5739ae422",
   "metadata": {},
   "outputs": [],
   "source": [
    "fin_df = (\n",
    "    pd.DataFrame(for_dataframe)\n",
    "    .merge(df, on=[\"query_id\", \"data_source\"])\n",
    ")\n",
    "fin_df = fin_df.assign(query_processed=fin_df.description)"
   ]
  },
  {
   "cell_type": "code",
   "execution_count": null,
   "id": "2cddc766-65b8-4213-8c8e-f5c562b138ce",
   "metadata": {},
   "outputs": [],
   "source": [
    "fin_df.to_csv(\"../../../data/biomed_explorer/biomed_explorer_abstracts_question.csv\", index=0)"
   ]
  }
 ],
 "metadata": {
  "kernelspec": {
   "display_name": "Python 3 (ipykernel)",
   "language": "python",
   "name": "python3"
  },
  "language_info": {
   "codemirror_mode": {
    "name": "ipython",
    "version": 3
   },
   "file_extension": ".py",
   "mimetype": "text/x-python",
   "name": "python",
   "nbconvert_exporter": "python",
   "pygments_lexer": "ipython3",
   "version": "3.10.0"
  }
 },
 "nbformat": 4,
 "nbformat_minor": 5
}
