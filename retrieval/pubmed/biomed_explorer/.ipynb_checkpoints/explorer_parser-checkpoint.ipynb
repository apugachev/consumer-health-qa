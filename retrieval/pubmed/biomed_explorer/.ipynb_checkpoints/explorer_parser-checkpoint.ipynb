{
 "cells": [
  {
   "cell_type": "code",
   "execution_count": 1,
   "id": "1efc4d54-f5c9-4ced-aaa4-ad66f01426f2",
   "metadata": {},
   "outputs": [],
   "source": [
    "from selenium import webdriver\n",
    "from selenium.webdriver.common.keys import Keys\n",
    "from selenium.webdriver.support.wait import WebDriverWait\n",
    "from selenium.common.exceptions import ElementClickInterceptedException, NoSuchElementException\n",
    "from selenium.webdriver.common.desired_capabilities import DesiredCapabilities\n",
    "from selenium.webdriver.chrome.options import Options\n",
    "from selenium.webdriver.common.by import By\n",
    "\n",
    "import time\n",
    "\n",
    "from bs4 import BeautifulSoup as bs\n",
    "\n",
    "import warnings\n",
    "warnings.filterwarnings(\"ignore\")"
   ]
  },
  {
   "cell_type": "code",
   "execution_count": 2,
   "id": "3fd1dd4e-9bff-404e-a8c5-91e3d536cf67",
   "metadata": {},
   "outputs": [],
   "source": [
    "url = \"https://sites.research.google/biomedexplorer/\"\n",
    "pubmed_re = re.compile(\"https://www.ncbi.nlm.nih.gov/pubmed/\\d+\")"
   ]
  },
  {
   "cell_type": "code",
   "execution_count": 4,
   "id": "a5664818-bf46-4b38-9f80-97bd0cb5cb9c",
   "metadata": {},
   "outputs": [
    {
     "name": "stdout",
     "output_type": "stream",
     "text": [
      "50\n"
     ]
    },
    {
     "data": {
      "text/html": [
       "<div>\n",
       "<style scoped>\n",
       "    .dataframe tbody tr th:only-of-type {\n",
       "        vertical-align: middle;\n",
       "    }\n",
       "\n",
       "    .dataframe tbody tr th {\n",
       "        vertical-align: top;\n",
       "    }\n",
       "\n",
       "    .dataframe thead th {\n",
       "        text-align: right;\n",
       "    }\n",
       "</style>\n",
       "<table border=\"1\" class=\"dataframe\">\n",
       "  <thead>\n",
       "    <tr style=\"text-align: right;\">\n",
       "      <th></th>\n",
       "      <th>data_source</th>\n",
       "      <th>query_id</th>\n",
       "      <th>description</th>\n",
       "      <th>query</th>\n",
       "      <th>label</th>\n",
       "    </tr>\n",
       "  </thead>\n",
       "  <tbody>\n",
       "    <tr>\n",
       "      <th>203</th>\n",
       "      <td>2022</td>\n",
       "      <td>151</td>\n",
       "      <td>Do tea bags help to clot blood in pulled teeth?</td>\n",
       "      <td>tea bags clot blood pulled teeth</td>\n",
       "      <td>1.0</td>\n",
       "    </tr>\n",
       "    <tr>\n",
       "      <th>204</th>\n",
       "      <td>2022</td>\n",
       "      <td>152</td>\n",
       "      <td>Can crystals heal?</td>\n",
       "      <td>crystals heal</td>\n",
       "      <td>0.0</td>\n",
       "    </tr>\n",
       "    <tr>\n",
       "      <th>205</th>\n",
       "      <td>2022</td>\n",
       "      <td>153</td>\n",
       "      <td>Can collagen supplements cure osteoarthritis?</td>\n",
       "      <td>collagen supplements osteoarthritis</td>\n",
       "      <td>0.0</td>\n",
       "    </tr>\n",
       "  </tbody>\n",
       "</table>\n",
       "</div>"
      ],
      "text/plain": [
       "    data_source query_id                                      description  \\\n",
       "203        2022      151  Do tea bags help to clot blood in pulled teeth?   \n",
       "204        2022      152                               Can crystals heal?   \n",
       "205        2022      153    Can collagen supplements cure osteoarthritis?   \n",
       "\n",
       "                                   query  label  \n",
       "203     tea bags clot blood pulled teeth    1.0  \n",
       "204                        crystals heal    0.0  \n",
       "205  collagen supplements osteoarthritis    0.0  "
      ]
     },
     "execution_count": 4,
     "metadata": {},
     "output_type": "execute_result"
    }
   ],
   "source": [
    "df = pd.read_csv(\"../data_to_process_w_2022.csv\").query(\"data_source == '2022'\")\n",
    "print(len(df))\n",
    "df.head(3)"
   ]
  },
  {
   "cell_type": "code",
   "execution_count": 8,
   "id": "6a0c38fd-0539-4d52-a12c-a181a46871f6",
   "metadata": {},
   "outputs": [],
   "source": [
    "def get_pubmed_ids_from_explorer(query, url=url, sleep=5, pubmed_re=pubmed_re):\n",
    "    caps = DesiredCapabilities().CHROME\n",
    "    caps[\"pageLoadStrategy\"] = \"eager\"\n",
    "    chrome_options = Options()\n",
    "    chrome_options.add_argument(\"--headless\")\n",
    "    chrome_options.add_argument(\"window-size=1200x600\")\n",
    "    \n",
    "    driver = webdriver.Chrome(\"selenium/chromedriver\", \n",
    "                                      desired_capabilities=caps,\n",
    "                                      options=chrome_options\n",
    "                             )\n",
    "    driver.get(url)\n",
    "    zoom = driver.find_element(By.XPATH, \"//input[@placeholder='Ask a question like \\\"What regulates the Warburg effect\\\"']\")\n",
    "    zoom.click()\n",
    "    zoom.send_keys(query)\n",
    "    zoom.send_keys(Keys.RETURN)\n",
    "    time.sleep(sleep)\n",
    "    html_page = driver.page_source\n",
    "    driver.close()\n",
    "    \n",
    "    return [item.split(\"/\")[-1] for item in pubmed_re.findall(html_page)]"
   ]
  },
  {
   "cell_type": "markdown",
   "id": "a0b192dd-0932-48d7-84a5-a3fb0053e5c7",
   "metadata": {},
   "source": [
    "## Description"
   ]
  },
  {
   "cell_type": "code",
   "execution_count": 10,
   "id": "565e0f27-efc6-4270-9c3e-ad4dc46d6984",
   "metadata": {},
   "outputs": [
    {
     "name": "stderr",
     "output_type": "stream",
     "text": [
      "100% (50 of 50) |########################| Elapsed Time: 0:08:27 Time:  0:08:27\n"
     ]
    }
   ],
   "source": [
    "result = {source: {} for source in df.data_source.unique()}\n",
    "\n",
    "for _, info in pb(df.iterrows(), max_value=len(df)):\n",
    "    d_source = info.data_source\n",
    "    q_id = info.query_id\n",
    "    q = info.description\n",
    "    \n",
    "    pubmed_ids = get_pubmed_ids_from_explorer(q)\n",
    "    \n",
    "    result[d_source][q_id] = pubmed_ids\n",
    "    time.sleep(2)"
   ]
  },
  {
   "cell_type": "code",
   "execution_count": 11,
   "id": "eea061c5-0740-4ed6-bb7e-a726360b2c71",
   "metadata": {},
   "outputs": [],
   "source": [
    "import json\n",
    "with open('explorer_abstracts_2022_description.json', 'w') as json_file:\n",
    "    json.dump(result, json_file, ensure_ascii=False, indent=4)"
   ]
  },
  {
   "cell_type": "markdown",
   "id": "edb4fe81-487a-487b-9da3-9eacf25fc266",
   "metadata": {},
   "source": [
    "## Query"
   ]
  },
  {
   "cell_type": "code",
   "execution_count": 12,
   "id": "4c4ca73a-9bb1-4fcc-8214-ae819e1c5c21",
   "metadata": {},
   "outputs": [
    {
     "name": "stderr",
     "output_type": "stream",
     "text": [
      "100% (50 of 50) |########################| Elapsed Time: 0:08:23 Time:  0:08:23\n"
     ]
    }
   ],
   "source": [
    "result = {source: {} for source in df.data_source.unique()}\n",
    "\n",
    "for _, info in pb(df.iterrows(), max_value=len(df)):\n",
    "    d_source = info.data_source\n",
    "    q_id = info.query_id\n",
    "    q = info.query\n",
    "    \n",
    "    pubmed_ids = get_pubmed_ids_from_explorer(q)\n",
    "    \n",
    "    result[d_source][q_id] = pubmed_ids\n",
    "    time.sleep(2)"
   ]
  },
  {
   "cell_type": "code",
   "execution_count": 13,
   "id": "288a4ebb-3cad-456f-850a-b74d2f11460e",
   "metadata": {},
   "outputs": [],
   "source": [
    "import json\n",
    "with open('explorer_abstracts_2022_query.json', 'w') as json_file:\n",
    "    json.dump(result, json_file, ensure_ascii=False, indent=4)"
   ]
  },
  {
   "cell_type": "code",
   "execution_count": null,
   "id": "81fe7a91-42f5-41b9-988b-4a5fff9fb172",
   "metadata": {},
   "outputs": [],
   "source": []
  }
 ],
 "metadata": {
  "kernelspec": {
   "display_name": "Python 3 (ipykernel)",
   "language": "python",
   "name": "python3"
  },
  "language_info": {
   "codemirror_mode": {
    "name": "ipython",
    "version": 3
   },
   "file_extension": ".py",
   "mimetype": "text/x-python",
   "name": "python",
   "nbconvert_exporter": "python",
   "pygments_lexer": "ipython3",
   "version": "3.10.0"
  }
 },
 "nbformat": 4,
 "nbformat_minor": 5
}
