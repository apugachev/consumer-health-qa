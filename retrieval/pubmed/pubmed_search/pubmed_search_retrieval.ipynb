{
 "cells": [
  {
   "cell_type": "code",
   "execution_count": 1,
   "id": "d0e89c5d-00e2-4893-b531-2e7d58249e08",
   "metadata": {},
   "outputs": [],
   "source": [
    "import sys\n",
    "sys.path.append(\"../../../experiments/\") # use utils\n",
    "\n",
    "import utils\n",
    "import importlib\n",
    "importlib.reload(utils)\n",
    "\n",
    "from utils import calc_auc, get_abstract, normalize_text\n",
    "\n",
    "import requests\n",
    "import json\n",
    "from progressbar import progressbar as pb\n",
    "from copy import deepcopy"
   ]
  },
  {
   "cell_type": "code",
   "execution_count": 2,
   "id": "978f3a56-bcc7-474a-87d1-aacaadb47743",
   "metadata": {},
   "outputs": [
    {
     "data": {
      "text/plain": [
       "9476"
      ]
     },
     "execution_count": 2,
     "metadata": {},
     "output_type": "execute_result"
    }
   ],
   "source": [
    "with open(\"../../../data/doc_id2abstract.json\") as f:\n",
    "    doc_id2abstract = json.load(f)\n",
    "len(doc_id2abstract)"
   ]
  },
  {
   "cell_type": "code",
   "execution_count": 3,
   "id": "df48b721-a4be-464b-a774-bf55861793c6",
   "metadata": {},
   "outputs": [
    {
     "name": "stdout",
     "output_type": "stream",
     "text": [
      "113\n"
     ]
    },
    {
     "data": {
      "text/html": [
       "<div>\n",
       "<style scoped>\n",
       "    .dataframe tbody tr th:only-of-type {\n",
       "        vertical-align: middle;\n",
       "    }\n",
       "\n",
       "    .dataframe tbody tr th {\n",
       "        vertical-align: top;\n",
       "    }\n",
       "\n",
       "    .dataframe thead th {\n",
       "        text-align: right;\n",
       "    }\n",
       "</style>\n",
       "<table border=\"1\" class=\"dataframe\">\n",
       "  <thead>\n",
       "    <tr style=\"text-align: right;\">\n",
       "      <th></th>\n",
       "      <th>data_source</th>\n",
       "      <th>query_id</th>\n",
       "      <th>description</th>\n",
       "      <th>query</th>\n",
       "      <th>label</th>\n",
       "    </tr>\n",
       "  </thead>\n",
       "  <tbody>\n",
       "    <tr>\n",
       "      <th>0</th>\n",
       "      <td>2019</td>\n",
       "      <td>1</td>\n",
       "      <td>Can cranberries prevent urinary tract infections?</td>\n",
       "      <td>cranberries urinary tract infections</td>\n",
       "      <td>0.0</td>\n",
       "    </tr>\n",
       "    <tr>\n",
       "      <th>1</th>\n",
       "      <td>2019</td>\n",
       "      <td>3</td>\n",
       "      <td>Can acupuncture be effective for people with e...</td>\n",
       "      <td>acupuncture epilepsy</td>\n",
       "      <td>0.0</td>\n",
       "    </tr>\n",
       "    <tr>\n",
       "      <th>2</th>\n",
       "      <td>2019</td>\n",
       "      <td>5</td>\n",
       "      <td>Can acupuncture prevent migraines?</td>\n",
       "      <td>acupuncture migraine</td>\n",
       "      <td>1.0</td>\n",
       "    </tr>\n",
       "  </tbody>\n",
       "</table>\n",
       "</div>"
      ],
      "text/plain": [
       "  data_source query_id                                        description  \\\n",
       "0        2019        1  Can cranberries prevent urinary tract infections?   \n",
       "1        2019        3  Can acupuncture be effective for people with e...   \n",
       "2        2019        5                 Can acupuncture prevent migraines?   \n",
       "\n",
       "                                  query  label  \n",
       "0  cranberries urinary tract infections    0.0  \n",
       "1                  acupuncture epilepsy    0.0  \n",
       "2                  acupuncture migraine    1.0  "
      ]
     },
     "execution_count": 3,
     "metadata": {},
     "output_type": "execute_result"
    }
   ],
   "source": [
    "df = pd.read_csv(\"../../../data/data_to_process.csv\")\n",
    "print(len(df))\n",
    "df.head(3)"
   ]
  },
  {
   "cell_type": "code",
   "execution_count": 28,
   "id": "21fa4027-9497-4d92-a6e0-1d6f77332c6d",
   "metadata": {},
   "outputs": [],
   "source": [
    "url_template = \"https://eutils.ncbi.nlm.nih.gov/entrez/eutils/esearch.fcgi?db=pubmed&term=<QUERY>+AND+humans[MeSH%20Terms]&retmode=json\""
   ]
  },
  {
   "cell_type": "code",
   "execution_count": 29,
   "id": "e14ddceb-3c85-46f6-a1ac-2bccacbeed93",
   "metadata": {},
   "outputs": [],
   "source": [
    "def reform_query(q):\n",
    "    tokens = q.split()\n",
    "    return \"[TIAB]+AND+\".join(tokens) + \"[TIAB]\""
   ]
  },
  {
   "cell_type": "markdown",
   "id": "d6a483cc-7eff-4be8-8e50-b0399319dd06",
   "metadata": {},
   "source": [
    "## Keywords"
   ]
  },
  {
   "cell_type": "code",
   "execution_count": 30,
   "id": "8b491ed8-63b2-4877-9eba-55cbbc9344cd",
   "metadata": {},
   "outputs": [
    {
     "name": "stderr",
     "output_type": "stream",
     "text": [
      "100% (50 of 50) |########################| Elapsed Time: 0:01:07 Time:  0:01:07\n"
     ]
    }
   ],
   "source": [
    "for_dataframe = {item: [] for item in [\"query_id\", \"data_source\", \"pubmed_id\"]}\n",
    "\n",
    "for _, row in pb(df.iterrows(), max_value=len(df)):\n",
    "    query_id = row.query_id\n",
    "    data_source = row.data_source\n",
    "    query = row.query\n",
    "    query = normalize_text(query, need_lemmatize=False)\n",
    "    \n",
    "    new_url = deepcopy(url_template)\n",
    "    new_url = new_url.replace(\"<QUERY>\", reform_query(query))\n",
    "    response = requests.get(new_url, headers={'Content-Type': 'application/json'}).json()\n",
    "    \n",
    "    id_list = response['esearchresult']['idlist'][:10] # TOP 10 ABSTRACTS\n",
    "    \n",
    "    for doc_id in id_list:\n",
    "        for_dataframe['query_id'].append(query_id)\n",
    "        for_dataframe['data_source'].append(data_source)\n",
    "        for_dataframe['pubmed_id'].append(doc_id)"
   ]
  },
  {
   "cell_type": "code",
   "execution_count": null,
   "id": "dbe458dd-35aa-4db1-8067-5e6d8b80e47e",
   "metadata": {},
   "outputs": [],
   "source": [
    "fin_df = (\n",
    "    pd.DataFrame(for_dataframe)\n",
    "    .merge(df, on=[\"query_id\", \"data_source\"])\n",
    ")"
   ]
  },
  {
   "cell_type": "code",
   "execution_count": null,
   "id": "49c025e2-99a1-408d-bf11-67c11525a518",
   "metadata": {},
   "outputs": [],
   "source": [
    "fin_df['abstract'] = fin_df.pubmed_id.map(doc_id2abstract)\n",
    "fin_df = fin_df.dropna().query(\"abstract != ''\")\n",
    "fin_df"
   ]
  },
  {
   "cell_type": "code",
   "execution_count": 36,
   "id": "ccb91984-16b0-41b5-a8ad-b02ce7a9c5f0",
   "metadata": {},
   "outputs": [],
   "source": [
    "fin_df.to_csv(\"../../../data/pubmed_search/pubmed_search_abstracts_keywords.csv\", index=0)"
   ]
  },
  {
   "cell_type": "markdown",
   "id": "59f5d104-a734-4152-b31b-e4201c0cee36",
   "metadata": {},
   "source": [
    "## Question"
   ]
  },
  {
   "cell_type": "code",
   "execution_count": 13,
   "id": "e1fdd007-64ee-43a8-9123-0572793d24b6",
   "metadata": {},
   "outputs": [],
   "source": [
    "url_template = \"https://eutils.ncbi.nlm.nih.gov/entrez/eutils/esearch.fcgi?db=pubmed&term=<QUERY>&retmode=json\""
   ]
  },
  {
   "cell_type": "code",
   "execution_count": 14,
   "id": "bd9f9365-0d38-466c-b1a2-7860eddfd0c3",
   "metadata": {},
   "outputs": [],
   "source": [
    "def reform_query(q):\n",
    "    tokens = q.split()\n",
    "    return \" \".join(tokens)"
   ]
  },
  {
   "cell_type": "code",
   "execution_count": 15,
   "id": "c792a1da-1f54-42dc-8cda-ad6a1c0418aa",
   "metadata": {},
   "outputs": [
    {
     "name": "stderr",
     "output_type": "stream",
     "text": [
      "100% (50 of 50) |########################| Elapsed Time: 0:01:06 Time:  0:01:06\n"
     ]
    }
   ],
   "source": [
    "for_dataframe = {item: [] for item in [\"query_id\", \"data_source\", \"pubmed_id\"]}\n",
    "\n",
    "for _, row in pb(df.iterrows(), max_value=len(df)):\n",
    "    query_id = row.query_id\n",
    "    data_source = row.data_source\n",
    "    query = row.description\n",
    "    query = normalize_text(query, need_lemmatize=False).strip()\n",
    "    \n",
    "    new_url = deepcopy(url_template)\n",
    "    new_url = new_url.replace(\"<QUERY>\", reform_query(query))\n",
    "    response = requests.get(new_url, headers={'Content-Type': 'application/json'}).json()\n",
    "    \n",
    "    id_list = response['esearchresult']['idlist'][:10] # TOP 10 ABSTRACTS\n",
    "    \n",
    "    for doc_id in id_list:\n",
    "        for_dataframe['query_id'].append(query_id)\n",
    "        for_dataframe['data_source'].append(data_source)\n",
    "        for_dataframe['pubmed_id'].append(doc_id)"
   ]
  },
  {
   "cell_type": "code",
   "execution_count": null,
   "id": "452a5daa-effd-4a8a-b2dc-6928ebf8cca4",
   "metadata": {},
   "outputs": [],
   "source": [
    "fin_df = (\n",
    "    pd.DataFrame(for_dataframe)\n",
    "    .merge(df, on=[\"query_id\", \"data_source\"])\n"
   ]
  },
  {
   "cell_type": "code",
   "execution_count": null,
   "id": "2bdf2d4e-b407-4b10-be18-aa8dfaecdeb4",
   "metadata": {},
   "outputs": [],
   "source": [
    "fin_df['abstract'] = fin_df.pubmed_id.map(doc_id2abstract)\n",
    "fin_df = fin_df.dropna().query(\"abstract != ''\")"
   ]
  },
  {
   "cell_type": "code",
   "execution_count": 26,
   "id": "6fd41a92-a145-43ba-9698-22fb43c42466",
   "metadata": {},
   "outputs": [],
   "source": [
    "fin_df.to_csv(\"../../../data/pubmed_search/pubmed_search_abstracts_question.csv\", index=0)"
   ]
  },
  {
   "cell_type": "code",
   "execution_count": null,
   "id": "f4f4bbed-e91b-462f-999b-9edab1e48a90",
   "metadata": {},
   "outputs": [],
   "source": []
  }
 ],
 "metadata": {
  "kernelspec": {
   "display_name": "Python 3 (ipykernel)",
   "language": "python",
   "name": "python3"
  },
  "language_info": {
   "codemirror_mode": {
    "name": "ipython",
    "version": 3
   },
   "file_extension": ".py",
   "mimetype": "text/x-python",
   "name": "python",
   "nbconvert_exporter": "python",
   "pygments_lexer": "ipython3",
   "version": "3.10.0"
  }
 },
 "nbformat": 4,
 "nbformat_minor": 5
}
