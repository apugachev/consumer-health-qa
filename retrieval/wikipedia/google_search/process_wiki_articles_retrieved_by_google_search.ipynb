{
 "cells": [
  {
   "cell_type": "code",
   "execution_count": 8,
   "id": "119a5cd5-3fa5-49c9-8d4b-c06f0383c94f",
   "metadata": {},
   "outputs": [],
   "source": [
    "import pandas as pd\n",
    "import wikipedia\n",
    "from wikipedia.exceptions import DisambiguationError, PageError\n",
    "\n",
    "import warnings\n",
    "warnings.filterwarnings(\"ignore\")\n",
    "\n",
    "import sys\n",
    "sys.path.append(\"../\") # use utils\n",
    "\n",
    "from utils import normalize_text"
   ]
  },
  {
   "cell_type": "code",
   "execution_count": 2,
   "id": "e89f4fde-ffb0-44f4-9f2a-9ec0f47ac4d4",
   "metadata": {},
   "outputs": [
    {
     "data": {
      "text/html": [
       "<div>\n",
       "<style scoped>\n",
       "    .dataframe tbody tr th:only-of-type {\n",
       "        vertical-align: middle;\n",
       "    }\n",
       "\n",
       "    .dataframe tbody tr th {\n",
       "        vertical-align: top;\n",
       "    }\n",
       "\n",
       "    .dataframe thead th {\n",
       "        text-align: right;\n",
       "    }\n",
       "</style>\n",
       "<table border=\"1\" class=\"dataframe\">\n",
       "  <thead>\n",
       "    <tr style=\"text-align: right;\">\n",
       "      <th></th>\n",
       "      <th>data_source</th>\n",
       "      <th>query_id</th>\n",
       "      <th>description</th>\n",
       "      <th>query</th>\n",
       "      <th>label</th>\n",
       "    </tr>\n",
       "  </thead>\n",
       "  <tbody>\n",
       "    <tr>\n",
       "      <th>0</th>\n",
       "      <td>2019</td>\n",
       "      <td>1</td>\n",
       "      <td>Can cranberries prevent urinary tract infections?</td>\n",
       "      <td>cranberries urinary tract infections</td>\n",
       "      <td>0.0</td>\n",
       "    </tr>\n",
       "    <tr>\n",
       "      <th>1</th>\n",
       "      <td>2019</td>\n",
       "      <td>3</td>\n",
       "      <td>Can acupuncture be effective for people with epilepsy?</td>\n",
       "      <td>acupuncture epilepsy</td>\n",
       "      <td>0.0</td>\n",
       "    </tr>\n",
       "    <tr>\n",
       "      <th>2</th>\n",
       "      <td>2019</td>\n",
       "      <td>5</td>\n",
       "      <td>Can acupuncture prevent migraines?</td>\n",
       "      <td>acupuncture migraine</td>\n",
       "      <td>1.0</td>\n",
       "    </tr>\n",
       "  </tbody>\n",
       "</table>\n",
       "</div>"
      ],
      "text/plain": [
       "  data_source query_id                                             description                                 query  label\n",
       "0        2019        1       Can cranberries prevent urinary tract infections?  cranberries urinary tract infections    0.0\n",
       "1        2019        3  Can acupuncture be effective for people with epilepsy?                  acupuncture epilepsy    0.0\n",
       "2        2019        5                      Can acupuncture prevent migraines?                  acupuncture migraine    1.0"
      ]
     },
     "execution_count": 2,
     "metadata": {},
     "output_type": "execute_result"
    }
   ],
   "source": [
    "pd.set_option('display.max_rows', 500)\n",
    "pd.set_option('display.max_columns', 500)\n",
    "pd.set_option('display.width', 1000)\n",
    "pd.set_option('max_colwidth', 400)\n",
    "\n",
    "init_data = pd.read_csv(\"../data_to_process.csv\").query(\"data_source != 'wh_topics'\")\n",
    "init_data.head(3)"
   ]
  },
  {
   "cell_type": "code",
   "execution_count": 3,
   "id": "b49c687c-11ef-4e4b-a02d-cacb17802e0f",
   "metadata": {},
   "outputs": [
    {
     "name": "stdout",
     "output_type": "stream",
     "text": [
      "1113\n"
     ]
    },
    {
     "data": {
      "text/html": [
       "<div>\n",
       "<style scoped>\n",
       "    .dataframe tbody tr th:only-of-type {\n",
       "        vertical-align: middle;\n",
       "    }\n",
       "\n",
       "    .dataframe tbody tr th {\n",
       "        vertical-align: top;\n",
       "    }\n",
       "\n",
       "    .dataframe thead th {\n",
       "        text-align: right;\n",
       "    }\n",
       "</style>\n",
       "<table border=\"1\" class=\"dataframe\">\n",
       "  <thead>\n",
       "    <tr style=\"text-align: right;\">\n",
       "      <th></th>\n",
       "      <th>query_id</th>\n",
       "      <th>data_source</th>\n",
       "      <th>pubmed_id</th>\n",
       "      <th>description</th>\n",
       "      <th>query</th>\n",
       "      <th>label</th>\n",
       "    </tr>\n",
       "  </thead>\n",
       "  <tbody>\n",
       "    <tr>\n",
       "      <th>0</th>\n",
       "      <td>1</td>\n",
       "      <td>2019</td>\n",
       "      <td>https://en.wikipedia.org/wiki/Cranberry</td>\n",
       "      <td>Can cranberries prevent urinary tract infections?</td>\n",
       "      <td>cranberries urinary tract infections</td>\n",
       "      <td>0.0</td>\n",
       "    </tr>\n",
       "    <tr>\n",
       "      <th>1</th>\n",
       "      <td>1</td>\n",
       "      <td>2019</td>\n",
       "      <td>https://en.wikipedia.org/wiki/Cranberry_juice</td>\n",
       "      <td>Can cranberries prevent urinary tract infections?</td>\n",
       "      <td>cranberries urinary tract infections</td>\n",
       "      <td>0.0</td>\n",
       "    </tr>\n",
       "    <tr>\n",
       "      <th>2</th>\n",
       "      <td>1</td>\n",
       "      <td>2019</td>\n",
       "      <td>https://en.wikipedia.org/wiki/Urinary_tract_infection</td>\n",
       "      <td>Can cranberries prevent urinary tract infections?</td>\n",
       "      <td>cranberries urinary tract infections</td>\n",
       "      <td>0.0</td>\n",
       "    </tr>\n",
       "    <tr>\n",
       "      <th>3</th>\n",
       "      <td>1</td>\n",
       "      <td>2019</td>\n",
       "      <td>https://en.wikipedia.org/wiki/Proanthocyanidin</td>\n",
       "      <td>Can cranberries prevent urinary tract infections?</td>\n",
       "      <td>cranberries urinary tract infections</td>\n",
       "      <td>0.0</td>\n",
       "    </tr>\n",
       "    <tr>\n",
       "      <th>4</th>\n",
       "      <td>1</td>\n",
       "      <td>2019</td>\n",
       "      <td>https://en.wikipedia.org/wiki/Talk%3ACranberry</td>\n",
       "      <td>Can cranberries prevent urinary tract infections?</td>\n",
       "      <td>cranberries urinary tract infections</td>\n",
       "      <td>0.0</td>\n",
       "    </tr>\n",
       "  </tbody>\n",
       "</table>\n",
       "</div>"
      ],
      "text/plain": [
       "  query_id data_source                                              pubmed_id                                        description                                 query  label\n",
       "0        1        2019                https://en.wikipedia.org/wiki/Cranberry  Can cranberries prevent urinary tract infections?  cranberries urinary tract infections    0.0\n",
       "1        1        2019          https://en.wikipedia.org/wiki/Cranberry_juice  Can cranberries prevent urinary tract infections?  cranberries urinary tract infections    0.0\n",
       "2        1        2019  https://en.wikipedia.org/wiki/Urinary_tract_infection  Can cranberries prevent urinary tract infections?  cranberries urinary tract infections    0.0\n",
       "3        1        2019         https://en.wikipedia.org/wiki/Proanthocyanidin  Can cranberries prevent urinary tract infections?  cranberries urinary tract infections    0.0\n",
       "4        1        2019         https://en.wikipedia.org/wiki/Talk%3ACranberry  Can cranberries prevent urinary tract infections?  cranberries urinary tract infections    0.0"
      ]
     },
     "execution_count": 3,
     "metadata": {},
     "output_type": "execute_result"
    }
   ],
   "source": [
    "df = pd.concat((\n",
    "    pd.read_csv(\"google_search_wiki/google_search_wiki_query_part_1.csv\"),\n",
    "    pd.read_csv(\"google_search_wiki/google_search_wiki_query_part_2.csv\")\n",
    ")).reset_index(drop=True)\n",
    "print(len(df))\n",
    "df.head(5)"
   ]
  },
  {
   "cell_type": "code",
   "execution_count": 4,
   "id": "0bdfb90f-528c-40ba-a345-f0ececec9b12",
   "metadata": {},
   "outputs": [],
   "source": [
    "def process_wiki_url(url):\n",
    "    last = url.split(\"/\")[-1]\n",
    "    if \"Talk%\" in url or url.endswith(\".jpg\") or \\\n",
    "    (\"en.wikipedia.org\" not in url and \"simple.wikipedia.org\" not in url) \\\n",
    "    or \"Wikipedia:Reference_desk\" in url:\n",
    "        return \"\"\n",
    "    \n",
    "    last = re.sub(\"\\%[A-Z0-9]{2}\", \" \", last)\n",
    "    last = re.sub(\" +\", \" \", last)\n",
    "    \n",
    "    return last.replace(\"_\", \" \").strip().strip(\"-\")"
   ]
  },
  {
   "cell_type": "code",
   "execution_count": 5,
   "id": "79d5a6fe-e348-463d-a2c1-b651308a780b",
   "metadata": {},
   "outputs": [
    {
     "name": "stdout",
     "output_type": "stream",
     "text": [
      "1032\n"
     ]
    },
    {
     "data": {
      "text/html": [
       "<div>\n",
       "<style scoped>\n",
       "    .dataframe tbody tr th:only-of-type {\n",
       "        vertical-align: middle;\n",
       "    }\n",
       "\n",
       "    .dataframe tbody tr th {\n",
       "        vertical-align: top;\n",
       "    }\n",
       "\n",
       "    .dataframe thead th {\n",
       "        text-align: right;\n",
       "    }\n",
       "</style>\n",
       "<table border=\"1\" class=\"dataframe\">\n",
       "  <thead>\n",
       "    <tr style=\"text-align: right;\">\n",
       "      <th></th>\n",
       "      <th>query_id</th>\n",
       "      <th>data_source</th>\n",
       "      <th>pubmed_id</th>\n",
       "      <th>description</th>\n",
       "      <th>query</th>\n",
       "      <th>label</th>\n",
       "      <th>processed_url</th>\n",
       "    </tr>\n",
       "  </thead>\n",
       "  <tbody>\n",
       "    <tr>\n",
       "      <th>0</th>\n",
       "      <td>1</td>\n",
       "      <td>2019</td>\n",
       "      <td>https://en.wikipedia.org/wiki/Cranberry</td>\n",
       "      <td>Can cranberries prevent urinary tract infections?</td>\n",
       "      <td>cranberries urinary tract infections</td>\n",
       "      <td>0.0</td>\n",
       "      <td>Cranberry</td>\n",
       "    </tr>\n",
       "    <tr>\n",
       "      <th>1</th>\n",
       "      <td>1</td>\n",
       "      <td>2019</td>\n",
       "      <td>https://en.wikipedia.org/wiki/Cranberry_juice</td>\n",
       "      <td>Can cranberries prevent urinary tract infections?</td>\n",
       "      <td>cranberries urinary tract infections</td>\n",
       "      <td>0.0</td>\n",
       "      <td>Cranberry juice</td>\n",
       "    </tr>\n",
       "    <tr>\n",
       "      <th>2</th>\n",
       "      <td>1</td>\n",
       "      <td>2019</td>\n",
       "      <td>https://en.wikipedia.org/wiki/Urinary_tract_infection</td>\n",
       "      <td>Can cranberries prevent urinary tract infections?</td>\n",
       "      <td>cranberries urinary tract infections</td>\n",
       "      <td>0.0</td>\n",
       "      <td>Urinary tract infection</td>\n",
       "    </tr>\n",
       "  </tbody>\n",
       "</table>\n",
       "</div>"
      ],
      "text/plain": [
       "  query_id data_source                                              pubmed_id                                        description                                 query  label            processed_url\n",
       "0        1        2019                https://en.wikipedia.org/wiki/Cranberry  Can cranberries prevent urinary tract infections?  cranberries urinary tract infections    0.0                Cranberry\n",
       "1        1        2019          https://en.wikipedia.org/wiki/Cranberry_juice  Can cranberries prevent urinary tract infections?  cranberries urinary tract infections    0.0          Cranberry juice\n",
       "2        1        2019  https://en.wikipedia.org/wiki/Urinary_tract_infection  Can cranberries prevent urinary tract infections?  cranberries urinary tract infections    0.0  Urinary tract infection"
      ]
     },
     "execution_count": 5,
     "metadata": {},
     "output_type": "execute_result"
    }
   ],
   "source": [
    "df[\"processed_url\"] = df[\"pubmed_id\"].apply(process_wiki_url)\n",
    "df = df.query(\"processed_url != ''\").reset_index(drop=True)\n",
    "print(len(df))\n",
    "df.head(3)"
   ]
  },
  {
   "cell_type": "markdown",
   "id": "2411ca49-6449-42ea-b77d-6dcc242cf03a",
   "metadata": {},
   "source": [
    "## Obtain wiki paragraphs"
   ]
  },
  {
   "cell_type": "code",
   "execution_count": 9,
   "id": "e9ea0ee5-769e-404f-9c1a-0354c560ba1d",
   "metadata": {},
   "outputs": [],
   "source": [
    "TOP_K_PER_QUERY = 10 # сколько макимально параграфов ищем для одного запроса\n",
    "TOP_K_PER_ARTICLE = 2 # сколько максимально параграфов берем из одной статьи\n",
    "\n",
    "def get_suitable_paragraphs(query, tokens_to_find, content, serp_pos, title, title_common_tokens, top_k_per_article=TOP_K_PER_ARTICLE):\n",
    "    \n",
    "    paragraphs = content.split(\"\\n\")\n",
    "    \n",
    "    result = {key: [] for key in [\n",
    "        \"query_processed\",\n",
    "        \"article_title\", \"paragraph\", \"serp_position\", \n",
    "        \"title_common_tokens\", \"num_title_common_tokens\", \n",
    "        \"tokens_to_find\", \n",
    "        \"paragraph_common_tokens\", \"num_paragraph_common_tokens\",\n",
    "        \"paragraph_number_in_article\"\n",
    "    ]}\n",
    "    \n",
    "    for i, p in enumerate(paragraphs):\n",
    "        \n",
    "        if not p or p.endswith(\"==\"):\n",
    "            continue\n",
    "        \n",
    "        normed_p = normalize_text(p)\n",
    "        p_tokens = set(normed_p.split())\n",
    "        \n",
    "        paragraph_common_tokens = tokens_to_find & p_tokens\n",
    "        \n",
    "        if paragraph_common_tokens:\n",
    "            result[\"query_processed\"].append(query)\n",
    "            result[\"article_title\"].append(title)\n",
    "            result[\"paragraph\"].append(p)\n",
    "            result[\"serp_position\"].append(serp_pos)\n",
    "            result[\"title_common_tokens\"].append(list(title_common_tokens))\n",
    "            result[\"num_title_common_tokens\"].append(len(title_common_tokens))\n",
    "            result[\"tokens_to_find\"].append(list(tokens_to_find))\n",
    "            result[\"paragraph_common_tokens\"].append(list(paragraph_common_tokens))\n",
    "            result[\"num_paragraph_common_tokens\"].append(len(paragraph_common_tokens))\n",
    "            result[\"paragraph_number_in_article\"].append(i)\n",
    "\n",
    "    return result\n",
    "\n",
    "\n",
    "def get_paragraphs(query, wiki_article_names, top_k_per_query=TOP_K_PER_QUERY, top_k_per_article=TOP_K_PER_ARTICLE):\n",
    "    \n",
    "    normed_query = normalize_text(query)\n",
    "    query_tokens = normed_query.split()\n",
    "    \n",
    "    fin_df = pd.DataFrame()\n",
    "    \n",
    "    for serp_pos, article_name in enumerate(wiki_article_names):\n",
    "        try:\n",
    "            wiki_page = wikipedia.page(article_name, auto_suggest=False)\n",
    "        except DisambiguationError as e:\n",
    "            print(\"Disambiguation error:\", article_name)\n",
    "        except PageError as e:\n",
    "            print(\"PageError error:\", article_name)\n",
    "            continue\n",
    "            \n",
    "        title = wiki_page.title\n",
    "        content = wiki_page.content\n",
    "        \n",
    "        normed_title = normalize_text(title)\n",
    "        title_tokens = normed_title.split()\n",
    "\n",
    "        tokens_to_find = set(query_tokens) - set(title_tokens)\n",
    "        title_common_tokens = set(query_tokens) & set(title_tokens)\n",
    "\n",
    "        if len(title_common_tokens) == 0: # ignore if no query tokens are presented in title\n",
    "            continue\n",
    "        \n",
    "        result = get_suitable_paragraphs(query, tokens_to_find, content, serp_pos + 1, title, title_common_tokens)       \n",
    "\n",
    "        result_df = (\n",
    "            pd.DataFrame(result)\n",
    "            .sort_values(\n",
    "                by=[\"serp_position\", \"num_title_common_tokens\", \"num_paragraph_common_tokens\", \"paragraph_number_in_article\"],\n",
    "                ascending=[True, False, False, True]\n",
    "            )\n",
    "            .head(top_k_per_article)\n",
    "        )\n",
    "        fin_df = pd.concat((fin_df, result_df))\n",
    "        \n",
    "    if len(fin_df):\n",
    "        fin_df = (\n",
    "                pd.DataFrame(fin_df)\n",
    "                .sort_values(\n",
    "                    by=[\"serp_position\", \"num_title_common_tokens\", \"num_paragraph_common_tokens\", \"paragraph_number_in_article\"],\n",
    "                    ascending=[True, False, False, True]\n",
    "                )\n",
    "                .head(top_k_per_query)\n",
    "            )\n",
    "\n",
    "    return fin_df"
   ]
  },
  {
   "cell_type": "markdown",
   "id": "5f7ee799-655b-45d1-9b7a-ba010b77a060",
   "metadata": {},
   "source": [
    "## Use query"
   ]
  },
  {
   "cell_type": "code",
   "execution_count": 11,
   "id": "c805357f-d067-4785-8bf6-cdd4ecdac43e",
   "metadata": {
    "scrolled": true,
    "tags": []
   },
   "outputs": [
    {
     "name": "stderr",
     "output_type": "stream",
     "text": [
      "  1% (2 of 113) |                        | Elapsed Time: 0:00:16 ETA:   0:14:05"
     ]
    },
    {
     "name": "stdout",
     "output_type": "stream",
     "text": [
      "Disambiguation error: Articles\n"
     ]
    },
    {
     "name": "stderr",
     "output_type": "stream",
     "text": [
      "  3% (4 of 113) |                        | Elapsed Time: 0:00:28 ETA:   0:21:20"
     ]
    },
    {
     "name": "stdout",
     "output_type": "stream",
     "text": [
      "Disambiguation error: DTOT\n"
     ]
    },
    {
     "name": "stderr",
     "output_type": "stream",
     "text": [
      "  4% (5 of 113) |#                       | Elapsed Time: 0:00:34 ETA:   0:10:10"
     ]
    },
    {
     "name": "stdout",
     "output_type": "stream",
     "text": [
      "Disambiguation error: Occlusion training\n"
     ]
    },
    {
     "name": "stderr",
     "output_type": "stream",
     "text": [
      " 18% (21 of 113) |####                   | Elapsed Time: 0:03:03 ETA:   0:10:44"
     ]
    },
    {
     "name": "stdout",
     "output_type": "stream",
     "text": [
      "PageError error: Special:Search?title=John Ebnezar&mobileaction=toggle view desktop\n"
     ]
    },
    {
     "name": "stderr",
     "output_type": "stream",
     "text": [
      " 27% (31 of 113) |######                 | Elapsed Time: 0:04:27 ETA:   0:11:22"
     ]
    },
    {
     "name": "stdout",
     "output_type": "stream",
     "text": [
      "PageError error: List of Reviews used in Wikipedia articles\n"
     ]
    },
    {
     "name": "stderr",
     "output_type": "stream",
     "text": [
      " 28% (32 of 113) |######                 | Elapsed Time: 0:04:33 ETA:   0:09:08"
     ]
    },
    {
     "name": "stdout",
     "output_type": "stream",
     "text": [
      "Disambiguation error: all\n"
     ]
    },
    {
     "name": "stderr",
     "output_type": "stream",
     "text": [
      " 29% (33 of 113) |######                 | Elapsed Time: 0:04:40 ETA:   0:08:24"
     ]
    },
    {
     "name": "stdout",
     "output_type": "stream",
     "text": [
      "PageError error: List of all articles\n"
     ]
    },
    {
     "name": "stderr",
     "output_type": "stream",
     "text": [
      " 30% (34 of 113) |######                 | Elapsed Time: 0:04:52 ETA:   0:16:30"
     ]
    },
    {
     "name": "stdout",
     "output_type": "stream",
     "text": [
      "PageError error: 5 -Reductase inhibitor\n"
     ]
    },
    {
     "name": "stderr",
     "output_type": "stream",
     "text": [
      " 31% (36 of 113) |#######                | Elapsed Time: 0:05:13 ETA:   0:12:39"
     ]
    },
    {
     "name": "stdout",
     "output_type": "stream",
     "text": [
      "Disambiguation error: Hoxsey\n",
      "PageError error: File:FDAHoxsey.JPG\n"
     ]
    },
    {
     "name": "stderr",
     "output_type": "stream",
     "text": [
      " 35% (40 of 113) |########               | Elapsed Time: 0:05:48 ETA:   0:10:12"
     ]
    },
    {
     "name": "stdout",
     "output_type": "stream",
     "text": [
      "PageError error: List of Procter   Gamble brands\n"
     ]
    },
    {
     "name": "stderr",
     "output_type": "stream",
     "text": [
      " 41% (47 of 113) |#########              | Elapsed Time: 0:06:50 ETA:   0:09:57"
     ]
    },
    {
     "name": "stdout",
     "output_type": "stream",
     "text": [
      "PageError error: Athlete s foot\n"
     ]
    },
    {
     "name": "stderr",
     "output_type": "stream",
     "text": [
      " 42% (48 of 113) |#########              | Elapsed Time: 0:06:59 ETA:   0:09:35"
     ]
    },
    {
     "name": "stdout",
     "output_type": "stream",
     "text": [
      "PageError error: List of Guy s Grocery Games episodes\n"
     ]
    },
    {
     "name": "stderr",
     "output_type": "stream",
     "text": [
      " 45% (51 of 113) |##########             | Elapsed Time: 0:07:34 ETA:   0:12:45"
     ]
    },
    {
     "name": "stdout",
     "output_type": "stream",
     "text": [
      "PageError error: Music therapy for Alzheimer s disease\n"
     ]
    },
    {
     "name": "stderr",
     "output_type": "stream",
     "text": [
      " 48% (55 of 113) |###########            | Elapsed Time: 0:08:10 ETA:   0:10:53"
     ]
    },
    {
     "name": "stdout",
     "output_type": "stream",
     "text": [
      "PageError error: Lay s WOW chips\n"
     ]
    },
    {
     "name": "stderr",
     "output_type": "stream",
     "text": [
      " 54% (62 of 113) |############           | Elapsed Time: 0:09:28 ETA:   0:11:01"
     ]
    },
    {
     "name": "stdout",
     "output_type": "stream",
     "text": [
      "PageError error: Luden s\n"
     ]
    },
    {
     "name": "stderr",
     "output_type": "stream",
     "text": [
      " 56% (64 of 113) |#############          | Elapsed Time: 0:09:48 ETA:   0:09:05"
     ]
    },
    {
     "name": "stdout",
     "output_type": "stream",
     "text": [
      "PageError error: 3 -Methoxypregnenolone\n",
      "PageError error: Acute and Emergency Care\n",
      "PageError error: Brown-S quard syndrome\n"
     ]
    },
    {
     "name": "stderr",
     "output_type": "stream",
     "text": [
      " 58% (66 of 113) |#############          | Elapsed Time: 0:10:06 ETA:   0:06:57"
     ]
    },
    {
     "name": "stdout",
     "output_type": "stream",
     "text": [
      "PageError error: Recognized content\n"
     ]
    },
    {
     "name": "stderr",
     "output_type": "stream",
     "text": [
      " 59% (67 of 113) |#############          | Elapsed Time: 0:10:17 ETA:   0:08:45"
     ]
    },
    {
     "name": "stdout",
     "output_type": "stream",
     "text": [
      "PageError error: List of all articles\n"
     ]
    },
    {
     "name": "stderr",
     "output_type": "stream",
     "text": [
      " 61% (69 of 113) |##############         | Elapsed Time: 0:10:37 ETA:   0:06:36"
     ]
    },
    {
     "name": "stdout",
     "output_type": "stream",
     "text": [
      "PageError error: August-2012\n",
      "PageError error: Hare   la royale\n"
     ]
    },
    {
     "name": "stderr",
     "output_type": "stream",
     "text": [
      " 66% (75 of 113) |###############        | Elapsed Time: 0:11:37 ETA:   0:05:24"
     ]
    },
    {
     "name": "stdout",
     "output_type": "stream",
     "text": [
      "PageError error: Fisherman s Friend\n"
     ]
    },
    {
     "name": "stderr",
     "output_type": "stream",
     "text": [
      " 72% (82 of 113) |################       | Elapsed Time: 0:12:44 ETA:   0:04:42"
     ]
    },
    {
     "name": "stdout",
     "output_type": "stream",
     "text": [
      "PageError error: Bordet Gengou agar\n"
     ]
    },
    {
     "name": "stderr",
     "output_type": "stream",
     "text": [
      " 84% (95 of 113) |###################    | Elapsed Time: 0:14:46 ETA:   0:02:44"
     ]
    },
    {
     "name": "stdout",
     "output_type": "stream",
     "text": [
      "PageError error: Kindling (sedative hypnotic withdrawal)\n"
     ]
    },
    {
     "name": "stderr",
     "output_type": "stream",
     "text": [
      " 91% (103 of 113) |####################  | Elapsed Time: 0:15:58 ETA:   0:01:31"
     ]
    },
    {
     "name": "stdout",
     "output_type": "stream",
     "text": [
      "PageError error: American Society for Metabolic   Bariatric Surgery\n"
     ]
    },
    {
     "name": "stderr",
     "output_type": "stream",
     "text": [
      " 92% (104 of 113) |####################  | Elapsed Time: 0:16:08 ETA:   0:01:27"
     ]
    },
    {
     "name": "stdout",
     "output_type": "stream",
     "text": [
      "PageError error: De Longhi\n"
     ]
    },
    {
     "name": "stderr",
     "output_type": "stream",
     "text": [
      " 96% (109 of 113) |##################### | Elapsed Time: 0:16:55 ETA:   0:00:36"
     ]
    },
    {
     "name": "stdout",
     "output_type": "stream",
     "text": [
      "PageError error: Unnatural Causes: Is Inequality Making Us Sick\n"
     ]
    },
    {
     "name": "stderr",
     "output_type": "stream",
     "text": [
      " 97% (110 of 113) |##################### | Elapsed Time: 0:17:04 ETA:   0:00:26"
     ]
    },
    {
     "name": "stdout",
     "output_type": "stream",
     "text": [
      "PageError error: medication)\n"
     ]
    },
    {
     "name": "stderr",
     "output_type": "stream",
     "text": [
      "100% (113 of 113) |######################| Elapsed Time: 0:17:31 Time:  0:17:31\n"
     ]
    }
   ],
   "source": [
    "final_result_query = pd.DataFrame()\n",
    "\n",
    "for _, group in pb(df.groupby([\"query_id\", \"data_source\"]), max_value=len(init_data)):\n",
    "    q = group[\"query\"].tolist()[0]\n",
    "    articles = group.processed_url.tolist()\n",
    "    res_df = get_paragraphs(q, articles)\n",
    "    \n",
    "    if len(res_df):\n",
    "        res_df['query_id'] = group.query_id.tolist()[0]\n",
    "        res_df['data_source'] = group.data_source.tolist()[0]\n",
    "        res_df['label'] = group.label.tolist()[0]\n",
    "\n",
    "        final_result_query = pd.concat((final_result_query, res_df))"
   ]
  },
  {
   "cell_type": "code",
   "execution_count": 14,
   "id": "7ab195b5-c2fb-4d6e-a1c4-f550ad2e3a67",
   "metadata": {},
   "outputs": [],
   "source": [
    "final_result_query.to_csv(\"wiki_articles_from_google_query.csv\", index=False)"
   ]
  },
  {
   "cell_type": "markdown",
   "id": "54041be2-ec4e-49a2-99d8-4d46c4f00627",
   "metadata": {},
   "source": [
    "## Use description"
   ]
  },
  {
   "cell_type": "code",
   "execution_count": 15,
   "id": "4d5c8e39-9ee1-4a0c-a1b1-8ea36f8a30e5",
   "metadata": {},
   "outputs": [
    {
     "name": "stderr",
     "output_type": "stream",
     "text": [
      "  1% (2 of 113) |                        | Elapsed Time: 0:00:16 ETA:   0:13:56"
     ]
    },
    {
     "name": "stdout",
     "output_type": "stream",
     "text": [
      "Disambiguation error: Articles\n"
     ]
    },
    {
     "name": "stderr",
     "output_type": "stream",
     "text": [
      "  3% (4 of 113) |                        | Elapsed Time: 0:00:27 ETA:   0:17:55"
     ]
    },
    {
     "name": "stdout",
     "output_type": "stream",
     "text": [
      "Disambiguation error: DTOT\n"
     ]
    },
    {
     "name": "stderr",
     "output_type": "stream",
     "text": [
      "  4% (5 of 113) |#                       | Elapsed Time: 0:00:32 ETA:   0:10:03"
     ]
    },
    {
     "name": "stdout",
     "output_type": "stream",
     "text": [
      "Disambiguation error: Occlusion training\n"
     ]
    },
    {
     "name": "stderr",
     "output_type": "stream",
     "text": [
      " 18% (21 of 113) |####                   | Elapsed Time: 0:02:58 ETA:   0:10:39"
     ]
    },
    {
     "name": "stdout",
     "output_type": "stream",
     "text": [
      "PageError error: Special:Search?title=John Ebnezar&mobileaction=toggle view desktop\n"
     ]
    },
    {
     "name": "stderr",
     "output_type": "stream",
     "text": [
      " 27% (31 of 113) |######                 | Elapsed Time: 0:04:19 ETA:   0:10:43"
     ]
    },
    {
     "name": "stdout",
     "output_type": "stream",
     "text": [
      "PageError error: List of Reviews used in Wikipedia articles\n"
     ]
    },
    {
     "name": "stderr",
     "output_type": "stream",
     "text": [
      " 28% (32 of 113) |######                 | Elapsed Time: 0:04:26 ETA:   0:08:56"
     ]
    },
    {
     "name": "stdout",
     "output_type": "stream",
     "text": [
      "Disambiguation error: all\n"
     ]
    },
    {
     "name": "stderr",
     "output_type": "stream",
     "text": [
      " 29% (33 of 113) |######                 | Elapsed Time: 0:04:31 ETA:   0:07:35"
     ]
    },
    {
     "name": "stdout",
     "output_type": "stream",
     "text": [
      "PageError error: List of all articles\n"
     ]
    },
    {
     "name": "stderr",
     "output_type": "stream",
     "text": [
      " 30% (34 of 113) |######                 | Elapsed Time: 0:04:40 ETA:   0:11:53"
     ]
    },
    {
     "name": "stdout",
     "output_type": "stream",
     "text": [
      "PageError error: 5 -Reductase inhibitor\n"
     ]
    },
    {
     "name": "stderr",
     "output_type": "stream",
     "text": [
      " 31% (36 of 113) |#######                | Elapsed Time: 0:05:01 ETA:   0:14:49"
     ]
    },
    {
     "name": "stdout",
     "output_type": "stream",
     "text": [
      "Disambiguation error: Hoxsey\n",
      "PageError error: File:FDAHoxsey.JPG\n"
     ]
    },
    {
     "name": "stderr",
     "output_type": "stream",
     "text": [
      " 35% (40 of 113) |########               | Elapsed Time: 0:05:35 ETA:   0:10:13"
     ]
    },
    {
     "name": "stdout",
     "output_type": "stream",
     "text": [
      "PageError error: List of Procter   Gamble brands\n"
     ]
    },
    {
     "name": "stderr",
     "output_type": "stream",
     "text": [
      " 41% (47 of 113) |#########              | Elapsed Time: 0:06:34 ETA:   0:09:05"
     ]
    },
    {
     "name": "stdout",
     "output_type": "stream",
     "text": [
      "PageError error: Athlete s foot\n"
     ]
    },
    {
     "name": "stderr",
     "output_type": "stream",
     "text": [
      " 42% (48 of 113) |#########              | Elapsed Time: 0:06:42 ETA:   0:09:17"
     ]
    },
    {
     "name": "stdout",
     "output_type": "stream",
     "text": [
      "PageError error: List of Guy s Grocery Games episodes\n"
     ]
    },
    {
     "name": "stderr",
     "output_type": "stream",
     "text": [
      " 45% (51 of 113) |##########             | Elapsed Time: 0:07:13 ETA:   0:10:15"
     ]
    },
    {
     "name": "stdout",
     "output_type": "stream",
     "text": [
      "PageError error: Music therapy for Alzheimer s disease\n"
     ]
    },
    {
     "name": "stderr",
     "output_type": "stream",
     "text": [
      " 48% (55 of 113) |###########            | Elapsed Time: 0:07:49 ETA:   0:10:05"
     ]
    },
    {
     "name": "stdout",
     "output_type": "stream",
     "text": [
      "PageError error: Lay s WOW chips\n"
     ]
    },
    {
     "name": "stderr",
     "output_type": "stream",
     "text": [
      " 54% (62 of 113) |############           | Elapsed Time: 0:08:58 ETA:   0:08:46"
     ]
    },
    {
     "name": "stdout",
     "output_type": "stream",
     "text": [
      "PageError error: Luden s\n"
     ]
    },
    {
     "name": "stderr",
     "output_type": "stream",
     "text": [
      " 56% (64 of 113) |#############          | Elapsed Time: 0:09:17 ETA:   0:08:27"
     ]
    },
    {
     "name": "stdout",
     "output_type": "stream",
     "text": [
      "PageError error: 3 -Methoxypregnenolone\n",
      "PageError error: Acute and Emergency Care\n",
      "PageError error: Brown-S quard syndrome\n"
     ]
    },
    {
     "name": "stderr",
     "output_type": "stream",
     "text": [
      " 58% (66 of 113) |#############          | Elapsed Time: 0:09:33 ETA:   0:05:35"
     ]
    },
    {
     "name": "stdout",
     "output_type": "stream",
     "text": [
      "PageError error: Recognized content\n"
     ]
    },
    {
     "name": "stderr",
     "output_type": "stream",
     "text": [
      " 59% (67 of 113) |#############          | Elapsed Time: 0:09:40 ETA:   0:05:35"
     ]
    },
    {
     "name": "stdout",
     "output_type": "stream",
     "text": [
      "PageError error: List of all articles\n"
     ]
    },
    {
     "name": "stderr",
     "output_type": "stream",
     "text": [
      " 61% (69 of 113) |##############         | Elapsed Time: 0:10:00 ETA:   0:07:11"
     ]
    },
    {
     "name": "stdout",
     "output_type": "stream",
     "text": [
      "PageError error: August-2012\n",
      "PageError error: Hare   la royale\n"
     ]
    },
    {
     "name": "stderr",
     "output_type": "stream",
     "text": [
      " 66% (75 of 113) |###############        | Elapsed Time: 0:10:57 ETA:   0:05:17"
     ]
    },
    {
     "name": "stdout",
     "output_type": "stream",
     "text": [
      "PageError error: Fisherman s Friend\n"
     ]
    },
    {
     "name": "stderr",
     "output_type": "stream",
     "text": [
      " 72% (82 of 113) |################       | Elapsed Time: 0:11:59 ETA:   0:04:31"
     ]
    },
    {
     "name": "stdout",
     "output_type": "stream",
     "text": [
      "PageError error: Bordet Gengou agar\n"
     ]
    },
    {
     "name": "stderr",
     "output_type": "stream",
     "text": [
      " 84% (95 of 113) |###################    | Elapsed Time: 0:14:00 ETA:   0:02:32"
     ]
    },
    {
     "name": "stdout",
     "output_type": "stream",
     "text": [
      "PageError error: Kindling (sedative hypnotic withdrawal)\n"
     ]
    },
    {
     "name": "stderr",
     "output_type": "stream",
     "text": [
      " 91% (103 of 113) |####################  | Elapsed Time: 0:15:13 ETA:   0:01:41"
     ]
    },
    {
     "name": "stdout",
     "output_type": "stream",
     "text": [
      "PageError error: American Society for Metabolic   Bariatric Surgery\n"
     ]
    },
    {
     "name": "stderr",
     "output_type": "stream",
     "text": [
      " 92% (104 of 113) |####################  | Elapsed Time: 0:15:22 ETA:   0:01:21"
     ]
    },
    {
     "name": "stdout",
     "output_type": "stream",
     "text": [
      "PageError error: De Longhi\n"
     ]
    },
    {
     "name": "stderr",
     "output_type": "stream",
     "text": [
      " 96% (109 of 113) |##################### | Elapsed Time: 0:16:05 ETA:   0:00:35"
     ]
    },
    {
     "name": "stdout",
     "output_type": "stream",
     "text": [
      "PageError error: Unnatural Causes: Is Inequality Making Us Sick\n"
     ]
    },
    {
     "name": "stderr",
     "output_type": "stream",
     "text": [
      " 97% (110 of 113) |##################### | Elapsed Time: 0:16:15 ETA:   0:00:30"
     ]
    },
    {
     "name": "stdout",
     "output_type": "stream",
     "text": [
      "PageError error: medication)\n"
     ]
    },
    {
     "name": "stderr",
     "output_type": "stream",
     "text": [
      "100% (113 of 113) |######################| Elapsed Time: 0:16:43 Time:  0:16:43\n"
     ]
    }
   ],
   "source": [
    "final_result_query = pd.DataFrame()\n",
    "\n",
    "for _, group in pb(df.groupby([\"query_id\", \"data_source\"]), max_value=len(init_data)):\n",
    "    q = group[\"description\"].tolist()[0]\n",
    "    articles = group.processed_url.tolist()\n",
    "    res_df = get_paragraphs(q, articles)\n",
    "    \n",
    "    if len(res_df):\n",
    "        res_df['query_id'] = group.query_id.tolist()[0]\n",
    "        res_df['data_source'] = group.data_source.tolist()[0]\n",
    "        res_df['label'] = group.label.tolist()[0]\n",
    "\n",
    "        final_result_query = pd.concat((final_result_query, res_df))"
   ]
  },
  {
   "cell_type": "code",
   "execution_count": 16,
   "id": "096d1ddc-71b4-4855-aa3c-85249a9cb8d4",
   "metadata": {},
   "outputs": [],
   "source": [
    "final_result_query.to_csv(\"wiki_articles_from_google_description.csv\", index=False)"
   ]
  },
  {
   "cell_type": "code",
   "execution_count": null,
   "id": "02588318-f288-4edd-adc0-4c8e09808505",
   "metadata": {},
   "outputs": [],
   "source": []
  }
 ],
 "metadata": {
  "kernelspec": {
   "display_name": "Python 3 (ipykernel)",
   "language": "python",
   "name": "python3"
  },
  "language_info": {
   "codemirror_mode": {
    "name": "ipython",
    "version": 3
   },
   "file_extension": ".py",
   "mimetype": "text/x-python",
   "name": "python",
   "nbconvert_exporter": "python",
   "pygments_lexer": "ipython3",
   "version": "3.10.0"
  }
 },
 "nbformat": 4,
 "nbformat_minor": 5
}
