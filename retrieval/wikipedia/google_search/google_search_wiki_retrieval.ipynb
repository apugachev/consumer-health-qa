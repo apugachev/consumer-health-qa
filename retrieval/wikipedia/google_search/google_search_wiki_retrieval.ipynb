{
 "cells": [
  {
   "cell_type": "code",
   "execution_count": 1,
   "id": "dd093f87-60f0-489d-b16b-808da949948d",
   "metadata": {},
   "outputs": [],
   "source": [
    "import sys\n",
    "sys.path.append(\"../../../experiments/\") # use utils\n",
    "\n",
    "import utils\n",
    "import importlib\n",
    "importlib.reload(utils)\n",
    "\n",
    "from utils import calc_auc, get_abstract, normalize_text\n",
    "\n",
    "import requests\n",
    "import json\n",
    "from progressbar import progressbar as pb\n",
    "from utils import API_KEY, SEARCH_ENGINE_ID\n",
    "from copy import deepcopy"
   ]
  },
  {
   "cell_type": "code",
   "execution_count": 2,
   "id": "75938ce9-5f8c-4baf-ac47-da6d46d90d5d",
   "metadata": {},
   "outputs": [],
   "source": [
    "api_key = API_KEY\n",
    "search_engine_id = SEARCH_ENGINE_ID\n",
    "\n",
    "url = f\"https://www.googleapis.com/customsearch/v1?key={api_key}&cx={search_engine_id}&q=<QUERY>\""
   ]
  },
  {
   "cell_type": "code",
   "execution_count": 3,
   "id": "efdddb0d-b868-4bfd-bc87-2e3ffb07c49f",
   "metadata": {},
   "outputs": [
    {
     "name": "stdout",
     "output_type": "stream",
     "text": [
      "113\n"
     ]
    },
    {
     "data": {
      "text/html": [
       "<div>\n",
       "<style scoped>\n",
       "    .dataframe tbody tr th:only-of-type {\n",
       "        vertical-align: middle;\n",
       "    }\n",
       "\n",
       "    .dataframe tbody tr th {\n",
       "        vertical-align: top;\n",
       "    }\n",
       "\n",
       "    .dataframe thead th {\n",
       "        text-align: right;\n",
       "    }\n",
       "</style>\n",
       "<table border=\"1\" class=\"dataframe\">\n",
       "  <thead>\n",
       "    <tr style=\"text-align: right;\">\n",
       "      <th></th>\n",
       "      <th>data_source</th>\n",
       "      <th>query_id</th>\n",
       "      <th>description</th>\n",
       "      <th>query</th>\n",
       "      <th>label</th>\n",
       "    </tr>\n",
       "  </thead>\n",
       "  <tbody>\n",
       "    <tr>\n",
       "      <th>0</th>\n",
       "      <td>2019</td>\n",
       "      <td>1</td>\n",
       "      <td>Can cranberries prevent urinary tract infections?</td>\n",
       "      <td>cranberries urinary tract infections</td>\n",
       "      <td>0.0</td>\n",
       "    </tr>\n",
       "    <tr>\n",
       "      <th>1</th>\n",
       "      <td>2019</td>\n",
       "      <td>3</td>\n",
       "      <td>Can acupuncture be effective for people with e...</td>\n",
       "      <td>acupuncture epilepsy</td>\n",
       "      <td>0.0</td>\n",
       "    </tr>\n",
       "    <tr>\n",
       "      <th>2</th>\n",
       "      <td>2019</td>\n",
       "      <td>5</td>\n",
       "      <td>Can acupuncture prevent migraines?</td>\n",
       "      <td>acupuncture migraine</td>\n",
       "      <td>1.0</td>\n",
       "    </tr>\n",
       "  </tbody>\n",
       "</table>\n",
       "</div>"
      ],
      "text/plain": [
       "  data_source query_id                                        description  \\\n",
       "0        2019        1  Can cranberries prevent urinary tract infections?   \n",
       "1        2019        3  Can acupuncture be effective for people with e...   \n",
       "2        2019        5                 Can acupuncture prevent migraines?   \n",
       "\n",
       "                                  query  label  \n",
       "0  cranberries urinary tract infections    0.0  \n",
       "1                  acupuncture epilepsy    0.0  \n",
       "2                  acupuncture migraine    1.0  "
      ]
     },
     "execution_count": 3,
     "metadata": {},
     "output_type": "execute_result"
    }
   ],
   "source": [
    "df = pd.read_csv(\"../../../data/data_to_process.csv\")\n",
    "print(len(df))\n",
    "df.head(3)"
   ]
  },
  {
   "cell_type": "markdown",
   "id": "53009ff7-23ca-49d6-9647-ffda89ec586c",
   "metadata": {},
   "source": [
    "## Keywords"
   ]
  },
  {
   "cell_type": "markdown",
   "id": "1aa32537-095d-465f-8a5f-be0bd4bdaded",
   "metadata": {},
   "source": [
    "### Pt. 1"
   ]
  },
  {
   "cell_type": "code",
   "execution_count": 9,
   "id": "3adfac77-c437-40b8-864b-f552b128dacc",
   "metadata": {
    "scrolled": true,
    "tags": []
   },
   "outputs": [
    {
     "name": "stderr",
     "output_type": "stream",
     "text": [
      "100% (113 of 113) |######################| Elapsed Time: 0:01:07 Time:  0:01:07\n"
     ]
    }
   ],
   "source": [
    "for_dataframe = {item: [] for item in [\"query_id\", \"data_source\", \"pubmed_id\"]}\n",
    "\n",
    "for _, row in pb(df.iterrows(), max_value=len(df)):\n",
    "    query_id = row.query_id\n",
    "    data_source = row.data_source\n",
    "    query = row.query\n",
    "    \n",
    "    new_url = deepcopy(url)\n",
    "    new_url = new_url.replace(\"<QUERY>\", query)\n",
    "    response = requests.get(new_url, headers={'Content-Type': 'application/json'}).json()\n",
    "    \n",
    "    if \"items\" in response:\n",
    "        for resp in response['items']:\n",
    "            doc_id = resp['link']\n",
    "            for_dataframe['query_id'].append(query_id)\n",
    "            for_dataframe['data_source'].append(data_source)\n",
    "            for_dataframe['pubmed_id'].append(doc_id)"
   ]
  },
  {
   "cell_type": "code",
   "execution_count": null,
   "id": "89009997-0024-4f3b-bef8-0a99f682fa1e",
   "metadata": {},
   "outputs": [],
   "source": [
    "fin_df = (\n",
    "    pd.DataFrame(for_dataframe)\n",
    "    .merge(df, on=[\"query_id\", \"data_source\"])\n",
    ")"
   ]
  },
  {
   "cell_type": "code",
   "execution_count": 12,
   "id": "324a6d45-4c6e-483d-ab03-d91a42d7c1bc",
   "metadata": {},
   "outputs": [],
   "source": [
    "fin_df.to_csv(\"google_search_wiki_keywords_part_1.csv\", index=0)"
   ]
  },
  {
   "cell_type": "markdown",
   "id": "d1df4f39-d17a-4047-ba4a-66240fef3eec",
   "metadata": {},
   "source": [
    "### Pt. 2"
   ]
  },
  {
   "cell_type": "code",
   "execution_count": null,
   "id": "ed6b2b60-f252-4f25-9156-afc3f6c23d27",
   "metadata": {},
   "outputs": [],
   "source": [
    "pt1 = pd.read_csv(\"google_search_wiki_keywords_part_1.csv\")\n",
    "pt2_to_search = (\n",
    "    df\n",
    "    .merge(pt1, how='left', indicator=True)\n",
    "    .query(\"_merge == 'left_only'\")\n",
    "    .drop([\"pubmed_id\", '_merge'], axis=1)\n",
    "    .reset_index(drop=True)\n",
    ")"
   ]
  },
  {
   "cell_type": "code",
   "execution_count": 17,
   "id": "5dfe3012-aa4e-4c37-962b-a0d9885a3e77",
   "metadata": {},
   "outputs": [
    {
     "name": "stderr",
     "output_type": "stream",
     "text": [
      "100% (9 of 9) |##########################| Elapsed Time: 0:00:09 Time:  0:00:09\n"
     ]
    }
   ],
   "source": [
    "for_dataframe = {item: [] for item in [\"query_id\", \"data_source\", \"pubmed_id\"]}\n",
    "\n",
    "for _, row in pb(pt2_to_search.iterrows(), max_value=len(pt2_to_search)):\n",
    "    query_id = row.query_id\n",
    "    data_source = row.data_source\n",
    "    query = row.query\n",
    "    \n",
    "    new_url = deepcopy(url)\n",
    "    new_url = new_url.replace(\"<QUERY>\", query)\n",
    "    response = requests.get(new_url, headers={'Content-Type': 'application/json'}).json()\n",
    "    \n",
    "    if \"items\" in response:\n",
    "        for resp in response['items']:\n",
    "            doc_id = resp['link']\n",
    "            for_dataframe['query_id'].append(query_id)\n",
    "            for_dataframe['data_source'].append(data_source)\n",
    "            for_dataframe['pubmed_id'].append(doc_id)"
   ]
  },
  {
   "cell_type": "code",
   "execution_count": null,
   "id": "12ea970c-02c6-4543-a52d-f64837b75bfd",
   "metadata": {},
   "outputs": [],
   "source": [
    "fin_df = (\n",
    "    pd.DataFrame(for_dataframe)\n",
    "    .merge(pt2_to_search, on=[\"query_id\", \"data_source\"])\n",
    ")"
   ]
  },
  {
   "cell_type": "code",
   "execution_count": 19,
   "id": "f75eb330-032b-4e4e-8988-b13f5f35e35b",
   "metadata": {},
   "outputs": [],
   "source": [
    "fin_df.to_csv(\"google_search_wiki_keywords_part_2.csv\", index=0)"
   ]
  },
  {
   "cell_type": "markdown",
   "id": "37fa288d-427f-4259-8996-3ae697d08cf4",
   "metadata": {},
   "source": [
    "## Question"
   ]
  },
  {
   "cell_type": "markdown",
   "id": "3be6832b-6097-4cce-a1b6-9f27a81b46ef",
   "metadata": {},
   "source": [
    "### Pt. 1"
   ]
  },
  {
   "cell_type": "code",
   "execution_count": 21,
   "id": "8d0e7269-2076-4086-b68d-21b6543b3760",
   "metadata": {},
   "outputs": [
    {
     "name": "stdout",
     "output_type": "stream",
     "text": [
      "113\n"
     ]
    },
    {
     "data": {
      "text/html": [
       "<div>\n",
       "<style scoped>\n",
       "    .dataframe tbody tr th:only-of-type {\n",
       "        vertical-align: middle;\n",
       "    }\n",
       "\n",
       "    .dataframe tbody tr th {\n",
       "        vertical-align: top;\n",
       "    }\n",
       "\n",
       "    .dataframe thead th {\n",
       "        text-align: right;\n",
       "    }\n",
       "</style>\n",
       "<table border=\"1\" class=\"dataframe\">\n",
       "  <thead>\n",
       "    <tr style=\"text-align: right;\">\n",
       "      <th></th>\n",
       "      <th>data_source</th>\n",
       "      <th>query_id</th>\n",
       "      <th>description</th>\n",
       "      <th>query</th>\n",
       "      <th>label</th>\n",
       "    </tr>\n",
       "  </thead>\n",
       "  <tbody>\n",
       "    <tr>\n",
       "      <th>0</th>\n",
       "      <td>2019</td>\n",
       "      <td>1</td>\n",
       "      <td>Can cranberries prevent urinary tract infections?</td>\n",
       "      <td>cranberries urinary tract infections</td>\n",
       "      <td>0.0</td>\n",
       "    </tr>\n",
       "    <tr>\n",
       "      <th>1</th>\n",
       "      <td>2019</td>\n",
       "      <td>3</td>\n",
       "      <td>Can acupuncture be effective for people with e...</td>\n",
       "      <td>acupuncture epilepsy</td>\n",
       "      <td>0.0</td>\n",
       "    </tr>\n",
       "    <tr>\n",
       "      <th>2</th>\n",
       "      <td>2019</td>\n",
       "      <td>5</td>\n",
       "      <td>Can acupuncture prevent migraines?</td>\n",
       "      <td>acupuncture migraine</td>\n",
       "      <td>1.0</td>\n",
       "    </tr>\n",
       "  </tbody>\n",
       "</table>\n",
       "</div>"
      ],
      "text/plain": [
       "  data_source query_id                                        description  \\\n",
       "0        2019        1  Can cranberries prevent urinary tract infections?   \n",
       "1        2019        3  Can acupuncture be effective for people with e...   \n",
       "2        2019        5                 Can acupuncture prevent migraines?   \n",
       "\n",
       "                                  query  label  \n",
       "0  cranberries urinary tract infections    0.0  \n",
       "1                  acupuncture epilepsy    0.0  \n",
       "2                  acupuncture migraine    1.0  "
      ]
     },
     "execution_count": 21,
     "metadata": {},
     "output_type": "execute_result"
    }
   ],
   "source": [
    "df = pd.read_csv(\"../../../data/data_to_process.csv\")\n",
    "print(len(df))\n",
    "df.head(3)"
   ]
  },
  {
   "cell_type": "code",
   "execution_count": 24,
   "id": "4aef9a1b-9c5e-4541-8de1-aa7306b0fba8",
   "metadata": {},
   "outputs": [
    {
     "name": "stderr",
     "output_type": "stream",
     "text": [
      "100% (113 of 113) |######################| Elapsed Time: 0:01:36 Time:  0:01:36\n"
     ]
    }
   ],
   "source": [
    "for_dataframe = {item: [] for item in [\"query_id\", \"data_source\", \"pubmed_id\"]}\n",
    "\n",
    "for _, row in pb(df.iterrows(), max_value=len(df)):\n",
    "    query_id = row.query_id\n",
    "    data_source = row.data_source\n",
    "    query = normalize_text(row.description, False).strip()\n",
    "    \n",
    "    new_url = deepcopy(url)\n",
    "    new_url = new_url.replace(\"<QUERY>\", query)\n",
    "    response = requests.get(new_url, headers={'Content-Type': 'application/json'}).json()\n",
    "    \n",
    "    if \"items\" in response:\n",
    "        for resp in response['items']:\n",
    "            doc_id = resp['link']\n",
    "            for_dataframe['query_id'].append(query_id)\n",
    "            for_dataframe['data_source'].append(data_source)\n",
    "            for_dataframe['pubmed_id'].append(doc_id)"
   ]
  },
  {
   "cell_type": "code",
   "execution_count": 25,
   "id": "92465d71-5476-461d-aa02-1caa0b175681",
   "metadata": {},
   "outputs": [
    {
     "name": "stdout",
     "output_type": "stream",
     "text": [
      "945\n"
     ]
    },
    {
     "data": {
      "text/html": [
       "<div>\n",
       "<style scoped>\n",
       "    .dataframe tbody tr th:only-of-type {\n",
       "        vertical-align: middle;\n",
       "    }\n",
       "\n",
       "    .dataframe tbody tr th {\n",
       "        vertical-align: top;\n",
       "    }\n",
       "\n",
       "    .dataframe thead th {\n",
       "        text-align: right;\n",
       "    }\n",
       "</style>\n",
       "<table border=\"1\" class=\"dataframe\">\n",
       "  <thead>\n",
       "    <tr style=\"text-align: right;\">\n",
       "      <th></th>\n",
       "      <th>query_id</th>\n",
       "      <th>data_source</th>\n",
       "      <th>pubmed_id</th>\n",
       "      <th>description</th>\n",
       "      <th>query</th>\n",
       "      <th>label</th>\n",
       "    </tr>\n",
       "  </thead>\n",
       "  <tbody>\n",
       "    <tr>\n",
       "      <th>0</th>\n",
       "      <td>1</td>\n",
       "      <td>2019</td>\n",
       "      <td>https://en.wikipedia.org/wiki/Urinary_tract_in...</td>\n",
       "      <td>Can cranberries prevent urinary tract infections?</td>\n",
       "      <td>cranberries urinary tract infections</td>\n",
       "      <td>0.0</td>\n",
       "    </tr>\n",
       "    <tr>\n",
       "      <th>1</th>\n",
       "      <td>1</td>\n",
       "      <td>2019</td>\n",
       "      <td>https://en.wikipedia.org/wiki/Proanthocyanidin</td>\n",
       "      <td>Can cranberries prevent urinary tract infections?</td>\n",
       "      <td>cranberries urinary tract infections</td>\n",
       "      <td>0.0</td>\n",
       "    </tr>\n",
       "  </tbody>\n",
       "</table>\n",
       "</div>"
      ],
      "text/plain": [
       "  query_id data_source                                          pubmed_id  \\\n",
       "0        1        2019  https://en.wikipedia.org/wiki/Urinary_tract_in...   \n",
       "1        1        2019     https://en.wikipedia.org/wiki/Proanthocyanidin   \n",
       "\n",
       "                                         description  \\\n",
       "0  Can cranberries prevent urinary tract infections?   \n",
       "1  Can cranberries prevent urinary tract infections?   \n",
       "\n",
       "                                  query  label  \n",
       "0  cranberries urinary tract infections    0.0  \n",
       "1  cranberries urinary tract infections    0.0  "
      ]
     },
     "execution_count": 25,
     "metadata": {},
     "output_type": "execute_result"
    }
   ],
   "source": [
    "fin_df = (\n",
    "    pd.DataFrame(for_dataframe)\n",
    "    .merge(df, on=[\"query_id\", \"data_source\"])\n",
    ")\n",
    "print(len(fin_df))\n",
    "fin_df.head(2)"
   ]
  },
  {
   "cell_type": "code",
   "execution_count": 26,
   "id": "478224af-8603-45c9-b19c-6e3ebed08bbe",
   "metadata": {},
   "outputs": [],
   "source": [
    "fin_df.to_csv(\"google_search_wiki_question_part_1.csv\", index=0)"
   ]
  },
  {
   "cell_type": "markdown",
   "id": "72341691-05ca-42a2-a05c-aec71f98d524",
   "metadata": {},
   "source": [
    "### Pt. 2"
   ]
  },
  {
   "cell_type": "code",
   "execution_count": 31,
   "id": "268c9ead-1dd2-4a9e-b955-34b930937d3e",
   "metadata": {},
   "outputs": [
    {
     "data": {
      "text/html": [
       "<div>\n",
       "<style scoped>\n",
       "    .dataframe tbody tr th:only-of-type {\n",
       "        vertical-align: middle;\n",
       "    }\n",
       "\n",
       "    .dataframe tbody tr th {\n",
       "        vertical-align: top;\n",
       "    }\n",
       "\n",
       "    .dataframe thead th {\n",
       "        text-align: right;\n",
       "    }\n",
       "</style>\n",
       "<table border=\"1\" class=\"dataframe\">\n",
       "  <thead>\n",
       "    <tr style=\"text-align: right;\">\n",
       "      <th></th>\n",
       "      <th>data_source</th>\n",
       "      <th>query_id</th>\n",
       "      <th>description</th>\n",
       "      <th>query</th>\n",
       "      <th>label</th>\n",
       "    </tr>\n",
       "  </thead>\n",
       "  <tbody>\n",
       "    <tr>\n",
       "      <th>0</th>\n",
       "      <td>2019</td>\n",
       "      <td>1</td>\n",
       "      <td>Can cranberries prevent urinary tract infections?</td>\n",
       "      <td>cranberries urinary tract infections</td>\n",
       "      <td>0.0</td>\n",
       "    </tr>\n",
       "    <tr>\n",
       "      <th>1</th>\n",
       "      <td>2019</td>\n",
       "      <td>3</td>\n",
       "      <td>Can acupuncture be effective for people with e...</td>\n",
       "      <td>acupuncture epilepsy</td>\n",
       "      <td>0.0</td>\n",
       "    </tr>\n",
       "    <tr>\n",
       "      <th>2</th>\n",
       "      <td>2019</td>\n",
       "      <td>5</td>\n",
       "      <td>Can acupuncture prevent migraines?</td>\n",
       "      <td>acupuncture migraine</td>\n",
       "      <td>1.0</td>\n",
       "    </tr>\n",
       "  </tbody>\n",
       "</table>\n",
       "</div>"
      ],
      "text/plain": [
       "  data_source query_id                                        description  \\\n",
       "0        2019        1  Can cranberries prevent urinary tract infections?   \n",
       "1        2019        3  Can acupuncture be effective for people with e...   \n",
       "2        2019        5                 Can acupuncture prevent migraines?   \n",
       "\n",
       "                                  query  label  \n",
       "0  cranberries urinary tract infections    0.0  \n",
       "1                  acupuncture epilepsy    0.0  \n",
       "2                  acupuncture migraine    1.0  "
      ]
     },
     "execution_count": 31,
     "metadata": {},
     "output_type": "execute_result"
    }
   ],
   "source": [
    "df = pd.read_csv(\"../../../data/data_to_process.csv\")\n",
    "df.head(3)"
   ]
  },
  {
   "cell_type": "code",
   "execution_count": null,
   "id": "659955b7-ebf5-465a-9808-b838932ac5a8",
   "metadata": {},
   "outputs": [],
   "source": [
    "pt1 = pd.read_csv(\"google_search_wiki_question_part_1.csv\")\n",
    "pt1 = pt1.astype({\"query_id\": object})\n",
    "pt2_to_search = (\n",
    "    df\n",
    "    .merge(pt1, on=['query', 'description', 'data_source', 'label'], how='left', indicator=True)\n",
    "    .query(\"_merge == 'left_only'\")\n",
    "    .drop([\"pubmed_id\", '_merge', 'query_id_y'], axis=1)\n",
    "    .rename(columns={\"query_id_x\": \"query_id\"})\n",
    "    .reset_index(drop=True)\n",
    ")"
   ]
  },
  {
   "cell_type": "code",
   "execution_count": 41,
   "id": "e55b74a3-4e88-4156-86ed-ad5d002e6567",
   "metadata": {},
   "outputs": [
    {
     "name": "stderr",
     "output_type": "stream",
     "text": [
      "100% (17 of 17) |########################| Elapsed Time: 0:00:14 Time:  0:00:14\n"
     ]
    }
   ],
   "source": [
    "for_dataframe = {item: [] for item in [\"query_id\", \"data_source\", \"pubmed_id\"]}\n",
    "\n",
    "for _, row in pb(pt2_to_search.iterrows(), max_value=len(pt2_to_search)):\n",
    "    query_id = row.query_id\n",
    "    data_source = row.data_source\n",
    "    query = row.query\n",
    "    \n",
    "    new_url = deepcopy(url)\n",
    "    new_url = new_url.replace(\"<QUERY>\", query)\n",
    "    response = requests.get(new_url, headers={'Content-Type': 'application/json'}).json()\n",
    "    \n",
    "    if \"items\" in response:\n",
    "        for resp in response['items']:\n",
    "            doc_id = resp['link']\n",
    "            for_dataframe['query_id'].append(query_id)\n",
    "            for_dataframe['data_source'].append(data_source)\n",
    "            for_dataframe['pubmed_id'].append(doc_id)"
   ]
  },
  {
   "cell_type": "code",
   "execution_count": null,
   "id": "ed6aef71-b1a8-4040-95e2-d7e62f09d581",
   "metadata": {},
   "outputs": [],
   "source": [
    "fin_df = (\n",
    "    pd.DataFrame(for_dataframe)\n",
    "    .merge(pt2_to_search, on=[\"query_id\", \"data_source\"])\n",
    ")"
   ]
  },
  {
   "cell_type": "code",
   "execution_count": 46,
   "id": "086f4230-4de3-4acb-bb88-faa092e276c8",
   "metadata": {},
   "outputs": [],
   "source": [
    "fin_df.to_csv(\"google_search_wiki_question_part_2.csv\", index=0)"
   ]
  },
  {
   "cell_type": "markdown",
   "id": "7ab1b6b2-9aaa-4404-9f6b-12178e80ce94",
   "metadata": {},
   "source": [
    "## Process retrieved wiki articles"
   ]
  },
  {
   "cell_type": "code",
   "execution_count": null,
   "id": "2a90466b-a6fb-4c68-a5a2-d583c567c293",
   "metadata": {},
   "outputs": [],
   "source": [
    "import pandas as pd\n",
    "import wikipedia\n",
    "from wikipedia.exceptions import DisambiguationError, PageError\n",
    "\n",
    "import warnings\n",
    "warnings.filterwarnings(\"ignore\")\n",
    "\n",
    "from utils import normalize_text"
   ]
  },
  {
   "cell_type": "code",
   "execution_count": null,
   "id": "8a777837-3e27-435b-9a94-88b1ea4b4782",
   "metadata": {},
   "outputs": [],
   "source": [
    "init_data = pd.read_csv(\"../../../data/data_to_process.csv\")\n",
    "init_data.head(3)"
   ]
  },
  {
   "cell_type": "code",
   "execution_count": null,
   "id": "d31527db-aec9-4994-86d6-b2a28356ff74",
   "metadata": {},
   "outputs": [],
   "source": [
    "def process_wiki_url(url):\n",
    "    last = url.split(\"/\")[-1]\n",
    "    if \"Talk%\" in url or url.endswith(\".jpg\") or \\\n",
    "    (\"en.wikipedia.org\" not in url and \"simple.wikipedia.org\" not in url) \\\n",
    "    or \"Wikipedia:Reference_desk\" in url:\n",
    "        return \"\"\n",
    "    \n",
    "    last = re.sub(\"\\%[A-Z0-9]{2}\", \" \", last)\n",
    "    last = re.sub(\" +\", \" \", last)\n",
    "    \n",
    "    return last.replace(\"_\", \" \").strip().strip(\"-\")"
   ]
  },
  {
   "cell_type": "code",
   "execution_count": null,
   "id": "e1a3e3ac-d01e-4155-b027-36a2a6531169",
   "metadata": {},
   "outputs": [],
   "source": [
    "TOP_K_PER_QUERY = 10 # maximum number of paragraphs that we are looking for one query\n",
    "TOP_K_PER_ARTICLE = 2 # maximum number of paragraphs we take from one wiki article\n",
    "\n",
    "def get_suitable_paragraphs(query, tokens_to_find, content, serp_pos, title, title_common_tokens, top_k_per_article=TOP_K_PER_ARTICLE):\n",
    "    \n",
    "    paragraphs = content.split(\"\\n\")\n",
    "    \n",
    "    result = {key: [] for key in [\n",
    "        \"query_processed\",\n",
    "        \"article_title\", \"paragraph\", \"serp_position\", \n",
    "        \"title_common_tokens\", \"num_title_common_tokens\", \n",
    "        \"tokens_to_find\", \n",
    "        \"paragraph_common_tokens\", \"num_paragraph_common_tokens\",\n",
    "        \"paragraph_number_in_article\"\n",
    "    ]}\n",
    "    \n",
    "    for i, p in enumerate(paragraphs):\n",
    "        \n",
    "        if not p or p.endswith(\"==\"):\n",
    "            continue\n",
    "        \n",
    "        normed_p = normalize_text(p)\n",
    "        p_tokens = set(normed_p.split())\n",
    "        \n",
    "        paragraph_common_tokens = tokens_to_find & p_tokens\n",
    "        \n",
    "        if paragraph_common_tokens:\n",
    "            result[\"query_processed\"].append(query)\n",
    "            result[\"article_title\"].append(title)\n",
    "            result[\"paragraph\"].append(p)\n",
    "            result[\"serp_position\"].append(serp_pos)\n",
    "            result[\"title_common_tokens\"].append(list(title_common_tokens))\n",
    "            result[\"num_title_common_tokens\"].append(len(title_common_tokens))\n",
    "            result[\"tokens_to_find\"].append(list(tokens_to_find))\n",
    "            result[\"paragraph_common_tokens\"].append(list(paragraph_common_tokens))\n",
    "            result[\"num_paragraph_common_tokens\"].append(len(paragraph_common_tokens))\n",
    "            result[\"paragraph_number_in_article\"].append(i)\n",
    "\n",
    "    return result\n",
    "\n",
    "\n",
    "def get_paragraphs(query, wiki_article_names, top_k_per_query=TOP_K_PER_QUERY, top_k_per_article=TOP_K_PER_ARTICLE):\n",
    "    \n",
    "    normed_query = normalize_text(query)\n",
    "    query_tokens = normed_query.split()\n",
    "    \n",
    "    fin_df = pd.DataFrame()\n",
    "    \n",
    "    for serp_pos, article_name in enumerate(wiki_article_names):\n",
    "        try:\n",
    "            wiki_page = wikipedia.page(article_name, auto_suggest=False)\n",
    "        except DisambiguationError as e:\n",
    "            print(\"Disambiguation error:\", article_name)\n",
    "        except PageError as e:\n",
    "            print(\"PageError error:\", article_name)\n",
    "            continue\n",
    "            \n",
    "        title = wiki_page.title\n",
    "        content = wiki_page.content\n",
    "        \n",
    "        normed_title = normalize_text(title)\n",
    "        title_tokens = normed_title.split()\n",
    "\n",
    "        tokens_to_find = set(query_tokens) - set(title_tokens)\n",
    "        title_common_tokens = set(query_tokens) & set(title_tokens)\n",
    "\n",
    "        if len(title_common_tokens) == 0: # ignore if no query tokens are presented in title\n",
    "            continue\n",
    "        \n",
    "        result = get_suitable_paragraphs(query, tokens_to_find, content, serp_pos + 1, title, title_common_tokens)       \n",
    "\n",
    "        result_df = (\n",
    "            pd.DataFrame(result)\n",
    "            .sort_values(\n",
    "                by=[\"serp_position\", \"num_title_common_tokens\", \"num_paragraph_common_tokens\", \"paragraph_number_in_article\"],\n",
    "                ascending=[True, False, False, True]\n",
    "            )\n",
    "            .head(top_k_per_article)\n",
    "        )\n",
    "        fin_df = pd.concat((fin_df, result_df))\n",
    "        \n",
    "    if len(fin_df):\n",
    "        fin_df = (\n",
    "                pd.DataFrame(fin_df)\n",
    "                .sort_values(\n",
    "                    by=[\"serp_position\", \"num_title_common_tokens\", \"num_paragraph_common_tokens\", \"paragraph_number_in_article\"],\n",
    "                    ascending=[True, False, False, True]\n",
    "                )\n",
    "                .head(top_k_per_query)\n",
    "            )\n",
    "\n",
    "    return fin_df"
   ]
  },
  {
   "cell_type": "markdown",
   "id": "d0a7f93e-4612-492f-8468-d24793fb4f72",
   "metadata": {
    "tags": []
   },
   "source": [
    "## Keywords"
   ]
  },
  {
   "cell_type": "code",
   "execution_count": null,
   "id": "df44a3dc-cfb5-4d92-b8f3-461f7afe0ef3",
   "metadata": {},
   "outputs": [],
   "source": [
    "df = pd.concat((\n",
    "    pd.read_csv(\"google_search_wiki_keywords_part_1.csv\"),\n",
    "    pd.read_csv(\"google_search_wiki_keywords_part_2.csv\")\n",
    ")).reset_index(drop=True)"
   ]
  },
  {
   "cell_type": "code",
   "execution_count": null,
   "id": "cb2d76ac-d1a5-4cb9-a0d2-c22c15fff6d1",
   "metadata": {},
   "outputs": [],
   "source": [
    "df[\"processed_url\"] = df[\"pubmed_id\"].apply(process_wiki_url)\n",
    "df = df.query(\"processed_url != ''\").reset_index(drop=True)"
   ]
  },
  {
   "cell_type": "code",
   "execution_count": null,
   "id": "83328f01-9a81-4ac0-9605-f102a3c35ae1",
   "metadata": {},
   "outputs": [],
   "source": [
    "final_result_query = pd.DataFrame()\n",
    "\n",
    "for _, group in pb(df.groupby([\"query_id\", \"data_source\"]), max_value=len(init_data)):\n",
    "    q = group[\"query\"].tolist()[0]\n",
    "    articles = group.processed_url.tolist()\n",
    "    res_df = get_paragraphs(q, articles)\n",
    "    \n",
    "    if len(res_df):\n",
    "        res_df['query_id'] = group.query_id.tolist()[0]\n",
    "        res_df['data_source'] = group.data_source.tolist()[0]\n",
    "        res_df['label'] = group.label.tolist()[0]\n",
    "\n",
    "        final_result_query = pd.concat((final_result_query, res_df))"
   ]
  },
  {
   "cell_type": "code",
   "execution_count": null,
   "id": "9088366d-a4d4-4e84-950e-a002978f3785",
   "metadata": {},
   "outputs": [],
   "source": [
    "final_result_query.to_csv(\"../../../data/google_search_wiki/wikipedia_articles_keywords.csv\", index=False)"
   ]
  },
  {
   "cell_type": "markdown",
   "id": "62419cde-fced-4057-ac93-d6d239e7494d",
   "metadata": {},
   "source": [
    "## Question"
   ]
  },
  {
   "cell_type": "code",
   "execution_count": null,
   "id": "04162289-dc2a-4bfb-a359-e40bf500ffed",
   "metadata": {},
   "outputs": [],
   "source": [
    "df = pd.concat((\n",
    "    pd.read_csv(\"google_search_wiki_question_part_1.csv\"),\n",
    "    pd.read_csv(\"google_search_wiki_question_part_2.csv\")\n",
    ")).reset_index(drop=True)"
   ]
  },
  {
   "cell_type": "code",
   "execution_count": null,
   "id": "3e623284-7f18-4699-9425-c1e7addede62",
   "metadata": {},
   "outputs": [],
   "source": [
    "final_result_query = pd.DataFrame()\n",
    "\n",
    "for _, group in pb(df.groupby([\"query_id\", \"data_source\"]), max_value=len(init_data)):\n",
    "    q = group[\"description\"].tolist()[0]\n",
    "    articles = group.processed_url.tolist()\n",
    "    res_df = get_paragraphs(q, articles)\n",
    "    \n",
    "    if len(res_df):\n",
    "        res_df['query_id'] = group.query_id.tolist()[0]\n",
    "        res_df['data_source'] = group.data_source.tolist()[0]\n",
    "        res_df['label'] = group.label.tolist()[0]\n",
    "\n",
    "        final_result_query = pd.concat((final_result_query, res_df))"
   ]
  },
  {
   "cell_type": "code",
   "execution_count": null,
   "id": "ff93eda2-a94d-4e6a-9d82-233de2aaa153",
   "metadata": {},
   "outputs": [],
   "source": [
    "final_result_query.to_csv(\"../../../data/google_search_wiki/wikipedia_articles_question.csv\", index=False)"
   ]
  }
 ],
 "metadata": {
  "kernelspec": {
   "display_name": "Python 3 (ipykernel)",
   "language": "python",
   "name": "python3"
  },
  "language_info": {
   "codemirror_mode": {
    "name": "ipython",
    "version": 3
   },
   "file_extension": ".py",
   "mimetype": "text/x-python",
   "name": "python",
   "nbconvert_exporter": "python",
   "pygments_lexer": "ipython3",
   "version": "3.10.0"
  }
 },
 "nbformat": 4,
 "nbformat_minor": 5
}
